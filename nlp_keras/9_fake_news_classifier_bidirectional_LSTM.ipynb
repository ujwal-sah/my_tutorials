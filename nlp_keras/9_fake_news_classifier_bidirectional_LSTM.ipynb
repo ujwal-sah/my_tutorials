{
  "nbformat": 4,
  "nbformat_minor": 0,
  "metadata": {
    "kernelspec": {
      "display_name": "Python 3",
      "language": "python",
      "name": "python3"
    },
    "language_info": {
      "codemirror_mode": {
        "name": "ipython",
        "version": 3
      },
      "file_extension": ".py",
      "mimetype": "text/x-python",
      "name": "python",
      "nbconvert_exporter": "python",
      "pygments_lexer": "ipython3",
      "version": "3.8.5"
    },
    "colab": {
      "name": "9_fake_news_classifier_bidirectional_LSTM.ipynb",
      "provenance": [],
      "collapsed_sections": [],
      "toc_visible": true
    },
    "accelerator": "GPU"
  },
  "cells": [
    {
      "cell_type": "markdown",
      "metadata": {
        "id": "_eQH62_OoftG"
      },
      "source": [
        "## Fake News Classifier Using LSTM network"
      ]
    },
    {
      "cell_type": "markdown",
      "metadata": {
        "id": "AjcZPUyzoftP"
      },
      "source": [
        "Dataset: https://www.kaggle.com/c/fake-news/data#"
      ]
    },
    {
      "cell_type": "code",
      "metadata": {
        "id": "mayXpOuroftQ"
      },
      "source": [
        "import pandas as pd\n",
        "import numpy as np\n",
        "import re\n",
        "import matplotlib.pyplot as plt"
      ],
      "execution_count": 1,
      "outputs": []
    },
    {
      "cell_type": "code",
      "metadata": {
        "colab": {
          "base_uri": "https://localhost:8080/",
          "height": 302
        },
        "id": "iWNrNXvRoftR",
        "outputId": "a9dadf8b-6a3a-4d8e-c1ff-7999bac61357"
      },
      "source": [
        "df=pd.read_csv('https://raw.githubusercontent.com/ujwal-sah/my_tutorials/main/nlp_keras/data/fake_news/train.csv', index_col='id')\n",
        "df.head()"
      ],
      "execution_count": 2,
      "outputs": [
        {
          "output_type": "execute_result",
          "data": {
            "text/html": [
              "<div>\n",
              "<style scoped>\n",
              "    .dataframe tbody tr th:only-of-type {\n",
              "        vertical-align: middle;\n",
              "    }\n",
              "\n",
              "    .dataframe tbody tr th {\n",
              "        vertical-align: top;\n",
              "    }\n",
              "\n",
              "    .dataframe thead th {\n",
              "        text-align: right;\n",
              "    }\n",
              "</style>\n",
              "<table border=\"1\" class=\"dataframe\">\n",
              "  <thead>\n",
              "    <tr style=\"text-align: right;\">\n",
              "      <th></th>\n",
              "      <th>title</th>\n",
              "      <th>author</th>\n",
              "      <th>text</th>\n",
              "      <th>label</th>\n",
              "    </tr>\n",
              "    <tr>\n",
              "      <th>id</th>\n",
              "      <th></th>\n",
              "      <th></th>\n",
              "      <th></th>\n",
              "      <th></th>\n",
              "    </tr>\n",
              "  </thead>\n",
              "  <tbody>\n",
              "    <tr>\n",
              "      <th>0</th>\n",
              "      <td>House Dem Aide: We Didn’t Even See Comey’s Let...</td>\n",
              "      <td>Darrell Lucus</td>\n",
              "      <td>House Dem Aide: We Didn’t Even See Comey’s Let...</td>\n",
              "      <td>1</td>\n",
              "    </tr>\n",
              "    <tr>\n",
              "      <th>1</th>\n",
              "      <td>FLYNN: Hillary Clinton, Big Woman on Campus - ...</td>\n",
              "      <td>Daniel J. Flynn</td>\n",
              "      <td>Ever get the feeling your life circles the rou...</td>\n",
              "      <td>0</td>\n",
              "    </tr>\n",
              "    <tr>\n",
              "      <th>2</th>\n",
              "      <td>Why the Truth Might Get You Fired</td>\n",
              "      <td>Consortiumnews.com</td>\n",
              "      <td>Why the Truth Might Get You Fired October 29, ...</td>\n",
              "      <td>1</td>\n",
              "    </tr>\n",
              "    <tr>\n",
              "      <th>3</th>\n",
              "      <td>15 Civilians Killed In Single US Airstrike Hav...</td>\n",
              "      <td>Jessica Purkiss</td>\n",
              "      <td>Videos 15 Civilians Killed In Single US Airstr...</td>\n",
              "      <td>1</td>\n",
              "    </tr>\n",
              "    <tr>\n",
              "      <th>4</th>\n",
              "      <td>Iranian woman jailed for fictional unpublished...</td>\n",
              "      <td>Howard Portnoy</td>\n",
              "      <td>Print \\nAn Iranian woman has been sentenced to...</td>\n",
              "      <td>1</td>\n",
              "    </tr>\n",
              "  </tbody>\n",
              "</table>\n",
              "</div>"
            ],
            "text/plain": [
              "                                                title  ... label\n",
              "id                                                     ...      \n",
              "0   House Dem Aide: We Didn’t Even See Comey’s Let...  ...     1\n",
              "1   FLYNN: Hillary Clinton, Big Woman on Campus - ...  ...     0\n",
              "2                   Why the Truth Might Get You Fired  ...     1\n",
              "3   15 Civilians Killed In Single US Airstrike Hav...  ...     1\n",
              "4   Iranian woman jailed for fictional unpublished...  ...     1\n",
              "\n",
              "[5 rows x 4 columns]"
            ]
          },
          "metadata": {
            "tags": []
          },
          "execution_count": 2
        }
      ]
    },
    {
      "cell_type": "code",
      "metadata": {
        "colab": {
          "base_uri": "https://localhost:8080/"
        },
        "id": "Dm1IB0s1oftU",
        "outputId": "90486ea8-ef13-43a4-cc76-10dd49740ca5"
      },
      "source": [
        "df.shape"
      ],
      "execution_count": 3,
      "outputs": [
        {
          "output_type": "execute_result",
          "data": {
            "text/plain": [
              "(20800, 4)"
            ]
          },
          "metadata": {
            "tags": []
          },
          "execution_count": 3
        }
      ]
    },
    {
      "cell_type": "code",
      "metadata": {
        "id": "8JsV2YDMoftV"
      },
      "source": [
        "#drop NaN values\n",
        "df.dropna(subset = [\"text\", \"label\"], inplace=True)"
      ],
      "execution_count": 4,
      "outputs": []
    },
    {
      "cell_type": "code",
      "metadata": {
        "colab": {
          "base_uri": "https://localhost:8080/"
        },
        "id": "QoewDU5zoftV",
        "outputId": "899779c9-862f-4548-8fda-db276960a8a9"
      },
      "source": [
        "df.shape"
      ],
      "execution_count": 5,
      "outputs": [
        {
          "output_type": "execute_result",
          "data": {
            "text/plain": [
              "(20761, 4)"
            ]
          },
          "metadata": {
            "tags": []
          },
          "execution_count": 5
        }
      ]
    },
    {
      "cell_type": "code",
      "metadata": {
        "colab": {
          "base_uri": "https://localhost:8080/"
        },
        "id": "DXZNy8f8oftW",
        "outputId": "d6d8ee80-a302-45f5-db96-012fa506b423"
      },
      "source": [
        "#independent features\n",
        "X = df.iloc[:,:-1]\n",
        "X.shape"
      ],
      "execution_count": 6,
      "outputs": [
        {
          "output_type": "execute_result",
          "data": {
            "text/plain": [
              "(20761, 3)"
            ]
          },
          "metadata": {
            "tags": []
          },
          "execution_count": 6
        }
      ]
    },
    {
      "cell_type": "code",
      "metadata": {
        "colab": {
          "base_uri": "https://localhost:8080/"
        },
        "id": "zgYx-BKJoftW",
        "outputId": "57f45cbc-c153-464a-9a7a-f4f6a66b311f"
      },
      "source": [
        "#independent features\n",
        "y = df.iloc[:,-1]\n",
        "y.shape"
      ],
      "execution_count": 7,
      "outputs": [
        {
          "output_type": "execute_result",
          "data": {
            "text/plain": [
              "(20761,)"
            ]
          },
          "metadata": {
            "tags": []
          },
          "execution_count": 7
        }
      ]
    },
    {
      "cell_type": "markdown",
      "metadata": {
        "id": "NUdtObdVoftW"
      },
      "source": [
        "### Onehot Representation"
      ]
    },
    {
      "cell_type": "code",
      "metadata": {
        "id": "BadjpG4doftX"
      },
      "source": [
        "from tensorflow.keras.preprocessing.sequence import pad_sequences\n",
        "from tensorflow.keras.preprocessing.text import one_hot"
      ],
      "execution_count": 8,
      "outputs": []
    },
    {
      "cell_type": "code",
      "metadata": {
        "id": "p5ukymQgoftX"
      },
      "source": [
        "#vocabulary_size\n",
        "voc_size = 5000"
      ],
      "execution_count": 9,
      "outputs": []
    },
    {
      "cell_type": "code",
      "metadata": {
        "id": "Xp1L-45ooftX"
      },
      "source": [
        "X.reset_index(drop=True, inplace=True)"
      ],
      "execution_count": 10,
      "outputs": []
    },
    {
      "cell_type": "code",
      "metadata": {
        "id": "2lmraAupoftX"
      },
      "source": [
        "from nltk.corpus import stopwords\n",
        "from nltk.stem import PorterStemmer"
      ],
      "execution_count": 11,
      "outputs": []
    },
    {
      "cell_type": "code",
      "metadata": {
        "id": "bQQyqaJsoftY"
      },
      "source": [
        "ps = PorterStemmer()"
      ],
      "execution_count": 12,
      "outputs": []
    },
    {
      "cell_type": "code",
      "metadata": {
        "colab": {
          "base_uri": "https://localhost:8080/"
        },
        "id": "RjRIDGC8oftY",
        "outputId": "89cd3980-ca90-4357-eb5d-e3902accde7b"
      },
      "source": [
        "#data_preprocessing\n",
        "corpus = []\n",
        "for i in range(0, len(X)):\n",
        "    if i%1000 == 0:\n",
        "      print(i) #to check how much work is done\n",
        "    review = re.sub('[^a-zA-Z]', ' ', X.loc[i, 'text'])\n",
        "    review = review.lower()\n",
        "    review = review.split()\n",
        "    #stemming\n",
        "    review = [ps.stem(word) for word in review if not word in stopwords.words(\"english\")]\n",
        "    review = \" \".join(review)\n",
        "    corpus.append(review)"
      ],
      "execution_count": 25,
      "outputs": [
        {
          "output_type": "stream",
          "text": [
            "0\n",
            "1000\n",
            "2000\n",
            "3000\n",
            "4000\n",
            "5000\n",
            "6000\n",
            "7000\n",
            "8000\n",
            "9000\n",
            "10000\n",
            "11000\n",
            "12000\n",
            "13000\n",
            "14000\n",
            "15000\n",
            "16000\n",
            "17000\n",
            "18000\n",
            "19000\n",
            "20000\n"
          ],
          "name": "stdout"
        }
      ]
    },
    {
      "cell_type": "code",
      "metadata": {
        "colab": {
          "base_uri": "https://localhost:8080/",
          "height": 191
        },
        "id": "a2fDwnChoftZ",
        "outputId": "a486e0fe-bd16-42d1-8aaf-13f8d79df446"
      },
      "source": [
        "corpus[0]"
      ],
      "execution_count": 27,
      "outputs": [
        {
          "output_type": "execute_result",
          "data": {
            "application/vnd.google.colaboratory.intrinsic+json": {
              "type": "string"
            },
            "text/plain": [
              "'hous dem aid even see comey letter jason chaffetz tweet darrel lucu octob subscrib jason chaffetz stump american fork utah imag courtesi michael jolley avail creativ common licens apolog keith olbermann doubt worst person world week fbi director jame comey accord hous democrat aid look like also know second worst person well turn comey sent infam letter announc fbi look email may relat hillari clinton email server rank democrat relev committe hear comey found via tweet one republican committe chairmen know comey notifi republican chairmen democrat rank member hous intellig judiciari oversight committe agenc review email recent discov order see contain classifi inform long letter went oversight committe chairman jason chaffetz set polit world ablaz tweet fbi dir inform fbi learn exist email appear pertin investig case reopen jason chaffetz jasoninthehous octob cours know case comey actual say review email light unrel case know anthoni weiner sext teenag appar littl thing fact matter chaffetz utah republican alreadi vow initi raft investig hillari win least two year worth possibl entir term worth appar chaffetz thought fbi alreadi work result tweet briefli roil nation cooler head realiz dud accord senior hous democrat aid misread letter may least chaffetz sin aid told shareblu boss democrat even know comey letter time found check twitter democrat rank member relev committe receiv comey letter republican chairmen fact democrat rank member receiv chairman oversight govern reform committe jason chaffetz tweet made public let see got right fbi director tell chaffetz gop committe chairmen major develop potenti polit explos investig neither chaffetz colleagu courtesi let democrat counterpart know instead accord aid made find twitter alreadi talk daili ko comey provid advanc notic letter chaffetz republican give time turn spin machin may make good theater noth far even suggest case noth far suggest comey anyth grossli incompet tone deaf suggest howev chaffetz act way make dan burton darrel issa look like model respons bipartisanship even decenc notifi rank member elijah cum someth explos trampl basic standard fair know grant like chaffetz answer sit ridicul republican district anchor provo orem cook partisan vote index r gave mitt romney punish percent vote moreov republican hous leadership given full support chaffetz plan fish expedit mean turn hot light textbook exampl hous becom republican control also second worst person world darrel lucu darrel someth graduat univers north carolina consid journalist old school attempt turn member religi right colleg succeed turn religi right worst nightmar charismat christian unapologet liber desir stand scare silenc increas surviv abus three year marriag may know daili ko christian dem nc follow twitter darrelllucu connect facebook click buy darrel mello yello connect'"
            ]
          },
          "metadata": {
            "tags": []
          },
          "execution_count": 27
        }
      ]
    },
    {
      "cell_type": "code",
      "metadata": {
        "colab": {
          "base_uri": "https://localhost:8080/"
        },
        "id": "Pdg4P47yoftZ",
        "outputId": "ec072a80-c583-497b-a7d4-ea0d64c367d7"
      },
      "source": [
        "onehot_repr = [one_hot(sentence, voc_size) for sentence in corpus]\n",
        "onehot_repr[0]"
      ],
      "execution_count": 68,
      "outputs": [
        {
          "output_type": "execute_result",
          "data": {
            "text/plain": [
              "[3774,\n",
              " 2976,\n",
              " 1214,\n",
              " 4789,\n",
              " 917,\n",
              " 2948,\n",
              " 3031,\n",
              " 135,\n",
              " 4725,\n",
              " 4266,\n",
              " 2578,\n",
              " 229,\n",
              " 1620,\n",
              " 4551,\n",
              " 135,\n",
              " 4725,\n",
              " 2127,\n",
              " 3701,\n",
              " 4660,\n",
              " 1497,\n",
              " 315,\n",
              " 3201,\n",
              " 838,\n",
              " 538,\n",
              " 1815,\n",
              " 3233,\n",
              " 1510,\n",
              " 2828,\n",
              " 1802,\n",
              " 4332,\n",
              " 4808,\n",
              " 4067,\n",
              " 3540,\n",
              " 3950,\n",
              " 469,\n",
              " 703,\n",
              " 4433,\n",
              " 436,\n",
              " 3672,\n",
              " 2948,\n",
              " 95,\n",
              " 3774,\n",
              " 1671,\n",
              " 1214,\n",
              " 3854,\n",
              " 999,\n",
              " 480,\n",
              " 2304,\n",
              " 1640,\n",
              " 3540,\n",
              " 3950,\n",
              " 3656,\n",
              " 3219,\n",
              " 2948,\n",
              " 3062,\n",
              " 2684,\n",
              " 3031,\n",
              " 1702,\n",
              " 4433,\n",
              " 3854,\n",
              " 4602,\n",
              " 233,\n",
              " 1414,\n",
              " 4811,\n",
              " 3789,\n",
              " 4602,\n",
              " 3023,\n",
              " 3530,\n",
              " 1671,\n",
              " 2013,\n",
              " 1974,\n",
              " 497,\n",
              " 2948,\n",
              " 2486,\n",
              " 4776,\n",
              " 4266,\n",
              " 4223,\n",
              " 2168,\n",
              " 1974,\n",
              " 2881,\n",
              " 2304,\n",
              " 2948,\n",
              " 4358,\n",
              " 2168,\n",
              " 2881,\n",
              " 1671,\n",
              " 3530,\n",
              " 3442,\n",
              " 3774,\n",
              " 2456,\n",
              " 4813,\n",
              " 676,\n",
              " 1974,\n",
              " 1256,\n",
              " 4116,\n",
              " 4602,\n",
              " 1858,\n",
              " 2805,\n",
              " 342,\n",
              " 917,\n",
              " 2669,\n",
              " 4537,\n",
              " 4615,\n",
              " 3797,\n",
              " 3031,\n",
              " 3264,\n",
              " 676,\n",
              " 1974,\n",
              " 2467,\n",
              " 135,\n",
              " 4725,\n",
              " 663,\n",
              " 3795,\n",
              " 469,\n",
              " 952,\n",
              " 4266,\n",
              " 4433,\n",
              " 1957,\n",
              " 4615,\n",
              " 4433,\n",
              " 303,\n",
              " 4684,\n",
              " 4602,\n",
              " 3565,\n",
              " 3151,\n",
              " 681,\n",
              " 2652,\n",
              " 2267,\n",
              " 135,\n",
              " 4725,\n",
              " 4249,\n",
              " 1620,\n",
              " 4536,\n",
              " 2304,\n",
              " 2652,\n",
              " 2948,\n",
              " 1159,\n",
              " 3973,\n",
              " 4116,\n",
              " 4602,\n",
              " 2656,\n",
              " 1247,\n",
              " 2652,\n",
              " 2304,\n",
              " 4146,\n",
              " 4108,\n",
              " 2687,\n",
              " 4777,\n",
              " 3723,\n",
              " 1891,\n",
              " 1207,\n",
              " 1974,\n",
              " 1494,\n",
              " 4725,\n",
              " 1497,\n",
              " 2168,\n",
              " 1795,\n",
              " 2063,\n",
              " 513,\n",
              " 4325,\n",
              " 681,\n",
              " 4811,\n",
              " 3088,\n",
              " 4037,\n",
              " 1281,\n",
              " 3012,\n",
              " 3680,\n",
              " 3044,\n",
              " 516,\n",
              " 3888,\n",
              " 3680,\n",
              " 3723,\n",
              " 4725,\n",
              " 3290,\n",
              " 4433,\n",
              " 1795,\n",
              " 4082,\n",
              " 15,\n",
              " 4266,\n",
              " 677,\n",
              " 1293,\n",
              " 1164,\n",
              " 965,\n",
              " 3898,\n",
              " 3959,\n",
              " 2521,\n",
              " 95,\n",
              " 1500,\n",
              " 3774,\n",
              " 1671,\n",
              " 1214,\n",
              " 4679,\n",
              " 3031,\n",
              " 233,\n",
              " 4037,\n",
              " 4725,\n",
              " 86,\n",
              " 1214,\n",
              " 4711,\n",
              " 2545,\n",
              " 3368,\n",
              " 1671,\n",
              " 4789,\n",
              " 2304,\n",
              " 2948,\n",
              " 3031,\n",
              " 3739,\n",
              " 2486,\n",
              " 4207,\n",
              " 3837,\n",
              " 1671,\n",
              " 3530,\n",
              " 3442,\n",
              " 2013,\n",
              " 1974,\n",
              " 2627,\n",
              " 2948,\n",
              " 3031,\n",
              " 2168,\n",
              " 2881,\n",
              " 1974,\n",
              " 1671,\n",
              " 3530,\n",
              " 3442,\n",
              " 2627,\n",
              " 2467,\n",
              " 676,\n",
              " 3865,\n",
              " 945,\n",
              " 1974,\n",
              " 135,\n",
              " 4725,\n",
              " 4266,\n",
              " 4691,\n",
              " 4931,\n",
              " 1597,\n",
              " 917,\n",
              " 1857,\n",
              " 1567,\n",
              " 4433,\n",
              " 436,\n",
              " 4519,\n",
              " 4725,\n",
              " 2734,\n",
              " 1974,\n",
              " 2881,\n",
              " 3016,\n",
              " 3345,\n",
              " 1821,\n",
              " 3795,\n",
              " 321,\n",
              " 681,\n",
              " 3746,\n",
              " 4725,\n",
              " 1744,\n",
              " 3201,\n",
              " 1597,\n",
              " 1671,\n",
              " 3319,\n",
              " 2304,\n",
              " 394,\n",
              " 95,\n",
              " 1214,\n",
              " 4691,\n",
              " 3882,\n",
              " 3837,\n",
              " 1795,\n",
              " 1574,\n",
              " 298,\n",
              " 618,\n",
              " 2948,\n",
              " 1613,\n",
              " 1953,\n",
              " 3418,\n",
              " 3031,\n",
              " 4725,\n",
              " 2168,\n",
              " 516,\n",
              " 3739,\n",
              " 3219,\n",
              " 4206,\n",
              " 2895,\n",
              " 233,\n",
              " 4206,\n",
              " 2023,\n",
              " 2710,\n",
              " 2938,\n",
              " 550,\n",
              " 4789,\n",
              " 1288,\n",
              " 2652,\n",
              " 2938,\n",
              " 550,\n",
              " 1288,\n",
              " 2948,\n",
              " 1999,\n",
              " 3246,\n",
              " 1713,\n",
              " 699,\n",
              " 4341,\n",
              " 1288,\n",
              " 3346,\n",
              " 4725,\n",
              " 1077,\n",
              " 2950,\n",
              " 4206,\n",
              " 2868,\n",
              " 929,\n",
              " 2578,\n",
              " 3880,\n",
              " 3854,\n",
              " 999,\n",
              " 892,\n",
              " 4886,\n",
              " 4612,\n",
              " 4789,\n",
              " 23,\n",
              " 4358,\n",
              " 3530,\n",
              " 3442,\n",
              " 4633,\n",
              " 2761,\n",
              " 1601,\n",
              " 321,\n",
              " 3672,\n",
              " 1637,\n",
              " 1505,\n",
              " 1827,\n",
              " 2304,\n",
              " 170,\n",
              " 999,\n",
              " 4725,\n",
              " 3952,\n",
              " 3500,\n",
              " 415,\n",
              " 2168,\n",
              " 1662,\n",
              " 1213,\n",
              " 3430,\n",
              " 1044,\n",
              " 4995,\n",
              " 3426,\n",
              " 2415,\n",
              " 3126,\n",
              " 3496,\n",
              " 1476,\n",
              " 2265,\n",
              " 1730,\n",
              " 1131,\n",
              " 3742,\n",
              " 2415,\n",
              " 3500,\n",
              " 2168,\n",
              " 3774,\n",
              " 1095,\n",
              " 1183,\n",
              " 3755,\n",
              " 1637,\n",
              " 4725,\n",
              " 744,\n",
              " 1284,\n",
              " 2757,\n",
              " 3692,\n",
              " 3219,\n",
              " 3864,\n",
              " 2656,\n",
              " 3742,\n",
              " 622,\n",
              " 3774,\n",
              " 909,\n",
              " 2168,\n",
              " 331,\n",
              " 480,\n",
              " 1640,\n",
              " 3540,\n",
              " 3950,\n",
              " 469,\n",
              " 2578,\n",
              " 229,\n",
              " 2578,\n",
              " 1601,\n",
              " 4172,\n",
              " 2057,\n",
              " 4508,\n",
              " 1366,\n",
              " 2944,\n",
              " 1633,\n",
              " 4142,\n",
              " 1605,\n",
              " 97,\n",
              " 3219,\n",
              " 3442,\n",
              " 2610,\n",
              " 1567,\n",
              " 33,\n",
              " 3889,\n",
              " 3219,\n",
              " 2610,\n",
              " 1567,\n",
              " 3540,\n",
              " 2694,\n",
              " 1366,\n",
              " 3380,\n",
              " 3755,\n",
              " 183,\n",
              " 3431,\n",
              " 1254,\n",
              " 413,\n",
              " 1441,\n",
              " 4698,\n",
              " 3315,\n",
              " 1511,\n",
              " 3013,\n",
              " 3012,\n",
              " 4717,\n",
              " 233,\n",
              " 2304,\n",
              " 298,\n",
              " 618,\n",
              " 3380,\n",
              " 2976,\n",
              " 3962,\n",
              " 866,\n",
              " 3837,\n",
              " 3485,\n",
              " 4584,\n",
              " 1759,\n",
              " 2224,\n",
              " 4145,\n",
              " 2578,\n",
              " 3190,\n",
              " 3442,\n",
              " 4584]"
            ]
          },
          "metadata": {
            "tags": []
          },
          "execution_count": 68
        }
      ]
    },
    {
      "cell_type": "code",
      "metadata": {
        "colab": {
          "base_uri": "https://localhost:8080/"
        },
        "id": "pOvdMqtooftp",
        "outputId": "6584fc04-ce94-45a5-e367-b3d742d64d02"
      },
      "source": [
        "# maximum length of a title\n",
        "sent_len = len(onehot_repr[0])\n",
        "for sent in onehot_repr:\n",
        "    if sent_len < len(sent):\n",
        "        sent_len = len(sent)\n",
        "print(sent_len)"
      ],
      "execution_count": 29,
      "outputs": [
        {
          "output_type": "stream",
          "text": [
            "12059\n"
          ],
          "name": "stdout"
        }
      ]
    },
    {
      "cell_type": "markdown",
      "metadata": {
        "id": "ySRxYOe1oftq"
      },
      "source": [
        "### Embedding Representation"
      ]
    },
    {
      "cell_type": "code",
      "metadata": {
        "colab": {
          "base_uri": "https://localhost:8080/"
        },
        "id": "PfH4SQlooftq",
        "outputId": "e6adf668-00bf-40dc-ae74-438e3fcd6d31"
      },
      "source": [
        "sent_length = sent_len\n",
        "embedded_docs = pad_sequences(onehot_repr, padding=\"pre\", maxlen=sent_length)\n",
        "embedded_docs"
      ],
      "execution_count": 30,
      "outputs": [
        {
          "output_type": "execute_result",
          "data": {
            "text/plain": [
              "array([[   0,    0,    0, ..., 3190, 3442, 4584],\n",
              "       [   0,    0,    0, ..., 1300,  756,  724],\n",
              "       [   0,    0,    0, ..., 4780, 1729, 1933],\n",
              "       ...,\n",
              "       [   0,    0,    0, ...,  945,  281, 4924],\n",
              "       [   0,    0,    0, ..., 1152,   53, 3666],\n",
              "       [   0,    0,    0, ...,  657, 3041, 2463]], dtype=int32)"
            ]
          },
          "metadata": {
            "tags": []
          },
          "execution_count": 30
        }
      ]
    },
    {
      "cell_type": "code",
      "metadata": {
        "colab": {
          "base_uri": "https://localhost:8080/"
        },
        "id": "1Ug8kte7oftq",
        "outputId": "9efd3a49-2fb6-41c6-d6ef-d1c28f87b29f"
      },
      "source": [
        "len(embedded_docs), y.shape"
      ],
      "execution_count": 32,
      "outputs": [
        {
          "output_type": "execute_result",
          "data": {
            "text/plain": [
              "(20761, (20761,))"
            ]
          },
          "metadata": {
            "tags": []
          },
          "execution_count": 32
        }
      ]
    },
    {
      "cell_type": "code",
      "metadata": {
        "id": "4wLTCOtAoftr"
      },
      "source": [
        "X_final = np.array(embedded_docs)\n",
        "y_final = np.array(y)"
      ],
      "execution_count": 33,
      "outputs": []
    },
    {
      "cell_type": "code",
      "metadata": {
        "colab": {
          "base_uri": "https://localhost:8080/"
        },
        "id": "ppn91ri6oftr",
        "outputId": "d7b47cc0-828b-47ab-a570-fa9f04f1c3a9"
      },
      "source": [
        "X_final.shape, y_final.shape"
      ],
      "execution_count": 34,
      "outputs": [
        {
          "output_type": "execute_result",
          "data": {
            "text/plain": [
              "((20761, 12059), (20761,))"
            ]
          },
          "metadata": {
            "tags": []
          },
          "execution_count": 34
        }
      ]
    },
    {
      "cell_type": "markdown",
      "metadata": {
        "id": "oqF6Arcpoftr"
      },
      "source": [
        "### Model Building"
      ]
    },
    {
      "cell_type": "code",
      "metadata": {
        "id": "riDFP8lmoftr"
      },
      "source": [
        "from sklearn.model_selection import train_test_split\n",
        "X_train, X_test, y_train, y_test = train_test_split(X_final, y_final, test_size=0.33, random_state=42)"
      ],
      "execution_count": 35,
      "outputs": []
    },
    {
      "cell_type": "code",
      "metadata": {
        "id": "L4eRrjTSoftr"
      },
      "source": [
        "from tensorflow.keras.models import Sequential\n",
        "from tensorflow.keras.layers import Embedding, Dense, Bidirectional, LSTM, Dropout\n",
        "from kerastuner.tuners import RandomSearch\n",
        "from tensorflow.keras.optimizers import Adam"
      ],
      "execution_count": 40,
      "outputs": []
    },
    {
      "cell_type": "code",
      "metadata": {
        "id": "rDT-mXlmofts"
      },
      "source": [
        "#hp signifies hyperparameters we are going to tune\n",
        "def build_model(hp):\n",
        "    #i.define model\n",
        "    model = Sequential()\n",
        "    #embedding layer\n",
        "    model.add(Embedding(input_dim = voc_size,\n",
        "                        output_dim=hp.Int(\"embedded_vector_features\", min_value=16, max_value=512, step=16),\n",
        "                        input_length=sent_length))\n",
        "    #LSTM layer\n",
        "    model.add(Bidirectional(LSTM(units=hp.Int(\"lstm_units\", min_value=16, max_value=128, step=16))))\n",
        "    #dropout\n",
        "    model.add(Dropout(rate=hp.Choice(\"dropout\", [0.3, 0.4, 0.5])))\n",
        "    #output Layer\n",
        "    model.add(Dense(units=1, activation=\"sigmoid\"))\n",
        "    \n",
        "    #ii.compile the model\n",
        "    #we have to define the optimizer, loss function and evaluating metric while compiling the model\n",
        "    #hp.Choice signifies the choice is from a list\n",
        "    model.compile(optimizer=Adam(hp.Choice(\"learning_rate\", [1e-2,1e-3,1e-4])),\n",
        "                  loss=\"binary_crossentropy\", metrics=[\"accuracy\"])\n",
        "    return model"
      ],
      "execution_count": 41,
      "outputs": []
    },
    {
      "cell_type": "code",
      "metadata": {
        "id": "pkOpAn4xofts"
      },
      "source": [
        "tuner = RandomSearch(build_model, objective='val_loss',\n",
        "                    max_trials=5, directory=\"fake_news_detection_bilstm\",\n",
        "                    project_name=\"fake_news_detection_bilstm\")"
      ],
      "execution_count": 42,
      "outputs": []
    },
    {
      "cell_type": "code",
      "metadata": {
        "colab": {
          "base_uri": "https://localhost:8080/"
        },
        "id": "E8e1xoaxofts",
        "outputId": "bf8f9859-1b9d-4463-a828-f7cf0a55dfea"
      },
      "source": [
        "tuner.search_space_summary()"
      ],
      "execution_count": 43,
      "outputs": [
        {
          "output_type": "stream",
          "text": [
            "Search space summary\n",
            "Default search space size: 4\n",
            "embedded_vector_features (Int)\n",
            "{'default': None, 'conditions': [], 'min_value': 16, 'max_value': 512, 'step': 16, 'sampling': None}\n",
            "lstm_units (Int)\n",
            "{'default': None, 'conditions': [], 'min_value': 16, 'max_value': 128, 'step': 16, 'sampling': None}\n",
            "dropout (Choice)\n",
            "{'default': 0.3, 'conditions': [], 'values': [0.3, 0.4, 0.5], 'ordered': True}\n",
            "learning_rate (Choice)\n",
            "{'default': 0.01, 'conditions': [], 'values': [0.01, 0.001, 0.0001], 'ordered': True}\n"
          ],
          "name": "stdout"
        }
      ]
    },
    {
      "cell_type": "code",
      "metadata": {
        "colab": {
          "base_uri": "https://localhost:8080/"
        },
        "id": "wS4fY_waofts",
        "outputId": "4c1ebd59-62f1-49d5-b177-4d81eb98f63a"
      },
      "source": [
        "tuner.search(X_train, y_train, epochs=1, validation_split=0.2)"
      ],
      "execution_count": 44,
      "outputs": [
        {
          "output_type": "stream",
          "text": [
            "Trial 5 Complete [00h 17m 18s]\n",
            "val_loss: 0.3298620283603668\n",
            "\n",
            "Best val_loss So Far: 0.24496260285377502\n",
            "Total elapsed time: 01h 21m 21s\n",
            "INFO:tensorflow:Oracle triggered exit\n"
          ],
          "name": "stdout"
        }
      ]
    },
    {
      "cell_type": "code",
      "metadata": {
        "id": "-TD_NVt0oftt"
      },
      "source": [
        "model_kt = tuner.get_best_models(num_models=1)[0]"
      ],
      "execution_count": 55,
      "outputs": []
    },
    {
      "cell_type": "code",
      "metadata": {
        "scrolled": false,
        "colab": {
          "base_uri": "https://localhost:8080/"
        },
        "id": "0djuollBoftt",
        "outputId": "26386a24-323e-4709-9dd8-a2aaef6beca4"
      },
      "source": [
        "model_kt.summary()"
      ],
      "execution_count": 56,
      "outputs": [
        {
          "output_type": "stream",
          "text": [
            "Model: \"sequential\"\n",
            "_________________________________________________________________\n",
            "Layer (type)                 Output Shape              Param #   \n",
            "=================================================================\n",
            "embedding (Embedding)        (None, 12059, 128)        640000    \n",
            "_________________________________________________________________\n",
            "bidirectional (Bidirectional (None, 128)               98816     \n",
            "_________________________________________________________________\n",
            "dropout (Dropout)            (None, 128)               0         \n",
            "_________________________________________________________________\n",
            "dense (Dense)                (None, 1)                 129       \n",
            "=================================================================\n",
            "Total params: 738,945\n",
            "Trainable params: 738,945\n",
            "Non-trainable params: 0\n",
            "_________________________________________________________________\n"
          ],
          "name": "stdout"
        }
      ]
    },
    {
      "cell_type": "markdown",
      "metadata": {
        "id": "mO18z3Jmoftt"
      },
      "source": [
        "### Model Training"
      ]
    },
    {
      "cell_type": "code",
      "metadata": {
        "colab": {
          "base_uri": "https://localhost:8080/"
        },
        "id": "5CHO8uKpoftt",
        "outputId": "f84a83df-cde5-4ed0-a688-abd571059c64"
      },
      "source": [
        "#fit\n",
        "model_history = model_kt.fit(X_train, y_train, validation_data=(X_test, y_test), epochs=2, batch_size=64)"
      ],
      "execution_count": 57,
      "outputs": [
        {
          "output_type": "stream",
          "text": [
            "Epoch 1/2\n",
            "218/218 [==============================] - 638s 3s/step - loss: 0.1707 - accuracy: 0.9429 - val_loss: 0.1991 - val_accuracy: 0.9174\n",
            "Epoch 2/2\n",
            "218/218 [==============================] - 642s 3s/step - loss: 0.1133 - accuracy: 0.9630 - val_loss: 0.2457 - val_accuracy: 0.9210\n"
          ],
          "name": "stdout"
        }
      ]
    },
    {
      "cell_type": "code",
      "metadata": {
        "id": "vqT3NAdn6KvJ"
      },
      "source": [
        "#save the model as a h5 file\n",
        "model_kt.save(\"fake_news_bilstm.h5\")"
      ],
      "execution_count": 58,
      "outputs": []
    },
    {
      "cell_type": "code",
      "metadata": {
        "colab": {
          "base_uri": "https://localhost:8080/",
          "height": 513
        },
        "id": "mnfEDeNYoftt",
        "outputId": "794e89ba-6add-4227-ac51-c83f7ae4e249"
      },
      "source": [
        "# plot the loss\n",
        "plt.plot(model_history.history['loss'], label='train loss')\n",
        "plt.plot(model_history.history['val_loss'], label='val loss')\n",
        "plt.legend()\n",
        "plt.show()\n",
        "\n",
        "# plot the accuracy\n",
        "plt.plot(model_history.history['accuracy'], label='train acc')\n",
        "plt.plot(model_history.history['val_accuracy'], label='val acc')\n",
        "plt.legend()\n",
        "plt.show()"
      ],
      "execution_count": 59,
      "outputs": [
        {
          "output_type": "display_data",
          "data": {
            "image/png": "[encoded data removed]",
            "text/plain": [
              "<Figure size 432x288 with 1 Axes>"
            ]
          },
          "metadata": {
            "tags": [],
            "needs_background": "light"
          }
        },
        {
          "output_type": "display_data",
          "data": {
            "image/png": "[encoded data removed]",
            "text/plain": [
              "<Figure size 432x288 with 1 Axes>"
            ]
          },
          "metadata": {
            "tags": [],
            "needs_background": "light"
          }
        }
      ]
    },
    {
      "cell_type": "markdown",
      "metadata": {
        "id": "G7vb0sn9oftu"
      },
      "source": [
        "### Performance Metrics and Accuracy"
      ]
    },
    {
      "cell_type": "code",
      "metadata": {
        "colab": {
          "base_uri": "https://localhost:8080/"
        },
        "id": "HfjcleJ1oftu",
        "outputId": "532660e6-9bdb-45ee-c58a-e8889b510b06"
      },
      "source": [
        "y_pred = model_kt.predict(X_test)\n",
        "y_pred_binary = y_pred > 0.5\n",
        "y_pred_binary"
      ],
      "execution_count": 64,
      "outputs": [
        {
          "output_type": "execute_result",
          "data": {
            "text/plain": [
              "array([[ True],\n",
              "       [ True],\n",
              "       [ True],\n",
              "       ...,\n",
              "       [ True],\n",
              "       [False],\n",
              "       [False]])"
            ]
          },
          "metadata": {
            "tags": []
          },
          "execution_count": 64
        }
      ]
    },
    {
      "cell_type": "code",
      "metadata": {
        "id": "q13_N9DLoftu"
      },
      "source": [
        "from sklearn.metrics import accuracy_score, confusion_matrix"
      ],
      "execution_count": 65,
      "outputs": []
    },
    {
      "cell_type": "code",
      "metadata": {
        "colab": {
          "base_uri": "https://localhost:8080/"
        },
        "id": "HFRG2L8noftu",
        "outputId": "d8466135-ba70-49f5-cb7c-ed9b032c1341"
      },
      "source": [
        "accuracy_score(y_test, y_pred_binary)"
      ],
      "execution_count": 66,
      "outputs": [
        {
          "output_type": "execute_result",
          "data": {
            "text/plain": [
              "0.9210449503794512"
            ]
          },
          "metadata": {
            "tags": []
          },
          "execution_count": 66
        }
      ]
    },
    {
      "cell_type": "code",
      "metadata": {
        "colab": {
          "base_uri": "https://localhost:8080/"
        },
        "id": "LddIw3jpoftu",
        "outputId": "f1bea084-59c1-43d6-e20b-6728e5d8ef1b"
      },
      "source": [
        "confusion_matrix(y_test, y_pred_binary)"
      ],
      "execution_count": 67,
      "outputs": [
        {
          "output_type": "execute_result",
          "data": {
            "text/plain": [
              "array([[3121,  313],\n",
              "       [ 228, 3190]])"
            ]
          },
          "metadata": {
            "tags": []
          },
          "execution_count": 67
        }
      ]
    }
  ]
}