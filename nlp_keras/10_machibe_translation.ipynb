{
 "cells": [
  {
   "cell_type": "markdown",
   "metadata": {},
   "source": [
    "## Character-level recurrent sequence-to-sequence model for translating English to French"
   ]
  },
  {
   "cell_type": "markdown",
   "metadata": {},
   "source": [
    "Refer: https://keras.io/examples/nlp/lstm_seq2seq/"
   ]
  },
  {
   "cell_type": "code",
   "execution_count": 1,
   "metadata": {},
   "outputs": [
    {
     "name": "stdout",
     "output_type": "stream",
     "text": [
      "INFO:tensorflow:Enabling eager execution\n",
      "INFO:tensorflow:Enabling v2 tensorshape\n",
      "INFO:tensorflow:Enabling resource variables\n",
      "INFO:tensorflow:Enabling tensor equality\n",
      "INFO:tensorflow:Enabling control flow v2\n"
     ]
    }
   ],
   "source": [
    "from tensorflow.keras.models import Model\n",
    "from tensorflow.keras.layers import Input, LSTM, Dense\n",
    "import numpy as np\n",
    "import matplotlib.pyplot as plt"
   ]
  },
  {
   "cell_type": "code",
   "execution_count": 2,
   "metadata": {},
   "outputs": [],
   "source": [
    "batch_size = 64 #batch size for training\n",
    "epochs = 100 #number of epochs to train for\n",
    "latent_dim = 256 #latent dimensionality of the encoding space\n",
    "num_samples = 10000 #number of samples to train on\n",
    "\n",
    "#path to the data txt file\n",
    "data_path = \"data/fra-eng/fra.txt\""
   ]
  },
  {
   "cell_type": "code",
   "execution_count": 3,
   "metadata": {},
   "outputs": [],
   "source": [
    "#vectorize the data\n",
    "input_texts = []\n",
    "target_texts = []\n",
    "input_characters = set()\n",
    "target_characters = set()\n",
    "\n",
    "with open(data_path, \"r\", encoding=\"utf-8\") as f:\n",
    "    lines = f.read().split(\"\\n\")\n",
    "for line in lines [:min(num_samples, len(lines) - 1)]:\n",
    "    input_text, target_text, _ = line.split(\"\\t\")\n",
    "    # we use \"tab\" as the \"start sequence\" character\n",
    "    # for the targets, and \"\\n\" as \"end sequence\" character\n",
    "    target_text = \"\\t\" + target_text + \"\\n\"\n",
    "    input_texts.append(input_text)\n",
    "    target_texts.append(target_text)\n",
    "    for char in input_text:\n",
    "        if char not in input_characters:\n",
    "            input_characters.add(char)\n",
    "    for char in target_text:\n",
    "        if char not in target_characters:\n",
    "            target_characters.add(char)"
   ]
  },
  {
   "cell_type": "code",
   "execution_count": 4,
   "metadata": {},
   "outputs": [
    {
     "data": {
      "text/plain": [
       "['Go.',\n",
       " 'Hi.',\n",
       " 'Hi.',\n",
       " 'Run!',\n",
       " 'Run!',\n",
       " 'Who?',\n",
       " 'Wow!',\n",
       " 'Fire!',\n",
       " 'Help!',\n",
       " 'Jump.']"
      ]
     },
     "execution_count": 4,
     "metadata": {},
     "output_type": "execute_result"
    }
   ],
   "source": [
    "input_texts[0:10]"
   ]
  },
  {
   "cell_type": "code",
   "execution_count": 5,
   "metadata": {},
   "outputs": [
    {
     "data": {
      "text/plain": [
       "['\\tVa !\\n',\n",
       " '\\tSalut !\\n',\n",
       " '\\tSalut.\\n',\n",
       " '\\tCours\\u202f!\\n',\n",
       " '\\tCourez\\u202f!\\n',\n",
       " '\\tQui ?\\n',\n",
       " '\\tÇa alors\\u202f!\\n',\n",
       " '\\tAu feu !\\n',\n",
       " \"\\tÀ l'aide\\u202f!\\n\",\n",
       " '\\tSaute.\\n']"
      ]
     },
     "execution_count": 5,
     "metadata": {},
     "output_type": "execute_result"
    }
   ],
   "source": [
    "target_texts[0:10]"
   ]
  },
  {
   "cell_type": "code",
   "execution_count": 6,
   "metadata": {},
   "outputs": [
    {
     "data": {
      "text/plain": [
       "(10000, 10000)"
      ]
     },
     "execution_count": 6,
     "metadata": {},
     "output_type": "execute_result"
    }
   ],
   "source": [
    "len(input_texts), len(target_texts)"
   ]
  },
  {
   "cell_type": "code",
   "execution_count": 7,
   "metadata": {},
   "outputs": [
    {
     "data": {
      "text/plain": [
       "(71, 94)"
      ]
     },
     "execution_count": 7,
     "metadata": {},
     "output_type": "execute_result"
    }
   ],
   "source": [
    "len(input_characters), len(target_characters)"
   ]
  },
  {
   "cell_type": "code",
   "execution_count": 8,
   "metadata": {},
   "outputs": [],
   "source": [
    "input_characters = sorted(list(input_characters))\n",
    "target_characters = sorted(list(target_characters))\n",
    "num_encoder_tokens = len(input_characters)\n",
    "num_decoder_tokens = len(target_characters)\n",
    "max_encoder_seq_length = max([len(txt) for txt in input_texts])\n",
    "max_decoder_seq_length = max([len(txt) for txt in target_texts])"
   ]
  },
  {
   "cell_type": "code",
   "execution_count": 9,
   "metadata": {},
   "outputs": [
    {
     "name": "stdout",
     "output_type": "stream",
     "text": [
      "Number of Samples: 10000\n",
      "Number of unique input tokens: 71\n",
      "Number of unique output tokens: 94\n",
      "Max sequence length for inputs: 15\n",
      "Max sequence length for outputs: 59\n"
     ]
    }
   ],
   "source": [
    "print(\"Number of Samples:\", len(input_texts))\n",
    "print(\"Number of unique input tokens:\", num_encoder_tokens)\n",
    "print(\"Number of unique output tokens:\", num_decoder_tokens)\n",
    "print(\"Max sequence length for inputs:\", max_encoder_seq_length)\n",
    "print(\"Max sequence length for outputs:\", max_decoder_seq_length)"
   ]
  },
  {
   "cell_type": "code",
   "execution_count": 10,
   "metadata": {},
   "outputs": [],
   "source": [
    "input_token_index = dict([(char, i) for i, char in enumerate(input_characters)])\n",
    "target_token_index = dict([(char, i) for i, char in enumerate(target_characters)])"
   ]
  },
  {
   "cell_type": "code",
   "execution_count": 11,
   "metadata": {},
   "outputs": [],
   "source": [
    "encoder_input_data = np.zeros(\n",
    "    (len(input_texts), max_encoder_seq_length, num_encoder_tokens), dtype=\"float32\")\n",
    "decoder_input_data = np.zeros(\n",
    "    (len(target_texts), max_decoder_seq_length, num_decoder_tokens), dtype=\"float32\")\n",
    "decoder_target_data = np.zeros(\n",
    "    (len(target_texts), max_decoder_seq_length, num_decoder_tokens), dtype=\"float32\")"
   ]
  },
  {
   "cell_type": "code",
   "execution_count": 12,
   "metadata": {},
   "outputs": [],
   "source": [
    "# one-hot representation\n",
    "for i, (input_text, target_text) in enumerate(zip(input_texts, target_texts)):\n",
    "    for t, char in enumerate(input_text):\n",
    "        encoder_input_data[i, t, input_token_index[char]] = 1.\n",
    "    encoder_input_data[i, t + 1:, input_token_index[\" \"]] = 1.\n",
    "    for t, char in enumerate(target_text):\n",
    "        # decoder_target_data is ahead of decoder_input_data by one timestep\n",
    "        decoder_input_data[i, t, target_token_index[char]] = 1.\n",
    "        if t > 0:\n",
    "            # decoder_target_data wil be ahead by one timestep\n",
    "            # and will not include the start character\n",
    "            decoder_target_data[i, t-1, target_token_index[char]] = 1.\n",
    "    decoder_input_data[i, t+1:, target_token_index[\" \"]] = 1.\n",
    "    decoder_target_data[i, t:, target_token_index[\" \"]] = 1."
   ]
  },
  {
   "cell_type": "code",
   "execution_count": 13,
   "metadata": {},
   "outputs": [
    {
     "data": {
      "text/plain": [
       "(15, 71)"
      ]
     },
     "execution_count": 13,
     "metadata": {},
     "output_type": "execute_result"
    }
   ],
   "source": [
    "encoder_input_data[0].shape"
   ]
  },
  {
   "cell_type": "code",
   "execution_count": 14,
   "metadata": {},
   "outputs": [],
   "source": [
    "# define an input sequence and process it\n",
    "encoder_inputs = Input(shape=(None, num_encoder_tokens))\n",
    "encoder = LSTM(latent_dim, return_state=True)\n",
    "encoder_outputs, state_h, state_c = encoder(encoder_inputs)\n",
    "# we discard \"encoder_outputs\" and only keep the states\n",
    "encoder_states = [state_h, state_c]"
   ]
  },
  {
   "cell_type": "code",
   "execution_count": 15,
   "metadata": {},
   "outputs": [],
   "source": [
    "# set up the decoder, using \"encoder_states\" as initial state\n",
    "decoder_inputs = Input(shape=(None, num_decoder_tokens))\n",
    "# we set up our decoder to return full output sequences,\n",
    "# and to return internal states as well. We don't use the\n",
    "# return states in the training model, but we will use them in inference.\n",
    "decoder_lstm = LSTM(latent_dim, return_sequences=True, return_state=True)\n",
    "decoder_outputs, _, _ = decoder_lstm(decoder_inputs,\n",
    "                                    initial_state=encoder_states)\n",
    "decoder_dense = Dense(num_decoder_tokens, activation=\"softmax\")\n",
    "decoder_outputs = decoder_dense(decoder_outputs)"
   ]
  },
  {
   "cell_type": "code",
   "execution_count": 16,
   "metadata": {},
   "outputs": [],
   "source": [
    "# define the model that will turn\n",
    "# encoder_input_data & decoder_input_data into decoder_target_data\n",
    "model = Model([encoder_inputs, decoder_inputs], decoder_outputs)"
   ]
  },
  {
   "cell_type": "code",
   "execution_count": 17,
   "metadata": {},
   "outputs": [],
   "source": [
    "# run training\n",
    "model.compile(optimizer=\"rmsprop\", loss=\"categorical_crossentropy\",\n",
    "             metrics=[\"accuracy\"])"
   ]
  },
  {
   "cell_type": "code",
   "execution_count": 20,
   "metadata": {},
   "outputs": [
    {
     "name": "stdout",
     "output_type": "stream",
     "text": [
      "Epoch 1/100\n",
      "125/125 [==============================] - 41s 302ms/step - loss: 0.2252 - accuracy: 0.9315 - val_loss: 0.4571 - val_accuracy: 0.8727\n",
      "Epoch 2/100\n",
      "125/125 [==============================] - 36s 287ms/step - loss: 0.2148 - accuracy: 0.9346 - val_loss: 0.4642 - val_accuracy: 0.8709\n",
      "Epoch 3/100\n",
      "125/125 [==============================] - 33s 266ms/step - loss: 0.2076 - accuracy: 0.9367 - val_loss: 0.4642 - val_accuracy: 0.8724\n",
      "Epoch 4/100\n",
      "125/125 [==============================] - 33s 261ms/step - loss: 0.2011 - accuracy: 0.9387 - val_loss: 0.4688 - val_accuracy: 0.8718\n",
      "Epoch 5/100\n",
      "125/125 [==============================] - 33s 262ms/step - loss: 0.1945 - accuracy: 0.9406 - val_loss: 0.4691 - val_accuracy: 0.8732\n",
      "Epoch 6/100\n",
      "125/125 [==============================] - 32s 259ms/step - loss: 0.1883 - accuracy: 0.9425 - val_loss: 0.4759 - val_accuracy: 0.8732\n",
      "Epoch 7/100\n",
      "125/125 [==============================] - 32s 260ms/step - loss: 0.1824 - accuracy: 0.9441 - val_loss: 0.4775 - val_accuracy: 0.8726\n",
      "Epoch 8/100\n",
      "125/125 [==============================] - 32s 257ms/step - loss: 0.1767 - accuracy: 0.9459 - val_loss: 0.4816 - val_accuracy: 0.8733\n",
      "Epoch 9/100\n",
      "125/125 [==============================] - 33s 261ms/step - loss: 0.1717 - accuracy: 0.9471 - val_loss: 0.4895 - val_accuracy: 0.8728\n",
      "Epoch 10/100\n",
      "125/125 [==============================] - 33s 261ms/step - loss: 0.1661 - accuracy: 0.9491 - val_loss: 0.4943 - val_accuracy: 0.8726\n",
      "Epoch 11/100\n",
      "125/125 [==============================] - 32s 254ms/step - loss: 0.1613 - accuracy: 0.9505 - val_loss: 0.4938 - val_accuracy: 0.8728\n",
      "Epoch 12/100\n",
      "125/125 [==============================] - 32s 253ms/step - loss: 0.1567 - accuracy: 0.9518 - val_loss: 0.4936 - val_accuracy: 0.8736\n",
      "Epoch 13/100\n",
      "125/125 [==============================] - 32s 256ms/step - loss: 0.1518 - accuracy: 0.9534 - val_loss: 0.5022 - val_accuracy: 0.8724\n",
      "Epoch 14/100\n",
      "125/125 [==============================] - 32s 256ms/step - loss: 0.1476 - accuracy: 0.9546 - val_loss: 0.5053 - val_accuracy: 0.8736\n",
      "Epoch 15/100\n",
      "125/125 [==============================] - 34s 273ms/step - loss: 0.1435 - accuracy: 0.9558 - val_loss: 0.5110 - val_accuracy: 0.8728\n",
      "Epoch 16/100\n",
      "125/125 [==============================] - 36s 291ms/step - loss: 0.1391 - accuracy: 0.9572 - val_loss: 0.5166 - val_accuracy: 0.8735\n",
      "Epoch 17/100\n",
      "125/125 [==============================] - 33s 266ms/step - loss: 0.1351 - accuracy: 0.9585 - val_loss: 0.5213 - val_accuracy: 0.8733\n",
      "Epoch 18/100\n",
      "125/125 [==============================] - 35s 284ms/step - loss: 0.1314 - accuracy: 0.9595 - val_loss: 0.5278 - val_accuracy: 0.8723\n",
      "Epoch 19/100\n",
      "125/125 [==============================] - 33s 265ms/step - loss: 0.1276 - accuracy: 0.9607 - val_loss: 0.5330 - val_accuracy: 0.8722\n",
      "Epoch 20/100\n",
      "125/125 [==============================] - 33s 266ms/step - loss: 0.1243 - accuracy: 0.9616 - val_loss: 0.5393 - val_accuracy: 0.8717\n",
      "Epoch 21/100\n",
      "125/125 [==============================] - 33s 267ms/step - loss: 0.1209 - accuracy: 0.9626 - val_loss: 0.5427 - val_accuracy: 0.8722\n",
      "Epoch 22/100\n",
      "125/125 [==============================] - 34s 272ms/step - loss: 0.1176 - accuracy: 0.9633 - val_loss: 0.5509 - val_accuracy: 0.8713\n",
      "Epoch 23/100\n",
      "125/125 [==============================] - 33s 268ms/step - loss: 0.1145 - accuracy: 0.9643 - val_loss: 0.5511 - val_accuracy: 0.8726\n",
      "Epoch 24/100\n",
      "125/125 [==============================] - 33s 261ms/step - loss: 0.1118 - accuracy: 0.9653 - val_loss: 0.5576 - val_accuracy: 0.8721\n",
      "Epoch 25/100\n",
      "125/125 [==============================] - 32s 259ms/step - loss: 0.1086 - accuracy: 0.9661 - val_loss: 0.5640 - val_accuracy: 0.8715\n",
      "Epoch 26/100\n",
      "125/125 [==============================] - 32s 259ms/step - loss: 0.1059 - accuracy: 0.9671 - val_loss: 0.5676 - val_accuracy: 0.8715\n",
      "Epoch 27/100\n",
      "125/125 [==============================] - 33s 262ms/step - loss: 0.1027 - accuracy: 0.9679 - val_loss: 0.5763 - val_accuracy: 0.8712\n",
      "Epoch 28/100\n",
      "125/125 [==============================] - 33s 261ms/step - loss: 0.1003 - accuracy: 0.9685 - val_loss: 0.5825 - val_accuracy: 0.8706\n",
      "Epoch 29/100\n",
      "125/125 [==============================] - 33s 263ms/step - loss: 0.0982 - accuracy: 0.9690 - val_loss: 0.5888 - val_accuracy: 0.8720\n",
      "Epoch 30/100\n",
      "125/125 [==============================] - 33s 267ms/step - loss: 0.0953 - accuracy: 0.9702 - val_loss: 0.5926 - val_accuracy: 0.8719\n",
      "Epoch 31/100\n",
      "125/125 [==============================] - 33s 268ms/step - loss: 0.0930 - accuracy: 0.9705 - val_loss: 0.5993 - val_accuracy: 0.8720\n",
      "Epoch 32/100\n",
      "125/125 [==============================] - 34s 276ms/step - loss: 0.0903 - accuracy: 0.9716 - val_loss: 0.5995 - val_accuracy: 0.8713\n",
      "Epoch 33/100\n",
      "125/125 [==============================] - 34s 272ms/step - loss: 0.0886 - accuracy: 0.9719 - val_loss: 0.6049 - val_accuracy: 0.8707\n",
      "Epoch 34/100\n",
      "125/125 [==============================] - 34s 270ms/step - loss: 0.0862 - accuracy: 0.9726 - val_loss: 0.6097 - val_accuracy: 0.8711\n",
      "Epoch 35/100\n",
      "125/125 [==============================] - 34s 269ms/step - loss: 0.0842 - accuracy: 0.9732 - val_loss: 0.6213 - val_accuracy: 0.8696\n",
      "Epoch 36/100\n",
      "125/125 [==============================] - 34s 271ms/step - loss: 0.0824 - accuracy: 0.9737 - val_loss: 0.6230 - val_accuracy: 0.8709\n",
      "Epoch 37/100\n",
      "125/125 [==============================] - 33s 265ms/step - loss: 0.0801 - accuracy: 0.9745 - val_loss: 0.6258 - val_accuracy: 0.8710\n",
      "Epoch 38/100\n",
      "125/125 [==============================] - 34s 270ms/step - loss: 0.0785 - accuracy: 0.9746 - val_loss: 0.6348 - val_accuracy: 0.8694\n",
      "Epoch 39/100\n",
      "125/125 [==============================] - 34s 268ms/step - loss: 0.0767 - accuracy: 0.9754 - val_loss: 0.6337 - val_accuracy: 0.8705\n",
      "Epoch 40/100\n",
      "125/125 [==============================] - 33s 266ms/step - loss: 0.0749 - accuracy: 0.9757 - val_loss: 0.6412 - val_accuracy: 0.8705\n",
      "Epoch 41/100\n",
      "125/125 [==============================] - 35s 284ms/step - loss: 0.0735 - accuracy: 0.9763 - val_loss: 0.6509 - val_accuracy: 0.8694\n",
      "Epoch 42/100\n",
      "125/125 [==============================] - 37s 293ms/step - loss: 0.0717 - accuracy: 0.9765 - val_loss: 0.6507 - val_accuracy: 0.8706\n",
      "Epoch 43/100\n",
      "125/125 [==============================] - 34s 269ms/step - loss: 0.0698 - accuracy: 0.9773 - val_loss: 0.6579 - val_accuracy: 0.8694\n",
      "Epoch 44/100\n",
      "125/125 [==============================] - 34s 269ms/step - loss: 0.0688 - accuracy: 0.9775 - val_loss: 0.6615 - val_accuracy: 0.8693\n",
      "Epoch 45/100\n",
      "125/125 [==============================] - 34s 273ms/step - loss: 0.0669 - accuracy: 0.9782 - val_loss: 0.6631 - val_accuracy: 0.8698\n",
      "Epoch 46/100\n",
      "125/125 [==============================] - 33s 266ms/step - loss: 0.0656 - accuracy: 0.9785 - val_loss: 0.6785 - val_accuracy: 0.8694\n",
      "Epoch 47/100\n",
      "125/125 [==============================] - 34s 269ms/step - loss: 0.0644 - accuracy: 0.9787 - val_loss: 0.6764 - val_accuracy: 0.8693\n",
      "Epoch 48/100\n",
      "125/125 [==============================] - 34s 269ms/step - loss: 0.0628 - accuracy: 0.9793 - val_loss: 0.6831 - val_accuracy: 0.8695\n",
      "Epoch 49/100\n",
      "125/125 [==============================] - 33s 268ms/step - loss: 0.0618 - accuracy: 0.9796 - val_loss: 0.6848 - val_accuracy: 0.8695\n",
      "Epoch 50/100\n",
      "125/125 [==============================] - 34s 270ms/step - loss: 0.0604 - accuracy: 0.9801 - val_loss: 0.6892 - val_accuracy: 0.8690\n",
      "Epoch 51/100\n",
      "125/125 [==============================] - 33s 267ms/step - loss: 0.0590 - accuracy: 0.9806 - val_loss: 0.6941 - val_accuracy: 0.8688\n",
      "Epoch 52/100\n",
      "125/125 [==============================] - 34s 270ms/step - loss: 0.0582 - accuracy: 0.9805 - val_loss: 0.6991 - val_accuracy: 0.8695\n",
      "Epoch 53/100\n",
      "125/125 [==============================] - 34s 269ms/step - loss: 0.0571 - accuracy: 0.9808 - val_loss: 0.6990 - val_accuracy: 0.8693\n",
      "Epoch 54/100\n",
      "125/125 [==============================] - 33s 268ms/step - loss: 0.0557 - accuracy: 0.9814 - val_loss: 0.7023 - val_accuracy: 0.8694\n",
      "Epoch 55/100\n",
      "125/125 [==============================] - 34s 271ms/step - loss: 0.0549 - accuracy: 0.9816 - val_loss: 0.7093 - val_accuracy: 0.8691\n",
      "Epoch 56/100\n",
      "125/125 [==============================] - 34s 270ms/step - loss: 0.0539 - accuracy: 0.9820 - val_loss: 0.7178 - val_accuracy: 0.8692\n"
     ]
    },
    {
     "name": "stdout",
     "output_type": "stream",
     "text": [
      "Epoch 57/100\n",
      "125/125 [==============================] - 33s 264ms/step - loss: 0.0527 - accuracy: 0.9821 - val_loss: 0.7178 - val_accuracy: 0.8694\n",
      "Epoch 58/100\n",
      "125/125 [==============================] - 33s 268ms/step - loss: 0.0521 - accuracy: 0.9823 - val_loss: 0.7199 - val_accuracy: 0.8686\n",
      "Epoch 59/100\n",
      "125/125 [==============================] - 33s 266ms/step - loss: 0.0512 - accuracy: 0.9824 - val_loss: 0.7297 - val_accuracy: 0.8689\n",
      "Epoch 60/100\n",
      "125/125 [==============================] - 33s 266ms/step - loss: 0.0503 - accuracy: 0.9828 - val_loss: 0.7342 - val_accuracy: 0.8689\n",
      "Epoch 61/100\n",
      "125/125 [==============================] - 34s 271ms/step - loss: 0.0491 - accuracy: 0.9833 - val_loss: 0.7416 - val_accuracy: 0.8674\n",
      "Epoch 62/100\n",
      "125/125 [==============================] - 33s 268ms/step - loss: 0.0488 - accuracy: 0.9832 - val_loss: 0.7449 - val_accuracy: 0.8675\n",
      "Epoch 63/100\n",
      "125/125 [==============================] - 34s 268ms/step - loss: 0.0479 - accuracy: 0.9835 - val_loss: 0.7446 - val_accuracy: 0.8693\n",
      "Epoch 64/100\n",
      "125/125 [==============================] - 34s 270ms/step - loss: 0.0470 - accuracy: 0.9839 - val_loss: 0.7432 - val_accuracy: 0.8690\n",
      "Epoch 65/100\n",
      "125/125 [==============================] - 33s 265ms/step - loss: 0.0461 - accuracy: 0.9841 - val_loss: 0.7486 - val_accuracy: 0.8689\n",
      "Epoch 66/100\n",
      "125/125 [==============================] - 33s 268ms/step - loss: 0.0459 - accuracy: 0.9840 - val_loss: 0.7584 - val_accuracy: 0.8676\n",
      "Epoch 67/100\n",
      "125/125 [==============================] - 33s 267ms/step - loss: 0.0452 - accuracy: 0.9843 - val_loss: 0.7581 - val_accuracy: 0.8683\n",
      "Epoch 68/100\n",
      "125/125 [==============================] - 33s 265ms/step - loss: 0.0448 - accuracy: 0.9843 - val_loss: 0.7602 - val_accuracy: 0.8684\n",
      "Epoch 69/100\n",
      "125/125 [==============================] - 33s 264ms/step - loss: 0.0442 - accuracy: 0.9844 - val_loss: 0.7677 - val_accuracy: 0.8682\n",
      "Epoch 70/100\n",
      "125/125 [==============================] - 33s 268ms/step - loss: 0.0431 - accuracy: 0.9849 - val_loss: 0.7725 - val_accuracy: 0.8678\n",
      "Epoch 71/100\n",
      "125/125 [==============================] - 33s 267ms/step - loss: 0.0429 - accuracy: 0.9850 - val_loss: 0.7648 - val_accuracy: 0.8687\n",
      "Epoch 72/100\n",
      "125/125 [==============================] - 33s 265ms/step - loss: 0.0422 - accuracy: 0.9851 - val_loss: 0.7750 - val_accuracy: 0.8673\n",
      "Epoch 73/100\n",
      "125/125 [==============================] - 33s 265ms/step - loss: 0.0417 - accuracy: 0.9853 - val_loss: 0.7755 - val_accuracy: 0.8676\n",
      "Epoch 74/100\n",
      "125/125 [==============================] - 34s 269ms/step - loss: 0.0413 - accuracy: 0.9853 - val_loss: 0.7786 - val_accuracy: 0.8680\n",
      "Epoch 75/100\n",
      "125/125 [==============================] - 33s 265ms/step - loss: 0.0407 - accuracy: 0.9855 - val_loss: 0.7813 - val_accuracy: 0.8682\n",
      "Epoch 76/100\n",
      "125/125 [==============================] - 33s 267ms/step - loss: 0.0404 - accuracy: 0.9856 - val_loss: 0.7943 - val_accuracy: 0.8677\n",
      "Epoch 77/100\n",
      "125/125 [==============================] - 34s 268ms/step - loss: 0.0399 - accuracy: 0.9858 - val_loss: 0.7892 - val_accuracy: 0.8685\n",
      "Epoch 78/100\n",
      "125/125 [==============================] - 33s 267ms/step - loss: 0.0396 - accuracy: 0.9858 - val_loss: 0.7943 - val_accuracy: 0.8679\n",
      "Epoch 79/100\n",
      "125/125 [==============================] - 33s 267ms/step - loss: 0.0388 - accuracy: 0.9860 - val_loss: 0.7979 - val_accuracy: 0.8677\n",
      "Epoch 80/100\n",
      "125/125 [==============================] - 33s 267ms/step - loss: 0.0386 - accuracy: 0.9860 - val_loss: 0.8015 - val_accuracy: 0.8676\n",
      "Epoch 81/100\n",
      "125/125 [==============================] - 33s 261ms/step - loss: 0.0383 - accuracy: 0.9862 - val_loss: 0.8082 - val_accuracy: 0.8680\n",
      "Epoch 82/100\n",
      "125/125 [==============================] - 33s 261ms/step - loss: 0.0379 - accuracy: 0.9863 - val_loss: 0.8011 - val_accuracy: 0.8687\n",
      "Epoch 83/100\n",
      "125/125 [==============================] - 33s 261ms/step - loss: 0.0374 - accuracy: 0.9863 - val_loss: 0.8074 - val_accuracy: 0.8682\n",
      "Epoch 84/100\n",
      "125/125 [==============================] - 33s 261ms/step - loss: 0.0370 - accuracy: 0.9865 - val_loss: 0.8158 - val_accuracy: 0.8680\n",
      "Epoch 85/100\n",
      "125/125 [==============================] - 34s 271ms/step - loss: 0.0369 - accuracy: 0.9865 - val_loss: 0.8122 - val_accuracy: 0.8673\n",
      "Epoch 86/100\n",
      "125/125 [==============================] - 33s 267ms/step - loss: 0.0367 - accuracy: 0.9865 - val_loss: 0.8123 - val_accuracy: 0.8687\n",
      "Epoch 87/100\n",
      "125/125 [==============================] - 33s 263ms/step - loss: 0.0363 - accuracy: 0.9867 - val_loss: 0.8178 - val_accuracy: 0.8680\n",
      "Epoch 88/100\n",
      "125/125 [==============================] - 32s 260ms/step - loss: 0.0362 - accuracy: 0.9868 - val_loss: 0.8126 - val_accuracy: 0.8680\n",
      "Epoch 89/100\n",
      "125/125 [==============================] - 33s 260ms/step - loss: 0.0356 - accuracy: 0.9869 - val_loss: 0.8173 - val_accuracy: 0.8680\n",
      "Epoch 90/100\n",
      "125/125 [==============================] - 33s 261ms/step - loss: 0.0353 - accuracy: 0.9868 - val_loss: 0.8186 - val_accuracy: 0.8681\n",
      "Epoch 91/100\n",
      "125/125 [==============================] - 35s 282ms/step - loss: 0.0352 - accuracy: 0.9870 - val_loss: 0.8219 - val_accuracy: 0.8681\n",
      "Epoch 92/100\n",
      "125/125 [==============================] - 36s 286ms/step - loss: 0.0350 - accuracy: 0.9870 - val_loss: 0.8151 - val_accuracy: 0.8687\n",
      "Epoch 93/100\n",
      "125/125 [==============================] - 35s 281ms/step - loss: 0.0349 - accuracy: 0.9871 - val_loss: 0.8258 - val_accuracy: 0.8678\n",
      "Epoch 94/100\n",
      "125/125 [==============================] - 35s 280ms/step - loss: 0.0345 - accuracy: 0.9872 - val_loss: 0.8243 - val_accuracy: 0.8690\n",
      "Epoch 95/100\n",
      "125/125 [==============================] - 33s 268ms/step - loss: 0.0338 - accuracy: 0.9873 - val_loss: 0.8282 - val_accuracy: 0.8688\n",
      "Epoch 96/100\n",
      "125/125 [==============================] - 34s 273ms/step - loss: 0.0339 - accuracy: 0.9873 - val_loss: 0.8331 - val_accuracy: 0.8679\n",
      "Epoch 97/100\n",
      "125/125 [==============================] - 36s 285ms/step - loss: 0.0338 - accuracy: 0.9873 - val_loss: 0.8384 - val_accuracy: 0.8674\n",
      "Epoch 98/100\n",
      "125/125 [==============================] - 34s 273ms/step - loss: 0.0332 - accuracy: 0.9875 - val_loss: 0.8359 - val_accuracy: 0.8684\n",
      "Epoch 99/100\n",
      "125/125 [==============================] - 34s 273ms/step - loss: 0.0334 - accuracy: 0.9873 - val_loss: 0.8416 - val_accuracy: 0.8669\n",
      "Epoch 100/100\n",
      "125/125 [==============================] - 33s 266ms/step - loss: 0.0330 - accuracy: 0.9875 - val_loss: 0.8445 - val_accuracy: 0.8673\n"
     ]
    }
   ],
   "source": [
    "#fit\n",
    "model_history = model.fit([encoder_input_data, decoder_input_data], decoder_target_data,\n",
    "         batch_size=batch_size, epochs=epochs, validation_split=0.2)"
   ]
  },
  {
   "cell_type": "code",
   "execution_count": 22,
   "metadata": {},
   "outputs": [],
   "source": [
    "#save the model as a h5 file\n",
    "model.save(\"eng_to_fr.h5\")"
   ]
  },
  {
   "cell_type": "code",
   "execution_count": 25,
   "metadata": {},
   "outputs": [
    {
     "data": {
      "image/png": "[encoded data removed]",
      "text/plain": [
       "<Figure size 432x288 with 1 Axes>"
      ]
     },
     "metadata": {
      "needs_background": "light"
     },
     "output_type": "display_data"
    },
    {
     "data": {
      "image/png": "[encoded data removed]",
      "text/plain": [
       "<Figure size 432x288 with 1 Axes>"
      ]
     },
     "metadata": {
      "needs_background": "light"
     },
     "output_type": "display_data"
    }
   ],
   "source": [
    "# plot the loss\n",
    "plt.plot(model_history.history['loss'], label='train loss')\n",
    "plt.plot(model_history.history['val_loss'], label='val loss')\n",
    "plt.legend()\n",
    "plt.show()\n",
    "\n",
    "# plot the accuracy\n",
    "plt.plot(model_history.history['accuracy'], label='train acc')\n",
    "plt.plot(model_history.history['val_accuracy'], label='val acc')\n",
    "plt.legend()\n",
    "plt.show()"
   ]
  },
  {
   "cell_type": "code",
   "execution_count": null,
   "metadata": {},
   "outputs": [],
   "source": []
  }
 ],
 "metadata": {
  "kernelspec": {
   "display_name": "Python 3",
   "language": "python",
   "name": "python3"
  },
  "language_info": {
   "codemirror_mode": {
    "name": "ipython",
    "version": 3
   },
   "file_extension": ".py",
   "mimetype": "text/x-python",
   "name": "python",
   "nbconvert_exporter": "python",
   "pygments_lexer": "ipython3",
   "version": "3.9.1"
  }
 },
 "nbformat": 4,
 "nbformat_minor": 4
}
