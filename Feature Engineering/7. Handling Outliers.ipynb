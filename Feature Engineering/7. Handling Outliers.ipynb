{
 "cells": [
  {
   "cell_type": "code",
   "execution_count": 1,
   "metadata": {},
   "outputs": [],
   "source": [
    "import pandas as pd\n",
    "import numpy as np\n",
    "import seaborn as sns\n",
    "import matplotlib.pyplot as plt"
   ]
  },
  {
   "cell_type": "markdown",
   "metadata": {},
   "source": [
    "### Mechanics of Outliers"
   ]
  },
  {
   "cell_type": "markdown",
   "metadata": {},
   "source": [
    "#### What is an Outlier?\n",
    "As per Wikipedia, 'In statistics, an Outlier is an observation point that is distant from other observations.' The definition suggests to us that an outlier is something which is an odd-one-out or the one that is different from the crowd. Some statisticians define outliers as ‘having a different underlying behavior than the rest of the data’. Alternatively, an outlier is a data point that is distant from other points.\n",
    "\n",
    "Target feature in \"Imbalanced dataset\" falls under the same definition. An imbalanced data set in terms of machine learning is where one class label has far fewer samples compared to another class label. We will learn more about how to deal with imbalanced dataset next time, but understand that the way we are handling outliers here is not the way of handling target feature in imbalanced dataset. \n",
    "\n",
    "#### How are Outliers introduced in the datasets?\n",
    "\n",
    "- The Outlier may be due to just variability in the measurement or may indicate experimental errors.\n",
    "\n",
    "Data can be collected in many ways be it via Interview; Questionnaires & Survey; Observations; Documents & Records; Focus groups; Oral History etc., and in this Tech era Internet; IT sensors etc., are generating data for us. Possible cause of outliers could be Incorrect entry; Misreporting of data or observations; Sampling errors while doing the experiment; Exceptional but True value. If possible, outliers should be excluded from the data set. However, detecting anomalous instances might be difficult, and is not always possible. Data Science Developers and statisticians don’t like to declare outliers too quickly. The ‘too large’ number could be a data entry error, a scale problem, or just a really big number.\n",
    "\n",
    "#### Type of Outliers\n",
    "There are mainly 3 types of Outliers.\n",
    "\n",
    "- Point or global Outliers:  \n",
    "Observations anomalous with respect to the majority of observations in a feature. In-short, a data point is considered a global outlier if its value is far outside the entirety of the data set in which it is found.\n",
    "\n",
    "Example: In a class all student age will be approx. similar, but if see a record of a student with age as 500. It’s an outlier. It could be generated due to various reason.\n",
    "\n",
    "- Contextual (Conditional) Outliers:  \n",
    "Observations considered anomalous given a specific context. A data point is considered a contextual outlier if its value significantly deviates from the rest of the data points in the same context. Note that this means that same value may not be considered an outlier if it occurred in a different context. If we limit our discussion to time series data, the “context” is almost always temporal, because time series data are records of a specific quantity over time. It’s no surprise then that contextual outliers are common in time series data. In Contextual Anomaly values are not outside the normal global range but are abnormal compared to the seasonal pattern.\n",
    "\n",
    "Example: World economy falls drastically due to COVID-19. Stock Market crashes due to COVID-19. Usual data points will be near to each other whereas data point during the specific period will either up or down very far. This is not due to erroneous, but it’s an actual observation data point.\n",
    "\n",
    "- Collective Outliers:  \n",
    "A collection of observations anomalous but appear close to one another because they all have a similar anomalous value.\n",
    "A subset of data points within a data set is considered anomalous if those values as a collection deviate significantly from the entire data set, but the values of the individual data points are not themselves anomalous in either a contextual or global sense.\n",
    "\n",
    "Example: In time series data, one way this can manifest is as normal peaks and valleys occurring outside of a time frame when that seasonal sequence is normal."
   ]
  },
  {
   "cell_type": "markdown",
   "metadata": {},
   "source": [
    "### Introduction to Dataset"
   ]
  },
  {
   "cell_type": "code",
   "execution_count": 2,
   "metadata": {},
   "outputs": [],
   "source": [
    "#import\n",
    "from sklearn.datasets import load_boston"
   ]
  },
  {
   "cell_type": "code",
   "execution_count": 3,
   "metadata": {},
   "outputs": [
    {
     "name": "stdout",
     "output_type": "stream",
     "text": [
      ".. _boston_dataset:\n",
      "\n",
      "Boston house prices dataset\n",
      "---------------------------\n",
      "\n",
      "**Data Set Characteristics:**  \n",
      "\n",
      "    :Number of Instances: 506 \n",
      "\n",
      "    :Number of Attributes: 13 numeric/categorical predictive. Median Value (attribute 14) is usually the target.\n",
      "\n",
      "    :Attribute Information (in order):\n",
      "        - CRIM     per capita crime rate by town\n",
      "        - ZN       proportion of residential land zoned for lots over 25,000 sq.ft.\n",
      "        - INDUS    proportion of non-retail business acres per town\n",
      "        - CHAS     Charles River dummy variable (= 1 if tract bounds river; 0 otherwise)\n",
      "        - NOX      nitric oxides concentration (parts per 10 million)\n",
      "        - RM       average number of rooms per dwelling\n",
      "        - AGE      proportion of owner-occupied units built prior to 1940\n",
      "        - DIS      weighted distances to five Boston employment centres\n",
      "        - RAD      index of accessibility to radial highways\n",
      "        - TAX      full-value property-tax rate per $10,000\n",
      "        - PTRATIO  pupil-teacher ratio by town\n",
      "        - B        1000(Bk - 0.63)^2 where Bk is the proportion of blacks by town\n",
      "        - LSTAT    % lower status of the population\n",
      "        - MEDV     Median value of owner-occupied homes in $1000's\n",
      "\n",
      "    :Missing Attribute Values: None\n",
      "\n",
      "    :Creator: Harrison, D. and Rubinfeld, D.L.\n",
      "\n",
      "This is a copy of UCI ML housing dataset.\n",
      "https://archive.ics.uci.edu/ml/machine-learning-databases/housing/\n",
      "\n",
      "\n",
      "This dataset was taken from the StatLib library which is maintained at Carnegie Mellon University.\n",
      "\n",
      "The Boston house-price data of Harrison, D. and Rubinfeld, D.L. 'Hedonic\n",
      "prices and the demand for clean air', J. Environ. Economics & Management,\n",
      "vol.5, 81-102, 1978.   Used in Belsley, Kuh & Welsch, 'Regression diagnostics\n",
      "...', Wiley, 1980.   N.B. Various transformations are used in the table on\n",
      "pages 244-261 of the latter.\n",
      "\n",
      "The Boston house-price data has been used in many machine learning papers that address regression\n",
      "problems.   \n",
      "     \n",
      ".. topic:: References\n",
      "\n",
      "   - Belsley, Kuh & Welsch, 'Regression diagnostics: Identifying Influential Data and Sources of Collinearity', Wiley, 1980. 244-261.\n",
      "   - Quinlan,R. (1993). Combining Instance-Based and Model-Based Learning. In Proceedings on the Tenth International Conference of Machine Learning, 236-243, University of Massachusetts, Amherst. Morgan Kaufmann.\n",
      "\n"
     ]
    }
   ],
   "source": [
    "#about the dataset\n",
    "print(load_boston()[\"DESCR\"])"
   ]
  },
  {
   "cell_type": "code",
   "execution_count": 4,
   "metadata": {},
   "outputs": [],
   "source": [
    "boston = load_boston()"
   ]
  },
  {
   "cell_type": "code",
   "execution_count": 5,
   "metadata": {},
   "outputs": [
    {
     "data": {
      "text/html": [
       "<div>\n",
       "<style scoped>\n",
       "    .dataframe tbody tr th:only-of-type {\n",
       "        vertical-align: middle;\n",
       "    }\n",
       "\n",
       "    .dataframe tbody tr th {\n",
       "        vertical-align: top;\n",
       "    }\n",
       "\n",
       "    .dataframe thead th {\n",
       "        text-align: right;\n",
       "    }\n",
       "</style>\n",
       "<table border=\"1\" class=\"dataframe\">\n",
       "  <thead>\n",
       "    <tr style=\"text-align: right;\">\n",
       "      <th></th>\n",
       "      <th>CRIM</th>\n",
       "      <th>ZN</th>\n",
       "      <th>INDUS</th>\n",
       "      <th>CHAS</th>\n",
       "      <th>NOX</th>\n",
       "      <th>RM</th>\n",
       "      <th>AGE</th>\n",
       "      <th>DIS</th>\n",
       "      <th>RAD</th>\n",
       "      <th>TAX</th>\n",
       "      <th>PTRATIO</th>\n",
       "      <th>B</th>\n",
       "      <th>LSTAT</th>\n",
       "    </tr>\n",
       "  </thead>\n",
       "  <tbody>\n",
       "    <tr>\n",
       "      <th>0</th>\n",
       "      <td>0.00632</td>\n",
       "      <td>18.0</td>\n",
       "      <td>2.31</td>\n",
       "      <td>0.0</td>\n",
       "      <td>0.538</td>\n",
       "      <td>6.575</td>\n",
       "      <td>65.2</td>\n",
       "      <td>4.0900</td>\n",
       "      <td>1.0</td>\n",
       "      <td>296.0</td>\n",
       "      <td>15.3</td>\n",
       "      <td>396.90</td>\n",
       "      <td>4.98</td>\n",
       "    </tr>\n",
       "    <tr>\n",
       "      <th>1</th>\n",
       "      <td>0.02731</td>\n",
       "      <td>0.0</td>\n",
       "      <td>7.07</td>\n",
       "      <td>0.0</td>\n",
       "      <td>0.469</td>\n",
       "      <td>6.421</td>\n",
       "      <td>78.9</td>\n",
       "      <td>4.9671</td>\n",
       "      <td>2.0</td>\n",
       "      <td>242.0</td>\n",
       "      <td>17.8</td>\n",
       "      <td>396.90</td>\n",
       "      <td>9.14</td>\n",
       "    </tr>\n",
       "    <tr>\n",
       "      <th>2</th>\n",
       "      <td>0.02729</td>\n",
       "      <td>0.0</td>\n",
       "      <td>7.07</td>\n",
       "      <td>0.0</td>\n",
       "      <td>0.469</td>\n",
       "      <td>7.185</td>\n",
       "      <td>61.1</td>\n",
       "      <td>4.9671</td>\n",
       "      <td>2.0</td>\n",
       "      <td>242.0</td>\n",
       "      <td>17.8</td>\n",
       "      <td>392.83</td>\n",
       "      <td>4.03</td>\n",
       "    </tr>\n",
       "    <tr>\n",
       "      <th>3</th>\n",
       "      <td>0.03237</td>\n",
       "      <td>0.0</td>\n",
       "      <td>2.18</td>\n",
       "      <td>0.0</td>\n",
       "      <td>0.458</td>\n",
       "      <td>6.998</td>\n",
       "      <td>45.8</td>\n",
       "      <td>6.0622</td>\n",
       "      <td>3.0</td>\n",
       "      <td>222.0</td>\n",
       "      <td>18.7</td>\n",
       "      <td>394.63</td>\n",
       "      <td>2.94</td>\n",
       "    </tr>\n",
       "    <tr>\n",
       "      <th>4</th>\n",
       "      <td>0.06905</td>\n",
       "      <td>0.0</td>\n",
       "      <td>2.18</td>\n",
       "      <td>0.0</td>\n",
       "      <td>0.458</td>\n",
       "      <td>7.147</td>\n",
       "      <td>54.2</td>\n",
       "      <td>6.0622</td>\n",
       "      <td>3.0</td>\n",
       "      <td>222.0</td>\n",
       "      <td>18.7</td>\n",
       "      <td>396.90</td>\n",
       "      <td>5.33</td>\n",
       "    </tr>\n",
       "    <tr>\n",
       "      <th>...</th>\n",
       "      <td>...</td>\n",
       "      <td>...</td>\n",
       "      <td>...</td>\n",
       "      <td>...</td>\n",
       "      <td>...</td>\n",
       "      <td>...</td>\n",
       "      <td>...</td>\n",
       "      <td>...</td>\n",
       "      <td>...</td>\n",
       "      <td>...</td>\n",
       "      <td>...</td>\n",
       "      <td>...</td>\n",
       "      <td>...</td>\n",
       "    </tr>\n",
       "    <tr>\n",
       "      <th>501</th>\n",
       "      <td>0.06263</td>\n",
       "      <td>0.0</td>\n",
       "      <td>11.93</td>\n",
       "      <td>0.0</td>\n",
       "      <td>0.573</td>\n",
       "      <td>6.593</td>\n",
       "      <td>69.1</td>\n",
       "      <td>2.4786</td>\n",
       "      <td>1.0</td>\n",
       "      <td>273.0</td>\n",
       "      <td>21.0</td>\n",
       "      <td>391.99</td>\n",
       "      <td>9.67</td>\n",
       "    </tr>\n",
       "    <tr>\n",
       "      <th>502</th>\n",
       "      <td>0.04527</td>\n",
       "      <td>0.0</td>\n",
       "      <td>11.93</td>\n",
       "      <td>0.0</td>\n",
       "      <td>0.573</td>\n",
       "      <td>6.120</td>\n",
       "      <td>76.7</td>\n",
       "      <td>2.2875</td>\n",
       "      <td>1.0</td>\n",
       "      <td>273.0</td>\n",
       "      <td>21.0</td>\n",
       "      <td>396.90</td>\n",
       "      <td>9.08</td>\n",
       "    </tr>\n",
       "    <tr>\n",
       "      <th>503</th>\n",
       "      <td>0.06076</td>\n",
       "      <td>0.0</td>\n",
       "      <td>11.93</td>\n",
       "      <td>0.0</td>\n",
       "      <td>0.573</td>\n",
       "      <td>6.976</td>\n",
       "      <td>91.0</td>\n",
       "      <td>2.1675</td>\n",
       "      <td>1.0</td>\n",
       "      <td>273.0</td>\n",
       "      <td>21.0</td>\n",
       "      <td>396.90</td>\n",
       "      <td>5.64</td>\n",
       "    </tr>\n",
       "    <tr>\n",
       "      <th>504</th>\n",
       "      <td>0.10959</td>\n",
       "      <td>0.0</td>\n",
       "      <td>11.93</td>\n",
       "      <td>0.0</td>\n",
       "      <td>0.573</td>\n",
       "      <td>6.794</td>\n",
       "      <td>89.3</td>\n",
       "      <td>2.3889</td>\n",
       "      <td>1.0</td>\n",
       "      <td>273.0</td>\n",
       "      <td>21.0</td>\n",
       "      <td>393.45</td>\n",
       "      <td>6.48</td>\n",
       "    </tr>\n",
       "    <tr>\n",
       "      <th>505</th>\n",
       "      <td>0.04741</td>\n",
       "      <td>0.0</td>\n",
       "      <td>11.93</td>\n",
       "      <td>0.0</td>\n",
       "      <td>0.573</td>\n",
       "      <td>6.030</td>\n",
       "      <td>80.8</td>\n",
       "      <td>2.5050</td>\n",
       "      <td>1.0</td>\n",
       "      <td>273.0</td>\n",
       "      <td>21.0</td>\n",
       "      <td>396.90</td>\n",
       "      <td>7.88</td>\n",
       "    </tr>\n",
       "  </tbody>\n",
       "</table>\n",
       "<p>506 rows × 13 columns</p>\n",
       "</div>"
      ],
      "text/plain": [
       "        CRIM    ZN  INDUS  CHAS    NOX     RM   AGE     DIS  RAD    TAX  \\\n",
       "0    0.00632  18.0   2.31   0.0  0.538  6.575  65.2  4.0900  1.0  296.0   \n",
       "1    0.02731   0.0   7.07   0.0  0.469  6.421  78.9  4.9671  2.0  242.0   \n",
       "2    0.02729   0.0   7.07   0.0  0.469  7.185  61.1  4.9671  2.0  242.0   \n",
       "3    0.03237   0.0   2.18   0.0  0.458  6.998  45.8  6.0622  3.0  222.0   \n",
       "4    0.06905   0.0   2.18   0.0  0.458  7.147  54.2  6.0622  3.0  222.0   \n",
       "..       ...   ...    ...   ...    ...    ...   ...     ...  ...    ...   \n",
       "501  0.06263   0.0  11.93   0.0  0.573  6.593  69.1  2.4786  1.0  273.0   \n",
       "502  0.04527   0.0  11.93   0.0  0.573  6.120  76.7  2.2875  1.0  273.0   \n",
       "503  0.06076   0.0  11.93   0.0  0.573  6.976  91.0  2.1675  1.0  273.0   \n",
       "504  0.10959   0.0  11.93   0.0  0.573  6.794  89.3  2.3889  1.0  273.0   \n",
       "505  0.04741   0.0  11.93   0.0  0.573  6.030  80.8  2.5050  1.0  273.0   \n",
       "\n",
       "     PTRATIO       B  LSTAT  \n",
       "0       15.3  396.90   4.98  \n",
       "1       17.8  396.90   9.14  \n",
       "2       17.8  392.83   4.03  \n",
       "3       18.7  394.63   2.94  \n",
       "4       18.7  396.90   5.33  \n",
       "..       ...     ...    ...  \n",
       "501     21.0  391.99   9.67  \n",
       "502     21.0  396.90   9.08  \n",
       "503     21.0  396.90   5.64  \n",
       "504     21.0  393.45   6.48  \n",
       "505     21.0  396.90   7.88  \n",
       "\n",
       "[506 rows x 13 columns]"
      ]
     },
     "execution_count": 5,
     "metadata": {},
     "output_type": "execute_result"
    }
   ],
   "source": [
    "boston_df = pd.DataFrame(boston.data, columns=boston.feature_names)\n",
    "boston_df"
   ]
  },
  {
   "cell_type": "markdown",
   "metadata": {},
   "source": [
    "### Why is it important to identify the outliers?\n",
    "\n",
    "Machine learning algorithms are sensitive to the range and distribution of attribute values. Data outliers can spoil and mislead the training process resulting in longer training times, less accurate models and ultimately poorer results. But not all algorithms are sensitive to outliers. It depends on the mathematics followed by the model.\n",
    "\n",
    "\n",
    "#### Examples of some machine learning models\n",
    "\n",
    "1. Naivye Bayes Classifier --------------- Not Sensitive To Outliers\n",
    "2. SVM ----------------------------------- Not Sensitive To Outliers          \n",
    "3. Linear Regression --------------------- Sensitive To Outliers\n",
    "4. Logistic Regression ------------------- Sensitive To Outliers\n",
    "5. Decision Tree Regressor or Classifier - Not Sensitive To Outliers\n",
    "6. Ensemble(RF,XGboost,GB) --------------- Not Sensitive To Outliers\n",
    "7. KNN ----------------------------------- Not Sensitive To Outliers (for larger values of K)\n",
    "8. Kmeans -------------------------------- Sensitive To Outliers\n",
    "9. Hierarichal --------------------------- Sensitive To Outliers\n",
    "10. PCA ----------------------------------- Sensitive To Outliers\n",
    "11. Neural Networks ----------------------- Sensitive To Outliers\n"
   ]
  },
  {
   "cell_type": "markdown",
   "metadata": {},
   "source": [
    "### Detecting Outliers:"
   ]
  },
  {
   "cell_type": "markdown",
   "metadata": {},
   "source": [
    "We will use this function later in the notebook to print out values of outliers."
   ]
  },
  {
   "cell_type": "code",
   "execution_count": 6,
   "metadata": {},
   "outputs": [],
   "source": [
    "def outliers(df, variable, ub, lb):\n",
    "    print(\"\\nOutliers Detected:\")\n",
    "    outlier = df.loc[(df[variable] > ub) | (df[variable] < lb), variable].sort_values()\n",
    "    print(outlier)\n",
    "    print(\"\\nTotal number of ourliers detected:\", len(outlier))"
   ]
  },
  {
   "cell_type": "markdown",
   "metadata": {},
   "source": [
    "#### A. When variable is Gaussian Distributed:"
   ]
  },
  {
   "cell_type": "markdown",
   "metadata": {},
   "source": [
    "Note that RM: Average number of rooms per dwelling appears normally distributed. Also, it cannot have negative value. "
   ]
  },
  {
   "cell_type": "code",
   "execution_count": 7,
   "metadata": {},
   "outputs": [
    {
     "data": {
      "text/plain": [
       "<matplotlib.axes._subplots.AxesSubplot at 0x1ca433ff760>"
      ]
     },
     "execution_count": 7,
     "metadata": {},
     "output_type": "execute_result"
    },
    {
     "data": {
      "image/png": "[encoded data removed]",
      "text/plain": [
       "<Figure size 432x288 with 1 Axes>"
      ]
     },
     "metadata": {
      "needs_background": "light"
     },
     "output_type": "display_data"
    }
   ],
   "source": [
    "sns.distplot(boston_df.RM)"
   ]
  },
  {
   "cell_type": "code",
   "execution_count": 8,
   "metadata": {},
   "outputs": [
    {
     "data": {
      "text/plain": [
       "count    506.000000\n",
       "mean       6.284634\n",
       "std        0.702617\n",
       "min        3.561000\n",
       "25%        5.885500\n",
       "50%        6.208500\n",
       "75%        6.623500\n",
       "max        8.780000\n",
       "Name: RM, dtype: float64"
      ]
     },
     "execution_count": 8,
     "metadata": {},
     "output_type": "execute_result"
    }
   ],
   "source": [
    "boston_df.RM.describe()"
   ]
  },
  {
   "cell_type": "markdown",
   "metadata": {},
   "source": [
    "Note that difference between 75% amd max is comparable with 25% and min, it helps us to infer that data is not significantly skewed in any direction."
   ]
  },
  {
   "cell_type": "markdown",
   "metadata": {},
   "source": [
    "##### 1. Mean +/-  n Standard Deviation Method"
   ]
  },
  {
   "cell_type": "code",
   "execution_count": 9,
   "metadata": {},
   "outputs": [
    {
     "name": "stdout",
     "output_type": "stream",
     "text": [
      "Lower Boundary: 4.176782957105816\n",
      "Upper Boundary: 8.392485817597757\n"
     ]
    }
   ],
   "source": [
    "# Assuming RM follows a Gaussian Distribution we can calculate the boundaries which differentiates the outliers as follows\n",
    "\n",
    "upper_boundary = boston_df.RM.mean() + 3*boston_df.RM.std() #we have taken n=3\n",
    "lower_boundary = boston_df.RM.mean() - 3*boston_df.RM.std()\n",
    "\n",
    "print(\"Lower Boundary:\", lower_boundary)\n",
    "print(\"Upper Boundary:\", upper_boundary)"
   ]
  },
  {
   "cell_type": "code",
   "execution_count": 10,
   "metadata": {},
   "outputs": [
    {
     "name": "stdout",
     "output_type": "stream",
     "text": [
      "\n",
      "Outliers Detected:\n",
      "365    3.561\n",
      "367    3.863\n",
      "374    4.138\n",
      "406    4.138\n",
      "262    8.398\n",
      "257    8.704\n",
      "225    8.725\n",
      "364    8.780\n",
      "Name: RM, dtype: float64\n",
      "\n",
      "Total number of ourliers detected: 8\n"
     ]
    }
   ],
   "source": [
    "# print out the outliers\n",
    "outliers(boston_df, \"RM\", upper_boundary, lower_boundary)"
   ]
  },
  {
   "cell_type": "markdown",
   "metadata": {},
   "source": [
    "##### 2. IQR Method"
   ]
  },
  {
   "cell_type": "code",
   "execution_count": 11,
   "metadata": {},
   "outputs": [],
   "source": [
    "# compute the Interquantile range to calculate the boundaries\n",
    "IQR = boston_df.RM.quantile(0.75) - boston_df.RM.quantile(0.25)"
   ]
  },
  {
   "cell_type": "code",
   "execution_count": 12,
   "metadata": {},
   "outputs": [
    {
     "name": "stdout",
     "output_type": "stream",
     "text": [
      "Lower Boundary: 4.778500000000001\n",
      "Upper Boundary: 7.730499999999999\n"
     ]
    }
   ],
   "source": [
    "lower_boundary = boston_df.RM.quantile(0.25) - (IQR*1.5) #for normally distributed data, we multiply IQR with 1.5\n",
    "upper_boundary = boston_df.RM.quantile(0.75) + (IQR*1.5)\n",
    "\n",
    "print(\"Lower Boundary:\", lower_boundary)\n",
    "print(\"Upper Boundary:\", upper_boundary)"
   ]
  },
  {
   "cell_type": "code",
   "execution_count": 13,
   "metadata": {
    "scrolled": true
   },
   "outputs": [
    {
     "name": "stdout",
     "output_type": "stream",
     "text": [
      "\n",
      "Outliers Detected:\n",
      "365    3.561\n",
      "367    3.863\n",
      "406    4.138\n",
      "374    4.138\n",
      "384    4.368\n",
      "414    4.519\n",
      "412    4.628\n",
      "386    4.652\n",
      "180    7.765\n",
      "162    7.802\n",
      "280    7.820\n",
      "98     7.820\n",
      "186    7.831\n",
      "203    7.853\n",
      "195    7.875\n",
      "283    7.923\n",
      "166    7.929\n",
      "204    8.034\n",
      "226    8.040\n",
      "97     8.069\n",
      "233    8.247\n",
      "253    8.259\n",
      "224    8.266\n",
      "267    8.297\n",
      "232    8.337\n",
      "163    8.375\n",
      "262    8.398\n",
      "257    8.704\n",
      "225    8.725\n",
      "364    8.780\n",
      "Name: RM, dtype: float64\n",
      "\n",
      "Total number of ourliers detected: 30\n"
     ]
    }
   ],
   "source": [
    "# print out the outliers\n",
    "outliers(boston_df, \"RM\", upper_boundary, lower_boundary)"
   ]
  },
  {
   "cell_type": "code",
   "execution_count": 14,
   "metadata": {},
   "outputs": [
    {
     "data": {
      "text/plain": [
       "<matplotlib.axes._subplots.AxesSubplot at 0x1ca43ba9a60>"
      ]
     },
     "execution_count": 14,
     "metadata": {},
     "output_type": "execute_result"
    },
    {
     "data": {
      "image/png": "[encoded data removed]",
      "text/plain": [
       "<Figure size 432x288 with 1 Axes>"
      ]
     },
     "metadata": {
      "needs_background": "light"
     },
     "output_type": "display_data"
    }
   ],
   "source": [
    "# we can verify the boundaries in boxplot below\n",
    "sns.boxplot(boston_df.RM)"
   ]
  },
  {
   "cell_type": "markdown",
   "metadata": {},
   "source": [
    "##### 3. MAD method"
   ]
  },
  {
   "cell_type": "code",
   "execution_count": 15,
   "metadata": {},
   "outputs": [
    {
     "data": {
      "text/plain": [
       "0      0.3665\n",
       "1      0.2125\n",
       "2      0.9765\n",
       "3      0.7895\n",
       "4      0.9385\n",
       "        ...  \n",
       "501    0.3845\n",
       "502    0.0885\n",
       "503    0.7675\n",
       "504    0.5855\n",
       "505    0.1785\n",
       "Name: RM, Length: 506, dtype: float64"
      ]
     },
     "execution_count": 15,
     "metadata": {},
     "output_type": "execute_result"
    }
   ],
   "source": [
    "# compute the difference between the series and its median\n",
    "diff_RM = abs(boston_df.RM - boston_df.RM.median())\n",
    "diff_RM"
   ]
  },
  {
   "cell_type": "code",
   "execution_count": 16,
   "metadata": {},
   "outputs": [
    {
     "name": "stdout",
     "output_type": "stream",
     "text": [
      "Lower Boundary: 4.671785100000001\n",
      "Upper Boundary: 7.745214899999999\n"
     ]
    }
   ],
   "source": [
    "# Assuming RM follows a Gaussian Distribution we can calculate the boundaries which differentiates the outliers as follows\n",
    "\n",
    "b = 1.4826 # for normally distributed data to calculate MAD we take b=1.4826\n",
    "MAD = b * diff_RM.median()\n",
    "\n",
    "upper_boundary = boston_df.RM.median() + 3*MAD\n",
    "lower_boundary = boston_df.RM.median() - 3*MAD\n",
    "\n",
    "print(\"Lower Boundary:\", lower_boundary)\n",
    "print(\"Upper Boundary:\", upper_boundary)"
   ]
  },
  {
   "cell_type": "code",
   "execution_count": 17,
   "metadata": {
    "scrolled": true
   },
   "outputs": [
    {
     "name": "stdout",
     "output_type": "stream",
     "text": [
      "\n",
      "Outliers Detected:\n",
      "365    3.561\n",
      "367    3.863\n",
      "406    4.138\n",
      "374    4.138\n",
      "384    4.368\n",
      "414    4.519\n",
      "412    4.628\n",
      "386    4.652\n",
      "180    7.765\n",
      "162    7.802\n",
      "280    7.820\n",
      "98     7.820\n",
      "186    7.831\n",
      "203    7.853\n",
      "195    7.875\n",
      "283    7.923\n",
      "166    7.929\n",
      "204    8.034\n",
      "226    8.040\n",
      "97     8.069\n",
      "233    8.247\n",
      "253    8.259\n",
      "224    8.266\n",
      "267    8.297\n",
      "232    8.337\n",
      "163    8.375\n",
      "262    8.398\n",
      "257    8.704\n",
      "225    8.725\n",
      "364    8.780\n",
      "Name: RM, dtype: float64\n",
      "\n",
      "Total number of ourliers detected: 30\n"
     ]
    }
   ],
   "source": [
    "# print out the outliers\n",
    "outliers(boston_df, \"RM\", upper_boundary, lower_boundary)"
   ]
  },
  {
   "cell_type": "markdown",
   "metadata": {},
   "source": [
    "##### 4. Two-stage Thresholding (2T)"
   ]
  },
  {
   "cell_type": "markdown",
   "metadata": {},
   "source": [
    "###### 4.1. 2T with SD"
   ]
  },
  {
   "cell_type": "code",
   "execution_count": 18,
   "metadata": {},
   "outputs": [
    {
     "name": "stdout",
     "output_type": "stream",
     "text": [
      "Lower Boundary: 4.176782957105816\n",
      "Upper Boundary: 8.392485817597757\n"
     ]
    }
   ],
   "source": [
    "# Assuming RM follows a Gaussian Distribution we can calculate the boundaries which differentiates the outliers as follows\n",
    "\n",
    "upper_boundary = boston_df.RM.mean() + 3*boston_df.RM.std()\n",
    "lower_boundary = boston_df.RM.mean() - 3*boston_df.RM.std()\n",
    "\n",
    "print(\"Lower Boundary:\", lower_boundary)\n",
    "print(\"Upper Boundary:\", upper_boundary)"
   ]
  },
  {
   "cell_type": "code",
   "execution_count": 19,
   "metadata": {},
   "outputs": [
    {
     "data": {
      "text/plain": [
       "498"
      ]
     },
     "execution_count": 19,
     "metadata": {},
     "output_type": "execute_result"
    }
   ],
   "source": [
    "# data points after removing the outliers\n",
    "boston_df_2T = boston_df.loc[(boston_df[\"RM\"] <= upper_boundary) & (boston_df[\"RM\"] >= lower_boundary), :].copy()\n",
    "len(boston_df_2T)"
   ]
  },
  {
   "cell_type": "code",
   "execution_count": 20,
   "metadata": {},
   "outputs": [
    {
     "name": "stdout",
     "output_type": "stream",
     "text": [
      "Lower Boundary: 4.361124850449117\n",
      "Upper Boundary: 8.20802374392841\n",
      "\n",
      "We will determine the outliers using this new boundary with original dataframe\n",
      "\n",
      "Outliers Detected:\n",
      "365    3.561\n",
      "367    3.863\n",
      "374    4.138\n",
      "406    4.138\n",
      "233    8.247\n",
      "253    8.259\n",
      "224    8.266\n",
      "267    8.297\n",
      "232    8.337\n",
      "163    8.375\n",
      "262    8.398\n",
      "257    8.704\n",
      "225    8.725\n",
      "364    8.780\n",
      "Name: RM, dtype: float64\n",
      "\n",
      "Total number of ourliers detected: 14\n"
     ]
    }
   ],
   "source": [
    "# Assuming RM follows a Gaussian Distribution we can calculate the boundaries which differentiates the outliers as follows\n",
    "\n",
    "upper_boundary_2T = boston_df_2T.RM.mean() + 3*boston_df_2T.RM.std()\n",
    "lower_boundary_2T = boston_df_2T.RM.mean() - 3*boston_df_2T.RM.std()\n",
    "\n",
    "print(\"Lower Boundary:\", lower_boundary_2T)\n",
    "print(\"Upper Boundary:\", upper_boundary_2T)\n",
    "\n",
    "# print out the outliers\n",
    "print(\"\\nWe will determine the outliers using this new boundary with original dataframe\")\n",
    "outliers(boston_df, \"RM\", upper_boundary_2T, lower_boundary_2T)"
   ]
  },
  {
   "cell_type": "markdown",
   "metadata": {},
   "source": [
    "###### 4.2. 2T with IQR"
   ]
  },
  {
   "cell_type": "code",
   "execution_count": 21,
   "metadata": {},
   "outputs": [
    {
     "name": "stdout",
     "output_type": "stream",
     "text": [
      "Lower Boundary: 4.778500000000001\n",
      "Upper Boundary: 7.730499999999999\n"
     ]
    }
   ],
   "source": [
    "# compute the Interquantile range to calculate the boundaries\n",
    "IQR = boston_df.RM.quantile(0.75) - boston_df.RM.quantile(0.25)\n",
    "\n",
    "lower_boundary = boston_df.RM.quantile(0.25) - (IQR*1.5) #for normally distributed data, we multiply IQR with 1.5\n",
    "upper_boundary = boston_df.RM.quantile(0.75) + (IQR*1.5)\n",
    "\n",
    "print(\"Lower Boundary:\", lower_boundary)\n",
    "print(\"Upper Boundary:\", upper_boundary)"
   ]
  },
  {
   "cell_type": "code",
   "execution_count": 22,
   "metadata": {},
   "outputs": [
    {
     "data": {
      "text/plain": [
       "476"
      ]
     },
     "execution_count": 22,
     "metadata": {},
     "output_type": "execute_result"
    }
   ],
   "source": [
    "# data points after removing the outliers\n",
    "boston_df_2T = boston_df.loc[(boston_df[\"RM\"] <= upper_boundary) & (boston_df[\"RM\"] >= lower_boundary), :].copy()\n",
    "len(boston_df_2T)"
   ]
  },
  {
   "cell_type": "code",
   "execution_count": 23,
   "metadata": {
    "scrolled": true
   },
   "outputs": [
    {
     "name": "stdout",
     "output_type": "stream",
     "text": [
      "Lower Boundary: 4.778500000000001\n",
      "Upper Boundary: 7.730499999999999\n",
      "\n",
      "We will determine the outliers using this new boundary with original dataframe\n",
      "\n",
      "Outliers Detected:\n",
      "365    3.561\n",
      "367    3.863\n",
      "406    4.138\n",
      "374    4.138\n",
      "384    4.368\n",
      "414    4.519\n",
      "412    4.628\n",
      "386    4.652\n",
      "388    4.880\n",
      "202    7.610\n",
      "282    7.645\n",
      "228    7.686\n",
      "273    7.691\n",
      "180    7.765\n",
      "162    7.802\n",
      "280    7.820\n",
      "98     7.820\n",
      "186    7.831\n",
      "203    7.853\n",
      "195    7.875\n",
      "283    7.923\n",
      "166    7.929\n",
      "204    8.034\n",
      "226    8.040\n",
      "97     8.069\n",
      "233    8.247\n",
      "253    8.259\n",
      "224    8.266\n",
      "267    8.297\n",
      "232    8.337\n",
      "163    8.375\n",
      "262    8.398\n",
      "257    8.704\n",
      "225    8.725\n",
      "364    8.780\n",
      "Name: RM, dtype: float64\n",
      "\n",
      "Total number of ourliers detected: 35\n"
     ]
    }
   ],
   "source": [
    "# compute the Interquantile range to calculate the boundaries\n",
    "IQR_2T = boston_df_2T.RM.quantile(0.75) - boston_df_2T.RM.quantile(0.25)\n",
    "\n",
    "lower_boundary_2T = boston_df_2T.RM.quantile(0.25) - (IQR_2T*1.5)\n",
    "upper_boundary_2T = boston_df_2T.RM.quantile(0.75) + (IQR_2T*1.5)\n",
    "\n",
    "print(\"Lower Boundary:\", lower_boundary)\n",
    "print(\"Upper Boundary:\", upper_boundary)\n",
    "\n",
    "# print out the outliers\n",
    "print(\"\\nWe will determine the outliers using this new boundary with original dataframe\")\n",
    "outliers(boston_df, \"RM\", upper_boundary_2T, lower_boundary_2T)"
   ]
  },
  {
   "cell_type": "markdown",
   "metadata": {},
   "source": [
    "###### 4.3. 2T with MAD"
   ]
  },
  {
   "cell_type": "code",
   "execution_count": 24,
   "metadata": {},
   "outputs": [
    {
     "name": "stdout",
     "output_type": "stream",
     "text": [
      "Lower Boundary: 4.671785100000001\n",
      "Upper Boundary: 7.745214899999999\n"
     ]
    }
   ],
   "source": [
    "# compute the difference between the series and its median\n",
    "diff_RM = abs(boston_df.RM - boston_df.RM.median())\n",
    "\n",
    "# Assuming RM follows a Gaussian Distribution we can calculate the boundaries which differentiates the outliers as follows\n",
    "\n",
    "b = 1.4826 # for normally distributed data to calculate MAD we take b=1.4826\n",
    "MAD = b * diff_RM.median()\n",
    "\n",
    "upper_boundary = boston_df.RM.median() + 3*MAD\n",
    "lower_boundary = boston_df.RM.median() - 3*MAD\n",
    "\n",
    "print(\"Lower Boundary:\", lower_boundary)\n",
    "print(\"Upper Boundary:\", upper_boundary)"
   ]
  },
  {
   "cell_type": "code",
   "execution_count": 25,
   "metadata": {},
   "outputs": [
    {
     "data": {
      "text/plain": [
       "476"
      ]
     },
     "execution_count": 25,
     "metadata": {},
     "output_type": "execute_result"
    }
   ],
   "source": [
    "# data points after removing the outliers\n",
    "boston_df_2T = boston_df.loc[(boston_df[\"RM\"] <= upper_boundary) & (boston_df[\"RM\"] >= lower_boundary), :].copy()\n",
    "len(boston_df_2T)"
   ]
  },
  {
   "cell_type": "code",
   "execution_count": 26,
   "metadata": {},
   "outputs": [
    {
     "name": "stdout",
     "output_type": "stream",
     "text": [
      "Lower Boundary: 4.795786399999999\n",
      "Upper Boundary: 7.571213600000002\n",
      "\n",
      "We will determine the outliers using this new boundary with original dataframe\n",
      "\n",
      "Outliers Detected:\n",
      "365    3.561\n",
      "367    3.863\n",
      "406    4.138\n",
      "374    4.138\n",
      "384    4.368\n",
      "414    4.519\n",
      "412    4.628\n",
      "386    4.652\n",
      "202    7.610\n",
      "282    7.645\n",
      "228    7.686\n",
      "273    7.691\n",
      "180    7.765\n",
      "162    7.802\n",
      "98     7.820\n",
      "280    7.820\n",
      "186    7.831\n",
      "203    7.853\n",
      "195    7.875\n",
      "283    7.923\n",
      "166    7.929\n",
      "204    8.034\n",
      "226    8.040\n",
      "97     8.069\n",
      "233    8.247\n",
      "253    8.259\n",
      "224    8.266\n",
      "267    8.297\n",
      "232    8.337\n",
      "163    8.375\n",
      "262    8.398\n",
      "257    8.704\n",
      "225    8.725\n",
      "364    8.780\n",
      "Name: RM, dtype: float64\n",
      "\n",
      "Total number of ourliers detected: 34\n"
     ]
    }
   ],
   "source": [
    "# compute the difference between the series and its median\n",
    "diff_RM_2T = abs(boston_df_2T.RM - boston_df_2T.RM.median())\n",
    "\n",
    "# Assuming RM follows a Gaussian Distribution we can calculate the boundaries which differentiates the outliers as follows\n",
    "\n",
    "b_2T = 1.4826 # for normally distributed data to calculate MAD we take b=1.4826\n",
    "MAD_2T = b_2T * diff_RM_2T.median()\n",
    "\n",
    "upper_boundary_2T = boston_df_2T.RM.median() + 3*MAD_2T\n",
    "lower_boundary_2T = boston_df_2T.RM.median() - 3*MAD_2T\n",
    "\n",
    "print(\"Lower Boundary:\", lower_boundary_2T)\n",
    "print(\"Upper Boundary:\", upper_boundary_2T)\n",
    "\n",
    "# print out the outliers\n",
    "print(\"\\nWe will determine the outliers using this new boundary with original dataframe\")\n",
    "outliers(boston_df, \"RM\", upper_boundary_2T, lower_boundary_2T)"
   ]
  },
  {
   "cell_type": "markdown",
   "metadata": {},
   "source": [
    "##### 5. Clever Standard Deviation "
   ]
  },
  {
   "cell_type": "code",
   "execution_count": 27,
   "metadata": {},
   "outputs": [
    {
     "name": "stdout",
     "output_type": "stream",
     "text": [
      "Process broke at value: 4.88\n",
      "\n",
      "Outliers Detected:\n",
      "\n",
      "[3.561, 8.78, 3.863, 8.725, 4.138, 8.704, 4.138, 8.398, 4.368, 8.375, 4.519, 8.337, 4.628, 8.297, 4.652, 8.266]\n",
      "\n",
      "Total number of ourliers detected: 16\n"
     ]
    }
   ],
   "source": [
    "boston_df_csd = boston_df.copy()\n",
    "outliers_csd = list()\n",
    "\n",
    "# the following code will add the two extreme elements of series to the list of outliers without any computation\n",
    "outliers_csd.append(boston_df.RM[boston_df.RM.sort_values().index[0]])\n",
    "outliers_csd.append(boston_df.RM[boston_df.RM.sort_values().index[-1]])\n",
    "\n",
    "# the code below will point out to every outlier based on clever S.D. except the two extremes\n",
    "# we have already added them to outlier list without any computation\n",
    "for k in range(0,len(boston_df)):\n",
    "    # this part will check from the lower extreme for outliers\n",
    "    boston_df_csd = boston_df_csd[boston_df_csd.RM.index != boston_df_csd.RM.sort_values().index[0]]\n",
    "    cv = boston_df_csd.RM.var()\n",
    "    cm = boston_df_csd.RM.mean()\n",
    "    if abs(cm-boston_df.RM[boston_df_csd.RM.sort_values().index[0]]) > 2.5*np.sqrt(cv):\n",
    "        outliers_csd.append(boston_df.RM[boston_df_csd.RM.sort_values().index[0]])\n",
    "    else:\n",
    "        print(\"Process broke at value:\", boston_df.RM[boston_df_csd.RM.sort_values().index[0]])\n",
    "        break\n",
    "    \n",
    "    # this part will check from the upper extreme for outliers\n",
    "    boston_df_csd = boston_df_csd[boston_df_csd.RM.index != boston_df_csd.RM.sort_values().index[-1]]\n",
    "    cv = boston_df_csd.RM.var()\n",
    "    cm = boston_df_csd.RM.mean()\n",
    "    if abs(cm-boston_df.RM[boston_df_csd.RM.sort_values().index[-1]]) > 2.5*np.sqrt(cv):\n",
    "        outliers_csd.append(boston_df.RM[boston_df_csd.RM.sort_values().index[-1]])\n",
    "    else:\n",
    "        print(\"Process broke at value:\", boston_df.RM[boston_df_csd.RM.sort_values().index[-1]])\n",
    "        break\n",
    "\n",
    "print(\"\\nOutliers Detected:\\n\")        \n",
    "print(outliers_csd)\n",
    "print(\"\\nTotal number of ourliers detected:\", len(outliers_csd))"
   ]
  },
  {
   "cell_type": "markdown",
   "metadata": {},
   "source": [
    "#### B. When variable is not Gaussian Distributed:"
   ]
  },
  {
   "cell_type": "markdown",
   "metadata": {},
   "source": [
    "Note that CRIM: per capita crime rate by town is right skewed. Also, it cannot have negative value. "
   ]
  },
  {
   "cell_type": "code",
   "execution_count": 28,
   "metadata": {},
   "outputs": [
    {
     "data": {
      "text/plain": [
       "<matplotlib.axes._subplots.AxesSubplot at 0x1ca43c89310>"
      ]
     },
     "execution_count": 28,
     "metadata": {},
     "output_type": "execute_result"
    },
    {
     "data": {
      "image/png": "[encoded data removed]",
      "text/plain": [
       "<Figure size 432x288 with 1 Axes>"
      ]
     },
     "metadata": {
      "needs_background": "light"
     },
     "output_type": "display_data"
    }
   ],
   "source": [
    "sns.distplot(boston_df.CRIM)"
   ]
  },
  {
   "cell_type": "code",
   "execution_count": 29,
   "metadata": {},
   "outputs": [
    {
     "data": {
      "text/plain": [
       "count    506.000000\n",
       "mean       3.613524\n",
       "std        8.601545\n",
       "min        0.006320\n",
       "25%        0.082045\n",
       "50%        0.256510\n",
       "75%        3.677083\n",
       "max       88.976200\n",
       "Name: CRIM, dtype: float64"
      ]
     },
     "execution_count": 29,
     "metadata": {},
     "output_type": "execute_result"
    }
   ],
   "source": [
    "boston_df.CRIM.describe()"
   ]
  },
  {
   "cell_type": "markdown",
   "metadata": {},
   "source": [
    "Note that difference between 75% and max is very big compared to 25% and min, it helps us to infer that data is right skewed."
   ]
  },
  {
   "cell_type": "markdown",
   "metadata": {},
   "source": [
    "##### 1. IQR method"
   ]
  },
  {
   "cell_type": "code",
   "execution_count": 30,
   "metadata": {},
   "outputs": [],
   "source": [
    "# compute the Interquantile range to calculate the boundaries\n",
    "IQR = boston_df.CRIM.quantile(0.75) - boston_df.CRIM.quantile(0.25)"
   ]
  },
  {
   "cell_type": "code",
   "execution_count": 31,
   "metadata": {},
   "outputs": [
    {
     "name": "stdout",
     "output_type": "stream",
     "text": [
      "Lower Boundary: -10.7030675\n",
      "Upper Boundary: 14.462195000000001\n"
     ]
    }
   ],
   "source": [
    "# Extreme outliers\n",
    "lower_boundary = boston_df.CRIM.quantile(0.25)-(IQR*3) #for skewed data, we multiply IQR with 3\n",
    "upper_boundary = boston_df.CRIM.quantile(0.75)+(IQR*3)\n",
    "\n",
    "print(\"Lower Boundary:\", lower_boundary)\n",
    "print(\"Upper Boundary:\", upper_boundary)"
   ]
  },
  {
   "cell_type": "code",
   "execution_count": 32,
   "metadata": {},
   "outputs": [
    {
     "name": "stdout",
     "output_type": "stream",
     "text": [
      "\n",
      "Outliers Detected:\n",
      "477    15.0234\n",
      "437    15.1772\n",
      "376    15.2880\n",
      "468    15.5757\n",
      "425    15.8603\n",
      "381    15.8744\n",
      "385    16.8118\n",
      "379    17.8667\n",
      "415    18.0846\n",
      "374    18.4982\n",
      "412    18.8110\n",
      "375    19.6091\n",
      "384    20.0849\n",
      "406    20.7162\n",
      "440    22.0511\n",
      "387    22.5971\n",
      "378    23.6482\n",
      "386    24.3938\n",
      "403    24.8017\n",
      "400    25.0461\n",
      "417    25.9406\n",
      "413    28.6558\n",
      "427    37.6619\n",
      "398    38.3518\n",
      "404    41.5292\n",
      "414    45.7461\n",
      "410    51.1358\n",
      "405    67.9208\n",
      "418    73.5341\n",
      "380    88.9762\n",
      "Name: CRIM, dtype: float64\n",
      "\n",
      "Total number of ourliers detected: 30\n"
     ]
    }
   ],
   "source": [
    "# print out the outliers\n",
    "outliers(boston_df, \"CRIM\", upper_boundary, lower_boundary)"
   ]
  },
  {
   "cell_type": "code",
   "execution_count": 33,
   "metadata": {},
   "outputs": [
    {
     "data": {
      "text/plain": [
       "<matplotlib.axes._subplots.AxesSubplot at 0x1ca43b22ee0>"
      ]
     },
     "execution_count": 33,
     "metadata": {},
     "output_type": "execute_result"
    },
    {
     "data": {
      "image/png": "[encoded data removed]",
      "text/plain": [
       "<Figure size 432x288 with 1 Axes>"
      ]
     },
     "metadata": {
      "needs_background": "light"
     },
     "output_type": "display_data"
    }
   ],
   "source": [
    "sns.boxplot(boston_df.CRIM, whis=3)"
   ]
  },
  {
   "cell_type": "markdown",
   "metadata": {},
   "source": [
    "##### 2. MAD method"
   ]
  },
  {
   "cell_type": "code",
   "execution_count": 34,
   "metadata": {},
   "outputs": [
    {
     "data": {
      "text/plain": [
       "0      0.25019\n",
       "1      0.22920\n",
       "2      0.22922\n",
       "3      0.22414\n",
       "4      0.18746\n",
       "        ...   \n",
       "501    0.19388\n",
       "502    0.21124\n",
       "503    0.19575\n",
       "504    0.14692\n",
       "505    0.20910\n",
       "Name: CRIM, Length: 506, dtype: float64"
      ]
     },
     "execution_count": 34,
     "metadata": {},
     "output_type": "execute_result"
    }
   ],
   "source": [
    "# compute the difference between the series and its median\n",
    "diff_CRIM = abs(boston_df.CRIM - boston_df.CRIM.median())\n",
    "diff_CRIM"
   ]
  },
  {
   "cell_type": "code",
   "execution_count": 35,
   "metadata": {},
   "outputs": [
    {
     "name": "stdout",
     "output_type": "stream",
     "text": [
      "Lower Boundary: 0.07583687123555155\n",
      "Upper Boundary: 0.4371831287644485\n"
     ]
    }
   ],
   "source": [
    "# Assuming CRIM does not follow Gaussian Distribution we can calculate the boundaries which differentiates the outliers as follows\n",
    "b = 1/boston_df.CRIM.quantile(0.75) # for skewed data to calculate MAD we take b=1/Q(0.75)\n",
    "MAD = b * diff_CRIM.median()\n",
    "\n",
    "upper_boundary = boston_df.CRIM.median() + 3*MAD\n",
    "lower_boundary = boston_df.CRIM.median() - 3*MAD\n",
    "\n",
    "print(\"Lower Boundary:\", lower_boundary)\n",
    "print(\"Upper Boundary:\", upper_boundary)"
   ]
  },
  {
   "cell_type": "code",
   "execution_count": 36,
   "metadata": {},
   "outputs": [
    {
     "name": "stdout",
     "output_type": "stream",
     "text": [
      "\n",
      "Outliers Detected:\n",
      "0       0.00632\n",
      "284     0.00906\n",
      "285     0.01096\n",
      "341     0.01301\n",
      "55      0.01311\n",
      "         ...   \n",
      "414    45.74610\n",
      "410    51.13580\n",
      "405    67.92080\n",
      "418    73.53410\n",
      "380    88.97620\n",
      "Name: CRIM, Length: 336, dtype: float64\n",
      "\n",
      "Total number of ourliers detected: 336\n"
     ]
    }
   ],
   "source": [
    "# print out the outliers\n",
    "outliers(boston_df, \"CRIM\", upper_boundary, lower_boundary)"
   ]
  },
  {
   "cell_type": "markdown",
   "metadata": {},
   "source": [
    "##### 3. Two-stage Thresholding (2T)"
   ]
  },
  {
   "cell_type": "markdown",
   "metadata": {},
   "source": [
    "###### 3.1. 2T with IQR"
   ]
  },
  {
   "cell_type": "code",
   "execution_count": 37,
   "metadata": {
    "scrolled": true
   },
   "outputs": [
    {
     "name": "stdout",
     "output_type": "stream",
     "text": [
      "Lower Boundary: -5.8235325\n",
      "Upper Boundary: 7.946289999999999\n",
      "\n",
      "We will determine the outliers using this new boundary with original dataframe\n",
      "\n",
      "Outliers Detected:\n",
      "383     7.99248\n",
      "474     8.05579\n",
      "389     8.15174\n",
      "457     8.20058\n",
      "453     8.24809\n",
      "         ...   \n",
      "414    45.74610\n",
      "410    51.13580\n",
      "405    67.92080\n",
      "418    73.53410\n",
      "380    88.97620\n",
      "Name: CRIM, Length: 77, dtype: float64\n",
      "\n",
      "Total number of ourliers detected: 77\n"
     ]
    }
   ],
   "source": [
    "# compute the Interquantile range to calculate the boundaries\n",
    "IQR = boston_df.CRIM.quantile(0.75) - boston_df.CRIM.quantile(0.25)\n",
    "\n",
    "lower_boundary = boston_df.CRIM.quantile(0.25) - (IQR*3) #for skewed data, we multiply IQR with 3\n",
    "upper_boundary = boston_df.CRIM.quantile(0.75) + (IQR*3)\n",
    "\n",
    "# data points after removing the outliers\n",
    "boston_df_2T = boston_df.loc[(boston_df[\"CRIM\"] <= upper_boundary) & (boston_df[\"CRIM\"] >= lower_boundary), :].copy()\n",
    "\n",
    "# compute the Interquantile range to calculate the boundaries\n",
    "IQR_2T = boston_df_2T.CRIM.quantile(0.75) - boston_df_2T.CRIM.quantile(0.25)\n",
    "\n",
    "lower_boundary_2T = boston_df_2T.CRIM.quantile(0.25) - (IQR_2T*3) #for skewed data, we multiply IQR with 3\n",
    "upper_boundary_2T = boston_df_2T.CRIM.quantile(0.75) + (IQR_2T*3)\n",
    "\n",
    "print(\"Lower Boundary:\", lower_boundary_2T)\n",
    "print(\"Upper Boundary:\", upper_boundary_2T)\n",
    "\n",
    "# print out the outliers\n",
    "print(\"\\nWe will determine the outliers using this new boundary with original dataframe\")\n",
    "outliers(boston_df, \"CRIM\", upper_boundary_2T, lower_boundary_2T)"
   ]
  },
  {
   "cell_type": "markdown",
   "metadata": {},
   "source": [
    "###### 3.2 2T with MAD"
   ]
  },
  {
   "cell_type": "code",
   "execution_count": 38,
   "metadata": {},
   "outputs": [
    {
     "name": "stdout",
     "output_type": "stream",
     "text": [
      "Lower Boundary: 6.28807\n",
      "Upper Boundary: 6.28807\n",
      "\n",
      "We will determine the outliers using this new boundary with original dataframe\n",
      "\n",
      "Outliers Detected:\n",
      "0       0.00632\n",
      "284     0.00906\n",
      "285     0.01096\n",
      "341     0.01301\n",
      "55      0.01311\n",
      "         ...   \n",
      "414    45.74610\n",
      "410    51.13580\n",
      "405    67.92080\n",
      "418    73.53410\n",
      "380    88.97620\n",
      "Name: CRIM, Length: 505, dtype: float64\n",
      "\n",
      "Total number of ourliers detected: 505\n"
     ]
    }
   ],
   "source": [
    "# compute the difference between the series and its median\n",
    "diff_CRIM = abs(boston_df.CRIM - boston_df.CRIM.median())\n",
    "\n",
    "# Assuming RM follows a Gaussian Distribution we can calculate the boundaries which differentiates the outliers as follows\n",
    "b = 1/boston_df.CRIM.quantile(0.75) # for skewed data to calculate MAD we take b=1/Q(0.75)\n",
    "MAD = b * diff_CRIM.median()\n",
    "\n",
    "upper_boundary = boston_df.RM.median() + 3*MAD\n",
    "lower_boundary = boston_df.RM.median() - 3*MAD\n",
    "\n",
    "# data points after removing the outliers\n",
    "boston_df_2T = boston_df.loc[(boston_df[\"CRIM\"] <= upper_boundary) & (boston_df[\"CRIM\"] >= lower_boundary), :].copy()\n",
    "\n",
    "# compute the difference between the series and its median\n",
    "diff_CRIM_2T = abs(boston_df_2T.CRIM - boston_df_2T.CRIM.median())\n",
    "\n",
    "# Assuming RM follows a Gaussian Distribution we can calculate the boundaries which differentiates the outliers as follows\n",
    "b_2T = 1/boston_df_2T.CRIM.quantile(0.75) # for skewed data to calculate MAD we take b=1/Q(0.75)\n",
    "MAD_2T = b_2T * diff_CRIM_2T.median()\n",
    "\n",
    "upper_boundary_2T = boston_df_2T.CRIM.median() + 3*MAD_2T\n",
    "lower_boundary_2T = boston_df_2T.CRIM.median() - 3*MAD_2T\n",
    "\n",
    "print(\"Lower Boundary:\", lower_boundary_2T)\n",
    "print(\"Upper Boundary:\", upper_boundary_2T)\n",
    "\n",
    "# print out the outliers\n",
    "print(\"\\nWe will determine the outliers using this new boundary with original dataframe\")\n",
    "outliers(boston_df, \"CRIM\", upper_boundary_2T, lower_boundary_2T)"
   ]
  },
  {
   "cell_type": "markdown",
   "metadata": {},
   "source": [
    "### What should we do with outliers?\n",
    "\n",
    "The best way to guard against outliers is your Domain knowledge and experience with outliers.\n",
    "\n",
    "Here are few tips.\n",
    "\n",
    "- Drop the outlier records\n",
    "\n",
    "Sometimes it’s best to completely remove those records from your dataset to stop them from skewing your analysis, specially if we have a large dataset.\n",
    "\n",
    "- Cap your outliers’ data\n",
    "\n",
    "Another way to handle true outliers is to cap them. For example, if you’re using income, you might find that people above a certain income level behave in the same way as those with a lower income. In this case, you can cap the income value at a level that keeps that intact.\n",
    "\n",
    "- Assign a new value\n",
    "\n",
    "If an outlier seems to be due to a mistake in your data, try imputing a new value. Common imputation methods include using the mean of a variable or utilizing a regression model to predict the missing value."
   ]
  },
  {
   "cell_type": "code",
   "execution_count": 39,
   "metadata": {},
   "outputs": [
    {
     "data": {
      "text/html": [
       "<div>\n",
       "<style scoped>\n",
       "    .dataframe tbody tr th:only-of-type {\n",
       "        vertical-align: middle;\n",
       "    }\n",
       "\n",
       "    .dataframe tbody tr th {\n",
       "        vertical-align: top;\n",
       "    }\n",
       "\n",
       "    .dataframe thead th {\n",
       "        text-align: right;\n",
       "    }\n",
       "</style>\n",
       "<table border=\"1\" class=\"dataframe\">\n",
       "  <thead>\n",
       "    <tr style=\"text-align: right;\">\n",
       "      <th></th>\n",
       "      <th>CRIM</th>\n",
       "      <th>ZN</th>\n",
       "      <th>INDUS</th>\n",
       "      <th>CHAS</th>\n",
       "      <th>NOX</th>\n",
       "      <th>RM</th>\n",
       "      <th>AGE</th>\n",
       "      <th>DIS</th>\n",
       "      <th>RAD</th>\n",
       "      <th>TAX</th>\n",
       "      <th>PTRATIO</th>\n",
       "      <th>B</th>\n",
       "      <th>LSTAT</th>\n",
       "    </tr>\n",
       "  </thead>\n",
       "  <tbody>\n",
       "    <tr>\n",
       "      <th>0</th>\n",
       "      <td>0.00632</td>\n",
       "      <td>18.0</td>\n",
       "      <td>2.31</td>\n",
       "      <td>0.0</td>\n",
       "      <td>0.538</td>\n",
       "      <td>6.575</td>\n",
       "      <td>65.2</td>\n",
       "      <td>4.0900</td>\n",
       "      <td>1.0</td>\n",
       "      <td>296.0</td>\n",
       "      <td>15.3</td>\n",
       "      <td>396.90</td>\n",
       "      <td>4.98</td>\n",
       "    </tr>\n",
       "    <tr>\n",
       "      <th>1</th>\n",
       "      <td>0.02731</td>\n",
       "      <td>0.0</td>\n",
       "      <td>7.07</td>\n",
       "      <td>0.0</td>\n",
       "      <td>0.469</td>\n",
       "      <td>6.421</td>\n",
       "      <td>78.9</td>\n",
       "      <td>4.9671</td>\n",
       "      <td>2.0</td>\n",
       "      <td>242.0</td>\n",
       "      <td>17.8</td>\n",
       "      <td>396.90</td>\n",
       "      <td>9.14</td>\n",
       "    </tr>\n",
       "    <tr>\n",
       "      <th>2</th>\n",
       "      <td>0.02729</td>\n",
       "      <td>0.0</td>\n",
       "      <td>7.07</td>\n",
       "      <td>0.0</td>\n",
       "      <td>0.469</td>\n",
       "      <td>7.185</td>\n",
       "      <td>61.1</td>\n",
       "      <td>4.9671</td>\n",
       "      <td>2.0</td>\n",
       "      <td>242.0</td>\n",
       "      <td>17.8</td>\n",
       "      <td>392.83</td>\n",
       "      <td>4.03</td>\n",
       "    </tr>\n",
       "    <tr>\n",
       "      <th>3</th>\n",
       "      <td>0.03237</td>\n",
       "      <td>0.0</td>\n",
       "      <td>2.18</td>\n",
       "      <td>0.0</td>\n",
       "      <td>0.458</td>\n",
       "      <td>6.998</td>\n",
       "      <td>45.8</td>\n",
       "      <td>6.0622</td>\n",
       "      <td>3.0</td>\n",
       "      <td>222.0</td>\n",
       "      <td>18.7</td>\n",
       "      <td>394.63</td>\n",
       "      <td>2.94</td>\n",
       "    </tr>\n",
       "    <tr>\n",
       "      <th>4</th>\n",
       "      <td>0.06905</td>\n",
       "      <td>0.0</td>\n",
       "      <td>2.18</td>\n",
       "      <td>0.0</td>\n",
       "      <td>0.458</td>\n",
       "      <td>7.147</td>\n",
       "      <td>54.2</td>\n",
       "      <td>6.0622</td>\n",
       "      <td>3.0</td>\n",
       "      <td>222.0</td>\n",
       "      <td>18.7</td>\n",
       "      <td>396.90</td>\n",
       "      <td>5.33</td>\n",
       "    </tr>\n",
       "  </tbody>\n",
       "</table>\n",
       "</div>"
      ],
      "text/plain": [
       "      CRIM    ZN  INDUS  CHAS    NOX     RM   AGE     DIS  RAD    TAX  \\\n",
       "0  0.00632  18.0   2.31   0.0  0.538  6.575  65.2  4.0900  1.0  296.0   \n",
       "1  0.02731   0.0   7.07   0.0  0.469  6.421  78.9  4.9671  2.0  242.0   \n",
       "2  0.02729   0.0   7.07   0.0  0.469  7.185  61.1  4.9671  2.0  242.0   \n",
       "3  0.03237   0.0   2.18   0.0  0.458  6.998  45.8  6.0622  3.0  222.0   \n",
       "4  0.06905   0.0   2.18   0.0  0.458  7.147  54.2  6.0622  3.0  222.0   \n",
       "\n",
       "   PTRATIO       B  LSTAT  \n",
       "0     15.3  396.90   4.98  \n",
       "1     17.8  396.90   9.14  \n",
       "2     17.8  392.83   4.03  \n",
       "3     18.7  394.63   2.94  \n",
       "4     18.7  396.90   5.33  "
      ]
     },
     "execution_count": 39,
     "metadata": {},
     "output_type": "execute_result"
    }
   ],
   "source": [
    "df = boston_df.copy()\n",
    "df.head()"
   ]
  },
  {
   "cell_type": "markdown",
   "metadata": {},
   "source": [
    "For RM:Average number of rooms per dwelling:"
   ]
  },
  {
   "cell_type": "code",
   "execution_count": 40,
   "metadata": {},
   "outputs": [],
   "source": [
    "df.loc[df[\"RM\"] >= 8, \"RM\"] = 8\n",
    "df.loc[df[\"RM\"] <= 4, \"RM\"] = 4"
   ]
  },
  {
   "cell_type": "code",
   "execution_count": 41,
   "metadata": {},
   "outputs": [
    {
     "data": {
      "text/plain": [
       "count    506.000000\n",
       "mean       6.276818\n",
       "std        0.672733\n",
       "min        4.000000\n",
       "25%        5.885500\n",
       "50%        6.208500\n",
       "75%        6.623500\n",
       "max        8.000000\n",
       "Name: RM, dtype: float64"
      ]
     },
     "execution_count": 41,
     "metadata": {},
     "output_type": "execute_result"
    }
   ],
   "source": [
    "df[\"RM\"].describe()"
   ]
  },
  {
   "cell_type": "code",
   "execution_count": 42,
   "metadata": {},
   "outputs": [
    {
     "data": {
      "text/plain": [
       "<matplotlib.axes._subplots.AxesSubplot at 0x1ca3e366a00>"
      ]
     },
     "execution_count": 42,
     "metadata": {},
     "output_type": "execute_result"
    },
    {
     "data": {
      "image/png": "[encoded data removed]",
      "text/plain": [
       "<Figure size 432x288 with 1 Axes>"
      ]
     },
     "metadata": {
      "needs_background": "light"
     },
     "output_type": "display_data"
    }
   ],
   "source": [
    "sns.distplot(df.RM)"
   ]
  },
  {
   "cell_type": "markdown",
   "metadata": {},
   "source": [
    "For CRIM:per capita crime rate by town:"
   ]
  },
  {
   "cell_type": "code",
   "execution_count": 43,
   "metadata": {},
   "outputs": [],
   "source": [
    "df.loc[df[\"CRIM\"] >= 15, \"CRIM\"] = 15"
   ]
  },
  {
   "cell_type": "code",
   "execution_count": 44,
   "metadata": {},
   "outputs": [
    {
     "data": {
      "text/plain": [
       "count    506.000000\n",
       "mean       2.753303\n",
       "std        4.551163\n",
       "min        0.006320\n",
       "25%        0.082045\n",
       "50%        0.256510\n",
       "75%        3.677083\n",
       "max       15.000000\n",
       "Name: CRIM, dtype: float64"
      ]
     },
     "execution_count": 44,
     "metadata": {},
     "output_type": "execute_result"
    }
   ],
   "source": [
    "df[\"CRIM\"].describe()"
   ]
  },
  {
   "cell_type": "code",
   "execution_count": 45,
   "metadata": {
    "scrolled": true
   },
   "outputs": [
    {
     "data": {
      "text/plain": [
       "<matplotlib.axes._subplots.AxesSubplot at 0x1ca43e36760>"
      ]
     },
     "execution_count": 45,
     "metadata": {},
     "output_type": "execute_result"
    },
    {
     "data": {
      "image/png": "[encoded data removed]",
      "text/plain": [
       "<Figure size 432x288 with 1 Axes>"
      ]
     },
     "metadata": {
      "needs_background": "light"
     },
     "output_type": "display_data"
    }
   ],
   "source": [
    "sns.distplot(df.CRIM)"
   ]
  }
 ],
 "metadata": {
  "kernelspec": {
   "display_name": "Python 3",
   "language": "python",
   "name": "python3"
  },
  "language_info": {
   "codemirror_mode": {
    "name": "ipython",
    "version": 3
   },
   "file_extension": ".py",
   "mimetype": "text/x-python",
   "name": "python",
   "nbconvert_exporter": "python",
   "pygments_lexer": "ipython3",
   "version": "3.8.3"
  }
 },
 "nbformat": 4,
 "nbformat_minor": 4
}
