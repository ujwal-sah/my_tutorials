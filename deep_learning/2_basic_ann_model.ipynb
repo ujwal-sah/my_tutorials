{
 "cells": [
  {
   "cell_type": "markdown",
   "metadata": {},
   "source": [
    "## A Typical Tensorflow-Keras based ANN model"
   ]
  },
  {
   "cell_type": "markdown",
   "metadata": {},
   "source": [
    "### Part 1 : Data Handling"
   ]
  },
  {
   "cell_type": "code",
   "execution_count": 1,
   "metadata": {},
   "outputs": [],
   "source": [
    "#imports for handling and visualizing data \n",
    "import numpy as np\n",
    "import matplotlib.pyplot as plt\n",
    "import pandas as pd"
   ]
  },
  {
   "cell_type": "markdown",
   "metadata": {},
   "source": [
    "We will use customer churn data which was taken from Kaggle for learning purpose."
   ]
  },
  {
   "cell_type": "code",
   "execution_count": 2,
   "metadata": {},
   "outputs": [
    {
     "data": {
      "text/html": [
       "<div>\n",
       "<style scoped>\n",
       "    .dataframe tbody tr th:only-of-type {\n",
       "        vertical-align: middle;\n",
       "    }\n",
       "\n",
       "    .dataframe tbody tr th {\n",
       "        vertical-align: top;\n",
       "    }\n",
       "\n",
       "    .dataframe thead th {\n",
       "        text-align: right;\n",
       "    }\n",
       "</style>\n",
       "<table border=\"1\" class=\"dataframe\">\n",
       "  <thead>\n",
       "    <tr style=\"text-align: right;\">\n",
       "      <th></th>\n",
       "      <th>RowNumber</th>\n",
       "      <th>CustomerId</th>\n",
       "      <th>Surname</th>\n",
       "      <th>CreditScore</th>\n",
       "      <th>Geography</th>\n",
       "      <th>Gender</th>\n",
       "      <th>Age</th>\n",
       "      <th>Tenure</th>\n",
       "      <th>Balance</th>\n",
       "      <th>NumOfProducts</th>\n",
       "      <th>HasCrCard</th>\n",
       "      <th>IsActiveMember</th>\n",
       "      <th>EstimatedSalary</th>\n",
       "      <th>Exited</th>\n",
       "    </tr>\n",
       "  </thead>\n",
       "  <tbody>\n",
       "    <tr>\n",
       "      <th>0</th>\n",
       "      <td>1</td>\n",
       "      <td>15634602</td>\n",
       "      <td>Hargrave</td>\n",
       "      <td>619</td>\n",
       "      <td>France</td>\n",
       "      <td>Female</td>\n",
       "      <td>42</td>\n",
       "      <td>2</td>\n",
       "      <td>0.00</td>\n",
       "      <td>1</td>\n",
       "      <td>1</td>\n",
       "      <td>1</td>\n",
       "      <td>101348.88</td>\n",
       "      <td>1</td>\n",
       "    </tr>\n",
       "    <tr>\n",
       "      <th>1</th>\n",
       "      <td>2</td>\n",
       "      <td>15647311</td>\n",
       "      <td>Hill</td>\n",
       "      <td>608</td>\n",
       "      <td>Spain</td>\n",
       "      <td>Female</td>\n",
       "      <td>41</td>\n",
       "      <td>1</td>\n",
       "      <td>83807.86</td>\n",
       "      <td>1</td>\n",
       "      <td>0</td>\n",
       "      <td>1</td>\n",
       "      <td>112542.58</td>\n",
       "      <td>0</td>\n",
       "    </tr>\n",
       "    <tr>\n",
       "      <th>2</th>\n",
       "      <td>3</td>\n",
       "      <td>15619304</td>\n",
       "      <td>Onio</td>\n",
       "      <td>502</td>\n",
       "      <td>France</td>\n",
       "      <td>Female</td>\n",
       "      <td>42</td>\n",
       "      <td>8</td>\n",
       "      <td>159660.80</td>\n",
       "      <td>3</td>\n",
       "      <td>1</td>\n",
       "      <td>0</td>\n",
       "      <td>113931.57</td>\n",
       "      <td>1</td>\n",
       "    </tr>\n",
       "    <tr>\n",
       "      <th>3</th>\n",
       "      <td>4</td>\n",
       "      <td>15701354</td>\n",
       "      <td>Boni</td>\n",
       "      <td>699</td>\n",
       "      <td>France</td>\n",
       "      <td>Female</td>\n",
       "      <td>39</td>\n",
       "      <td>1</td>\n",
       "      <td>0.00</td>\n",
       "      <td>2</td>\n",
       "      <td>0</td>\n",
       "      <td>0</td>\n",
       "      <td>93826.63</td>\n",
       "      <td>0</td>\n",
       "    </tr>\n",
       "    <tr>\n",
       "      <th>4</th>\n",
       "      <td>5</td>\n",
       "      <td>15737888</td>\n",
       "      <td>Mitchell</td>\n",
       "      <td>850</td>\n",
       "      <td>Spain</td>\n",
       "      <td>Female</td>\n",
       "      <td>43</td>\n",
       "      <td>2</td>\n",
       "      <td>125510.82</td>\n",
       "      <td>1</td>\n",
       "      <td>1</td>\n",
       "      <td>1</td>\n",
       "      <td>79084.10</td>\n",
       "      <td>0</td>\n",
       "    </tr>\n",
       "  </tbody>\n",
       "</table>\n",
       "</div>"
      ],
      "text/plain": [
       "   RowNumber  CustomerId   Surname  CreditScore Geography  Gender  Age  \\\n",
       "0          1    15634602  Hargrave          619    France  Female   42   \n",
       "1          2    15647311      Hill          608     Spain  Female   41   \n",
       "2          3    15619304      Onio          502    France  Female   42   \n",
       "3          4    15701354      Boni          699    France  Female   39   \n",
       "4          5    15737888  Mitchell          850     Spain  Female   43   \n",
       "\n",
       "   Tenure    Balance  NumOfProducts  HasCrCard  IsActiveMember  \\\n",
       "0       2       0.00              1          1               1   \n",
       "1       1   83807.86              1          0               1   \n",
       "2       8  159660.80              3          1               0   \n",
       "3       1       0.00              2          0               0   \n",
       "4       2  125510.82              1          1               1   \n",
       "\n",
       "   EstimatedSalary  Exited  \n",
       "0        101348.88       1  \n",
       "1        112542.58       0  \n",
       "2        113931.57       1  \n",
       "3         93826.63       0  \n",
       "4         79084.10       0  "
      ]
     },
     "execution_count": 2,
     "metadata": {},
     "output_type": "execute_result"
    }
   ],
   "source": [
    "dataset = pd.read_csv(\"https://raw.githubusercontent.com/krishnaik06/Complete-Deep-Learning/master/ANN/Churn_Modelling.csv\")\n",
    "dataset.head()"
   ]
  },
  {
   "cell_type": "code",
   "execution_count": 3,
   "metadata": {},
   "outputs": [
    {
     "data": {
      "text/plain": [
       "(10000, 14)"
      ]
     },
     "execution_count": 3,
     "metadata": {},
     "output_type": "execute_result"
    }
   ],
   "source": [
    "dataset.shape"
   ]
  },
  {
   "cell_type": "markdown",
   "metadata": {},
   "source": [
    "The dataset has 13 features out of which \"Exited\" column is the dependent feature and the rest are independent features"
   ]
  },
  {
   "cell_type": "markdown",
   "metadata": {},
   "source": [
    "Columns \"RowNumber\", \"CustomerId\" and \"Surname\" are not related to churn behaviour and thus we will exclude them from our independent features for training."
   ]
  },
  {
   "cell_type": "code",
   "execution_count": 4,
   "metadata": {},
   "outputs": [],
   "source": [
    "X = dataset.iloc[:, 3:-1]\n",
    "y = dataset.iloc[:, -1]"
   ]
  },
  {
   "cell_type": "code",
   "execution_count": 5,
   "metadata": {},
   "outputs": [
    {
     "name": "stdout",
     "output_type": "stream",
     "text": [
      "(10000, 10)\n",
      "(10000,)\n"
     ]
    }
   ],
   "source": [
    "print(X.shape)\n",
    "print(y.shape)"
   ]
  },
  {
   "cell_type": "code",
   "execution_count": 6,
   "metadata": {},
   "outputs": [
    {
     "data": {
      "text/html": [
       "<div>\n",
       "<style scoped>\n",
       "    .dataframe tbody tr th:only-of-type {\n",
       "        vertical-align: middle;\n",
       "    }\n",
       "\n",
       "    .dataframe tbody tr th {\n",
       "        vertical-align: top;\n",
       "    }\n",
       "\n",
       "    .dataframe thead th {\n",
       "        text-align: right;\n",
       "    }\n",
       "</style>\n",
       "<table border=\"1\" class=\"dataframe\">\n",
       "  <thead>\n",
       "    <tr style=\"text-align: right;\">\n",
       "      <th></th>\n",
       "      <th>CreditScore</th>\n",
       "      <th>Geography</th>\n",
       "      <th>Gender</th>\n",
       "      <th>Age</th>\n",
       "      <th>Tenure</th>\n",
       "      <th>Balance</th>\n",
       "      <th>NumOfProducts</th>\n",
       "      <th>HasCrCard</th>\n",
       "      <th>IsActiveMember</th>\n",
       "      <th>EstimatedSalary</th>\n",
       "    </tr>\n",
       "  </thead>\n",
       "  <tbody>\n",
       "    <tr>\n",
       "      <th>0</th>\n",
       "      <td>619</td>\n",
       "      <td>France</td>\n",
       "      <td>Female</td>\n",
       "      <td>42</td>\n",
       "      <td>2</td>\n",
       "      <td>0.00</td>\n",
       "      <td>1</td>\n",
       "      <td>1</td>\n",
       "      <td>1</td>\n",
       "      <td>101348.88</td>\n",
       "    </tr>\n",
       "    <tr>\n",
       "      <th>1</th>\n",
       "      <td>608</td>\n",
       "      <td>Spain</td>\n",
       "      <td>Female</td>\n",
       "      <td>41</td>\n",
       "      <td>1</td>\n",
       "      <td>83807.86</td>\n",
       "      <td>1</td>\n",
       "      <td>0</td>\n",
       "      <td>1</td>\n",
       "      <td>112542.58</td>\n",
       "    </tr>\n",
       "    <tr>\n",
       "      <th>2</th>\n",
       "      <td>502</td>\n",
       "      <td>France</td>\n",
       "      <td>Female</td>\n",
       "      <td>42</td>\n",
       "      <td>8</td>\n",
       "      <td>159660.80</td>\n",
       "      <td>3</td>\n",
       "      <td>1</td>\n",
       "      <td>0</td>\n",
       "      <td>113931.57</td>\n",
       "    </tr>\n",
       "    <tr>\n",
       "      <th>3</th>\n",
       "      <td>699</td>\n",
       "      <td>France</td>\n",
       "      <td>Female</td>\n",
       "      <td>39</td>\n",
       "      <td>1</td>\n",
       "      <td>0.00</td>\n",
       "      <td>2</td>\n",
       "      <td>0</td>\n",
       "      <td>0</td>\n",
       "      <td>93826.63</td>\n",
       "    </tr>\n",
       "    <tr>\n",
       "      <th>4</th>\n",
       "      <td>850</td>\n",
       "      <td>Spain</td>\n",
       "      <td>Female</td>\n",
       "      <td>43</td>\n",
       "      <td>2</td>\n",
       "      <td>125510.82</td>\n",
       "      <td>1</td>\n",
       "      <td>1</td>\n",
       "      <td>1</td>\n",
       "      <td>79084.10</td>\n",
       "    </tr>\n",
       "  </tbody>\n",
       "</table>\n",
       "</div>"
      ],
      "text/plain": [
       "   CreditScore Geography  Gender  Age  Tenure    Balance  NumOfProducts  \\\n",
       "0          619    France  Female   42       2       0.00              1   \n",
       "1          608     Spain  Female   41       1   83807.86              1   \n",
       "2          502    France  Female   42       8  159660.80              3   \n",
       "3          699    France  Female   39       1       0.00              2   \n",
       "4          850     Spain  Female   43       2  125510.82              1   \n",
       "\n",
       "   HasCrCard  IsActiveMember  EstimatedSalary  \n",
       "0          1               1        101348.88  \n",
       "1          0               1        112542.58  \n",
       "2          1               0        113931.57  \n",
       "3          0               0         93826.63  \n",
       "4          1               1         79084.10  "
      ]
     },
     "execution_count": 6,
     "metadata": {},
     "output_type": "execute_result"
    }
   ],
   "source": [
    "X.head()"
   ]
  },
  {
   "cell_type": "markdown",
   "metadata": {},
   "source": [
    "Geography and Gender are nominal categorical features here. We will use one hot encoding to encode them."
   ]
  },
  {
   "cell_type": "code",
   "execution_count": 7,
   "metadata": {},
   "outputs": [
    {
     "data": {
      "text/html": [
       "<div>\n",
       "<style scoped>\n",
       "    .dataframe tbody tr th:only-of-type {\n",
       "        vertical-align: middle;\n",
       "    }\n",
       "\n",
       "    .dataframe tbody tr th {\n",
       "        vertical-align: top;\n",
       "    }\n",
       "\n",
       "    .dataframe thead th {\n",
       "        text-align: right;\n",
       "    }\n",
       "</style>\n",
       "<table border=\"1\" class=\"dataframe\">\n",
       "  <thead>\n",
       "    <tr style=\"text-align: right;\">\n",
       "      <th></th>\n",
       "      <th>CreditScore</th>\n",
       "      <th>Age</th>\n",
       "      <th>Tenure</th>\n",
       "      <th>Balance</th>\n",
       "      <th>NumOfProducts</th>\n",
       "      <th>HasCrCard</th>\n",
       "      <th>IsActiveMember</th>\n",
       "      <th>EstimatedSalary</th>\n",
       "      <th>Geography_Germany</th>\n",
       "      <th>Geography_Spain</th>\n",
       "      <th>Gender_Male</th>\n",
       "    </tr>\n",
       "  </thead>\n",
       "  <tbody>\n",
       "    <tr>\n",
       "      <th>0</th>\n",
       "      <td>619</td>\n",
       "      <td>42</td>\n",
       "      <td>2</td>\n",
       "      <td>0.00</td>\n",
       "      <td>1</td>\n",
       "      <td>1</td>\n",
       "      <td>1</td>\n",
       "      <td>101348.88</td>\n",
       "      <td>0</td>\n",
       "      <td>0</td>\n",
       "      <td>0</td>\n",
       "    </tr>\n",
       "    <tr>\n",
       "      <th>1</th>\n",
       "      <td>608</td>\n",
       "      <td>41</td>\n",
       "      <td>1</td>\n",
       "      <td>83807.86</td>\n",
       "      <td>1</td>\n",
       "      <td>0</td>\n",
       "      <td>1</td>\n",
       "      <td>112542.58</td>\n",
       "      <td>0</td>\n",
       "      <td>1</td>\n",
       "      <td>0</td>\n",
       "    </tr>\n",
       "    <tr>\n",
       "      <th>2</th>\n",
       "      <td>502</td>\n",
       "      <td>42</td>\n",
       "      <td>8</td>\n",
       "      <td>159660.80</td>\n",
       "      <td>3</td>\n",
       "      <td>1</td>\n",
       "      <td>0</td>\n",
       "      <td>113931.57</td>\n",
       "      <td>0</td>\n",
       "      <td>0</td>\n",
       "      <td>0</td>\n",
       "    </tr>\n",
       "    <tr>\n",
       "      <th>3</th>\n",
       "      <td>699</td>\n",
       "      <td>39</td>\n",
       "      <td>1</td>\n",
       "      <td>0.00</td>\n",
       "      <td>2</td>\n",
       "      <td>0</td>\n",
       "      <td>0</td>\n",
       "      <td>93826.63</td>\n",
       "      <td>0</td>\n",
       "      <td>0</td>\n",
       "      <td>0</td>\n",
       "    </tr>\n",
       "    <tr>\n",
       "      <th>4</th>\n",
       "      <td>850</td>\n",
       "      <td>43</td>\n",
       "      <td>2</td>\n",
       "      <td>125510.82</td>\n",
       "      <td>1</td>\n",
       "      <td>1</td>\n",
       "      <td>1</td>\n",
       "      <td>79084.10</td>\n",
       "      <td>0</td>\n",
       "      <td>1</td>\n",
       "      <td>0</td>\n",
       "    </tr>\n",
       "  </tbody>\n",
       "</table>\n",
       "</div>"
      ],
      "text/plain": [
       "   CreditScore  Age  Tenure    Balance  NumOfProducts  HasCrCard  \\\n",
       "0          619   42       2       0.00              1          1   \n",
       "1          608   41       1   83807.86              1          0   \n",
       "2          502   42       8  159660.80              3          1   \n",
       "3          699   39       1       0.00              2          0   \n",
       "4          850   43       2  125510.82              1          1   \n",
       "\n",
       "   IsActiveMember  EstimatedSalary  Geography_Germany  Geography_Spain  \\\n",
       "0               1        101348.88                  0                0   \n",
       "1               1        112542.58                  0                1   \n",
       "2               0        113931.57                  0                0   \n",
       "3               0         93826.63                  0                0   \n",
       "4               1         79084.10                  0                1   \n",
       "\n",
       "   Gender_Male  \n",
       "0            0  \n",
       "1            0  \n",
       "2            0  \n",
       "3            0  \n",
       "4            0  "
      ]
     },
     "execution_count": 7,
     "metadata": {},
     "output_type": "execute_result"
    }
   ],
   "source": [
    "X = pd.get_dummies(X, columns=[\"Geography\", \"Gender\"], drop_first=True)\n",
    "X.head()"
   ]
  },
  {
   "cell_type": "markdown",
   "metadata": {},
   "source": [
    "We will split the data in training and testing set with the help of train_test_split."
   ]
  },
  {
   "cell_type": "code",
   "execution_count": 8,
   "metadata": {},
   "outputs": [],
   "source": [
    "from sklearn.model_selection import train_test_split"
   ]
  },
  {
   "cell_type": "markdown",
   "metadata": {},
   "source": [
    "We will use 30 percent of data as test data."
   ]
  },
  {
   "cell_type": "code",
   "execution_count": 9,
   "metadata": {},
   "outputs": [],
   "source": [
    "X_train, X_test, y_train, y_test = train_test_split(X, y, test_size=0.3, random_state=0)"
   ]
  },
  {
   "cell_type": "markdown",
   "metadata": {},
   "source": [
    "We need to scale our data before training our model as it will improve convergence speed. We will use standard scaler."
   ]
  },
  {
   "cell_type": "code",
   "execution_count": 10,
   "metadata": {},
   "outputs": [],
   "source": [
    "#import\n",
    "from sklearn.preprocessing import StandardScaler\n",
    "#instansiate\n",
    "sc = StandardScaler()"
   ]
  },
  {
   "cell_type": "code",
   "execution_count": 11,
   "metadata": {},
   "outputs": [],
   "source": [
    "#fit_transform\n",
    "X_train = sc.fit_transform(X_train)\n",
    "X_test = sc.fit_transform(X_test)"
   ]
  },
  {
   "cell_type": "markdown",
   "metadata": {},
   "source": [
    "### Part 2 : Building a Simple ANN model"
   ]
  },
  {
   "cell_type": "markdown",
   "metadata": {},
   "source": [
    "We will use keras to build our ANN model. The code will follow syntax for tensorflow version greator than 2.0."
   ]
  },
  {
   "cell_type": "code",
   "execution_count": 12,
   "metadata": {},
   "outputs": [],
   "source": [
    "from tensorflow.keras.models import Sequential\n",
    "from tensorflow.keras.layers import Dense, Dropout"
   ]
  },
  {
   "cell_type": "markdown",
   "metadata": {},
   "source": [
    "Like traditional machine learning models (logistic regression, KNN), deep learning models built with keras have a defined structure. The instantiate step for a deep learning model is longer than models like KNN. It includes defining the model and compiling the model."
   ]
  },
  {
   "cell_type": "code",
   "execution_count": 13,
   "metadata": {},
   "outputs": [],
   "source": [
    "#A simple ANN\n",
    "\n",
    "#instantiate\n",
    "#i.define model\n",
    "model = Sequential()\n",
    "\n",
    "#first hidden layer and visible layer\n",
    "#note that we generally use \"he_uniform\" and \"he_normal\" as weight initialization for \"relu\" activation\n",
    "#units specifies the number of neurons in the layer\n",
    "#input_dim is the number of independent features we are providing the layer\n",
    "#input_dim is only required for first layer\n",
    "model.add(Dense(units=6, kernel_initializer=\"he_uniform\",\n",
    "                activation=\"relu\", input_dim=11))\n",
    "#second hidden layer\n",
    "model.add(Dense(units=3, kernel_initializer=\"he_uniform\",\n",
    "                activation=\"relu\"))\n",
    "#output layer\n",
    "model.add(Dense(units=1, kernel_initializer=\"glorot_uniform\",\n",
    "                     activation=\"sigmoid\"))\n",
    "\n",
    "#ii.compile the model\n",
    "#we have to define the optimizer, loss function and evaluating metric while compiling the model\n",
    "#since our output is 0 and 1 we will use \"binary_cossentopy\"\n",
    "model.compile(optimizer=\"adam\", loss=\"binary_crossentropy\",\n",
    "                   metrics=[\"accuracy\"])"
   ]
  },
  {
   "cell_type": "markdown",
   "metadata": {},
   "source": [
    "Using summary method, we can veiw a summary of our model."
   ]
  },
  {
   "cell_type": "code",
   "execution_count": 14,
   "metadata": {
    "scrolled": true
   },
   "outputs": [
    {
     "name": "stdout",
     "output_type": "stream",
     "text": [
      "Model: \"sequential\"\n",
      "_________________________________________________________________\n",
      "Layer (type)                 Output Shape              Param #   \n",
      "=================================================================\n",
      "dense (Dense)                (None, 6)                 72        \n",
      "_________________________________________________________________\n",
      "dense_1 (Dense)              (None, 3)                 21        \n",
      "_________________________________________________________________\n",
      "dense_2 (Dense)              (None, 1)                 4         \n",
      "=================================================================\n",
      "Total params: 97\n",
      "Trainable params: 97\n",
      "Non-trainable params: 0\n",
      "_________________________________________________________________\n"
     ]
    }
   ],
   "source": [
    "model.summary()"
   ]
  },
  {
   "cell_type": "markdown",
   "metadata": {},
   "source": [
    "After instantiating the model, we fit our data to the model."
   ]
  },
  {
   "cell_type": "markdown",
   "metadata": {},
   "source": [
    "We will use one third (33%) of our training data for validation purpose. "
   ]
  },
  {
   "cell_type": "code",
   "execution_count": 15,
   "metadata": {
    "scrolled": true
   },
   "outputs": [
    {
     "name": "stdout",
     "output_type": "stream",
     "text": [
      "Epoch 1/100\n",
      "469/469 [==============================] - 1s 1ms/step - loss: 0.7968 - accuracy: 0.5208 - val_loss: 0.6190 - val_accuracy: 0.7689\n",
      "Epoch 2/100\n",
      "469/469 [==============================] - 0s 944us/step - loss: 0.5785 - accuracy: 0.7938 - val_loss: 0.5527 - val_accuracy: 0.7962\n",
      "Epoch 3/100\n",
      "469/469 [==============================] - 0s 841us/step - loss: 0.5319 - accuracy: 0.7985 - val_loss: 0.5187 - val_accuracy: 0.7966\n",
      "Epoch 4/100\n",
      "469/469 [==============================] - 0s 915us/step - loss: 0.4987 - accuracy: 0.8053 - val_loss: 0.4894 - val_accuracy: 0.8096\n",
      "Epoch 5/100\n",
      "469/469 [==============================] - 0s 851us/step - loss: 0.4695 - accuracy: 0.8198 - val_loss: 0.4683 - val_accuracy: 0.8122\n",
      "Epoch 6/100\n",
      "469/469 [==============================] - 0s 850us/step - loss: 0.4494 - accuracy: 0.8238 - val_loss: 0.4535 - val_accuracy: 0.8152\n",
      "Epoch 7/100\n",
      "469/469 [==============================] - 0s 880us/step - loss: 0.4286 - accuracy: 0.8279 - val_loss: 0.4326 - val_accuracy: 0.8222\n",
      "Epoch 8/100\n",
      "469/469 [==============================] - 0s 925us/step - loss: 0.4053 - accuracy: 0.8390 - val_loss: 0.4146 - val_accuracy: 0.8330\n",
      "Epoch 9/100\n",
      "469/469 [==============================] - 0s 855us/step - loss: 0.3900 - accuracy: 0.8509 - val_loss: 0.4037 - val_accuracy: 0.8403\n",
      "Epoch 10/100\n",
      "469/469 [==============================] - 0s 819us/step - loss: 0.3800 - accuracy: 0.8537 - val_loss: 0.3966 - val_accuracy: 0.8412\n",
      "Epoch 11/100\n",
      "469/469 [==============================] - 0s 970us/step - loss: 0.3733 - accuracy: 0.8533 - val_loss: 0.3922 - val_accuracy: 0.8399\n",
      "Epoch 12/100\n",
      "469/469 [==============================] - 1s 1ms/step - loss: 0.3685 - accuracy: 0.8543 - val_loss: 0.3905 - val_accuracy: 0.8412\n",
      "Epoch 13/100\n",
      "469/469 [==============================] - 0s 938us/step - loss: 0.3650 - accuracy: 0.8546 - val_loss: 0.3867 - val_accuracy: 0.8447\n",
      "Epoch 14/100\n",
      "469/469 [==============================] - 1s 1ms/step - loss: 0.3624 - accuracy: 0.8533 - val_loss: 0.3858 - val_accuracy: 0.8451\n",
      "Epoch 15/100\n",
      "469/469 [==============================] - 1s 1ms/step - loss: 0.3600 - accuracy: 0.8550 - val_loss: 0.3830 - val_accuracy: 0.8477\n",
      "Epoch 16/100\n",
      "469/469 [==============================] - 0s 888us/step - loss: 0.3582 - accuracy: 0.8550 - val_loss: 0.3827 - val_accuracy: 0.8460\n",
      "Epoch 17/100\n",
      "469/469 [==============================] - 0s 899us/step - loss: 0.3564 - accuracy: 0.8575 - val_loss: 0.3809 - val_accuracy: 0.8460\n",
      "Epoch 18/100\n",
      "469/469 [==============================] - 0s 904us/step - loss: 0.3552 - accuracy: 0.8558 - val_loss: 0.3813 - val_accuracy: 0.8434\n",
      "Epoch 19/100\n",
      "469/469 [==============================] - 0s 921us/step - loss: 0.3536 - accuracy: 0.8580 - val_loss: 0.3804 - val_accuracy: 0.8481\n",
      "Epoch 20/100\n",
      "469/469 [==============================] - 0s 885us/step - loss: 0.3530 - accuracy: 0.8573 - val_loss: 0.3795 - val_accuracy: 0.8473\n",
      "Epoch 21/100\n",
      "469/469 [==============================] - 0s 891us/step - loss: 0.3520 - accuracy: 0.8554 - val_loss: 0.3787 - val_accuracy: 0.8477\n",
      "Epoch 22/100\n",
      "469/469 [==============================] - 0s 882us/step - loss: 0.3509 - accuracy: 0.8582 - val_loss: 0.3774 - val_accuracy: 0.8473\n",
      "Epoch 23/100\n",
      "469/469 [==============================] - 0s 880us/step - loss: 0.3506 - accuracy: 0.8580 - val_loss: 0.3769 - val_accuracy: 0.8468\n",
      "Epoch 24/100\n",
      "469/469 [==============================] - 0s 859us/step - loss: 0.3499 - accuracy: 0.8575 - val_loss: 0.3766 - val_accuracy: 0.8468\n",
      "Epoch 25/100\n",
      "469/469 [==============================] - 0s 892us/step - loss: 0.3491 - accuracy: 0.8560 - val_loss: 0.3759 - val_accuracy: 0.8473\n",
      "Epoch 26/100\n",
      "469/469 [==============================] - 0s 899us/step - loss: 0.3488 - accuracy: 0.8560 - val_loss: 0.3748 - val_accuracy: 0.8477\n",
      "Epoch 27/100\n",
      "469/469 [==============================] - 0s 875us/step - loss: 0.3485 - accuracy: 0.8560 - val_loss: 0.3754 - val_accuracy: 0.8490\n",
      "Epoch 28/100\n",
      "469/469 [==============================] - 0s 892us/step - loss: 0.3478 - accuracy: 0.8569 - val_loss: 0.3751 - val_accuracy: 0.8434\n",
      "Epoch 29/100\n",
      "469/469 [==============================] - 0s 937us/step - loss: 0.3476 - accuracy: 0.8586 - val_loss: 0.3740 - val_accuracy: 0.8455\n",
      "Epoch 30/100\n",
      "469/469 [==============================] - 0s 914us/step - loss: 0.3470 - accuracy: 0.8567 - val_loss: 0.3728 - val_accuracy: 0.8494\n",
      "Epoch 31/100\n",
      "469/469 [==============================] - 0s 889us/step - loss: 0.3462 - accuracy: 0.8605 - val_loss: 0.3726 - val_accuracy: 0.8486\n",
      "Epoch 32/100\n",
      "469/469 [==============================] - 0s 874us/step - loss: 0.3459 - accuracy: 0.8582 - val_loss: 0.3731 - val_accuracy: 0.8511\n",
      "Epoch 33/100\n",
      "469/469 [==============================] - 0s 915us/step - loss: 0.3452 - accuracy: 0.8592 - val_loss: 0.3714 - val_accuracy: 0.8516\n",
      "Epoch 34/100\n",
      "469/469 [==============================] - 0s 900us/step - loss: 0.3442 - accuracy: 0.8605 - val_loss: 0.3723 - val_accuracy: 0.8494\n",
      "Epoch 35/100\n",
      "469/469 [==============================] - 1s 1ms/step - loss: 0.3442 - accuracy: 0.8612 - val_loss: 0.3714 - val_accuracy: 0.8486\n",
      "Epoch 36/100\n",
      "469/469 [==============================] - 0s 1ms/step - loss: 0.3436 - accuracy: 0.8607 - val_loss: 0.3706 - val_accuracy: 0.8494\n",
      "Epoch 37/100\n",
      "469/469 [==============================] - 0s 915us/step - loss: 0.3431 - accuracy: 0.8592 - val_loss: 0.3703 - val_accuracy: 0.8494\n",
      "Epoch 38/100\n",
      "469/469 [==============================] - 0s 937us/step - loss: 0.3419 - accuracy: 0.8612 - val_loss: 0.3711 - val_accuracy: 0.8477\n",
      "Epoch 39/100\n",
      "469/469 [==============================] - 0s 903us/step - loss: 0.3420 - accuracy: 0.8595 - val_loss: 0.3706 - val_accuracy: 0.8481\n",
      "Epoch 40/100\n",
      "469/469 [==============================] - 1s 1ms/step - loss: 0.3413 - accuracy: 0.8616 - val_loss: 0.3699 - val_accuracy: 0.8507\n",
      "Epoch 41/100\n",
      "469/469 [==============================] - 0s 900us/step - loss: 0.3407 - accuracy: 0.8616 - val_loss: 0.3696 - val_accuracy: 0.8503\n",
      "Epoch 42/100\n",
      "469/469 [==============================] - 1s 1ms/step - loss: 0.3401 - accuracy: 0.8603 - val_loss: 0.3686 - val_accuracy: 0.8503\n",
      "Epoch 43/100\n",
      "469/469 [==============================] - 0s 1ms/step - loss: 0.3398 - accuracy: 0.8595 - val_loss: 0.3690 - val_accuracy: 0.8477\n",
      "Epoch 44/100\n",
      "469/469 [==============================] - 1s 1ms/step - loss: 0.3392 - accuracy: 0.8620 - val_loss: 0.3693 - val_accuracy: 0.8507\n",
      "Epoch 45/100\n",
      "469/469 [==============================] - 1s 1ms/step - loss: 0.3383 - accuracy: 0.8614 - val_loss: 0.3696 - val_accuracy: 0.8490\n",
      "Epoch 46/100\n",
      "469/469 [==============================] - 0s 1ms/step - loss: 0.3388 - accuracy: 0.8612 - val_loss: 0.3693 - val_accuracy: 0.8516\n",
      "Epoch 47/100\n",
      "469/469 [==============================] - 1s 1ms/step - loss: 0.3384 - accuracy: 0.8607 - val_loss: 0.3674 - val_accuracy: 0.8516\n",
      "Epoch 48/100\n",
      "469/469 [==============================] - 1s 1ms/step - loss: 0.3376 - accuracy: 0.8627 - val_loss: 0.3675 - val_accuracy: 0.8511\n",
      "Epoch 49/100\n",
      "469/469 [==============================] - 1s 1ms/step - loss: 0.3377 - accuracy: 0.8605 - val_loss: 0.3668 - val_accuracy: 0.8511\n",
      "Epoch 50/100\n",
      "469/469 [==============================] - 0s 1ms/step - loss: 0.3371 - accuracy: 0.8605 - val_loss: 0.3665 - val_accuracy: 0.8511\n",
      "Epoch 51/100\n",
      "469/469 [==============================] - 0s 940us/step - loss: 0.3370 - accuracy: 0.8622 - val_loss: 0.3669 - val_accuracy: 0.8507\n",
      "Epoch 52/100\n",
      "469/469 [==============================] - 0s 1ms/step - loss: 0.3368 - accuracy: 0.8616 - val_loss: 0.3667 - val_accuracy: 0.8511\n",
      "Epoch 53/100\n",
      "469/469 [==============================] - 0s 1ms/step - loss: 0.3364 - accuracy: 0.8599 - val_loss: 0.3670 - val_accuracy: 0.8498\n",
      "Epoch 54/100\n",
      "469/469 [==============================] - 0s 917us/step - loss: 0.3364 - accuracy: 0.8644 - val_loss: 0.3669 - val_accuracy: 0.8507\n",
      "Epoch 55/100\n",
      "469/469 [==============================] - 0s 997us/step - loss: 0.3360 - accuracy: 0.8607 - val_loss: 0.3661 - val_accuracy: 0.8537\n",
      "Epoch 56/100\n",
      "469/469 [==============================] - 0s 1ms/step - loss: 0.3360 - accuracy: 0.8605 - val_loss: 0.3662 - val_accuracy: 0.8507\n",
      "Epoch 57/100\n"
     ]
    },
    {
     "name": "stdout",
     "output_type": "stream",
     "text": [
      "469/469 [==============================] - 0s 1ms/step - loss: 0.3355 - accuracy: 0.8622 - val_loss: 0.3676 - val_accuracy: 0.8533\n",
      "Epoch 58/100\n",
      "469/469 [==============================] - 0s 944us/step - loss: 0.3352 - accuracy: 0.8614 - val_loss: 0.3655 - val_accuracy: 0.8516\n",
      "Epoch 59/100\n",
      "469/469 [==============================] - 0s 951us/step - loss: 0.3352 - accuracy: 0.8620 - val_loss: 0.3660 - val_accuracy: 0.8533\n",
      "Epoch 60/100\n",
      "469/469 [==============================] - 0s 1ms/step - loss: 0.3351 - accuracy: 0.8616 - val_loss: 0.3655 - val_accuracy: 0.8503\n",
      "Epoch 61/100\n",
      "469/469 [==============================] - 0s 971us/step - loss: 0.3349 - accuracy: 0.8624 - val_loss: 0.3654 - val_accuracy: 0.8542\n",
      "Epoch 62/100\n",
      "469/469 [==============================] - 0s 974us/step - loss: 0.3346 - accuracy: 0.8618 - val_loss: 0.3652 - val_accuracy: 0.8555\n",
      "Epoch 63/100\n",
      "469/469 [==============================] - 1s 1ms/step - loss: 0.3346 - accuracy: 0.8601 - val_loss: 0.3648 - val_accuracy: 0.8533\n",
      "Epoch 64/100\n",
      "469/469 [==============================] - 1s 1ms/step - loss: 0.3343 - accuracy: 0.8620 - val_loss: 0.3649 - val_accuracy: 0.8542\n",
      "Epoch 65/100\n",
      "469/469 [==============================] - 1s 1ms/step - loss: 0.3343 - accuracy: 0.8633 - val_loss: 0.3653 - val_accuracy: 0.8520\n",
      "Epoch 66/100\n",
      "469/469 [==============================] - 0s 980us/step - loss: 0.3341 - accuracy: 0.8633 - val_loss: 0.3649 - val_accuracy: 0.8542\n",
      "Epoch 67/100\n",
      "469/469 [==============================] - 0s 945us/step - loss: 0.3342 - accuracy: 0.8631 - val_loss: 0.3640 - val_accuracy: 0.8524\n",
      "Epoch 68/100\n",
      "469/469 [==============================] - 1s 1ms/step - loss: 0.3333 - accuracy: 0.8618 - val_loss: 0.3638 - val_accuracy: 0.8516\n",
      "Epoch 69/100\n",
      "469/469 [==============================] - 1s 1ms/step - loss: 0.3337 - accuracy: 0.8637 - val_loss: 0.3640 - val_accuracy: 0.8524\n",
      "Epoch 70/100\n",
      "469/469 [==============================] - 1s 2ms/step - loss: 0.3338 - accuracy: 0.8642 - val_loss: 0.3635 - val_accuracy: 0.8524\n",
      "Epoch 71/100\n",
      "469/469 [==============================] - 1s 1ms/step - loss: 0.3336 - accuracy: 0.8627 - val_loss: 0.3645 - val_accuracy: 0.8568\n",
      "Epoch 72/100\n",
      "469/469 [==============================] - 0s 1ms/step - loss: 0.3332 - accuracy: 0.8661 - val_loss: 0.3656 - val_accuracy: 0.8529\n",
      "Epoch 73/100\n",
      "469/469 [==============================] - 1s 2ms/step - loss: 0.3331 - accuracy: 0.8622 - val_loss: 0.3645 - val_accuracy: 0.8529\n",
      "Epoch 74/100\n",
      "469/469 [==============================] - 1s 1ms/step - loss: 0.3328 - accuracy: 0.8635 - val_loss: 0.3637 - val_accuracy: 0.8473\n",
      "Epoch 75/100\n",
      "469/469 [==============================] - 1s 1ms/step - loss: 0.3332 - accuracy: 0.8629 - val_loss: 0.3634 - val_accuracy: 0.8524\n",
      "Epoch 76/100\n",
      "469/469 [==============================] - 1s 1ms/step - loss: 0.3327 - accuracy: 0.8637 - val_loss: 0.3648 - val_accuracy: 0.8537\n",
      "Epoch 77/100\n",
      "469/469 [==============================] - 1s 1ms/step - loss: 0.3328 - accuracy: 0.8652 - val_loss: 0.3633 - val_accuracy: 0.8529\n",
      "Epoch 78/100\n",
      "469/469 [==============================] - 0s 855us/step - loss: 0.3325 - accuracy: 0.8639 - val_loss: 0.3627 - val_accuracy: 0.8555\n",
      "Epoch 79/100\n",
      "469/469 [==============================] - 0s 874us/step - loss: 0.3321 - accuracy: 0.8644 - val_loss: 0.3647 - val_accuracy: 0.8516\n",
      "Epoch 80/100\n",
      "469/469 [==============================] - 0s 861us/step - loss: 0.3320 - accuracy: 0.8659 - val_loss: 0.3636 - val_accuracy: 0.8537\n",
      "Epoch 81/100\n",
      "469/469 [==============================] - 0s 919us/step - loss: 0.3327 - accuracy: 0.8639 - val_loss: 0.3631 - val_accuracy: 0.8529\n",
      "Epoch 82/100\n",
      "469/469 [==============================] - 0s 848us/step - loss: 0.3322 - accuracy: 0.8656 - val_loss: 0.3632 - val_accuracy: 0.8572\n",
      "Epoch 83/100\n",
      "469/469 [==============================] - 0s 946us/step - loss: 0.3321 - accuracy: 0.8633 - val_loss: 0.3627 - val_accuracy: 0.8563\n",
      "Epoch 84/100\n",
      "469/469 [==============================] - 1s 2ms/step - loss: 0.3323 - accuracy: 0.8637 - val_loss: 0.3622 - val_accuracy: 0.8546\n",
      "Epoch 85/100\n",
      "469/469 [==============================] - 1s 1ms/step - loss: 0.3323 - accuracy: 0.8644 - val_loss: 0.3624 - val_accuracy: 0.8563\n",
      "Epoch 86/100\n",
      "469/469 [==============================] - 0s 842us/step - loss: 0.3315 - accuracy: 0.8642 - val_loss: 0.3617 - val_accuracy: 0.8546\n",
      "Epoch 87/100\n",
      "469/469 [==============================] - 1s 1ms/step - loss: 0.3314 - accuracy: 0.8639 - val_loss: 0.3637 - val_accuracy: 0.8559\n",
      "Epoch 88/100\n",
      "469/469 [==============================] - 1s 1ms/step - loss: 0.3310 - accuracy: 0.8648 - val_loss: 0.3627 - val_accuracy: 0.8524\n",
      "Epoch 89/100\n",
      "469/469 [==============================] - 0s 938us/step - loss: 0.3305 - accuracy: 0.8642 - val_loss: 0.3614 - val_accuracy: 0.8520\n",
      "Epoch 90/100\n",
      "469/469 [==============================] - 0s 926us/step - loss: 0.3307 - accuracy: 0.8676 - val_loss: 0.3613 - val_accuracy: 0.8546\n",
      "Epoch 91/100\n",
      "469/469 [==============================] - 0s 942us/step - loss: 0.3309 - accuracy: 0.8656 - val_loss: 0.3608 - val_accuracy: 0.8546\n",
      "Epoch 92/100\n",
      "469/469 [==============================] - 0s 961us/step - loss: 0.3302 - accuracy: 0.8688 - val_loss: 0.3613 - val_accuracy: 0.8542\n",
      "Epoch 93/100\n",
      "469/469 [==============================] - 0s 921us/step - loss: 0.3304 - accuracy: 0.8663 - val_loss: 0.3609 - val_accuracy: 0.8533\n",
      "Epoch 94/100\n",
      "469/469 [==============================] - 0s 923us/step - loss: 0.3306 - accuracy: 0.8633 - val_loss: 0.3612 - val_accuracy: 0.8529\n",
      "Epoch 95/100\n",
      "469/469 [==============================] - 0s 986us/step - loss: 0.3301 - accuracy: 0.8669 - val_loss: 0.3617 - val_accuracy: 0.8546\n",
      "Epoch 96/100\n",
      "469/469 [==============================] - 0s 965us/step - loss: 0.3301 - accuracy: 0.8652 - val_loss: 0.3607 - val_accuracy: 0.8542\n",
      "Epoch 97/100\n",
      "469/469 [==============================] - 0s 922us/step - loss: 0.3296 - accuracy: 0.8663 - val_loss: 0.3598 - val_accuracy: 0.8542\n",
      "Epoch 98/100\n",
      "469/469 [==============================] - 0s 913us/step - loss: 0.3301 - accuracy: 0.8637 - val_loss: 0.3620 - val_accuracy: 0.8529\n",
      "Epoch 99/100\n",
      "469/469 [==============================] - 1s 1ms/step - loss: 0.3299 - accuracy: 0.8652 - val_loss: 0.3606 - val_accuracy: 0.8533\n",
      "Epoch 100/100\n",
      "469/469 [==============================] - 1s 1ms/step - loss: 0.3298 - accuracy: 0.8665 - val_loss: 0.3602 - val_accuracy: 0.8520\n"
     ]
    }
   ],
   "source": [
    "#fit with batch_size=10 and epochs=100\n",
    "model_history = model.fit(x=X_train, y=y_train, validation_split=0.33, batch_size=10, epochs=100)"
   ]
  },
  {
   "cell_type": "markdown",
   "metadata": {},
   "source": [
    "Our model has performed well. Both training accuracy and validation accuracy are about 85%. Using right weights and model structure will helps to obtain good accuracy. \n",
    "\n",
    "We can use history attribute of out fitted model to print out accuracy and loss at different instants of training."
   ]
  },
  {
   "cell_type": "code",
   "execution_count": 16,
   "metadata": {},
   "outputs": [
    {
     "name": "stdout",
     "output_type": "stream",
     "text": [
      "dict_keys(['loss', 'accuracy', 'val_loss', 'val_accuracy'])\n"
     ]
    }
   ],
   "source": [
    "print(model_history.history.keys())"
   ]
  },
  {
   "cell_type": "code",
   "execution_count": 17,
   "metadata": {},
   "outputs": [
    {
     "data": {
      "image/png": "[encoded data removed]",
      "text/plain": [
       "<Figure size 432x288 with 1 Axes>"
      ]
     },
     "metadata": {
      "needs_background": "light"
     },
     "output_type": "display_data"
    },
    {
     "data": {
      "image/png": "[encoded data removed]",
      "text/plain": [
       "<Figure size 432x288 with 1 Axes>"
      ]
     },
     "metadata": {
      "needs_background": "light"
     },
     "output_type": "display_data"
    }
   ],
   "source": [
    "# plot the loss\n",
    "plt.plot(model_history.history['loss'], label='train loss')\n",
    "plt.plot(model_history.history['val_loss'], label='val loss')\n",
    "plt.legend()\n",
    "plt.show()\n",
    "\n",
    "# plot the accuracy\n",
    "plt.plot(model_history.history['accuracy'], label='train acc')\n",
    "plt.plot(model_history.history['val_accuracy'], label='val acc')\n",
    "plt.legend()\n",
    "plt.show()"
   ]
  },
  {
   "cell_type": "markdown",
   "metadata": {},
   "source": [
    "We will now use the test data for final evaluation of our model."
   ]
  },
  {
   "cell_type": "code",
   "execution_count": 18,
   "metadata": {},
   "outputs": [
    {
     "data": {
      "text/plain": [
       "array([[0.34300593],\n",
       "       [0.25126386],\n",
       "       [0.16947302],\n",
       "       ...,\n",
       "       [0.03351787],\n",
       "       [0.09872043],\n",
       "       [0.5077218 ]], dtype=float32)"
      ]
     },
     "execution_count": 18,
     "metadata": {},
     "output_type": "execute_result"
    }
   ],
   "source": [
    "y_pred = model.predict(X_test)\n",
    "y_pred"
   ]
  },
  {
   "cell_type": "code",
   "execution_count": 22,
   "metadata": {},
   "outputs": [
    {
     "data": {
      "text/plain": [
       "array([[False],\n",
       "       [False],\n",
       "       [False],\n",
       "       ...,\n",
       "       [False],\n",
       "       [False],\n",
       "       [ True]])"
      ]
     },
     "execution_count": 22,
     "metadata": {},
     "output_type": "execute_result"
    }
   ],
   "source": [
    "y_pred_binary = y_pred > 0.5\n",
    "y_pred_binary"
   ]
  },
  {
   "cell_type": "markdown",
   "metadata": {},
   "source": [
    "We will use confusion matrix and accuracy score for model evaluation with test data."
   ]
  },
  {
   "cell_type": "code",
   "execution_count": 23,
   "metadata": {},
   "outputs": [
    {
     "data": {
      "text/plain": [
       "array([[2303,   76],\n",
       "       [ 344,  277]], dtype=int64)"
      ]
     },
     "execution_count": 23,
     "metadata": {},
     "output_type": "execute_result"
    }
   ],
   "source": [
    "from sklearn.metrics import confusion_matrix, accuracy_score\n",
    "confusion_matrix(y_test, y_pred_binary)"
   ]
  },
  {
   "cell_type": "code",
   "execution_count": 24,
   "metadata": {},
   "outputs": [
    {
     "data": {
      "text/plain": [
       "0.86"
      ]
     },
     "execution_count": 24,
     "metadata": {},
     "output_type": "execute_result"
    }
   ],
   "source": [
    "accuracy_score(y_test, y_pred_binary)"
   ]
  },
  {
   "cell_type": "markdown",
   "metadata": {},
   "source": [
    "Our training accuracy and test accuracy are similar. So our model is not overfitting the training data. Maybe we can improve our model."
   ]
  },
  {
   "cell_type": "markdown",
   "metadata": {},
   "source": [
    "### Part 3 : Building an ANN model with keras-tuner"
   ]
  },
  {
   "cell_type": "code",
   "execution_count": 25,
   "metadata": {},
   "outputs": [],
   "source": [
    "#you will need to uncomment the code below if keras-tuner is not installed\n",
    "#!pip install keras-tuner"
   ]
  },
  {
   "cell_type": "code",
   "execution_count": 26,
   "metadata": {},
   "outputs": [],
   "source": [
    "from kerastuner.tuners import RandomSearch\n",
    "from tensorflow.keras.optimizers import Adam"
   ]
  },
  {
   "cell_type": "markdown",
   "metadata": {},
   "source": [
    "So we will consider some of the parameters of our model build above as hyperparameters that we need to tune to obtain a better model.\n",
    "\n",
    "- How many hidden layers we should have?\n",
    "- How many neurons in each hidden layer?\n",
    "- Learning rate to be used for optimizer\n",
    "- Fraction of neurons to be dropped to avoid overfitting in each hidden layer\n",
    "\n",
    "We can add more hyperparameters if needed."
   ]
  },
  {
   "cell_type": "code",
   "execution_count": 27,
   "metadata": {},
   "outputs": [],
   "source": [
    "#hp signifies hyperparameters we are going to tune\n",
    "def build_model(hp):\n",
    "    ann = Sequential()\n",
    "    ann.add(Dense(units=hp.Int(\"units_\"+str(0), min_value=4, max_value=80, step=4),\n",
    "                  activation=\"relu\",kernel_initializer=\"he_uniform\", input_dim=11))\n",
    "    ann.add(Dropout(rate=hp.Choice(\"droupout_\"+str(0), [0.1, 0.2, 0.3])))\n",
    "    \n",
    "    #our neural network will have hidden layers between 2 to 20\n",
    "    for i in range(hp.Int(\"num_layers\", 1, 20)):\n",
    "        #inside each Dense layer the number of neurons can be 4 to 80\n",
    "        #hp.Int signifies the choice is from a range\n",
    "        ann.add(Dense(units=hp.Int(\"units_\"+str(i),\n",
    "                                           min_value=4,\n",
    "                                           max_value=80,\n",
    "                                           step=4),\n",
    "                        activation=\"relu\", kernel_initializer=\"he_uniform\"))\n",
    "        ann.add(Dropout(rate=hp.Choice(\"droupout_\"+str(i), [0.1, 0.2, 0.3])))\n",
    "        \n",
    "    #output layer\n",
    "    ann.add(Dense(1, kernel_initializer=\"glorot_uniform\", activation=\"sigmoid\"))\n",
    "    \n",
    "    #hp.Choice signifies the choice is from a list\n",
    "    ann.compile(optimizer=Adam(hp.Choice(\"learning_rate\", [1e-2,1e-3,1e-4])),\n",
    "                  loss=\"binary_crossentropy\", metrics=[\"accuracy\"])\n",
    "    return ann"
   ]
  },
  {
   "cell_type": "code",
   "execution_count": 28,
   "metadata": {
    "scrolled": true
   },
   "outputs": [],
   "source": [
    "tuner = RandomSearch(build_model, objective='val_accuracy',\n",
    "                    max_trials=20, directory=\"project1\",\n",
    "                    project_name=\"customer_churn\")"
   ]
  },
  {
   "cell_type": "markdown",
   "metadata": {},
   "source": [
    "The code below gives a summary of the range and choices we have set for parameters we want to tune. For example, for \"num_layers\" we want an integer value from 2 to 20. "
   ]
  },
  {
   "cell_type": "code",
   "execution_count": 29,
   "metadata": {},
   "outputs": [
    {
     "name": "stdout",
     "output_type": "stream",
     "text": [
      "Search space summary\n",
      "Default search space size: 4\n",
      "units_0 (Int)\n",
      "{'default': None, 'conditions': [], 'min_value': 4, 'max_value': 80, 'step': 4, 'sampling': None}\n",
      "droupout_0 (Choice)\n",
      "{'default': 0.1, 'conditions': [], 'values': [0.1, 0.2, 0.3], 'ordered': True}\n",
      "num_layers (Int)\n",
      "{'default': None, 'conditions': [], 'min_value': 1, 'max_value': 20, 'step': 1, 'sampling': None}\n",
      "learning_rate (Choice)\n",
      "{'default': 0.01, 'conditions': [], 'values': [0.01, 0.001, 0.0001], 'ordered': True}\n"
     ]
    }
   ],
   "source": [
    "tuner.search_space_summary()"
   ]
  },
  {
   "cell_type": "code",
   "execution_count": 30,
   "metadata": {
    "scrolled": true
   },
   "outputs": [
    {
     "name": "stdout",
     "output_type": "stream",
     "text": [
      "Trial 20 Complete [00h 00m 04s]\n",
      "val_accuracy: 0.7995238304138184\n",
      "\n",
      "Best val_accuracy So Far: 0.8428571224212646\n",
      "Total elapsed time: 00h 00m 58s\n",
      "INFO:tensorflow:Oracle triggered exit\n"
     ]
    }
   ],
   "source": [
    "tuner.search(X_train, y_train, epochs=3, validation_split=0.3)"
   ]
  },
  {
   "cell_type": "code",
   "execution_count": 31,
   "metadata": {
    "scrolled": true
   },
   "outputs": [
    {
     "name": "stdout",
     "output_type": "stream",
     "text": [
      "Results summary\n",
      "Results in project1\\customer_churn\n",
      "Showing 10 best trials\n",
      "Objective(name='val_accuracy', direction='max')\n",
      "Trial summary\n",
      "Hyperparameters:\n",
      "units_0: 40\n",
      "droupout_0: 0.3\n",
      "num_layers: 3\n",
      "learning_rate: 0.01\n",
      "units_1: 56\n",
      "droupout_1: 0.1\n",
      "units_2: 80\n",
      "droupout_2: 0.3\n",
      "units_3: 60\n",
      "droupout_3: 0.1\n",
      "units_4: 48\n",
      "droupout_4: 0.3\n",
      "units_5: 8\n",
      "droupout_5: 0.3\n",
      "units_6: 44\n",
      "droupout_6: 0.2\n",
      "units_7: 80\n",
      "droupout_7: 0.1\n",
      "units_8: 32\n",
      "droupout_8: 0.1\n",
      "units_9: 28\n",
      "droupout_9: 0.1\n",
      "units_10: 64\n",
      "droupout_10: 0.3\n",
      "units_11: 80\n",
      "droupout_11: 0.2\n",
      "units_12: 80\n",
      "droupout_12: 0.2\n",
      "units_13: 48\n",
      "droupout_13: 0.1\n",
      "units_14: 12\n",
      "droupout_14: 0.1\n",
      "units_15: 56\n",
      "droupout_15: 0.3\n",
      "units_16: 68\n",
      "droupout_16: 0.3\n",
      "units_17: 12\n",
      "droupout_17: 0.3\n",
      "units_18: 8\n",
      "droupout_18: 0.2\n",
      "units_19: 48\n",
      "droupout_19: 0.1\n",
      "Score: 0.8428571224212646\n",
      "Trial summary\n",
      "Hyperparameters:\n",
      "units_0: 16\n",
      "droupout_0: 0.1\n",
      "num_layers: 2\n",
      "learning_rate: 0.001\n",
      "units_1: 52\n",
      "droupout_1: 0.1\n",
      "units_2: 16\n",
      "droupout_2: 0.1\n",
      "units_3: 44\n",
      "droupout_3: 0.3\n",
      "units_4: 68\n",
      "droupout_4: 0.3\n",
      "units_5: 68\n",
      "droupout_5: 0.3\n",
      "units_6: 76\n",
      "droupout_6: 0.1\n",
      "units_7: 60\n",
      "droupout_7: 0.2\n",
      "units_8: 4\n",
      "droupout_8: 0.1\n",
      "units_9: 44\n",
      "droupout_9: 0.1\n",
      "units_10: 60\n",
      "droupout_10: 0.2\n",
      "units_11: 12\n",
      "droupout_11: 0.3\n",
      "units_12: 48\n",
      "droupout_12: 0.2\n",
      "units_13: 12\n",
      "droupout_13: 0.3\n",
      "units_14: 60\n",
      "droupout_14: 0.1\n",
      "units_15: 48\n",
      "droupout_15: 0.1\n",
      "units_16: 12\n",
      "droupout_16: 0.3\n",
      "units_17: 72\n",
      "droupout_17: 0.1\n",
      "units_18: 76\n",
      "droupout_18: 0.2\n",
      "units_19: 16\n",
      "droupout_19: 0.2\n",
      "Score: 0.800000011920929\n",
      "Trial summary\n",
      "Hyperparameters:\n",
      "units_0: 16\n",
      "droupout_0: 0.2\n",
      "num_layers: 20\n",
      "learning_rate: 0.0001\n",
      "units_1: 4\n",
      "droupout_1: 0.1\n",
      "units_2: 4\n",
      "droupout_2: 0.1\n",
      "units_3: 4\n",
      "droupout_3: 0.1\n",
      "units_4: 4\n",
      "droupout_4: 0.1\n",
      "units_5: 4\n",
      "droupout_5: 0.1\n",
      "units_6: 4\n",
      "droupout_6: 0.1\n",
      "units_7: 4\n",
      "droupout_7: 0.1\n",
      "units_8: 4\n",
      "droupout_8: 0.1\n",
      "units_9: 4\n",
      "droupout_9: 0.1\n",
      "units_10: 4\n",
      "droupout_10: 0.1\n",
      "units_11: 4\n",
      "droupout_11: 0.1\n",
      "units_12: 4\n",
      "droupout_12: 0.1\n",
      "units_13: 4\n",
      "droupout_13: 0.1\n",
      "units_14: 4\n",
      "droupout_14: 0.1\n",
      "units_15: 4\n",
      "droupout_15: 0.1\n",
      "units_16: 4\n",
      "droupout_16: 0.1\n",
      "units_17: 4\n",
      "droupout_17: 0.1\n",
      "units_18: 4\n",
      "droupout_18: 0.1\n",
      "units_19: 4\n",
      "droupout_19: 0.1\n",
      "Score: 0.7995238304138184\n",
      "Trial summary\n",
      "Hyperparameters:\n",
      "units_0: 60\n",
      "droupout_0: 0.3\n",
      "num_layers: 12\n",
      "learning_rate: 0.001\n",
      "units_1: 52\n",
      "droupout_1: 0.1\n",
      "units_2: 56\n",
      "droupout_2: 0.3\n",
      "units_3: 76\n",
      "droupout_3: 0.3\n",
      "units_4: 28\n",
      "droupout_4: 0.3\n",
      "units_5: 12\n",
      "droupout_5: 0.2\n",
      "units_6: 28\n",
      "droupout_6: 0.3\n",
      "units_7: 40\n",
      "droupout_7: 0.1\n",
      "units_8: 40\n",
      "droupout_8: 0.1\n",
      "units_9: 16\n",
      "droupout_9: 0.1\n",
      "units_10: 52\n",
      "droupout_10: 0.1\n",
      "units_11: 24\n",
      "droupout_11: 0.1\n",
      "units_12: 60\n",
      "droupout_12: 0.1\n",
      "units_13: 68\n",
      "droupout_13: 0.3\n",
      "units_14: 20\n",
      "droupout_14: 0.2\n",
      "units_15: 32\n",
      "droupout_15: 0.2\n",
      "units_16: 68\n",
      "droupout_16: 0.1\n",
      "units_17: 56\n",
      "droupout_17: 0.3\n",
      "units_18: 76\n",
      "droupout_18: 0.3\n",
      "units_19: 52\n",
      "droupout_19: 0.1\n",
      "Score: 0.7995238304138184\n",
      "Trial summary\n",
      "Hyperparameters:\n",
      "units_0: 52\n",
      "droupout_0: 0.2\n",
      "num_layers: 11\n",
      "learning_rate: 0.0001\n",
      "units_1: 44\n",
      "droupout_1: 0.3\n",
      "units_2: 8\n",
      "droupout_2: 0.1\n",
      "units_3: 64\n",
      "droupout_3: 0.3\n",
      "units_4: 40\n",
      "droupout_4: 0.2\n",
      "units_5: 52\n",
      "droupout_5: 0.2\n",
      "units_6: 40\n",
      "droupout_6: 0.1\n",
      "units_7: 8\n",
      "droupout_7: 0.2\n",
      "units_8: 16\n",
      "droupout_8: 0.1\n",
      "units_9: 56\n",
      "droupout_9: 0.2\n",
      "units_10: 4\n",
      "droupout_10: 0.1\n",
      "units_11: 60\n",
      "droupout_11: 0.3\n",
      "units_12: 80\n",
      "droupout_12: 0.2\n",
      "units_13: 36\n",
      "droupout_13: 0.1\n",
      "units_14: 72\n",
      "droupout_14: 0.2\n",
      "units_15: 16\n",
      "droupout_15: 0.3\n",
      "units_16: 48\n",
      "droupout_16: 0.2\n",
      "units_17: 68\n",
      "droupout_17: 0.3\n",
      "units_18: 4\n",
      "droupout_18: 0.2\n",
      "units_19: 60\n",
      "droupout_19: 0.2\n",
      "Score: 0.7995238304138184\n",
      "Trial summary\n",
      "Hyperparameters:\n",
      "units_0: 40\n",
      "droupout_0: 0.1\n",
      "num_layers: 11\n",
      "learning_rate: 0.0001\n",
      "units_1: 56\n",
      "droupout_1: 0.2\n",
      "units_2: 28\n",
      "droupout_2: 0.2\n",
      "units_3: 40\n",
      "droupout_3: 0.3\n",
      "units_4: 48\n",
      "droupout_4: 0.2\n",
      "units_5: 28\n",
      "droupout_5: 0.2\n",
      "units_6: 68\n",
      "droupout_6: 0.1\n",
      "units_7: 12\n",
      "droupout_7: 0.1\n",
      "units_8: 44\n",
      "droupout_8: 0.1\n",
      "units_9: 28\n",
      "droupout_9: 0.1\n",
      "units_10: 48\n",
      "droupout_10: 0.2\n",
      "units_11: 48\n",
      "droupout_11: 0.3\n",
      "units_12: 72\n",
      "droupout_12: 0.1\n",
      "units_13: 80\n",
      "droupout_13: 0.1\n",
      "units_14: 36\n",
      "droupout_14: 0.1\n",
      "units_15: 76\n",
      "droupout_15: 0.2\n",
      "units_16: 44\n",
      "droupout_16: 0.3\n",
      "units_17: 4\n",
      "droupout_17: 0.3\n",
      "units_18: 48\n",
      "droupout_18: 0.1\n",
      "units_19: 36\n",
      "droupout_19: 0.2\n",
      "Score: 0.7995238304138184\n",
      "Trial summary\n",
      "Hyperparameters:\n",
      "units_0: 36\n",
      "droupout_0: 0.2\n",
      "num_layers: 4\n",
      "learning_rate: 0.001\n",
      "units_1: 52\n",
      "droupout_1: 0.2\n",
      "units_2: 72\n",
      "droupout_2: 0.3\n",
      "units_3: 40\n",
      "droupout_3: 0.3\n",
      "units_4: 60\n",
      "droupout_4: 0.2\n",
      "units_5: 60\n",
      "droupout_5: 0.1\n",
      "units_6: 68\n",
      "droupout_6: 0.1\n",
      "units_7: 68\n",
      "droupout_7: 0.2\n",
      "units_8: 64\n",
      "droupout_8: 0.2\n",
      "units_9: 8\n",
      "droupout_9: 0.2\n",
      "units_10: 76\n",
      "droupout_10: 0.1\n",
      "units_11: 68\n",
      "droupout_11: 0.2\n",
      "units_12: 72\n",
      "droupout_12: 0.3\n",
      "units_13: 24\n",
      "droupout_13: 0.2\n",
      "units_14: 44\n",
      "droupout_14: 0.3\n",
      "units_15: 40\n",
      "droupout_15: 0.2\n",
      "units_16: 16\n",
      "droupout_16: 0.2\n",
      "units_17: 56\n",
      "droupout_17: 0.3\n",
      "units_18: 24\n",
      "droupout_18: 0.3\n",
      "units_19: 80\n",
      "droupout_19: 0.2\n",
      "Score: 0.7995238304138184\n",
      "Trial summary\n",
      "Hyperparameters:\n",
      "units_0: 48\n",
      "droupout_0: 0.2\n",
      "num_layers: 20\n",
      "learning_rate: 0.0001\n",
      "units_1: 36\n",
      "droupout_1: 0.3\n",
      "units_2: 12\n",
      "droupout_2: 0.2\n",
      "units_3: 16\n",
      "droupout_3: 0.3\n",
      "units_4: 20\n",
      "droupout_4: 0.3\n",
      "units_5: 64\n",
      "droupout_5: 0.1\n",
      "units_6: 28\n",
      "droupout_6: 0.3\n",
      "units_7: 56\n",
      "droupout_7: 0.3\n",
      "units_8: 4\n",
      "droupout_8: 0.2\n",
      "units_9: 16\n",
      "droupout_9: 0.3\n",
      "units_10: 40\n",
      "droupout_10: 0.1\n",
      "units_11: 56\n",
      "droupout_11: 0.3\n",
      "units_12: 60\n",
      "droupout_12: 0.1\n",
      "units_13: 16\n",
      "droupout_13: 0.1\n",
      "units_14: 28\n",
      "droupout_14: 0.2\n",
      "units_15: 16\n",
      "droupout_15: 0.2\n",
      "units_16: 40\n",
      "droupout_16: 0.1\n",
      "units_17: 56\n",
      "droupout_17: 0.3\n",
      "units_18: 24\n",
      "droupout_18: 0.2\n",
      "units_19: 64\n",
      "droupout_19: 0.1\n",
      "Score: 0.7995238304138184\n",
      "Trial summary\n",
      "Hyperparameters:\n",
      "units_0: 36\n",
      "droupout_0: 0.2\n",
      "num_layers: 3\n",
      "learning_rate: 0.0001\n",
      "units_1: 24\n",
      "droupout_1: 0.2\n",
      "units_2: 44\n",
      "droupout_2: 0.2\n",
      "units_3: 12\n",
      "droupout_3: 0.2\n",
      "units_4: 24\n",
      "droupout_4: 0.1\n",
      "units_5: 16\n",
      "droupout_5: 0.3\n",
      "units_6: 36\n",
      "droupout_6: 0.2\n",
      "units_7: 28\n",
      "droupout_7: 0.3\n",
      "units_8: 60\n",
      "droupout_8: 0.3\n",
      "units_9: 32\n",
      "droupout_9: 0.3\n",
      "units_10: 20\n",
      "droupout_10: 0.3\n",
      "units_11: 20\n",
      "droupout_11: 0.2\n",
      "units_12: 28\n",
      "droupout_12: 0.3\n",
      "units_13: 44\n",
      "droupout_13: 0.3\n",
      "units_14: 44\n",
      "droupout_14: 0.1\n",
      "units_15: 8\n",
      "droupout_15: 0.3\n",
      "units_16: 44\n",
      "droupout_16: 0.3\n",
      "units_17: 44\n",
      "droupout_17: 0.1\n",
      "units_18: 64\n",
      "droupout_18: 0.1\n",
      "units_19: 28\n",
      "droupout_19: 0.3\n",
      "Score: 0.7995238304138184\n",
      "Trial summary\n",
      "Hyperparameters:\n",
      "units_0: 28\n",
      "droupout_0: 0.3\n",
      "num_layers: 7\n",
      "learning_rate: 0.01\n",
      "units_1: 64\n",
      "droupout_1: 0.1\n",
      "units_2: 44\n",
      "droupout_2: 0.1\n",
      "units_3: 76\n",
      "droupout_3: 0.2\n",
      "units_4: 76\n",
      "droupout_4: 0.2\n",
      "units_5: 8\n",
      "droupout_5: 0.2\n",
      "units_6: 48\n",
      "droupout_6: 0.1\n",
      "units_7: 24\n",
      "droupout_7: 0.1\n",
      "units_8: 20\n",
      "droupout_8: 0.2\n",
      "units_9: 48\n",
      "droupout_9: 0.2\n",
      "units_10: 80\n",
      "droupout_10: 0.3\n",
      "units_11: 56\n",
      "droupout_11: 0.3\n",
      "units_12: 52\n",
      "droupout_12: 0.3\n",
      "units_13: 4\n",
      "droupout_13: 0.1\n",
      "units_14: 4\n",
      "droupout_14: 0.3\n",
      "units_15: 24\n",
      "droupout_15: 0.2\n",
      "units_16: 60\n",
      "droupout_16: 0.1\n",
      "units_17: 24\n",
      "droupout_17: 0.1\n",
      "units_18: 72\n",
      "droupout_18: 0.1\n",
      "units_19: 40\n",
      "droupout_19: 0.1\n",
      "Score: 0.7995238304138184\n"
     ]
    }
   ],
   "source": [
    "tuner.results_summary()"
   ]
  },
  {
   "cell_type": "code",
   "execution_count": 32,
   "metadata": {},
   "outputs": [],
   "source": [
    "model_kt = tuner.get_best_models(num_models=1)[0]"
   ]
  },
  {
   "cell_type": "code",
   "execution_count": 33,
   "metadata": {
    "scrolled": true
   },
   "outputs": [
    {
     "name": "stdout",
     "output_type": "stream",
     "text": [
      "Model: \"sequential\"\n",
      "_________________________________________________________________\n",
      "Layer (type)                 Output Shape              Param #   \n",
      "=================================================================\n",
      "dense (Dense)                (None, 40)                480       \n",
      "_________________________________________________________________\n",
      "dropout (Dropout)            (None, 40)                0         \n",
      "_________________________________________________________________\n",
      "dense_1 (Dense)              (None, 40)                1640      \n",
      "_________________________________________________________________\n",
      "dropout_1 (Dropout)          (None, 40)                0         \n",
      "_________________________________________________________________\n",
      "dense_2 (Dense)              (None, 56)                2296      \n",
      "_________________________________________________________________\n",
      "dropout_2 (Dropout)          (None, 56)                0         \n",
      "_________________________________________________________________\n",
      "dense_3 (Dense)              (None, 80)                4560      \n",
      "_________________________________________________________________\n",
      "dropout_3 (Dropout)          (None, 80)                0         \n",
      "_________________________________________________________________\n",
      "dense_4 (Dense)              (None, 1)                 81        \n",
      "=================================================================\n",
      "Total params: 9,057\n",
      "Trainable params: 9,057\n",
      "Non-trainable params: 0\n",
      "_________________________________________________________________\n"
     ]
    }
   ],
   "source": [
    "model_kt.summary()"
   ]
  },
  {
   "cell_type": "code",
   "execution_count": 34,
   "metadata": {
    "scrolled": true
   },
   "outputs": [
    {
     "name": "stdout",
     "output_type": "stream",
     "text": [
      "Epoch 1/100\n",
      "469/469 [==============================] - 1s 2ms/step - loss: 0.4366 - accuracy: 0.8224 - val_loss: 0.4309 - val_accuracy: 0.7971\n",
      "Epoch 2/100\n",
      "469/469 [==============================] - 1s 1ms/step - loss: 0.4301 - accuracy: 0.8258 - val_loss: 0.3955 - val_accuracy: 0.8239\n",
      "Epoch 3/100\n",
      "469/469 [==============================] - 1s 1ms/step - loss: 0.4017 - accuracy: 0.8322 - val_loss: 0.3918 - val_accuracy: 0.8403\n",
      "Epoch 4/100\n",
      "469/469 [==============================] - 1s 1ms/step - loss: 0.4053 - accuracy: 0.8296 - val_loss: 0.3861 - val_accuracy: 0.8503\n",
      "Epoch 5/100\n",
      "469/469 [==============================] - 1s 1ms/step - loss: 0.4058 - accuracy: 0.8330 - val_loss: 0.4062 - val_accuracy: 0.8325\n",
      "Epoch 6/100\n",
      "469/469 [==============================] - 1s 1ms/step - loss: 0.4068 - accuracy: 0.8396 - val_loss: 0.3768 - val_accuracy: 0.8412\n",
      "Epoch 7/100\n",
      "469/469 [==============================] - 1s 1ms/step - loss: 0.4098 - accuracy: 0.8302 - val_loss: 0.3911 - val_accuracy: 0.8196\n",
      "Epoch 8/100\n",
      "469/469 [==============================] - 1s 1ms/step - loss: 0.3959 - accuracy: 0.8345 - val_loss: 0.3931 - val_accuracy: 0.8464\n",
      "Epoch 9/100\n",
      "469/469 [==============================] - 1s 2ms/step - loss: 0.3951 - accuracy: 0.8383 - val_loss: 0.3840 - val_accuracy: 0.8425\n",
      "Epoch 10/100\n",
      "469/469 [==============================] - 1s 1ms/step - loss: 0.4127 - accuracy: 0.8356 - val_loss: 0.4016 - val_accuracy: 0.8317\n",
      "Epoch 11/100\n",
      "469/469 [==============================] - 1s 2ms/step - loss: 0.4084 - accuracy: 0.8305 - val_loss: 0.3866 - val_accuracy: 0.8438\n",
      "Epoch 12/100\n",
      "469/469 [==============================] - 1s 1ms/step - loss: 0.4108 - accuracy: 0.8302 - val_loss: 0.3985 - val_accuracy: 0.8152\n",
      "Epoch 13/100\n",
      "469/469 [==============================] - 1s 2ms/step - loss: 0.3968 - accuracy: 0.8347 - val_loss: 0.4031 - val_accuracy: 0.8165\n",
      "Epoch 14/100\n",
      "469/469 [==============================] - 1s 1ms/step - loss: 0.3915 - accuracy: 0.8418 - val_loss: 0.4346 - val_accuracy: 0.8390\n",
      "Epoch 15/100\n",
      "469/469 [==============================] - 1s 1ms/step - loss: 0.3957 - accuracy: 0.8294 - val_loss: 0.3863 - val_accuracy: 0.8360\n",
      "Epoch 16/100\n",
      "469/469 [==============================] - 1s 1ms/step - loss: 0.4068 - accuracy: 0.8281 - val_loss: 0.3778 - val_accuracy: 0.8377\n",
      "Epoch 17/100\n",
      "469/469 [==============================] - 1s 1ms/step - loss: 0.4056 - accuracy: 0.8251 - val_loss: 0.3787 - val_accuracy: 0.8239\n",
      "Epoch 18/100\n",
      "469/469 [==============================] - 1s 1ms/step - loss: 0.3891 - accuracy: 0.8307 - val_loss: 0.3905 - val_accuracy: 0.8395\n",
      "Epoch 19/100\n",
      "469/469 [==============================] - 1s 2ms/step - loss: 0.4045 - accuracy: 0.8371 - val_loss: 0.3947 - val_accuracy: 0.8295\n",
      "Epoch 20/100\n",
      "469/469 [==============================] - 1s 1ms/step - loss: 0.4055 - accuracy: 0.8347 - val_loss: 0.3746 - val_accuracy: 0.8442\n",
      "Epoch 21/100\n",
      "469/469 [==============================] - 1s 1ms/step - loss: 0.4036 - accuracy: 0.8354 - val_loss: 0.3921 - val_accuracy: 0.8187\n",
      "Epoch 22/100\n",
      "469/469 [==============================] - 1s 1ms/step - loss: 0.3849 - accuracy: 0.8422 - val_loss: 0.3788 - val_accuracy: 0.8455\n",
      "Epoch 23/100\n",
      "469/469 [==============================] - 1s 1ms/step - loss: 0.4064 - accuracy: 0.8351 - val_loss: 0.3856 - val_accuracy: 0.8248\n",
      "Epoch 24/100\n",
      "469/469 [==============================] - 1s 1ms/step - loss: 0.3839 - accuracy: 0.8407 - val_loss: 0.3879 - val_accuracy: 0.8183\n",
      "Epoch 25/100\n",
      "469/469 [==============================] - 1s 1ms/step - loss: 0.3894 - accuracy: 0.8381 - val_loss: 0.3681 - val_accuracy: 0.8447\n",
      "Epoch 26/100\n",
      "469/469 [==============================] - 1s 1ms/step - loss: 0.3987 - accuracy: 0.8326 - val_loss: 0.3904 - val_accuracy: 0.8425\n",
      "Epoch 27/100\n",
      "469/469 [==============================] - 1s 1ms/step - loss: 0.4113 - accuracy: 0.8232 - val_loss: 0.3878 - val_accuracy: 0.8317\n",
      "Epoch 28/100\n",
      "469/469 [==============================] - 1s 1ms/step - loss: 0.3972 - accuracy: 0.8313 - val_loss: 0.3739 - val_accuracy: 0.8460\n",
      "Epoch 29/100\n",
      "469/469 [==============================] - 1s 1ms/step - loss: 0.3943 - accuracy: 0.8347 - val_loss: 0.3840 - val_accuracy: 0.8338\n",
      "Epoch 30/100\n",
      "469/469 [==============================] - 1s 1ms/step - loss: 0.3952 - accuracy: 0.8343 - val_loss: 0.3788 - val_accuracy: 0.8395\n",
      "Epoch 31/100\n",
      "469/469 [==============================] - 1s 1ms/step - loss: 0.4092 - accuracy: 0.8294 - val_loss: 0.3835 - val_accuracy: 0.8356\n",
      "Epoch 32/100\n",
      "469/469 [==============================] - 1s 1ms/step - loss: 0.3931 - accuracy: 0.8345 - val_loss: 0.4047 - val_accuracy: 0.8191\n",
      "Epoch 33/100\n",
      "469/469 [==============================] - 1s 1ms/step - loss: 0.3849 - accuracy: 0.8369 - val_loss: 0.3775 - val_accuracy: 0.8442\n",
      "Epoch 34/100\n",
      "469/469 [==============================] - 1s 1ms/step - loss: 0.3959 - accuracy: 0.8334 - val_loss: 0.3813 - val_accuracy: 0.8468\n",
      "Epoch 35/100\n",
      "469/469 [==============================] - 1s 1ms/step - loss: 0.4003 - accuracy: 0.8354 - val_loss: 0.3878 - val_accuracy: 0.8382\n",
      "Epoch 36/100\n",
      "469/469 [==============================] - 1s 1ms/step - loss: 0.3924 - accuracy: 0.8377 - val_loss: 0.3937 - val_accuracy: 0.8204\n",
      "Epoch 37/100\n",
      "469/469 [==============================] - 1s 1ms/step - loss: 0.3875 - accuracy: 0.8364 - val_loss: 0.3859 - val_accuracy: 0.8412\n",
      "Epoch 38/100\n",
      "469/469 [==============================] - 1s 1ms/step - loss: 0.4089 - accuracy: 0.8326 - val_loss: 0.3960 - val_accuracy: 0.8183\n",
      "Epoch 39/100\n",
      "469/469 [==============================] - 1s 1ms/step - loss: 0.3882 - accuracy: 0.8379 - val_loss: 0.3840 - val_accuracy: 0.8477\n",
      "Epoch 40/100\n",
      "469/469 [==============================] - 1s 1ms/step - loss: 0.3885 - accuracy: 0.8371 - val_loss: 0.3787 - val_accuracy: 0.8403\n",
      "Epoch 41/100\n",
      "469/469 [==============================] - 1s 1ms/step - loss: 0.4007 - accuracy: 0.8377 - val_loss: 0.3831 - val_accuracy: 0.8412\n",
      "Epoch 42/100\n",
      "469/469 [==============================] - 1s 1ms/step - loss: 0.3872 - accuracy: 0.8437 - val_loss: 0.4019 - val_accuracy: 0.8157\n",
      "Epoch 43/100\n",
      "469/469 [==============================] - 1s 1ms/step - loss: 0.3942 - accuracy: 0.8339 - val_loss: 0.3903 - val_accuracy: 0.8170\n",
      "Epoch 44/100\n",
      "469/469 [==============================] - 1s 1ms/step - loss: 0.4135 - accuracy: 0.8290 - val_loss: 0.3831 - val_accuracy: 0.8330\n",
      "Epoch 45/100\n",
      "469/469 [==============================] - 1s 1ms/step - loss: 0.3965 - accuracy: 0.8313 - val_loss: 0.3840 - val_accuracy: 0.8304\n",
      "Epoch 46/100\n",
      "469/469 [==============================] - 1s 1ms/step - loss: 0.3969 - accuracy: 0.8364 - val_loss: 0.3823 - val_accuracy: 0.8473\n",
      "Epoch 47/100\n",
      "469/469 [==============================] - 1s 1ms/step - loss: 0.3823 - accuracy: 0.8377 - val_loss: 0.3790 - val_accuracy: 0.8364\n",
      "Epoch 48/100\n",
      "469/469 [==============================] - 1s 1ms/step - loss: 0.4000 - accuracy: 0.8351 - val_loss: 0.3873 - val_accuracy: 0.8451\n",
      "Epoch 49/100\n",
      "469/469 [==============================] - 1s 1ms/step - loss: 0.4038 - accuracy: 0.8347 - val_loss: 0.3760 - val_accuracy: 0.8425\n",
      "Epoch 50/100\n",
      "469/469 [==============================] - 1s 1ms/step - loss: 0.3851 - accuracy: 0.8386 - val_loss: 0.3958 - val_accuracy: 0.8438\n",
      "Epoch 51/100\n",
      "469/469 [==============================] - 1s 1ms/step - loss: 0.3981 - accuracy: 0.8313 - val_loss: 0.3914 - val_accuracy: 0.8299\n",
      "Epoch 52/100\n",
      "469/469 [==============================] - 1s 1ms/step - loss: 0.4011 - accuracy: 0.8354 - val_loss: 0.4053 - val_accuracy: 0.8226\n",
      "Epoch 53/100\n",
      "469/469 [==============================] - 1s 1ms/step - loss: 0.3986 - accuracy: 0.8373 - val_loss: 0.3980 - val_accuracy: 0.8209\n",
      "Epoch 54/100\n",
      "469/469 [==============================] - 1s 1ms/step - loss: 0.3976 - accuracy: 0.8362 - val_loss: 0.4141 - val_accuracy: 0.8382\n",
      "Epoch 55/100\n",
      "469/469 [==============================] - 1s 1ms/step - loss: 0.4116 - accuracy: 0.8337 - val_loss: 0.3819 - val_accuracy: 0.8421\n",
      "Epoch 56/100\n",
      "469/469 [==============================] - 1s 1ms/step - loss: 0.3992 - accuracy: 0.8375 - val_loss: 0.3808 - val_accuracy: 0.8416\n",
      "Epoch 57/100\n",
      "469/469 [==============================] - 1s 1ms/step - loss: 0.3871 - accuracy: 0.8383 - val_loss: 0.3945 - val_accuracy: 0.8416\n"
     ]
    },
    {
     "name": "stdout",
     "output_type": "stream",
     "text": [
      "Epoch 58/100\n",
      "469/469 [==============================] - 1s 1ms/step - loss: 0.3879 - accuracy: 0.8401 - val_loss: 0.3796 - val_accuracy: 0.8395\n",
      "Epoch 59/100\n",
      "469/469 [==============================] - 1s 1ms/step - loss: 0.3900 - accuracy: 0.8383 - val_loss: 0.3718 - val_accuracy: 0.8464\n",
      "Epoch 60/100\n",
      "469/469 [==============================] - 1s 1ms/step - loss: 0.3836 - accuracy: 0.8464 - val_loss: 0.3883 - val_accuracy: 0.8265\n",
      "Epoch 61/100\n",
      "469/469 [==============================] - 1s 1ms/step - loss: 0.3857 - accuracy: 0.8339 - val_loss: 0.3757 - val_accuracy: 0.8429\n",
      "Epoch 62/100\n",
      "469/469 [==============================] - 1s 1ms/step - loss: 0.3985 - accuracy: 0.8413 - val_loss: 0.3892 - val_accuracy: 0.8209\n",
      "Epoch 63/100\n",
      "469/469 [==============================] - 1s 1ms/step - loss: 0.3975 - accuracy: 0.8351 - val_loss: 0.3736 - val_accuracy: 0.8369\n",
      "Epoch 64/100\n",
      "469/469 [==============================] - 1s 1ms/step - loss: 0.3895 - accuracy: 0.8386 - val_loss: 0.3745 - val_accuracy: 0.8494\n",
      "Epoch 65/100\n",
      "469/469 [==============================] - 1s 1ms/step - loss: 0.3948 - accuracy: 0.8377 - val_loss: 0.3968 - val_accuracy: 0.8390\n",
      "Epoch 66/100\n",
      "469/469 [==============================] - 1s 1ms/step - loss: 0.3839 - accuracy: 0.8377 - val_loss: 0.3767 - val_accuracy: 0.8395\n",
      "Epoch 67/100\n",
      "469/469 [==============================] - 1s 1ms/step - loss: 0.3933 - accuracy: 0.8373 - val_loss: 0.3864 - val_accuracy: 0.8330\n",
      "Epoch 68/100\n",
      "469/469 [==============================] - 1s 1ms/step - loss: 0.4135 - accuracy: 0.8292 - val_loss: 0.4043 - val_accuracy: 0.8429\n",
      "Epoch 69/100\n",
      "469/469 [==============================] - 1s 1ms/step - loss: 0.4781 - accuracy: 0.8232 - val_loss: 0.3836 - val_accuracy: 0.8434\n",
      "Epoch 70/100\n",
      "469/469 [==============================] - 1s 1ms/step - loss: 0.4045 - accuracy: 0.8247 - val_loss: 0.4081 - val_accuracy: 0.8135\n",
      "Epoch 71/100\n",
      "469/469 [==============================] - 1s 1ms/step - loss: 0.3947 - accuracy: 0.8354 - val_loss: 0.3824 - val_accuracy: 0.8425\n",
      "Epoch 72/100\n",
      "469/469 [==============================] - 1s 1ms/step - loss: 0.3965 - accuracy: 0.8317 - val_loss: 0.3713 - val_accuracy: 0.8416\n",
      "Epoch 73/100\n",
      "469/469 [==============================] - 1s 1ms/step - loss: 0.3869 - accuracy: 0.8371 - val_loss: 0.3784 - val_accuracy: 0.8382\n",
      "Epoch 74/100\n",
      "469/469 [==============================] - 1s 1ms/step - loss: 0.3914 - accuracy: 0.8383 - val_loss: 0.3664 - val_accuracy: 0.8507\n",
      "Epoch 75/100\n",
      "469/469 [==============================] - 1s 1ms/step - loss: 0.4210 - accuracy: 0.8358 - val_loss: 0.3789 - val_accuracy: 0.8317\n",
      "Epoch 76/100\n",
      "469/469 [==============================] - 1s 1ms/step - loss: 0.3860 - accuracy: 0.8358 - val_loss: 0.3890 - val_accuracy: 0.8178\n",
      "Epoch 77/100\n",
      "469/469 [==============================] - 1s 1ms/step - loss: 0.3899 - accuracy: 0.8354 - val_loss: 0.3675 - val_accuracy: 0.8490\n",
      "Epoch 78/100\n",
      "469/469 [==============================] - 1s 1ms/step - loss: 0.3827 - accuracy: 0.8447 - val_loss: 0.3688 - val_accuracy: 0.8520\n",
      "Epoch 79/100\n",
      "469/469 [==============================] - 1s 1ms/step - loss: 0.4267 - accuracy: 0.8330 - val_loss: 0.3802 - val_accuracy: 0.8334\n",
      "Epoch 80/100\n",
      "469/469 [==============================] - 1s 1ms/step - loss: 0.3942 - accuracy: 0.8383 - val_loss: 0.3755 - val_accuracy: 0.8447\n",
      "Epoch 81/100\n",
      "469/469 [==============================] - 1s 1ms/step - loss: 0.4122 - accuracy: 0.8354 - val_loss: 0.3845 - val_accuracy: 0.8408\n",
      "Epoch 82/100\n",
      "469/469 [==============================] - 1s 1ms/step - loss: 0.4032 - accuracy: 0.8319 - val_loss: 0.3676 - val_accuracy: 0.8403\n",
      "Epoch 83/100\n",
      "469/469 [==============================] - 1s 1ms/step - loss: 0.4015 - accuracy: 0.8337 - val_loss: 0.3781 - val_accuracy: 0.8460\n",
      "Epoch 84/100\n",
      "469/469 [==============================] - 1s 1ms/step - loss: 0.4125 - accuracy: 0.8241 - val_loss: 0.3840 - val_accuracy: 0.8425\n",
      "Epoch 85/100\n",
      "469/469 [==============================] - 1s 1ms/step - loss: 0.4040 - accuracy: 0.8330 - val_loss: 0.3810 - val_accuracy: 0.8416\n",
      "Epoch 86/100\n",
      "469/469 [==============================] - 1s 1ms/step - loss: 0.4018 - accuracy: 0.8360 - val_loss: 0.3969 - val_accuracy: 0.8343\n",
      "Epoch 87/100\n",
      "469/469 [==============================] - 1s 1ms/step - loss: 0.4144 - accuracy: 0.8369 - val_loss: 0.3772 - val_accuracy: 0.8486\n",
      "Epoch 88/100\n",
      "469/469 [==============================] - 1s 1ms/step - loss: 0.4334 - accuracy: 0.8313 - val_loss: 0.4062 - val_accuracy: 0.8312\n",
      "Epoch 89/100\n",
      "469/469 [==============================] - 1s 1ms/step - loss: 0.4218 - accuracy: 0.8341 - val_loss: 0.3825 - val_accuracy: 0.8447\n",
      "Epoch 90/100\n",
      "469/469 [==============================] - 1s 1ms/step - loss: 0.3908 - accuracy: 0.8362 - val_loss: 0.4183 - val_accuracy: 0.8412\n",
      "Epoch 91/100\n",
      "469/469 [==============================] - 1s 1ms/step - loss: 0.4187 - accuracy: 0.8371 - val_loss: 0.4179 - val_accuracy: 0.8152\n",
      "Epoch 92/100\n",
      "469/469 [==============================] - 1s 1ms/step - loss: 0.3978 - accuracy: 0.8388 - val_loss: 0.4152 - val_accuracy: 0.8425\n",
      "Epoch 93/100\n",
      "469/469 [==============================] - 1s 1ms/step - loss: 0.4011 - accuracy: 0.8379 - val_loss: 0.3843 - val_accuracy: 0.8464\n",
      "Epoch 94/100\n",
      "469/469 [==============================] - 1s 1ms/step - loss: 0.3923 - accuracy: 0.8405 - val_loss: 0.4026 - val_accuracy: 0.8386\n",
      "Epoch 95/100\n",
      "469/469 [==============================] - 1s 1ms/step - loss: 0.4001 - accuracy: 0.8371 - val_loss: 0.3934 - val_accuracy: 0.8516\n",
      "Epoch 96/100\n",
      "469/469 [==============================] - 1s 1ms/step - loss: 0.4090 - accuracy: 0.8334 - val_loss: 0.4005 - val_accuracy: 0.8196\n",
      "Epoch 97/100\n",
      "469/469 [==============================] - 1s 1ms/step - loss: 0.4290 - accuracy: 0.8319 - val_loss: 0.3923 - val_accuracy: 0.8395\n",
      "Epoch 98/100\n",
      "469/469 [==============================] - 1s 1ms/step - loss: 0.3904 - accuracy: 0.8351 - val_loss: 0.3869 - val_accuracy: 0.8524\n",
      "Epoch 99/100\n",
      "469/469 [==============================] - 1s 1ms/step - loss: 0.4168 - accuracy: 0.8356 - val_loss: 0.3881 - val_accuracy: 0.8412\n",
      "Epoch 100/100\n",
      "469/469 [==============================] - 1s 2ms/step - loss: 0.4214 - accuracy: 0.8392 - val_loss: 0.3826 - val_accuracy: 0.8438\n"
     ]
    }
   ],
   "source": [
    "#fit with batch_size=10 and epochs=100\n",
    "model_history_kt = model_kt.fit(x=X_train, y=y_train, validation_split=0.33, batch_size=10, epochs=100)"
   ]
  },
  {
   "cell_type": "code",
   "execution_count": 35,
   "metadata": {},
   "outputs": [
    {
     "data": {
      "image/png": "[encoded data removed]",
      "text/plain": [
       "<Figure size 432x288 with 1 Axes>"
      ]
     },
     "metadata": {
      "needs_background": "light"
     },
     "output_type": "display_data"
    },
    {
     "data": {
      "image/png": "[encoded data removed]",
      "text/plain": [
       "<Figure size 432x288 with 1 Axes>"
      ]
     },
     "metadata": {
      "needs_background": "light"
     },
     "output_type": "display_data"
    }
   ],
   "source": [
    "# plot the loss\n",
    "plt.plot(model_history_kt.history['loss'], label='train loss')\n",
    "plt.plot(model_history_kt.history['val_loss'], label='val loss')\n",
    "plt.legend()\n",
    "plt.show()\n",
    "\n",
    "# plot the accuracy\n",
    "plt.plot(model_history_kt.history['accuracy'], label='train acc')\n",
    "plt.plot(model_history_kt.history['val_accuracy'], label='val acc')\n",
    "plt.legend()\n",
    "plt.show()"
   ]
  },
  {
   "cell_type": "code",
   "execution_count": 33,
   "metadata": {},
   "outputs": [
    {
     "data": {
      "text/plain": [
       "array([[False],\n",
       "       [False],\n",
       "       [False],\n",
       "       ...,\n",
       "       [False],\n",
       "       [False],\n",
       "       [False]])"
      ]
     },
     "execution_count": 33,
     "metadata": {},
     "output_type": "execute_result"
    }
   ],
   "source": [
    "y_pred = model_kt.predict(X_test)\n",
    "y_pred_binary = y_pred > 0.5\n",
    "y_pred_binary"
   ]
  },
  {
   "cell_type": "code",
   "execution_count": 34,
   "metadata": {},
   "outputs": [
    {
     "data": {
      "text/plain": [
       "array([[2368,   11],\n",
       "       [ 494,  127]], dtype=int64)"
      ]
     },
     "execution_count": 34,
     "metadata": {},
     "output_type": "execute_result"
    }
   ],
   "source": [
    "confusion_matrix(y_test, y_pred_binary)"
   ]
  },
  {
   "cell_type": "code",
   "execution_count": 35,
   "metadata": {},
   "outputs": [
    {
     "data": {
      "text/plain": [
       "0.8316666666666667"
      ]
     },
     "execution_count": 35,
     "metadata": {},
     "output_type": "execute_result"
    }
   ],
   "source": [
    "accuracy_score(y_test, y_pred_binary)"
   ]
  },
  {
   "cell_type": "markdown",
   "metadata": {},
   "source": [
    "Our accuracy changed slightly. However, we know our model structure is not at fault. We simply need more data for better accuracy. Keras-tuner can be extremely helpful for defining a good model for the given task. Running the tuner for more number of trials may provide sightly better results as well."
   ]
  }
 ],
 "metadata": {
  "kernelspec": {
   "display_name": "Python 3",
   "language": "python",
   "name": "python3"
  },
  "language_info": {
   "codemirror_mode": {
    "name": "ipython",
    "version": 3
   },
   "file_extension": ".py",
   "mimetype": "text/x-python",
   "name": "python",
   "nbconvert_exporter": "python",
   "pygments_lexer": "ipython3",
   "version": "3.8.3"
  }
 },
 "nbformat": 4,
 "nbformat_minor": 4
}
