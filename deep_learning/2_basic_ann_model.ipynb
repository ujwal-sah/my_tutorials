{
 "cells": [
  {
   "cell_type": "markdown",
   "metadata": {},
   "source": [
    "## A Typical Tensorflow-Keras based ANN model"
   ]
  },
  {
   "cell_type": "markdown",
   "metadata": {},
   "source": [
    "### Part 1 : Data Handling"
   ]
  },
  {
   "cell_type": "code",
   "execution_count": 1,
   "metadata": {},
   "outputs": [],
   "source": [
    "#imports for handling and visualizing data \n",
    "import numpy as np\n",
    "import matplotlib.pyplot as plt\n",
    "import pandas as pd"
   ]
  },
  {
   "cell_type": "markdown",
   "metadata": {},
   "source": [
    "We will use customer churn data which was taken from Kaggle for learning purpose."
   ]
  },
  {
   "cell_type": "code",
   "execution_count": 2,
   "metadata": {},
   "outputs": [
    {
     "data": {
      "text/html": [
       "<div>\n",
       "<style scoped>\n",
       "    .dataframe tbody tr th:only-of-type {\n",
       "        vertical-align: middle;\n",
       "    }\n",
       "\n",
       "    .dataframe tbody tr th {\n",
       "        vertical-align: top;\n",
       "    }\n",
       "\n",
       "    .dataframe thead th {\n",
       "        text-align: right;\n",
       "    }\n",
       "</style>\n",
       "<table border=\"1\" class=\"dataframe\">\n",
       "  <thead>\n",
       "    <tr style=\"text-align: right;\">\n",
       "      <th></th>\n",
       "      <th>RowNumber</th>\n",
       "      <th>CustomerId</th>\n",
       "      <th>Surname</th>\n",
       "      <th>CreditScore</th>\n",
       "      <th>Geography</th>\n",
       "      <th>Gender</th>\n",
       "      <th>Age</th>\n",
       "      <th>Tenure</th>\n",
       "      <th>Balance</th>\n",
       "      <th>NumOfProducts</th>\n",
       "      <th>HasCrCard</th>\n",
       "      <th>IsActiveMember</th>\n",
       "      <th>EstimatedSalary</th>\n",
       "      <th>Exited</th>\n",
       "    </tr>\n",
       "  </thead>\n",
       "  <tbody>\n",
       "    <tr>\n",
       "      <th>0</th>\n",
       "      <td>1</td>\n",
       "      <td>15634602</td>\n",
       "      <td>Hargrave</td>\n",
       "      <td>619</td>\n",
       "      <td>France</td>\n",
       "      <td>Female</td>\n",
       "      <td>42</td>\n",
       "      <td>2</td>\n",
       "      <td>0.00</td>\n",
       "      <td>1</td>\n",
       "      <td>1</td>\n",
       "      <td>1</td>\n",
       "      <td>101348.88</td>\n",
       "      <td>1</td>\n",
       "    </tr>\n",
       "    <tr>\n",
       "      <th>1</th>\n",
       "      <td>2</td>\n",
       "      <td>15647311</td>\n",
       "      <td>Hill</td>\n",
       "      <td>608</td>\n",
       "      <td>Spain</td>\n",
       "      <td>Female</td>\n",
       "      <td>41</td>\n",
       "      <td>1</td>\n",
       "      <td>83807.86</td>\n",
       "      <td>1</td>\n",
       "      <td>0</td>\n",
       "      <td>1</td>\n",
       "      <td>112542.58</td>\n",
       "      <td>0</td>\n",
       "    </tr>\n",
       "    <tr>\n",
       "      <th>2</th>\n",
       "      <td>3</td>\n",
       "      <td>15619304</td>\n",
       "      <td>Onio</td>\n",
       "      <td>502</td>\n",
       "      <td>France</td>\n",
       "      <td>Female</td>\n",
       "      <td>42</td>\n",
       "      <td>8</td>\n",
       "      <td>159660.80</td>\n",
       "      <td>3</td>\n",
       "      <td>1</td>\n",
       "      <td>0</td>\n",
       "      <td>113931.57</td>\n",
       "      <td>1</td>\n",
       "    </tr>\n",
       "    <tr>\n",
       "      <th>3</th>\n",
       "      <td>4</td>\n",
       "      <td>15701354</td>\n",
       "      <td>Boni</td>\n",
       "      <td>699</td>\n",
       "      <td>France</td>\n",
       "      <td>Female</td>\n",
       "      <td>39</td>\n",
       "      <td>1</td>\n",
       "      <td>0.00</td>\n",
       "      <td>2</td>\n",
       "      <td>0</td>\n",
       "      <td>0</td>\n",
       "      <td>93826.63</td>\n",
       "      <td>0</td>\n",
       "    </tr>\n",
       "    <tr>\n",
       "      <th>4</th>\n",
       "      <td>5</td>\n",
       "      <td>15737888</td>\n",
       "      <td>Mitchell</td>\n",
       "      <td>850</td>\n",
       "      <td>Spain</td>\n",
       "      <td>Female</td>\n",
       "      <td>43</td>\n",
       "      <td>2</td>\n",
       "      <td>125510.82</td>\n",
       "      <td>1</td>\n",
       "      <td>1</td>\n",
       "      <td>1</td>\n",
       "      <td>79084.10</td>\n",
       "      <td>0</td>\n",
       "    </tr>\n",
       "  </tbody>\n",
       "</table>\n",
       "</div>"
      ],
      "text/plain": [
       "   RowNumber  CustomerId   Surname  CreditScore Geography  Gender  Age  \\\n",
       "0          1    15634602  Hargrave          619    France  Female   42   \n",
       "1          2    15647311      Hill          608     Spain  Female   41   \n",
       "2          3    15619304      Onio          502    France  Female   42   \n",
       "3          4    15701354      Boni          699    France  Female   39   \n",
       "4          5    15737888  Mitchell          850     Spain  Female   43   \n",
       "\n",
       "   Tenure    Balance  NumOfProducts  HasCrCard  IsActiveMember  \\\n",
       "0       2       0.00              1          1               1   \n",
       "1       1   83807.86              1          0               1   \n",
       "2       8  159660.80              3          1               0   \n",
       "3       1       0.00              2          0               0   \n",
       "4       2  125510.82              1          1               1   \n",
       "\n",
       "   EstimatedSalary  Exited  \n",
       "0        101348.88       1  \n",
       "1        112542.58       0  \n",
       "2        113931.57       1  \n",
       "3         93826.63       0  \n",
       "4         79084.10       0  "
      ]
     },
     "execution_count": 2,
     "metadata": {},
     "output_type": "execute_result"
    }
   ],
   "source": [
    "dataset = pd.read_csv(\"https://raw.githubusercontent.com/krishnaik06/Complete-Deep-Learning/master/ANN/Churn_Modelling.csv\")\n",
    "dataset.head()"
   ]
  },
  {
   "cell_type": "code",
   "execution_count": 3,
   "metadata": {},
   "outputs": [
    {
     "data": {
      "text/plain": [
       "(10000, 14)"
      ]
     },
     "execution_count": 3,
     "metadata": {},
     "output_type": "execute_result"
    }
   ],
   "source": [
    "dataset.shape"
   ]
  },
  {
   "cell_type": "markdown",
   "metadata": {},
   "source": [
    "The dataset has 13 features out of which \"Exited\" column is the dependent feature and the rest are independent features"
   ]
  },
  {
   "cell_type": "markdown",
   "metadata": {},
   "source": [
    "Columns \"RowNumber\", \"CustomerId\" and \"Surname\" are not related to churn behaviour and thus we will exclude them from our independent features for training."
   ]
  },
  {
   "cell_type": "code",
   "execution_count": 4,
   "metadata": {},
   "outputs": [],
   "source": [
    "X = dataset.iloc[:, 3:-1]\n",
    "y = dataset.iloc[:, -1]"
   ]
  },
  {
   "cell_type": "code",
   "execution_count": 5,
   "metadata": {},
   "outputs": [
    {
     "name": "stdout",
     "output_type": "stream",
     "text": [
      "(10000, 10)\n",
      "(10000,)\n"
     ]
    }
   ],
   "source": [
    "print(X.shape)\n",
    "print(y.shape)"
   ]
  },
  {
   "cell_type": "code",
   "execution_count": 6,
   "metadata": {},
   "outputs": [
    {
     "data": {
      "text/html": [
       "<div>\n",
       "<style scoped>\n",
       "    .dataframe tbody tr th:only-of-type {\n",
       "        vertical-align: middle;\n",
       "    }\n",
       "\n",
       "    .dataframe tbody tr th {\n",
       "        vertical-align: top;\n",
       "    }\n",
       "\n",
       "    .dataframe thead th {\n",
       "        text-align: right;\n",
       "    }\n",
       "</style>\n",
       "<table border=\"1\" class=\"dataframe\">\n",
       "  <thead>\n",
       "    <tr style=\"text-align: right;\">\n",
       "      <th></th>\n",
       "      <th>CreditScore</th>\n",
       "      <th>Geography</th>\n",
       "      <th>Gender</th>\n",
       "      <th>Age</th>\n",
       "      <th>Tenure</th>\n",
       "      <th>Balance</th>\n",
       "      <th>NumOfProducts</th>\n",
       "      <th>HasCrCard</th>\n",
       "      <th>IsActiveMember</th>\n",
       "      <th>EstimatedSalary</th>\n",
       "    </tr>\n",
       "  </thead>\n",
       "  <tbody>\n",
       "    <tr>\n",
       "      <th>0</th>\n",
       "      <td>619</td>\n",
       "      <td>France</td>\n",
       "      <td>Female</td>\n",
       "      <td>42</td>\n",
       "      <td>2</td>\n",
       "      <td>0.00</td>\n",
       "      <td>1</td>\n",
       "      <td>1</td>\n",
       "      <td>1</td>\n",
       "      <td>101348.88</td>\n",
       "    </tr>\n",
       "    <tr>\n",
       "      <th>1</th>\n",
       "      <td>608</td>\n",
       "      <td>Spain</td>\n",
       "      <td>Female</td>\n",
       "      <td>41</td>\n",
       "      <td>1</td>\n",
       "      <td>83807.86</td>\n",
       "      <td>1</td>\n",
       "      <td>0</td>\n",
       "      <td>1</td>\n",
       "      <td>112542.58</td>\n",
       "    </tr>\n",
       "    <tr>\n",
       "      <th>2</th>\n",
       "      <td>502</td>\n",
       "      <td>France</td>\n",
       "      <td>Female</td>\n",
       "      <td>42</td>\n",
       "      <td>8</td>\n",
       "      <td>159660.80</td>\n",
       "      <td>3</td>\n",
       "      <td>1</td>\n",
       "      <td>0</td>\n",
       "      <td>113931.57</td>\n",
       "    </tr>\n",
       "    <tr>\n",
       "      <th>3</th>\n",
       "      <td>699</td>\n",
       "      <td>France</td>\n",
       "      <td>Female</td>\n",
       "      <td>39</td>\n",
       "      <td>1</td>\n",
       "      <td>0.00</td>\n",
       "      <td>2</td>\n",
       "      <td>0</td>\n",
       "      <td>0</td>\n",
       "      <td>93826.63</td>\n",
       "    </tr>\n",
       "    <tr>\n",
       "      <th>4</th>\n",
       "      <td>850</td>\n",
       "      <td>Spain</td>\n",
       "      <td>Female</td>\n",
       "      <td>43</td>\n",
       "      <td>2</td>\n",
       "      <td>125510.82</td>\n",
       "      <td>1</td>\n",
       "      <td>1</td>\n",
       "      <td>1</td>\n",
       "      <td>79084.10</td>\n",
       "    </tr>\n",
       "  </tbody>\n",
       "</table>\n",
       "</div>"
      ],
      "text/plain": [
       "   CreditScore Geography  Gender  Age  Tenure    Balance  NumOfProducts  \\\n",
       "0          619    France  Female   42       2       0.00              1   \n",
       "1          608     Spain  Female   41       1   83807.86              1   \n",
       "2          502    France  Female   42       8  159660.80              3   \n",
       "3          699    France  Female   39       1       0.00              2   \n",
       "4          850     Spain  Female   43       2  125510.82              1   \n",
       "\n",
       "   HasCrCard  IsActiveMember  EstimatedSalary  \n",
       "0          1               1        101348.88  \n",
       "1          0               1        112542.58  \n",
       "2          1               0        113931.57  \n",
       "3          0               0         93826.63  \n",
       "4          1               1         79084.10  "
      ]
     },
     "execution_count": 6,
     "metadata": {},
     "output_type": "execute_result"
    }
   ],
   "source": [
    "X.head()"
   ]
  },
  {
   "cell_type": "markdown",
   "metadata": {},
   "source": [
    "Geography and Gender are nominal categorical features here. We will use one hot encoding to encode them."
   ]
  },
  {
   "cell_type": "code",
   "execution_count": 7,
   "metadata": {},
   "outputs": [
    {
     "data": {
      "text/html": [
       "<div>\n",
       "<style scoped>\n",
       "    .dataframe tbody tr th:only-of-type {\n",
       "        vertical-align: middle;\n",
       "    }\n",
       "\n",
       "    .dataframe tbody tr th {\n",
       "        vertical-align: top;\n",
       "    }\n",
       "\n",
       "    .dataframe thead th {\n",
       "        text-align: right;\n",
       "    }\n",
       "</style>\n",
       "<table border=\"1\" class=\"dataframe\">\n",
       "  <thead>\n",
       "    <tr style=\"text-align: right;\">\n",
       "      <th></th>\n",
       "      <th>CreditScore</th>\n",
       "      <th>Age</th>\n",
       "      <th>Tenure</th>\n",
       "      <th>Balance</th>\n",
       "      <th>NumOfProducts</th>\n",
       "      <th>HasCrCard</th>\n",
       "      <th>IsActiveMember</th>\n",
       "      <th>EstimatedSalary</th>\n",
       "      <th>Geography_Germany</th>\n",
       "      <th>Geography_Spain</th>\n",
       "      <th>Gender_Male</th>\n",
       "    </tr>\n",
       "  </thead>\n",
       "  <tbody>\n",
       "    <tr>\n",
       "      <th>0</th>\n",
       "      <td>619</td>\n",
       "      <td>42</td>\n",
       "      <td>2</td>\n",
       "      <td>0.00</td>\n",
       "      <td>1</td>\n",
       "      <td>1</td>\n",
       "      <td>1</td>\n",
       "      <td>101348.88</td>\n",
       "      <td>0</td>\n",
       "      <td>0</td>\n",
       "      <td>0</td>\n",
       "    </tr>\n",
       "    <tr>\n",
       "      <th>1</th>\n",
       "      <td>608</td>\n",
       "      <td>41</td>\n",
       "      <td>1</td>\n",
       "      <td>83807.86</td>\n",
       "      <td>1</td>\n",
       "      <td>0</td>\n",
       "      <td>1</td>\n",
       "      <td>112542.58</td>\n",
       "      <td>0</td>\n",
       "      <td>1</td>\n",
       "      <td>0</td>\n",
       "    </tr>\n",
       "    <tr>\n",
       "      <th>2</th>\n",
       "      <td>502</td>\n",
       "      <td>42</td>\n",
       "      <td>8</td>\n",
       "      <td>159660.80</td>\n",
       "      <td>3</td>\n",
       "      <td>1</td>\n",
       "      <td>0</td>\n",
       "      <td>113931.57</td>\n",
       "      <td>0</td>\n",
       "      <td>0</td>\n",
       "      <td>0</td>\n",
       "    </tr>\n",
       "    <tr>\n",
       "      <th>3</th>\n",
       "      <td>699</td>\n",
       "      <td>39</td>\n",
       "      <td>1</td>\n",
       "      <td>0.00</td>\n",
       "      <td>2</td>\n",
       "      <td>0</td>\n",
       "      <td>0</td>\n",
       "      <td>93826.63</td>\n",
       "      <td>0</td>\n",
       "      <td>0</td>\n",
       "      <td>0</td>\n",
       "    </tr>\n",
       "    <tr>\n",
       "      <th>4</th>\n",
       "      <td>850</td>\n",
       "      <td>43</td>\n",
       "      <td>2</td>\n",
       "      <td>125510.82</td>\n",
       "      <td>1</td>\n",
       "      <td>1</td>\n",
       "      <td>1</td>\n",
       "      <td>79084.10</td>\n",
       "      <td>0</td>\n",
       "      <td>1</td>\n",
       "      <td>0</td>\n",
       "    </tr>\n",
       "  </tbody>\n",
       "</table>\n",
       "</div>"
      ],
      "text/plain": [
       "   CreditScore  Age  Tenure    Balance  NumOfProducts  HasCrCard  \\\n",
       "0          619   42       2       0.00              1          1   \n",
       "1          608   41       1   83807.86              1          0   \n",
       "2          502   42       8  159660.80              3          1   \n",
       "3          699   39       1       0.00              2          0   \n",
       "4          850   43       2  125510.82              1          1   \n",
       "\n",
       "   IsActiveMember  EstimatedSalary  Geography_Germany  Geography_Spain  \\\n",
       "0               1        101348.88                  0                0   \n",
       "1               1        112542.58                  0                1   \n",
       "2               0        113931.57                  0                0   \n",
       "3               0         93826.63                  0                0   \n",
       "4               1         79084.10                  0                1   \n",
       "\n",
       "   Gender_Male  \n",
       "0            0  \n",
       "1            0  \n",
       "2            0  \n",
       "3            0  \n",
       "4            0  "
      ]
     },
     "execution_count": 7,
     "metadata": {},
     "output_type": "execute_result"
    }
   ],
   "source": [
    "X = pd.get_dummies(X, columns=[\"Geography\", \"Gender\"], drop_first=True)\n",
    "X.head()"
   ]
  },
  {
   "cell_type": "markdown",
   "metadata": {},
   "source": [
    "We will split the data in training and testing set with the help of train_test_split."
   ]
  },
  {
   "cell_type": "code",
   "execution_count": 8,
   "metadata": {},
   "outputs": [],
   "source": [
    "from sklearn.model_selection import train_test_split"
   ]
  },
  {
   "cell_type": "markdown",
   "metadata": {},
   "source": [
    "We will use 30 percent of data as test data."
   ]
  },
  {
   "cell_type": "code",
   "execution_count": 9,
   "metadata": {},
   "outputs": [],
   "source": [
    "X_train, X_test, y_train, y_test = train_test_split(X, y, test_size=0.3, random_state=0)"
   ]
  },
  {
   "cell_type": "markdown",
   "metadata": {},
   "source": [
    "We need to scale our data before training our model as it will improve convergence speed. We will use standard scaler."
   ]
  },
  {
   "cell_type": "code",
   "execution_count": 10,
   "metadata": {},
   "outputs": [],
   "source": [
    "#import\n",
    "from sklearn.preprocessing import StandardScaler\n",
    "#instansiate\n",
    "sc = StandardScaler()"
   ]
  },
  {
   "cell_type": "code",
   "execution_count": 11,
   "metadata": {},
   "outputs": [],
   "source": [
    "#fit_transform\n",
    "X_train = sc.fit_transform(X_train)\n",
    "X_test = sc.fit_transform(X_test)"
   ]
  },
  {
   "cell_type": "markdown",
   "metadata": {},
   "source": [
    "### Part 2 : Building a Simple ANN model"
   ]
  },
  {
   "cell_type": "markdown",
   "metadata": {},
   "source": [
    "We will use keras to build our ANN model. The code will follow syntax for tensorflow version greator than 2.0."
   ]
  },
  {
   "cell_type": "code",
   "execution_count": 12,
   "metadata": {},
   "outputs": [],
   "source": [
    "from tensorflow.keras.models import Sequential\n",
    "from tensorflow.keras.layers import Dense, Dropout"
   ]
  },
  {
   "cell_type": "markdown",
   "metadata": {},
   "source": [
    "Like traditional machine learning models (logistic regression, KNN), deep learning models built with keras have a defined structure. The instantiate step for a deep learning model is longer than models like KNN. It includes defining the model and compiling the model."
   ]
  },
  {
   "cell_type": "code",
   "execution_count": 13,
   "metadata": {},
   "outputs": [],
   "source": [
    "#A simple ANN\n",
    "\n",
    "#instantiate\n",
    "#i.define model\n",
    "model = Sequential()\n",
    "\n",
    "#first hidden layer and visible layer\n",
    "#note that we generally use \"he_uniform\" and \"he_normal\" as weight initialization for \"relu\" activation\n",
    "#units specifies the number of neurons in the layer\n",
    "#input_dim is the number of independent features we are providing the layer\n",
    "#input_dim is only required for first layer\n",
    "model.add(Dense(units=6, kernel_initializer=\"he_uniform\",\n",
    "                activation=\"relu\", input_dim=11))\n",
    "#second hidden layer\n",
    "model.add(Dense(units=3, kernel_initializer=\"he_uniform\",\n",
    "                activation=\"relu\"))\n",
    "#output layer\n",
    "model.add(Dense(units=1, kernel_initializer=\"glorot_uniform\",\n",
    "                     activation=\"sigmoid\"))\n",
    "\n",
    "#ii.compile the model\n",
    "#we have to define the optimizer, loss function and evaluating metric while compiling the model\n",
    "#since our output is 0 and 1 we will use \"binary_cossentopy\"\n",
    "model.compile(optimizer=\"adam\", loss=\"binary_crossentropy\",\n",
    "                   metrics=[\"accuracy\"])"
   ]
  },
  {
   "cell_type": "markdown",
   "metadata": {},
   "source": [
    "Using summary method, we can veiw a summary of our model."
   ]
  },
  {
   "cell_type": "code",
   "execution_count": 14,
   "metadata": {
    "scrolled": true
   },
   "outputs": [
    {
     "name": "stdout",
     "output_type": "stream",
     "text": [
      "Model: \"sequential\"\n",
      "_________________________________________________________________\n",
      "Layer (type)                 Output Shape              Param #   \n",
      "=================================================================\n",
      "dense (Dense)                (None, 6)                 72        \n",
      "_________________________________________________________________\n",
      "dense_1 (Dense)              (None, 3)                 21        \n",
      "_________________________________________________________________\n",
      "dense_2 (Dense)              (None, 1)                 4         \n",
      "=================================================================\n",
      "Total params: 97\n",
      "Trainable params: 97\n",
      "Non-trainable params: 0\n",
      "_________________________________________________________________\n"
     ]
    }
   ],
   "source": [
    "model.summary()"
   ]
  },
  {
   "cell_type": "markdown",
   "metadata": {},
   "source": [
    "After instantiating the model, we fit our data to the model."
   ]
  },
  {
   "cell_type": "markdown",
   "metadata": {},
   "source": [
    "We will use one third (33%) of our training data for validation purpose. "
   ]
  },
  {
   "cell_type": "code",
   "execution_count": 15,
   "metadata": {
    "scrolled": true
   },
   "outputs": [
    {
     "name": "stdout",
     "output_type": "stream",
     "text": [
      "Epoch 1/100\n",
      "469/469 [==============================] - 1s 1ms/step - loss: 0.4964 - accuracy: 0.7985 - val_loss: 0.4869 - val_accuracy: 0.7962\n",
      "Epoch 2/100\n",
      "469/469 [==============================] - 0s 921us/step - loss: 0.4554 - accuracy: 0.7985 - val_loss: 0.4701 - val_accuracy: 0.7962\n",
      "Epoch 3/100\n",
      "469/469 [==============================] - 0s 965us/step - loss: 0.4417 - accuracy: 0.7985 - val_loss: 0.4595 - val_accuracy: 0.7962\n",
      "Epoch 4/100\n",
      "469/469 [==============================] - 0s 895us/step - loss: 0.4344 - accuracy: 0.7985 - val_loss: 0.4543 - val_accuracy: 0.7962\n",
      "Epoch 5/100\n",
      "469/469 [==============================] - 0s 897us/step - loss: 0.4296 - accuracy: 0.7985 - val_loss: 0.4486 - val_accuracy: 0.7962\n",
      "Epoch 6/100\n",
      "469/469 [==============================] - 0s 904us/step - loss: 0.4263 - accuracy: 0.7985 - val_loss: 0.4458 - val_accuracy: 0.7962\n",
      "Epoch 7/100\n",
      "469/469 [==============================] - 0s 940us/step - loss: 0.4233 - accuracy: 0.7985 - val_loss: 0.4429 - val_accuracy: 0.7962\n",
      "Epoch 8/100\n",
      "469/469 [==============================] - 0s 974us/step - loss: 0.4210 - accuracy: 0.8015 - val_loss: 0.4399 - val_accuracy: 0.8109\n",
      "Epoch 9/100\n",
      "469/469 [==============================] - 0s 906us/step - loss: 0.4190 - accuracy: 0.8194 - val_loss: 0.4391 - val_accuracy: 0.8118\n",
      "Epoch 10/100\n",
      "469/469 [==============================] - 1s 1ms/step - loss: 0.4175 - accuracy: 0.8206 - val_loss: 0.4366 - val_accuracy: 0.8131\n",
      "Epoch 11/100\n",
      "469/469 [==============================] - 0s 1ms/step - loss: 0.4156 - accuracy: 0.8232 - val_loss: 0.4358 - val_accuracy: 0.8139\n",
      "Epoch 12/100\n",
      "469/469 [==============================] - 0s 985us/step - loss: 0.4140 - accuracy: 0.8236 - val_loss: 0.4347 - val_accuracy: 0.8148\n",
      "Epoch 13/100\n",
      "469/469 [==============================] - 0s 889us/step - loss: 0.4129 - accuracy: 0.8249 - val_loss: 0.4316 - val_accuracy: 0.8152\n",
      "Epoch 14/100\n",
      "469/469 [==============================] - 1s 1ms/step - loss: 0.4109 - accuracy: 0.8264 - val_loss: 0.4315 - val_accuracy: 0.8178\n",
      "Epoch 15/100\n",
      "469/469 [==============================] - 0s 961us/step - loss: 0.4100 - accuracy: 0.8266 - val_loss: 0.4297 - val_accuracy: 0.8157\n",
      "Epoch 16/100\n",
      "469/469 [==============================] - 0s 1ms/step - loss: 0.4085 - accuracy: 0.8287 - val_loss: 0.4292 - val_accuracy: 0.8157\n",
      "Epoch 17/100\n",
      "469/469 [==============================] - 0s 1ms/step - loss: 0.4071 - accuracy: 0.8294 - val_loss: 0.4265 - val_accuracy: 0.8196\n",
      "Epoch 18/100\n",
      "469/469 [==============================] - 0s 893us/step - loss: 0.4067 - accuracy: 0.8285 - val_loss: 0.4258 - val_accuracy: 0.8174\n",
      "Epoch 19/100\n",
      "469/469 [==============================] - 0s 919us/step - loss: 0.4052 - accuracy: 0.8315 - val_loss: 0.4257 - val_accuracy: 0.8191\n",
      "Epoch 20/100\n",
      "469/469 [==============================] - 0s 927us/step - loss: 0.4044 - accuracy: 0.8324 - val_loss: 0.4236 - val_accuracy: 0.8209\n",
      "Epoch 21/100\n",
      "469/469 [==============================] - 0s 934us/step - loss: 0.4033 - accuracy: 0.8315 - val_loss: 0.4228 - val_accuracy: 0.8209\n",
      "Epoch 22/100\n",
      "469/469 [==============================] - 0s 916us/step - loss: 0.4028 - accuracy: 0.8332 - val_loss: 0.4235 - val_accuracy: 0.8196\n",
      "Epoch 23/100\n",
      "469/469 [==============================] - 0s 1ms/step - loss: 0.4017 - accuracy: 0.8334 - val_loss: 0.4215 - val_accuracy: 0.8235\n",
      "Epoch 24/100\n",
      "469/469 [==============================] - 0s 879us/step - loss: 0.4008 - accuracy: 0.8345 - val_loss: 0.4208 - val_accuracy: 0.8230\n",
      "Epoch 25/100\n",
      "469/469 [==============================] - 0s 953us/step - loss: 0.3997 - accuracy: 0.8328 - val_loss: 0.4191 - val_accuracy: 0.8260\n",
      "Epoch 26/100\n",
      "469/469 [==============================] - 0s 900us/step - loss: 0.3985 - accuracy: 0.8364 - val_loss: 0.4177 - val_accuracy: 0.8273\n",
      "Epoch 27/100\n",
      "469/469 [==============================] - 0s 897us/step - loss: 0.3967 - accuracy: 0.8351 - val_loss: 0.4165 - val_accuracy: 0.8282\n",
      "Epoch 28/100\n",
      "469/469 [==============================] - 0s 840us/step - loss: 0.3947 - accuracy: 0.8383 - val_loss: 0.4146 - val_accuracy: 0.8295\n",
      "Epoch 29/100\n",
      "469/469 [==============================] - 0s 842us/step - loss: 0.3925 - accuracy: 0.8371 - val_loss: 0.4122 - val_accuracy: 0.8304\n",
      "Epoch 30/100\n",
      "469/469 [==============================] - 0s 1ms/step - loss: 0.3902 - accuracy: 0.8373 - val_loss: 0.4106 - val_accuracy: 0.8321\n",
      "Epoch 31/100\n",
      "469/469 [==============================] - 0s 874us/step - loss: 0.3877 - accuracy: 0.8390 - val_loss: 0.4085 - val_accuracy: 0.8330\n",
      "Epoch 32/100\n",
      "469/469 [==============================] - 0s 876us/step - loss: 0.3846 - accuracy: 0.8390 - val_loss: 0.4057 - val_accuracy: 0.8347\n",
      "Epoch 33/100\n",
      "469/469 [==============================] - 0s 872us/step - loss: 0.3810 - accuracy: 0.8411 - val_loss: 0.4024 - val_accuracy: 0.8343\n",
      "Epoch 34/100\n",
      "469/469 [==============================] - 1s 1ms/step - loss: 0.3770 - accuracy: 0.8435 - val_loss: 0.4006 - val_accuracy: 0.8343\n",
      "Epoch 35/100\n",
      "469/469 [==============================] - 0s 867us/step - loss: 0.3735 - accuracy: 0.8428 - val_loss: 0.3989 - val_accuracy: 0.8356\n",
      "Epoch 36/100\n",
      "469/469 [==============================] - 0s 860us/step - loss: 0.3706 - accuracy: 0.8456 - val_loss: 0.3967 - val_accuracy: 0.8369\n",
      "Epoch 37/100\n",
      "469/469 [==============================] - 0s 855us/step - loss: 0.3680 - accuracy: 0.8450 - val_loss: 0.3944 - val_accuracy: 0.8364\n",
      "Epoch 38/100\n",
      "469/469 [==============================] - 0s 917us/step - loss: 0.3654 - accuracy: 0.8475 - val_loss: 0.3923 - val_accuracy: 0.8373\n",
      "Epoch 39/100\n",
      "469/469 [==============================] - 0s 939us/step - loss: 0.3638 - accuracy: 0.8488 - val_loss: 0.3894 - val_accuracy: 0.8390\n",
      "Epoch 40/100\n",
      "469/469 [==============================] - 0s 923us/step - loss: 0.3620 - accuracy: 0.8475 - val_loss: 0.3886 - val_accuracy: 0.8395\n",
      "Epoch 41/100\n",
      "469/469 [==============================] - 0s 880us/step - loss: 0.3599 - accuracy: 0.8490 - val_loss: 0.3872 - val_accuracy: 0.8408\n",
      "Epoch 42/100\n",
      "469/469 [==============================] - 0s 1ms/step - loss: 0.3584 - accuracy: 0.8501 - val_loss: 0.3866 - val_accuracy: 0.8421\n",
      "Epoch 43/100\n",
      "469/469 [==============================] - 0s 876us/step - loss: 0.3570 - accuracy: 0.8488 - val_loss: 0.3881 - val_accuracy: 0.8403\n",
      "Epoch 44/100\n",
      "469/469 [==============================] - 0s 891us/step - loss: 0.3564 - accuracy: 0.8486 - val_loss: 0.3853 - val_accuracy: 0.8416\n",
      "Epoch 45/100\n",
      "469/469 [==============================] - 0s 900us/step - loss: 0.3552 - accuracy: 0.8499 - val_loss: 0.3856 - val_accuracy: 0.8412\n",
      "Epoch 46/100\n",
      "469/469 [==============================] - 0s 922us/step - loss: 0.3542 - accuracy: 0.8528 - val_loss: 0.3841 - val_accuracy: 0.8395\n",
      "Epoch 47/100\n",
      "469/469 [==============================] - 0s 842us/step - loss: 0.3530 - accuracy: 0.8514 - val_loss: 0.3815 - val_accuracy: 0.8429\n",
      "Epoch 48/100\n",
      "469/469 [==============================] - 0s 851us/step - loss: 0.3530 - accuracy: 0.8490 - val_loss: 0.3800 - val_accuracy: 0.8408\n",
      "Epoch 49/100\n",
      "469/469 [==============================] - 0s 856us/step - loss: 0.3515 - accuracy: 0.8535 - val_loss: 0.3808 - val_accuracy: 0.8429\n",
      "Epoch 50/100\n",
      "469/469 [==============================] - 0s 880us/step - loss: 0.3514 - accuracy: 0.8541 - val_loss: 0.3799 - val_accuracy: 0.8451\n",
      "Epoch 51/100\n",
      "469/469 [==============================] - 0s 840us/step - loss: 0.3507 - accuracy: 0.8546 - val_loss: 0.3787 - val_accuracy: 0.8451\n",
      "Epoch 52/100\n",
      "469/469 [==============================] - 0s 1ms/step - loss: 0.3498 - accuracy: 0.8548 - val_loss: 0.3799 - val_accuracy: 0.8455\n",
      "Epoch 53/100\n",
      "469/469 [==============================] - 0s 929us/step - loss: 0.3492 - accuracy: 0.8546 - val_loss: 0.3795 - val_accuracy: 0.8455\n",
      "Epoch 54/100\n",
      "469/469 [==============================] - 0s 887us/step - loss: 0.3487 - accuracy: 0.8556 - val_loss: 0.3778 - val_accuracy: 0.8464\n",
      "Epoch 55/100\n",
      "469/469 [==============================] - 0s 889us/step - loss: 0.3484 - accuracy: 0.8558 - val_loss: 0.3766 - val_accuracy: 0.8468\n",
      "Epoch 56/100\n",
      "469/469 [==============================] - 0s 880us/step - loss: 0.3474 - accuracy: 0.8548 - val_loss: 0.3787 - val_accuracy: 0.8447\n",
      "Epoch 57/100\n",
      "469/469 [==============================] - 0s 853us/step - loss: 0.3469 - accuracy: 0.8552 - val_loss: 0.3764 - val_accuracy: 0.8481\n",
      "Epoch 58/100\n",
      "469/469 [==============================] - 0s 910us/step - loss: 0.3467 - accuracy: 0.8597 - val_loss: 0.3760 - val_accuracy: 0.8473\n",
      "Epoch 59/100\n",
      "469/469 [==============================] - 0s 930us/step - loss: 0.3467 - accuracy: 0.8575 - val_loss: 0.3756 - val_accuracy: 0.8468\n",
      "Epoch 60/100\n",
      "469/469 [==============================] - 0s 992us/step - loss: 0.3459 - accuracy: 0.8590 - val_loss: 0.3756 - val_accuracy: 0.8473\n",
      "Epoch 61/100\n",
      "469/469 [==============================] - 0s 823us/step - loss: 0.3444 - accuracy: 0.8565 - val_loss: 0.3755 - val_accuracy: 0.8486\n",
      "Epoch 62/100\n",
      "469/469 [==============================] - 0s 865us/step - loss: 0.3448 - accuracy: 0.8571 - val_loss: 0.3752 - val_accuracy: 0.8524\n",
      "Epoch 63/100\n",
      "469/469 [==============================] - 0s 891us/step - loss: 0.3452 - accuracy: 0.8567 - val_loss: 0.3743 - val_accuracy: 0.8473\n",
      "Epoch 64/100\n",
      "469/469 [==============================] - 0s 834us/step - loss: 0.3440 - accuracy: 0.8616 - val_loss: 0.3731 - val_accuracy: 0.8494\n",
      "Epoch 65/100\n",
      "469/469 [==============================] - 0s 827us/step - loss: 0.3438 - accuracy: 0.8575 - val_loss: 0.3752 - val_accuracy: 0.8481\n",
      "Epoch 66/100\n",
      "469/469 [==============================] - 1s 1ms/step - loss: 0.3439 - accuracy: 0.8582 - val_loss: 0.3711 - val_accuracy: 0.8511\n",
      "Epoch 67/100\n",
      "469/469 [==============================] - 0s 851us/step - loss: 0.3434 - accuracy: 0.8590 - val_loss: 0.3739 - val_accuracy: 0.8503\n",
      "Epoch 68/100\n",
      "469/469 [==============================] - 0s 838us/step - loss: 0.3434 - accuracy: 0.8584 - val_loss: 0.3717 - val_accuracy: 0.8503\n",
      "Epoch 69/100\n",
      "469/469 [==============================] - 0s 1ms/step - loss: 0.3421 - accuracy: 0.8629 - val_loss: 0.3744 - val_accuracy: 0.8494\n",
      "Epoch 70/100\n",
      "469/469 [==============================] - 0s 872us/step - loss: 0.3425 - accuracy: 0.8595 - val_loss: 0.3734 - val_accuracy: 0.8490\n",
      "Epoch 71/100\n",
      "469/469 [==============================] - 0s 838us/step - loss: 0.3425 - accuracy: 0.8599 - val_loss: 0.3730 - val_accuracy: 0.8473\n",
      "Epoch 72/100\n",
      "469/469 [==============================] - 0s 934us/step - loss: 0.3420 - accuracy: 0.8588 - val_loss: 0.3759 - val_accuracy: 0.8481\n",
      "Epoch 73/100\n",
      "469/469 [==============================] - 0s 902us/step - loss: 0.3430 - accuracy: 0.8599 - val_loss: 0.3708 - val_accuracy: 0.8498\n",
      "Epoch 74/100\n",
      "469/469 [==============================] - 0s 926us/step - loss: 0.3422 - accuracy: 0.8605 - val_loss: 0.3722 - val_accuracy: 0.8486\n",
      "Epoch 75/100\n",
      "469/469 [==============================] - 0s 900us/step - loss: 0.3421 - accuracy: 0.8603 - val_loss: 0.3713 - val_accuracy: 0.8490\n",
      "Epoch 76/100\n",
      "469/469 [==============================] - 0s 841us/step - loss: 0.3419 - accuracy: 0.8575 - val_loss: 0.3701 - val_accuracy: 0.8520\n",
      "Epoch 77/100\n",
      "469/469 [==============================] - 0s 848us/step - loss: 0.3413 - accuracy: 0.8597 - val_loss: 0.3697 - val_accuracy: 0.8498\n",
      "Epoch 78/100\n",
      "469/469 [==============================] - 0s 864us/step - loss: 0.3415 - accuracy: 0.8616 - val_loss: 0.3703 - val_accuracy: 0.8486\n",
      "Epoch 79/100\n",
      "469/469 [==============================] - 0s 931us/step - loss: 0.3409 - accuracy: 0.8588 - val_loss: 0.3697 - val_accuracy: 0.8486\n",
      "Epoch 80/100\n",
      "469/469 [==============================] - 0s 955us/step - loss: 0.3405 - accuracy: 0.8607 - val_loss: 0.3703 - val_accuracy: 0.8533\n",
      "Epoch 81/100\n",
      "469/469 [==============================] - 0s 922us/step - loss: 0.3411 - accuracy: 0.8595 - val_loss: 0.3693 - val_accuracy: 0.8520\n",
      "Epoch 82/100\n",
      "469/469 [==============================] - 0s 919us/step - loss: 0.3406 - accuracy: 0.8618 - val_loss: 0.3700 - val_accuracy: 0.8498\n",
      "Epoch 83/100\n",
      "469/469 [==============================] - 0s 1ms/step - loss: 0.3405 - accuracy: 0.8605 - val_loss: 0.3695 - val_accuracy: 0.8520\n",
      "Epoch 84/100\n",
      "469/469 [==============================] - 0s 934us/step - loss: 0.3404 - accuracy: 0.8612 - val_loss: 0.3711 - val_accuracy: 0.8490\n",
      "Epoch 85/100\n",
      "469/469 [==============================] - 0s 938us/step - loss: 0.3400 - accuracy: 0.8610 - val_loss: 0.3701 - val_accuracy: 0.8524\n",
      "Epoch 86/100\n",
      "469/469 [==============================] - 0s 891us/step - loss: 0.3394 - accuracy: 0.8624 - val_loss: 0.3710 - val_accuracy: 0.8511\n",
      "Epoch 87/100\n",
      "469/469 [==============================] - 0s 938us/step - loss: 0.3397 - accuracy: 0.8610 - val_loss: 0.3683 - val_accuracy: 0.8524\n",
      "Epoch 88/100\n",
      "469/469 [==============================] - 0s 955us/step - loss: 0.3393 - accuracy: 0.8629 - val_loss: 0.3694 - val_accuracy: 0.8494\n",
      "Epoch 89/100\n",
      "469/469 [==============================] - 0s 934us/step - loss: 0.3390 - accuracy: 0.8607 - val_loss: 0.3688 - val_accuracy: 0.8520\n",
      "Epoch 90/100\n",
      "469/469 [==============================] - 0s 1ms/step - loss: 0.3391 - accuracy: 0.8624 - val_loss: 0.3687 - val_accuracy: 0.8524\n",
      "Epoch 91/100\n",
      "469/469 [==============================] - 0s 910us/step - loss: 0.3394 - accuracy: 0.8620 - val_loss: 0.3680 - val_accuracy: 0.8503\n",
      "Epoch 92/100\n",
      "469/469 [==============================] - 0s 923us/step - loss: 0.3392 - accuracy: 0.8622 - val_loss: 0.3691 - val_accuracy: 0.8507\n",
      "Epoch 93/100\n",
      "469/469 [==============================] - 0s 982us/step - loss: 0.3388 - accuracy: 0.8620 - val_loss: 0.3680 - val_accuracy: 0.8520\n",
      "Epoch 94/100\n",
      "469/469 [==============================] - 0s 961us/step - loss: 0.3385 - accuracy: 0.8650 - val_loss: 0.3685 - val_accuracy: 0.8524\n",
      "Epoch 95/100\n",
      "469/469 [==============================] - 0s 853us/step - loss: 0.3397 - accuracy: 0.8614 - val_loss: 0.3679 - val_accuracy: 0.8533\n",
      "Epoch 96/100\n",
      "469/469 [==============================] - 0s 891us/step - loss: 0.3388 - accuracy: 0.8652 - val_loss: 0.3688 - val_accuracy: 0.8516\n",
      "Epoch 97/100\n",
      "469/469 [==============================] - 0s 893us/step - loss: 0.3387 - accuracy: 0.8614 - val_loss: 0.3678 - val_accuracy: 0.8537\n",
      "Epoch 98/100\n",
      "469/469 [==============================] - 0s 865us/step - loss: 0.3389 - accuracy: 0.8620 - val_loss: 0.3682 - val_accuracy: 0.8507\n",
      "Epoch 99/100\n",
      "469/469 [==============================] - 0s 876us/step - loss: 0.3387 - accuracy: 0.8642 - val_loss: 0.3683 - val_accuracy: 0.8516\n",
      "Epoch 100/100\n",
      "469/469 [==============================] - 0s 908us/step - loss: 0.3380 - accuracy: 0.8622 - val_loss: 0.3676 - val_accuracy: 0.8533\n"
     ]
    }
   ],
   "source": [
    "#fit with batch_size=10 and epochs=100\n",
    "model_history = model.fit(x=X_train, y=y_train, validation_split=0.33, batch_size=10, epochs=100)"
   ]
  },
  {
   "cell_type": "markdown",
   "metadata": {},
   "source": [
    "Our model has performed well. Both training accuracy and validation accuracy are about 85%. Using right weights and model structure will helps to obtain good accuracy. \n",
    "\n",
    "We can use history attribute of out fitted model to print out accuracy and loss at different instants of training."
   ]
  },
  {
   "cell_type": "code",
   "execution_count": 16,
   "metadata": {},
   "outputs": [
    {
     "name": "stdout",
     "output_type": "stream",
     "text": [
      "dict_keys(['loss', 'accuracy', 'val_loss', 'val_accuracy'])\n"
     ]
    }
   ],
   "source": [
    "print(model_history.history.keys())"
   ]
  },
  {
   "cell_type": "code",
   "execution_count": 17,
   "metadata": {},
   "outputs": [
    {
     "data": {
      "image/png": "[encoded data removed]",
      "text/plain": [
       "<Figure size 432x288 with 1 Axes>"
      ]
     },
     "metadata": {
      "needs_background": "light"
     },
     "output_type": "display_data"
    },
    {
     "data": {
      "image/png": "[encoded data removed]",
      "text/plain": [
       "<Figure size 432x288 with 1 Axes>"
      ]
     },
     "metadata": {
      "needs_background": "light"
     },
     "output_type": "display_data"
    }
   ],
   "source": [
    "# plot the loss\n",
    "plt.plot(model_history.history['loss'], label='train loss')\n",
    "plt.plot(model_history.history['val_loss'], label='val loss')\n",
    "plt.legend()\n",
    "plt.show()\n",
    "\n",
    "# plot the accuracy\n",
    "plt.plot(model_history.history['accuracy'], label='train acc')\n",
    "plt.plot(model_history.history['val_accuracy'], label='val acc')\n",
    "plt.legend()\n",
    "plt.show()"
   ]
  },
  {
   "cell_type": "markdown",
   "metadata": {},
   "source": [
    "We will now use the test data for final evaluation of our model."
   ]
  },
  {
   "cell_type": "code",
   "execution_count": 18,
   "metadata": {},
   "outputs": [
    {
     "data": {
      "text/plain": [
       "array([[0.28439146],\n",
       "       [0.40898037],\n",
       "       [0.16869983],\n",
       "       ...,\n",
       "       [0.14434049],\n",
       "       [0.04878592],\n",
       "       [0.58833426]], dtype=float32)"
      ]
     },
     "execution_count": 18,
     "metadata": {},
     "output_type": "execute_result"
    }
   ],
   "source": [
    "y_pred = model.predict(X_test)\n",
    "y_pred"
   ]
  },
  {
   "cell_type": "code",
   "execution_count": 19,
   "metadata": {},
   "outputs": [
    {
     "data": {
      "text/plain": [
       "array([[False],\n",
       "       [False],\n",
       "       [False],\n",
       "       ...,\n",
       "       [False],\n",
       "       [False],\n",
       "       [ True]])"
      ]
     },
     "execution_count": 19,
     "metadata": {},
     "output_type": "execute_result"
    }
   ],
   "source": [
    "y_pred_binary = y_pred > 0.5\n",
    "y_pred_binary"
   ]
  },
  {
   "cell_type": "markdown",
   "metadata": {},
   "source": [
    "We will use confusion matrix and f1_score for model evaluation with test data."
   ]
  },
  {
   "cell_type": "code",
   "execution_count": 20,
   "metadata": {},
   "outputs": [
    {
     "data": {
      "text/plain": [
       "array([[2287,   92],\n",
       "       [ 336,  285]], dtype=int64)"
      ]
     },
     "execution_count": 20,
     "metadata": {},
     "output_type": "execute_result"
    }
   ],
   "source": [
    "from sklearn.metrics import confusion_matrix, accuracy_score\n",
    "confusion_matrix(y_test, y_pred_binary)"
   ]
  },
  {
   "cell_type": "code",
   "execution_count": 21,
   "metadata": {},
   "outputs": [
    {
     "data": {
      "text/plain": [
       "0.8573333333333333"
      ]
     },
     "execution_count": 21,
     "metadata": {},
     "output_type": "execute_result"
    }
   ],
   "source": [
    "accuracy_score(y_test, y_pred_binary)"
   ]
  },
  {
   "cell_type": "markdown",
   "metadata": {},
   "source": [
    "Our training accuracy and test accuracy are similar. So our model is not overfitting the training data. Maybe we can improve our model."
   ]
  },
  {
   "cell_type": "markdown",
   "metadata": {},
   "source": [
    "### Part 3 : Building an ANN model with keras-tuner"
   ]
  },
  {
   "cell_type": "code",
   "execution_count": 22,
   "metadata": {},
   "outputs": [],
   "source": [
    "#you will need to uncomment the code below if keras-tuner is not installed\n",
    "#!pip install keras-tuner"
   ]
  },
  {
   "cell_type": "code",
   "execution_count": 23,
   "metadata": {},
   "outputs": [],
   "source": [
    "from kerastuner.tuners import RandomSearch\n",
    "from tensorflow.keras.optimizers import Adam"
   ]
  },
  {
   "cell_type": "markdown",
   "metadata": {},
   "source": [
    "So we will consider some of the parameters of our model build above as hyperparameters that we need to tune to obtain a better model.\n",
    "\n",
    "- How many hidden layers we should have?\n",
    "- How many neurons in each hidden layer?\n",
    "- Learning rate to be used for optimizer\n",
    "- Fraction of neurons to be dropped to avoid overfitting in each hidden layer\n",
    "\n",
    "We can add more hyperparameters if needed."
   ]
  },
  {
   "cell_type": "code",
   "execution_count": 28,
   "metadata": {},
   "outputs": [],
   "source": [
    "#hp signifies hyperparameters we are going to tune\n",
    "def build_model(hp):\n",
    "    model_kt = Sequential()\n",
    "    #our neural network can have layers between 2 to 20\n",
    "    for i in range(hp.Int(\"num_layers\", 2, 20)):\n",
    "        #inside each Dense layer the number of neurons can be 4 to 80\n",
    "        #hp.Int signifies the choice is from a range\n",
    "        model_kt.add(Dense(units=hp.Int(\"units_\"+str(i),\n",
    "                                           min_value=4,\n",
    "                                           max_value=80,\n",
    "                                           step=4),\n",
    "                        activation=\"relu\", kernel_initializer=\"he_uniform\"))\n",
    "        model_kt.add(Dropout(rate=hp.Choice(\"droupout_\"+str(i), [0.3, 0.4, 0.5])))\n",
    "    model_kt.add(Dense(1, kernel_initializer=\"glorot_uniform\",\n",
    "                    activation=\"sigmoid\"))\n",
    "    #hp.Choice signifies the choice is from a list\n",
    "    model_kt.compile(optimizer=Adam(hp.Choice(\"learning_rate\", [1e-2,1e-3,1e-4])),\n",
    "                  loss=\"binary_crossentropy\", metrics=[\"accuracy\"])\n",
    "    return model"
   ]
  },
  {
   "cell_type": "code",
   "execution_count": 29,
   "metadata": {
    "scrolled": true
   },
   "outputs": [],
   "source": [
    "tuner = RandomSearch(build_model, objective='val_accuracy',\n",
    "                    max_trials=40, executions_per_trial=3, directory=\"project1\",\n",
    "                    project_name=\"customer_churn\")"
   ]
  },
  {
   "cell_type": "markdown",
   "metadata": {},
   "source": [
    "The code below gives a summary of the range and choices we have set for parameters we want to tune. For example, for \"num_layers\" we want an integer value from 2 to 20. "
   ]
  },
  {
   "cell_type": "code",
   "execution_count": 30,
   "metadata": {},
   "outputs": [
    {
     "name": "stdout",
     "output_type": "stream",
     "text": [
      "Search space summary\n",
      "Default search space size: 6\n",
      "num_layers (Int)\n",
      "{'default': None, 'conditions': [], 'min_value': 2, 'max_value': 20, 'step': 1, 'sampling': None}\n",
      "units_0 (Int)\n",
      "{'default': None, 'conditions': [], 'min_value': 4, 'max_value': 80, 'step': 4, 'sampling': None}\n",
      "droupout_0 (Choice)\n",
      "{'default': 0.3, 'conditions': [], 'values': [0.3, 0.4, 0.5], 'ordered': True}\n",
      "units_1 (Int)\n",
      "{'default': None, 'conditions': [], 'min_value': 4, 'max_value': 80, 'step': 4, 'sampling': None}\n",
      "droupout_1 (Choice)\n",
      "{'default': 0.3, 'conditions': [], 'values': [0.3, 0.4, 0.5], 'ordered': True}\n",
      "learning_rate (Choice)\n",
      "{'default': 0.01, 'conditions': [], 'values': [0.01, 0.001, 0.0001], 'ordered': True}\n"
     ]
    }
   ],
   "source": [
    "tuner.search_space_summary()"
   ]
  },
  {
   "cell_type": "code",
   "execution_count": 31,
   "metadata": {
    "scrolled": true
   },
   "outputs": [
    {
     "name": "stdout",
     "output_type": "stream",
     "text": [
      "Trial 40 Complete [00h 00m 03s]\n",
      "val_accuracy: 0.8598009546597799\n",
      "\n",
      "Best val_accuracy So Far: 0.8598009546597799\n",
      "Total elapsed time: 00h 02m 17s\n",
      "INFO:tensorflow:Oracle triggered exit\n"
     ]
    }
   ],
   "source": [
    "tuner.search(X_train, y_train, epochs=5, validation_split=0.33)"
   ]
  },
  {
   "cell_type": "code",
   "execution_count": 32,
   "metadata": {
    "scrolled": true
   },
   "outputs": [
    {
     "name": "stdout",
     "output_type": "stream",
     "text": [
      "Results summary\n",
      "Results in project1\\customer_churn\n",
      "Showing 10 best trials\n",
      "Objective(name='val_accuracy', direction='max')\n",
      "Trial summary\n",
      "Hyperparameters:\n",
      "num_layers: 3\n",
      "units_0: 64\n",
      "droupout_0: 0.4\n",
      "units_1: 76\n",
      "droupout_1: 0.4\n",
      "learning_rate: 0.0001\n",
      "units_2: 8\n",
      "droupout_2: 0.4\n",
      "units_3: 76\n",
      "droupout_3: 0.5\n",
      "units_4: 40\n",
      "droupout_4: 0.5\n",
      "units_5: 68\n",
      "droupout_5: 0.4\n",
      "units_6: 32\n",
      "droupout_6: 0.4\n",
      "units_7: 8\n",
      "droupout_7: 0.3\n",
      "units_8: 40\n",
      "droupout_8: 0.5\n",
      "units_9: 8\n",
      "droupout_9: 0.3\n",
      "units_10: 64\n",
      "droupout_10: 0.3\n",
      "units_11: 76\n",
      "droupout_11: 0.3\n",
      "units_12: 52\n",
      "droupout_12: 0.3\n",
      "units_13: 28\n",
      "droupout_13: 0.4\n",
      "units_14: 20\n",
      "droupout_14: 0.4\n",
      "units_15: 64\n",
      "droupout_15: 0.4\n",
      "units_16: 20\n",
      "droupout_16: 0.3\n",
      "units_17: 20\n",
      "droupout_17: 0.4\n",
      "units_18: 36\n",
      "droupout_18: 0.3\n",
      "units_19: 60\n",
      "droupout_19: 0.4\n",
      "Score: 0.8598009546597799\n",
      "Trial summary\n",
      "Hyperparameters:\n",
      "num_layers: 17\n",
      "units_0: 36\n",
      "droupout_0: 0.4\n",
      "units_1: 68\n",
      "droupout_1: 0.4\n",
      "learning_rate: 0.0001\n",
      "units_2: 64\n",
      "droupout_2: 0.4\n",
      "units_3: 12\n",
      "droupout_3: 0.4\n",
      "units_4: 28\n",
      "droupout_4: 0.3\n",
      "units_5: 44\n",
      "droupout_5: 0.5\n",
      "units_6: 72\n",
      "droupout_6: 0.5\n",
      "units_7: 76\n",
      "droupout_7: 0.5\n",
      "units_8: 16\n",
      "droupout_8: 0.4\n",
      "units_9: 52\n",
      "droupout_9: 0.4\n",
      "units_10: 36\n",
      "droupout_10: 0.3\n",
      "units_11: 40\n",
      "droupout_11: 0.4\n",
      "units_12: 76\n",
      "droupout_12: 0.3\n",
      "units_13: 40\n",
      "droupout_13: 0.4\n",
      "units_14: 80\n",
      "droupout_14: 0.4\n",
      "units_15: 28\n",
      "droupout_15: 0.4\n",
      "units_16: 36\n",
      "droupout_16: 0.3\n",
      "units_17: 4\n",
      "droupout_17: 0.3\n",
      "units_18: 28\n",
      "droupout_18: 0.5\n",
      "units_19: 56\n",
      "droupout_19: 0.4\n",
      "Score: 0.8587913115819296\n",
      "Trial summary\n",
      "Hyperparameters:\n",
      "num_layers: 17\n",
      "units_0: 16\n",
      "droupout_0: 0.4\n",
      "units_1: 56\n",
      "droupout_1: 0.3\n",
      "learning_rate: 0.01\n",
      "units_2: 28\n",
      "droupout_2: 0.3\n",
      "units_3: 8\n",
      "droupout_3: 0.3\n",
      "units_4: 48\n",
      "droupout_4: 0.4\n",
      "units_5: 12\n",
      "droupout_5: 0.3\n",
      "units_6: 16\n",
      "droupout_6: 0.4\n",
      "units_7: 40\n",
      "droupout_7: 0.3\n",
      "units_8: 80\n",
      "droupout_8: 0.5\n",
      "units_9: 80\n",
      "droupout_9: 0.5\n",
      "units_10: 64\n",
      "droupout_10: 0.3\n",
      "units_11: 44\n",
      "droupout_11: 0.4\n",
      "units_12: 64\n",
      "droupout_12: 0.3\n",
      "units_13: 8\n",
      "droupout_13: 0.3\n",
      "units_14: 40\n",
      "droupout_14: 0.4\n",
      "units_15: 60\n",
      "droupout_15: 0.4\n",
      "units_16: 72\n",
      "droupout_16: 0.3\n",
      "units_17: 60\n",
      "droupout_17: 0.5\n",
      "units_18: 72\n",
      "droupout_18: 0.3\n",
      "units_19: 12\n",
      "droupout_19: 0.4\n",
      "Score: 0.8586470683415731\n",
      "Trial summary\n",
      "Hyperparameters:\n",
      "num_layers: 3\n",
      "units_0: 52\n",
      "droupout_0: 0.5\n",
      "units_1: 12\n",
      "droupout_1: 0.4\n",
      "learning_rate: 0.001\n",
      "units_2: 68\n",
      "droupout_2: 0.3\n",
      "units_3: 12\n",
      "droupout_3: 0.4\n",
      "units_4: 52\n",
      "droupout_4: 0.5\n",
      "units_5: 8\n",
      "droupout_5: 0.5\n",
      "units_6: 8\n",
      "droupout_6: 0.3\n",
      "units_7: 72\n",
      "droupout_7: 0.4\n",
      "units_8: 32\n",
      "droupout_8: 0.3\n",
      "units_9: 72\n",
      "droupout_9: 0.3\n",
      "units_10: 28\n",
      "droupout_10: 0.3\n",
      "units_11: 60\n",
      "droupout_11: 0.4\n",
      "units_12: 72\n",
      "droupout_12: 0.5\n",
      "units_13: 56\n",
      "droupout_13: 0.4\n",
      "units_14: 52\n",
      "droupout_14: 0.3\n",
      "units_15: 16\n",
      "droupout_15: 0.3\n",
      "units_16: 52\n",
      "droupout_16: 0.5\n",
      "units_17: 36\n",
      "droupout_17: 0.3\n",
      "units_18: 12\n",
      "droupout_18: 0.5\n",
      "units_19: 8\n",
      "droupout_19: 0.5\n",
      "Score: 0.8585028052330017\n",
      "Trial summary\n",
      "Hyperparameters:\n",
      "num_layers: 5\n",
      "units_0: 12\n",
      "droupout_0: 0.3\n",
      "units_1: 80\n",
      "droupout_1: 0.4\n",
      "learning_rate: 0.01\n",
      "units_2: 8\n",
      "droupout_2: 0.4\n",
      "units_3: 48\n",
      "droupout_3: 0.5\n",
      "units_4: 4\n",
      "droupout_4: 0.4\n",
      "units_5: 60\n",
      "droupout_5: 0.3\n",
      "units_6: 52\n",
      "droupout_6: 0.3\n",
      "units_7: 8\n",
      "droupout_7: 0.5\n",
      "units_8: 32\n",
      "droupout_8: 0.5\n",
      "units_9: 12\n",
      "droupout_9: 0.4\n",
      "units_10: 60\n",
      "droupout_10: 0.5\n",
      "units_11: 16\n",
      "droupout_11: 0.5\n",
      "units_12: 20\n",
      "droupout_12: 0.3\n",
      "units_13: 16\n",
      "droupout_13: 0.3\n",
      "units_14: 16\n",
      "droupout_14: 0.3\n",
      "units_15: 52\n",
      "droupout_15: 0.4\n",
      "units_16: 16\n",
      "droupout_16: 0.5\n",
      "units_17: 48\n",
      "droupout_17: 0.4\n",
      "units_18: 12\n",
      "droupout_18: 0.3\n",
      "units_19: 44\n",
      "droupout_19: 0.5\n",
      "Score: 0.8583585818608602\n",
      "Trial summary\n",
      "Hyperparameters:\n",
      "num_layers: 13\n",
      "units_0: 68\n",
      "droupout_0: 0.3\n",
      "units_1: 8\n",
      "droupout_1: 0.5\n",
      "learning_rate: 0.0001\n",
      "units_2: 56\n",
      "droupout_2: 0.5\n",
      "units_3: 40\n",
      "droupout_3: 0.4\n",
      "units_4: 20\n",
      "droupout_4: 0.3\n",
      "units_5: 8\n",
      "droupout_5: 0.4\n",
      "units_6: 44\n",
      "droupout_6: 0.4\n",
      "units_7: 68\n",
      "droupout_7: 0.5\n",
      "units_8: 76\n",
      "droupout_8: 0.5\n",
      "units_9: 56\n",
      "droupout_9: 0.3\n",
      "units_10: 40\n",
      "droupout_10: 0.5\n",
      "units_11: 12\n",
      "droupout_11: 0.3\n",
      "units_12: 56\n",
      "droupout_12: 0.5\n",
      "units_13: 44\n",
      "droupout_13: 0.4\n",
      "units_14: 48\n",
      "droupout_14: 0.3\n",
      "units_15: 64\n",
      "droupout_15: 0.3\n",
      "units_16: 60\n",
      "droupout_16: 0.4\n",
      "units_17: 28\n",
      "droupout_17: 0.4\n",
      "units_18: 40\n",
      "droupout_18: 0.3\n",
      "units_19: 64\n",
      "droupout_19: 0.4\n",
      "Score: 0.8582143386205038\n",
      "Trial summary\n",
      "Hyperparameters:\n",
      "num_layers: 4\n",
      "units_0: 44\n",
      "droupout_0: 0.5\n",
      "units_1: 44\n",
      "droupout_1: 0.5\n",
      "learning_rate: 0.0001\n",
      "units_2: 20\n",
      "droupout_2: 0.4\n",
      "units_3: 44\n",
      "droupout_3: 0.5\n",
      "units_4: 48\n",
      "droupout_4: 0.5\n",
      "units_5: 16\n",
      "droupout_5: 0.5\n",
      "units_6: 28\n",
      "droupout_6: 0.5\n",
      "units_7: 68\n",
      "droupout_7: 0.4\n",
      "units_8: 64\n",
      "droupout_8: 0.3\n",
      "units_9: 64\n",
      "droupout_9: 0.4\n",
      "units_10: 36\n",
      "droupout_10: 0.5\n",
      "units_11: 16\n",
      "droupout_11: 0.4\n",
      "units_12: 48\n",
      "droupout_12: 0.4\n",
      "units_13: 52\n",
      "droupout_13: 0.3\n",
      "units_14: 44\n",
      "droupout_14: 0.3\n",
      "units_15: 72\n",
      "droupout_15: 0.4\n",
      "units_16: 48\n",
      "droupout_16: 0.4\n",
      "units_17: 72\n",
      "droupout_17: 0.5\n",
      "units_18: 4\n",
      "droupout_18: 0.4\n",
      "units_19: 64\n",
      "droupout_19: 0.3\n",
      "Score: 0.8582143386205038\n",
      "Trial summary\n",
      "Hyperparameters:\n",
      "num_layers: 2\n",
      "units_0: 48\n",
      "droupout_0: 0.5\n",
      "units_1: 64\n",
      "droupout_1: 0.4\n",
      "learning_rate: 0.01\n",
      "units_2: 12\n",
      "droupout_2: 0.3\n",
      "units_3: 60\n",
      "droupout_3: 0.4\n",
      "units_4: 32\n",
      "droupout_4: 0.3\n",
      "units_5: 20\n",
      "droupout_5: 0.4\n",
      "units_6: 28\n",
      "droupout_6: 0.4\n",
      "units_7: 52\n",
      "droupout_7: 0.3\n",
      "units_8: 20\n",
      "droupout_8: 0.4\n",
      "units_9: 40\n",
      "droupout_9: 0.4\n",
      "units_10: 60\n",
      "droupout_10: 0.5\n",
      "units_11: 76\n",
      "droupout_11: 0.3\n",
      "units_12: 20\n",
      "droupout_12: 0.4\n",
      "units_13: 40\n",
      "droupout_13: 0.5\n",
      "units_14: 36\n",
      "droupout_14: 0.3\n",
      "units_15: 76\n",
      "droupout_15: 0.5\n",
      "units_16: 32\n",
      "droupout_16: 0.4\n",
      "units_17: 4\n",
      "droupout_17: 0.4\n",
      "units_18: 72\n",
      "droupout_18: 0.3\n",
      "units_19: 72\n",
      "droupout_19: 0.5\n",
      "Score: 0.8582143386205038\n",
      "Trial summary\n",
      "Hyperparameters:\n",
      "num_layers: 14\n",
      "units_0: 20\n",
      "droupout_0: 0.5\n",
      "units_1: 60\n",
      "droupout_1: 0.3\n",
      "learning_rate: 0.0001\n",
      "units_2: 52\n",
      "droupout_2: 0.3\n",
      "units_3: 24\n",
      "droupout_3: 0.4\n",
      "units_4: 40\n",
      "droupout_4: 0.4\n",
      "units_5: 76\n",
      "droupout_5: 0.3\n",
      "units_6: 52\n",
      "droupout_6: 0.5\n",
      "units_7: 8\n",
      "droupout_7: 0.5\n",
      "units_8: 4\n",
      "droupout_8: 0.4\n",
      "units_9: 20\n",
      "droupout_9: 0.5\n",
      "units_10: 64\n",
      "droupout_10: 0.3\n",
      "units_11: 56\n",
      "droupout_11: 0.4\n",
      "units_12: 76\n",
      "droupout_12: 0.4\n",
      "units_13: 52\n",
      "droupout_13: 0.4\n",
      "units_14: 8\n",
      "droupout_14: 0.5\n",
      "units_15: 64\n",
      "droupout_15: 0.3\n",
      "units_16: 24\n",
      "droupout_16: 0.3\n",
      "units_17: 52\n",
      "droupout_17: 0.3\n",
      "units_18: 40\n",
      "droupout_18: 0.3\n",
      "units_19: 72\n",
      "droupout_19: 0.5\n",
      "Score: 0.8580701152483622\n",
      "Trial summary\n",
      "Hyperparameters:\n",
      "num_layers: 15\n",
      "units_0: 40\n",
      "droupout_0: 0.4\n",
      "units_1: 56\n",
      "droupout_1: 0.5\n",
      "learning_rate: 0.01\n",
      "units_2: 16\n",
      "droupout_2: 0.4\n",
      "units_3: 44\n",
      "droupout_3: 0.5\n",
      "units_4: 24\n",
      "droupout_4: 0.5\n",
      "units_5: 48\n",
      "droupout_5: 0.5\n",
      "units_6: 20\n",
      "droupout_6: 0.5\n",
      "units_7: 28\n",
      "droupout_7: 0.5\n",
      "units_8: 64\n",
      "droupout_8: 0.4\n",
      "units_9: 80\n",
      "droupout_9: 0.5\n",
      "units_10: 16\n",
      "droupout_10: 0.3\n",
      "units_11: 4\n",
      "droupout_11: 0.4\n",
      "units_12: 8\n",
      "droupout_12: 0.5\n",
      "units_13: 16\n",
      "droupout_13: 0.4\n",
      "units_14: 12\n",
      "droupout_14: 0.3\n",
      "units_15: 20\n",
      "droupout_15: 0.4\n",
      "units_16: 48\n",
      "droupout_16: 0.3\n",
      "units_17: 40\n",
      "droupout_17: 0.5\n",
      "units_18: 36\n",
      "droupout_18: 0.5\n",
      "units_19: 28\n",
      "droupout_19: 0.3\n",
      "Score: 0.8580700953801473\n"
     ]
    }
   ],
   "source": [
    "tuner.results_summary()"
   ]
  },
  {
   "cell_type": "code",
   "execution_count": 39,
   "metadata": {},
   "outputs": [],
   "source": [
    "#An ANN suggested by keras-tuner\n",
    "\n",
    "#instantiate\n",
    "#i.define model\n",
    "model_kt = Sequential()\n",
    "\n",
    "#first hidden layer and visible layer\n",
    "#note that we generally use \"he_uniform\" and \"he_normal\" as weight initialization for \"relu\" activation\n",
    "#units specifies the number of neurons in the layer\n",
    "#input_dim is the number of independent features we are providing the layer\n",
    "#input_dim is only required for first layer\n",
    "model_kt.add(Dense(units=64, kernel_initializer=\"he_uniform\",\n",
    "                activation=\"relu\", input_dim=11))\n",
    "model_kt.add(Dropout(rate=0.4))\n",
    "#second hidden layer\n",
    "model_kt.add(Dense(units=76, kernel_initializer=\"he_uniform\",\n",
    "                activation=\"relu\"))\n",
    "model_kt.add(Dropout(rate=0.4))\n",
    "#third hidden layer\n",
    "model_kt.add(Dense(units=8, kernel_initializer=\"he_uniform\",\n",
    "                activation=\"relu\"))\n",
    "model_kt.add(Dropout(rate=0.4))\n",
    "#output layer\n",
    "model_kt.add(Dense(units=1, kernel_initializer=\"glorot_uniform\",\n",
    "                     activation=\"sigmoid\"))\n",
    "\n",
    "#ii.compile the model\n",
    "#we have to define the optimizer, loss function and evaluating metric while compiling the model\n",
    "#since our output is 0 and 1 we will use \"binary_cossentopy\"\n",
    "model_kt.compile(optimizer=\"adam\", loss=\"binary_crossentropy\",\n",
    "                   metrics=[\"accuracy\"])"
   ]
  },
  {
   "cell_type": "code",
   "execution_count": 40,
   "metadata": {},
   "outputs": [
    {
     "name": "stdout",
     "output_type": "stream",
     "text": [
      "Model: \"sequential_3\"\n",
      "_________________________________________________________________\n",
      "Layer (type)                 Output Shape              Param #   \n",
      "=================================================================\n",
      "dense_12 (Dense)             (None, 64)                768       \n",
      "_________________________________________________________________\n",
      "dropout_9 (Dropout)          (None, 64)                0         \n",
      "_________________________________________________________________\n",
      "dense_13 (Dense)             (None, 76)                4940      \n",
      "_________________________________________________________________\n",
      "dropout_10 (Dropout)         (None, 76)                0         \n",
      "_________________________________________________________________\n",
      "dense_14 (Dense)             (None, 8)                 616       \n",
      "_________________________________________________________________\n",
      "dropout_11 (Dropout)         (None, 8)                 0         \n",
      "_________________________________________________________________\n",
      "dense_15 (Dense)             (None, 1)                 9         \n",
      "=================================================================\n",
      "Total params: 6,333\n",
      "Trainable params: 6,333\n",
      "Non-trainable params: 0\n",
      "_________________________________________________________________\n"
     ]
    }
   ],
   "source": [
    "model_kt.summary()"
   ]
  },
  {
   "cell_type": "code",
   "execution_count": 41,
   "metadata": {
    "scrolled": true
   },
   "outputs": [
    {
     "name": "stdout",
     "output_type": "stream",
     "text": [
      "Epoch 1/100\n",
      "469/469 [==============================] - 1s 2ms/step - loss: 0.6067 - accuracy: 0.7722 - val_loss: 0.5136 - val_accuracy: 0.7962\n",
      "Epoch 2/100\n",
      "469/469 [==============================] - 1s 1ms/step - loss: 0.5028 - accuracy: 0.7940 - val_loss: 0.4696 - val_accuracy: 0.7962\n",
      "Epoch 3/100\n",
      "469/469 [==============================] - 1s 1ms/step - loss: 0.4722 - accuracy: 0.7968 - val_loss: 0.4582 - val_accuracy: 0.7962\n",
      "Epoch 4/100\n",
      "469/469 [==============================] - 1s 1ms/step - loss: 0.4746 - accuracy: 0.7983 - val_loss: 0.4485 - val_accuracy: 0.7962\n",
      "Epoch 5/100\n",
      "469/469 [==============================] - 1s 1ms/step - loss: 0.4571 - accuracy: 0.7976 - val_loss: 0.4393 - val_accuracy: 0.7962\n",
      "Epoch 6/100\n",
      "469/469 [==============================] - 1s 1ms/step - loss: 0.4539 - accuracy: 0.7989 - val_loss: 0.4400 - val_accuracy: 0.7962\n",
      "Epoch 7/100\n",
      "469/469 [==============================] - 1s 1ms/step - loss: 0.4513 - accuracy: 0.7985 - val_loss: 0.4373 - val_accuracy: 0.7962\n",
      "Epoch 8/100\n",
      "469/469 [==============================] - 1s 1ms/step - loss: 0.4434 - accuracy: 0.7991 - val_loss: 0.4234 - val_accuracy: 0.7984\n",
      "Epoch 9/100\n",
      "469/469 [==============================] - 1s 1ms/step - loss: 0.4388 - accuracy: 0.8049 - val_loss: 0.4190 - val_accuracy: 0.8040\n",
      "Epoch 10/100\n",
      "469/469 [==============================] - 1s 1ms/step - loss: 0.4254 - accuracy: 0.8053 - val_loss: 0.4115 - val_accuracy: 0.8035\n",
      "Epoch 11/100\n",
      "469/469 [==============================] - 1s 1ms/step - loss: 0.4318 - accuracy: 0.8128 - val_loss: 0.4093 - val_accuracy: 0.8243\n",
      "Epoch 12/100\n",
      "469/469 [==============================] - 1s 1ms/step - loss: 0.4194 - accuracy: 0.8206 - val_loss: 0.4010 - val_accuracy: 0.8243\n",
      "Epoch 13/100\n",
      "469/469 [==============================] - 1s 1ms/step - loss: 0.4190 - accuracy: 0.8177 - val_loss: 0.3964 - val_accuracy: 0.8260\n",
      "Epoch 14/100\n",
      "469/469 [==============================] - 1s 1ms/step - loss: 0.4103 - accuracy: 0.8168 - val_loss: 0.3898 - val_accuracy: 0.8356\n",
      "Epoch 15/100\n",
      "469/469 [==============================] - 1s 1ms/step - loss: 0.4016 - accuracy: 0.8209 - val_loss: 0.3898 - val_accuracy: 0.8330\n",
      "Epoch 16/100\n",
      "469/469 [==============================] - 1s 1ms/step - loss: 0.4039 - accuracy: 0.8217 - val_loss: 0.3808 - val_accuracy: 0.8399\n",
      "Epoch 17/100\n",
      "469/469 [==============================] - 1s 1ms/step - loss: 0.4032 - accuracy: 0.8268 - val_loss: 0.3883 - val_accuracy: 0.8364\n",
      "Epoch 18/100\n",
      "469/469 [==============================] - 1s 1ms/step - loss: 0.4033 - accuracy: 0.8285 - val_loss: 0.3794 - val_accuracy: 0.8425\n",
      "Epoch 19/100\n",
      "469/469 [==============================] - 1s 1ms/step - loss: 0.3939 - accuracy: 0.8283 - val_loss: 0.3784 - val_accuracy: 0.8386\n",
      "Epoch 20/100\n",
      "469/469 [==============================] - 1s 1ms/step - loss: 0.3892 - accuracy: 0.8345 - val_loss: 0.3795 - val_accuracy: 0.8390\n",
      "Epoch 21/100\n",
      "469/469 [==============================] - 1s 2ms/step - loss: 0.3888 - accuracy: 0.8298 - val_loss: 0.3766 - val_accuracy: 0.8403\n",
      "Epoch 22/100\n",
      "469/469 [==============================] - 1s 2ms/step - loss: 0.3901 - accuracy: 0.8290 - val_loss: 0.3795 - val_accuracy: 0.8408\n",
      "Epoch 23/100\n",
      "469/469 [==============================] - 1s 1ms/step - loss: 0.3835 - accuracy: 0.8386 - val_loss: 0.3750 - val_accuracy: 0.8416\n",
      "Epoch 24/100\n",
      "469/469 [==============================] - 1s 1ms/step - loss: 0.3837 - accuracy: 0.8371 - val_loss: 0.3750 - val_accuracy: 0.8416\n",
      "Epoch 25/100\n",
      "469/469 [==============================] - 1s 1ms/step - loss: 0.3856 - accuracy: 0.8362 - val_loss: 0.3727 - val_accuracy: 0.8429\n",
      "Epoch 26/100\n",
      "469/469 [==============================] - 1s 1ms/step - loss: 0.3872 - accuracy: 0.8388 - val_loss: 0.3722 - val_accuracy: 0.8421\n",
      "Epoch 27/100\n",
      "469/469 [==============================] - 1s 1ms/step - loss: 0.3820 - accuracy: 0.8330 - val_loss: 0.3715 - val_accuracy: 0.8442\n",
      "Epoch 28/100\n",
      "469/469 [==============================] - 1s 1ms/step - loss: 0.3784 - accuracy: 0.8373 - val_loss: 0.3705 - val_accuracy: 0.8468\n",
      "Epoch 29/100\n",
      "469/469 [==============================] - 1s 1ms/step - loss: 0.3749 - accuracy: 0.8373 - val_loss: 0.3730 - val_accuracy: 0.8395\n",
      "Epoch 30/100\n",
      "469/469 [==============================] - 1s 1ms/step - loss: 0.3698 - accuracy: 0.8430 - val_loss: 0.3706 - val_accuracy: 0.8438\n",
      "Epoch 31/100\n",
      "469/469 [==============================] - 1s 1ms/step - loss: 0.3652 - accuracy: 0.8435 - val_loss: 0.3672 - val_accuracy: 0.8451\n",
      "Epoch 32/100\n",
      "469/469 [==============================] - 1s 1ms/step - loss: 0.3687 - accuracy: 0.8454 - val_loss: 0.3669 - val_accuracy: 0.8455\n",
      "Epoch 33/100\n",
      "469/469 [==============================] - 1s 1ms/step - loss: 0.3706 - accuracy: 0.8415 - val_loss: 0.3698 - val_accuracy: 0.8447\n",
      "Epoch 34/100\n",
      "469/469 [==============================] - 1s 1ms/step - loss: 0.3742 - accuracy: 0.8430 - val_loss: 0.3691 - val_accuracy: 0.8438\n",
      "Epoch 35/100\n",
      "469/469 [==============================] - 1s 1ms/step - loss: 0.3722 - accuracy: 0.8409 - val_loss: 0.3683 - val_accuracy: 0.8408\n",
      "Epoch 36/100\n",
      "469/469 [==============================] - 1s 1ms/step - loss: 0.3657 - accuracy: 0.8437 - val_loss: 0.3651 - val_accuracy: 0.8486\n",
      "Epoch 37/100\n",
      "469/469 [==============================] - 1s 1ms/step - loss: 0.3659 - accuracy: 0.8447 - val_loss: 0.3676 - val_accuracy: 0.8442\n",
      "Epoch 38/100\n",
      "469/469 [==============================] - 1s 1ms/step - loss: 0.3687 - accuracy: 0.8409 - val_loss: 0.3682 - val_accuracy: 0.8447\n",
      "Epoch 39/100\n",
      "469/469 [==============================] - 1s 1ms/step - loss: 0.3613 - accuracy: 0.8445 - val_loss: 0.3643 - val_accuracy: 0.8464\n",
      "Epoch 40/100\n",
      "469/469 [==============================] - 1s 1ms/step - loss: 0.3695 - accuracy: 0.8450 - val_loss: 0.3691 - val_accuracy: 0.8429\n",
      "Epoch 41/100\n",
      "469/469 [==============================] - 1s 1ms/step - loss: 0.3659 - accuracy: 0.8420 - val_loss: 0.3689 - val_accuracy: 0.8442\n",
      "Epoch 42/100\n",
      "469/469 [==============================] - 1s 1ms/step - loss: 0.3625 - accuracy: 0.8452 - val_loss: 0.3662 - val_accuracy: 0.8460\n",
      "Epoch 43/100\n",
      "469/469 [==============================] - 1s 1ms/step - loss: 0.3629 - accuracy: 0.8469 - val_loss: 0.3678 - val_accuracy: 0.8460\n",
      "Epoch 44/100\n",
      "469/469 [==============================] - 1s 1ms/step - loss: 0.3696 - accuracy: 0.8462 - val_loss: 0.3654 - val_accuracy: 0.8451\n",
      "Epoch 45/100\n",
      "469/469 [==============================] - 1s 1ms/step - loss: 0.3615 - accuracy: 0.8460 - val_loss: 0.3634 - val_accuracy: 0.8468\n",
      "Epoch 46/100\n",
      "469/469 [==============================] - 1s 1ms/step - loss: 0.3587 - accuracy: 0.8471 - val_loss: 0.3638 - val_accuracy: 0.8460\n",
      "Epoch 47/100\n",
      "469/469 [==============================] - 1s 1ms/step - loss: 0.3681 - accuracy: 0.8433 - val_loss: 0.3712 - val_accuracy: 0.8434\n",
      "Epoch 48/100\n",
      "469/469 [==============================] - 1s 1ms/step - loss: 0.3665 - accuracy: 0.8458 - val_loss: 0.3692 - val_accuracy: 0.8421\n",
      "Epoch 49/100\n",
      "469/469 [==============================] - 1s 1ms/step - loss: 0.3578 - accuracy: 0.8460 - val_loss: 0.3641 - val_accuracy: 0.8447\n",
      "Epoch 50/100\n",
      "469/469 [==============================] - 1s 1ms/step - loss: 0.3622 - accuracy: 0.8477 - val_loss: 0.3623 - val_accuracy: 0.8460\n",
      "Epoch 51/100\n",
      "469/469 [==============================] - 1s 1ms/step - loss: 0.3587 - accuracy: 0.8482 - val_loss: 0.3636 - val_accuracy: 0.8473\n",
      "Epoch 52/100\n",
      "469/469 [==============================] - 1s 1ms/step - loss: 0.3634 - accuracy: 0.8458 - val_loss: 0.3651 - val_accuracy: 0.8451\n",
      "Epoch 53/100\n",
      "469/469 [==============================] - 1s 1ms/step - loss: 0.3653 - accuracy: 0.8430 - val_loss: 0.3642 - val_accuracy: 0.8498\n",
      "Epoch 54/100\n",
      "469/469 [==============================] - 1s 1ms/step - loss: 0.3673 - accuracy: 0.8443 - val_loss: 0.3632 - val_accuracy: 0.8468\n",
      "Epoch 55/100\n",
      "469/469 [==============================] - 1s 1ms/step - loss: 0.3565 - accuracy: 0.8509 - val_loss: 0.3635 - val_accuracy: 0.8486\n",
      "Epoch 56/100\n",
      "469/469 [==============================] - 1s 1ms/step - loss: 0.3533 - accuracy: 0.8486 - val_loss: 0.3623 - val_accuracy: 0.8468\n",
      "Epoch 57/100\n",
      "469/469 [==============================] - 1s 1ms/step - loss: 0.3556 - accuracy: 0.8524 - val_loss: 0.3640 - val_accuracy: 0.8451\n"
     ]
    },
    {
     "name": "stdout",
     "output_type": "stream",
     "text": [
      "Epoch 58/100\n",
      "469/469 [==============================] - 1s 1ms/step - loss: 0.3612 - accuracy: 0.8437 - val_loss: 0.3634 - val_accuracy: 0.8477\n",
      "Epoch 59/100\n",
      "469/469 [==============================] - 1s 1ms/step - loss: 0.3569 - accuracy: 0.8422 - val_loss: 0.3651 - val_accuracy: 0.8451\n",
      "Epoch 60/100\n",
      "469/469 [==============================] - 1s 1ms/step - loss: 0.3547 - accuracy: 0.8494 - val_loss: 0.3612 - val_accuracy: 0.8464\n",
      "Epoch 61/100\n",
      "469/469 [==============================] - 1s 1ms/step - loss: 0.3461 - accuracy: 0.8520 - val_loss: 0.3607 - val_accuracy: 0.8473\n",
      "Epoch 62/100\n",
      "469/469 [==============================] - ETA: 0s - loss: 0.3630 - accuracy: 0.84 - 1s 1ms/step - loss: 0.3628 - accuracy: 0.8475 - val_loss: 0.3604 - val_accuracy: 0.8481\n",
      "Epoch 63/100\n",
      "469/469 [==============================] - 1s 1ms/step - loss: 0.3536 - accuracy: 0.8539 - val_loss: 0.3598 - val_accuracy: 0.8477\n",
      "Epoch 64/100\n",
      "469/469 [==============================] - 1s 1ms/step - loss: 0.3553 - accuracy: 0.8496 - val_loss: 0.3615 - val_accuracy: 0.8481\n",
      "Epoch 65/100\n",
      "469/469 [==============================] - 1s 1ms/step - loss: 0.3492 - accuracy: 0.8535 - val_loss: 0.3613 - val_accuracy: 0.8490\n",
      "Epoch 66/100\n",
      "469/469 [==============================] - 1s 1ms/step - loss: 0.3545 - accuracy: 0.8499 - val_loss: 0.3615 - val_accuracy: 0.8468\n",
      "Epoch 67/100\n",
      "469/469 [==============================] - 1s 1ms/step - loss: 0.3506 - accuracy: 0.8514 - val_loss: 0.3658 - val_accuracy: 0.8477\n",
      "Epoch 68/100\n",
      "469/469 [==============================] - 1s 1ms/step - loss: 0.3572 - accuracy: 0.8462 - val_loss: 0.3639 - val_accuracy: 0.8468\n",
      "Epoch 69/100\n",
      "469/469 [==============================] - 1s 2ms/step - loss: 0.3636 - accuracy: 0.8462 - val_loss: 0.3657 - val_accuracy: 0.8477\n",
      "Epoch 70/100\n",
      "469/469 [==============================] - 1s 2ms/step - loss: 0.3526 - accuracy: 0.8464 - val_loss: 0.3649 - val_accuracy: 0.8455\n",
      "Epoch 71/100\n",
      "469/469 [==============================] - 1s 1ms/step - loss: 0.3507 - accuracy: 0.8546 - val_loss: 0.3634 - val_accuracy: 0.8486\n",
      "Epoch 72/100\n",
      "469/469 [==============================] - 1s 1ms/step - loss: 0.3490 - accuracy: 0.8514 - val_loss: 0.3622 - val_accuracy: 0.8481\n",
      "Epoch 73/100\n",
      "469/469 [==============================] - 1s 1ms/step - loss: 0.3558 - accuracy: 0.8509 - val_loss: 0.3626 - val_accuracy: 0.8494\n",
      "Epoch 74/100\n",
      "469/469 [==============================] - 1s 1ms/step - loss: 0.3495 - accuracy: 0.8516 - val_loss: 0.3617 - val_accuracy: 0.8511\n",
      "Epoch 75/100\n",
      "469/469 [==============================] - 1s 1ms/step - loss: 0.3550 - accuracy: 0.8484 - val_loss: 0.3580 - val_accuracy: 0.8550\n",
      "Epoch 76/100\n",
      "469/469 [==============================] - 1s 1ms/step - loss: 0.3557 - accuracy: 0.8509 - val_loss: 0.3599 - val_accuracy: 0.8507\n",
      "Epoch 77/100\n",
      "469/469 [==============================] - 1s 1ms/step - loss: 0.3447 - accuracy: 0.8565 - val_loss: 0.3623 - val_accuracy: 0.8511\n",
      "Epoch 78/100\n",
      "469/469 [==============================] - 1s 1ms/step - loss: 0.3522 - accuracy: 0.8507 - val_loss: 0.3613 - val_accuracy: 0.8460\n",
      "Epoch 79/100\n",
      "469/469 [==============================] - 1s 1ms/step - loss: 0.3550 - accuracy: 0.8524 - val_loss: 0.3651 - val_accuracy: 0.8451\n",
      "Epoch 80/100\n",
      "469/469 [==============================] - 1s 1ms/step - loss: 0.3477 - accuracy: 0.8501 - val_loss: 0.3649 - val_accuracy: 0.8490\n",
      "Epoch 81/100\n",
      "469/469 [==============================] - 1s 1ms/step - loss: 0.3522 - accuracy: 0.8522 - val_loss: 0.3632 - val_accuracy: 0.8481\n",
      "Epoch 82/100\n",
      "469/469 [==============================] - 1s 1ms/step - loss: 0.3480 - accuracy: 0.8543 - val_loss: 0.3616 - val_accuracy: 0.8529\n",
      "Epoch 83/100\n",
      "469/469 [==============================] - 1s 1ms/step - loss: 0.3511 - accuracy: 0.8469 - val_loss: 0.3617 - val_accuracy: 0.8486\n",
      "Epoch 84/100\n",
      "469/469 [==============================] - 1s 1ms/step - loss: 0.3499 - accuracy: 0.8533 - val_loss: 0.3632 - val_accuracy: 0.8468\n",
      "Epoch 85/100\n",
      "469/469 [==============================] - 1s 1ms/step - loss: 0.3456 - accuracy: 0.8554 - val_loss: 0.3646 - val_accuracy: 0.8490\n",
      "Epoch 86/100\n",
      "469/469 [==============================] - 1s 1ms/step - loss: 0.3514 - accuracy: 0.8492 - val_loss: 0.3653 - val_accuracy: 0.8442\n",
      "Epoch 87/100\n",
      "469/469 [==============================] - 1s 1ms/step - loss: 0.3481 - accuracy: 0.8496 - val_loss: 0.3617 - val_accuracy: 0.8520\n",
      "Epoch 88/100\n",
      "469/469 [==============================] - 1s 1ms/step - loss: 0.3515 - accuracy: 0.8509 - val_loss: 0.3628 - val_accuracy: 0.8494\n",
      "Epoch 89/100\n",
      "469/469 [==============================] - 1s 1ms/step - loss: 0.3482 - accuracy: 0.8477 - val_loss: 0.3659 - val_accuracy: 0.8464\n",
      "Epoch 90/100\n",
      "469/469 [==============================] - 1s 1ms/step - loss: 0.3468 - accuracy: 0.8541 - val_loss: 0.3625 - val_accuracy: 0.8516\n",
      "Epoch 91/100\n",
      "469/469 [==============================] - 1s 1ms/step - loss: 0.3514 - accuracy: 0.8531 - val_loss: 0.3670 - val_accuracy: 0.8490\n",
      "Epoch 92/100\n",
      "469/469 [==============================] - 1s 1ms/step - loss: 0.3429 - accuracy: 0.8567 - val_loss: 0.3615 - val_accuracy: 0.8494\n",
      "Epoch 93/100\n",
      "469/469 [==============================] - 1s 1ms/step - loss: 0.3437 - accuracy: 0.8509 - val_loss: 0.3607 - val_accuracy: 0.8511\n",
      "Epoch 94/100\n",
      "469/469 [==============================] - 1s 1ms/step - loss: 0.3392 - accuracy: 0.8528 - val_loss: 0.3625 - val_accuracy: 0.8511\n",
      "Epoch 95/100\n",
      "469/469 [==============================] - 1s 1ms/step - loss: 0.3459 - accuracy: 0.8560 - val_loss: 0.3621 - val_accuracy: 0.8555\n",
      "Epoch 96/100\n",
      "469/469 [==============================] - 1s 1ms/step - loss: 0.3473 - accuracy: 0.8501 - val_loss: 0.3635 - val_accuracy: 0.8473\n",
      "Epoch 97/100\n",
      "469/469 [==============================] - 1s 1ms/step - loss: 0.3476 - accuracy: 0.8533 - val_loss: 0.3637 - val_accuracy: 0.8503\n",
      "Epoch 98/100\n",
      "469/469 [==============================] - 1s 1ms/step - loss: 0.3381 - accuracy: 0.8550 - val_loss: 0.3666 - val_accuracy: 0.8468\n",
      "Epoch 99/100\n",
      "469/469 [==============================] - 1s 1ms/step - loss: 0.3490 - accuracy: 0.8558 - val_loss: 0.3617 - val_accuracy: 0.8473\n",
      "Epoch 100/100\n",
      "469/469 [==============================] - 1s 1ms/step - loss: 0.3385 - accuracy: 0.8550 - val_loss: 0.3640 - val_accuracy: 0.8486\n"
     ]
    }
   ],
   "source": [
    "#fit with batch_size=10 and epochs=100\n",
    "model_history_kt = model_kt.fit(x=X_train, y=y_train, validation_split=0.33, batch_size=10, epochs=100)"
   ]
  },
  {
   "cell_type": "code",
   "execution_count": 42,
   "metadata": {},
   "outputs": [
    {
     "data": {
      "image/png": "[encoded data removed]",
      "text/plain": [
       "<Figure size 432x288 with 1 Axes>"
      ]
     },
     "metadata": {
      "needs_background": "light"
     },
     "output_type": "display_data"
    },
    {
     "data": {
      "image/png": "[encoded data removed]",
      "text/plain": [
       "<Figure size 432x288 with 1 Axes>"
      ]
     },
     "metadata": {
      "needs_background": "light"
     },
     "output_type": "display_data"
    }
   ],
   "source": [
    "# plot the loss\n",
    "plt.plot(model_history_kt.history['loss'], label='train loss')\n",
    "plt.plot(model_history_kt.history['val_loss'], label='val loss')\n",
    "plt.legend()\n",
    "plt.show()\n",
    "\n",
    "# plot the accuracy\n",
    "plt.plot(model_history_kt.history['accuracy'], label='train acc')\n",
    "plt.plot(model_history_kt.history['val_accuracy'], label='val acc')\n",
    "plt.legend()\n",
    "plt.show()"
   ]
  },
  {
   "cell_type": "code",
   "execution_count": 43,
   "metadata": {},
   "outputs": [
    {
     "data": {
      "text/plain": [
       "array([[False],\n",
       "       [False],\n",
       "       [False],\n",
       "       ...,\n",
       "       [False],\n",
       "       [False],\n",
       "       [False]])"
      ]
     },
     "execution_count": 43,
     "metadata": {},
     "output_type": "execute_result"
    }
   ],
   "source": [
    "y_pred = model_kt.predict(X_test)\n",
    "y_pred_binary = y_pred > 0.5\n",
    "y_pred_binary"
   ]
  },
  {
   "cell_type": "code",
   "execution_count": 44,
   "metadata": {},
   "outputs": [
    {
     "data": {
      "text/plain": [
       "array([[2322,   57],\n",
       "       [ 366,  255]], dtype=int64)"
      ]
     },
     "execution_count": 44,
     "metadata": {},
     "output_type": "execute_result"
    }
   ],
   "source": [
    "confusion_matrix(y_test, y_pred_binary)"
   ]
  },
  {
   "cell_type": "code",
   "execution_count": 45,
   "metadata": {},
   "outputs": [
    {
     "data": {
      "text/plain": [
       "0.859"
      ]
     },
     "execution_count": 45,
     "metadata": {},
     "output_type": "execute_result"
    }
   ],
   "source": [
    "accuracy_score(y_test, y_pred_binary)"
   ]
  },
  {
   "cell_type": "markdown",
   "metadata": {},
   "source": [
    "Our accuracy increased here from 0.857 to 0.859. This is slight increase. However, we know our model structure is not at fault. We simply need more data for better accuracy. Keras-tuner can be extremely helpful for defining a good model for the given task."
   ]
  }
 ],
 "metadata": {
  "kernelspec": {
   "display_name": "Python 3",
   "language": "python",
   "name": "python3"
  },
  "language_info": {
   "codemirror_mode": {
    "name": "ipython",
    "version": 3
   },
   "file_extension": ".py",
   "mimetype": "text/x-python",
   "name": "python",
   "nbconvert_exporter": "python",
   "pygments_lexer": "ipython3",
   "version": "3.8.3"
  }
 },
 "nbformat": 4,
 "nbformat_minor": 4
}
