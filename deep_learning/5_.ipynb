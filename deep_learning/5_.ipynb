{
 "cells": [
  {
   "cell_type": "code",
   "execution_count": null,
   "metadata": {},
   "outputs": [],
   "source": [
    "#A simple CNN\n",
    "\n",
    "#instantiate\n",
    "#i.define model\n",
    "cnn = Sequential()\n",
    "\n",
    "#first convolution layer\n",
    "cnn.add(Conv2D(filters=32,padding=\"same\",kernel_size=3, activation='relu', strides=2, input_shape=[64, 64, 3]))\n",
    "#maxpooling\n",
    "cnn.add(MaxPool2D(pool_size=2, strides=2))\n",
    "\n",
    "#second convolution layer\n",
    "cnn.add(Conv2D(filters=32,padding='same',kernel_size=3, activation='relu'))\n",
    "#maxpooling\n",
    "cnn.add(MaxPool2D(pool_size=2, strides=2))\n",
    "\n",
    "#flattening\n",
    "cnn.add(Flatten())\n",
    "\n",
    "#fully connected dense layer\n",
    "cnn.add(Dense(units=128, activation='relu'))\n",
    "\n",
    "#output Layer\n",
    "cnn.add(Dense(units=1, activation='sigmoid'))\n",
    "\n",
    "#ii.compile the model\n",
    "#we have to define the optimizer, loss function and evaluating metric while compiling the model\n",
    "#since our output is 0 and 1 we will use \"binary_cossentopy\"\n",
    "cnn.compile(optimizer = 'adam', loss = \"binary_crossentropy\", metrics = ['accuracy'])"
   ]
  }
 ],
 "metadata": {
  "kernelspec": {
   "display_name": "Python 3",
   "language": "python",
   "name": "python3"
  },
  "language_info": {
   "codemirror_mode": {
    "name": "ipython",
    "version": 3
   },
   "file_extension": ".py",
   "mimetype": "text/x-python",
   "name": "python",
   "nbconvert_exporter": "python",
   "pygments_lexer": "ipython3",
   "version": "3.8.3"
  }
 },
 "nbformat": 4,
 "nbformat_minor": 4
}
