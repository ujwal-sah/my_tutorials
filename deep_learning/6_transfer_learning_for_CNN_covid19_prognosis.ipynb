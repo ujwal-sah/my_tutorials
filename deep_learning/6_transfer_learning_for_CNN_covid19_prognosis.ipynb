{
 "cells": [
  {
   "cell_type": "markdown",
   "metadata": {
    "id": "PtsJOYtM21z8"
   },
   "source": [
    "# Identifying Covid-19 using Chest X-ray with Deep Transfer Learning"
   ]
  },
  {
   "cell_type": "code",
   "execution_count": 47,
   "metadata": {
    "executionInfo": {
     "elapsed": 977,
     "status": "ok",
     "timestamp": 1610946044722,
     "user": {
      "displayName": "Ujwal Sah",
      "photoUrl": "https://lh3.googleusercontent.com/a-/AOh14GijuWFTd6FGdQTmHhPXs51pLdmuVqKYF1BIWExLDw=s64",
      "userId": "12511996127236108172"
     },
     "user_tz": -345
    },
    "id": "cMUKjD0SyzpX"
   },
   "outputs": [],
   "source": [
    "# we will need these as we are using transfer learning and we will have to train our own last layer(s)\n",
    "from tensorflow.keras.layers import Input, Lambda, Dense, Flatten\n",
    "from tensorflow.keras.models import Sequential, Model, load_model\n",
    "\n",
    "# importing pre-trained modeland a fuction to pre-process our image\n",
    "from tensorflow.keras.applications.vgg16 import VGG16, preprocess_input\n",
    "# we can change the above line of code to use any other pretrained model\n",
    "# for example we can import DenseNet201\n",
    "# from keras.applications.densenet import DenseNet201, preprocess_input\n",
    "\n",
    "# for image data augmentation\n",
    "from tensorflow.keras.preprocessing.image import ImageDataGenerator, load_img, img_to_array"
   ]
  },
  {
   "cell_type": "code",
   "execution_count": 19,
   "metadata": {
    "executionInfo": {
     "elapsed": 1274,
     "status": "ok",
     "timestamp": 1610943210266,
     "user": {
      "displayName": "Ujwal Sah",
      "photoUrl": "https://lh3.googleusercontent.com/a-/AOh14GijuWFTd6FGdQTmHhPXs51pLdmuVqKYF1BIWExLDw=s64",
      "userId": "12511996127236108172"
     },
     "user_tz": -345
    },
    "id": "64um-hdpyzpf"
   },
   "outputs": [],
   "source": [
    "# usual imports\n",
    "import numpy as np\n",
    "from glob import glob\n",
    "import matplotlib.pyplot as plt"
   ]
  },
  {
   "cell_type": "markdown",
   "metadata": {
    "id": "Jv7fK62fy1tl"
   },
   "source": [
    "### Datasets\n",
    "Covid-19 X-ray:\n",
    "https://github.com/ieee8023/covid-chestxray-dataset  \n",
    "Pneumonia and Normal X-ray:\n",
    "https://www.kaggle.com/paultimothymooney/chest-xray-pneumonia"
   ]
  },
  {
   "cell_type": "code",
   "execution_count": 20,
   "metadata": {
    "executionInfo": {
     "elapsed": 1100,
     "status": "ok",
     "timestamp": 1610943210782,
     "user": {
      "displayName": "Ujwal Sah",
      "photoUrl": "https://lh3.googleusercontent.com/a-/AOh14GijuWFTd6FGdQTmHhPXs51pLdmuVqKYF1BIWExLDw=s64",
      "userId": "12511996127236108172"
     },
     "user_tz": -345
    },
    "id": "hk6CUZwayzpi"
   },
   "outputs": [],
   "source": [
    "train_path = \"/content/drive/MyDrive/Colab Notebooks/CNN/covid19_x_ray/Datasets/Train\"\n",
    "valid_path = \"/content/drive/MyDrive/Colab Notebooks/CNN/covid19_x_ray/Datasets/Val\"\n",
    "test_path = \"/content/drive/MyDrive/Colab Notebooks/CNN/covid19_x_ray/Datasets/Test\""
   ]
  },
  {
   "cell_type": "code",
   "execution_count": 21,
   "metadata": {
    "colab": {
     "base_uri": "https://localhost:8080/"
    },
    "executionInfo": {
     "elapsed": 1137,
     "status": "ok",
     "timestamp": 1610943211315,
     "user": {
      "displayName": "Ujwal Sah",
      "photoUrl": "https://lh3.googleusercontent.com/a-/AOh14GijuWFTd6FGdQTmHhPXs51pLdmuVqKYF1BIWExLDw=s64",
      "userId": "12511996127236108172"
     },
     "user_tz": -345
    },
    "id": "AZfQvxgZyzpk",
    "outputId": "fe37e9cd-26c9-4a14-b608-dffa18dbad8b"
   },
   "outputs": [
    {
     "data": {
      "text/plain": [
       "['/content/drive/MyDrive/Colab Notebooks/CNN/covid19_x_ray/Datasets/Train/NORMAL',\n",
       " '/content/drive/MyDrive/Colab Notebooks/CNN/covid19_x_ray/Datasets/Train/COVID']"
      ]
     },
     "execution_count": 21,
     "metadata": {
      "tags": []
     },
     "output_type": "execute_result"
    }
   ],
   "source": [
    "#useful for getting number of classes\n",
    "folders = glob(\"/content/drive/MyDrive/Colab Notebooks/CNN/covid19_x_ray/Datasets/Train/*\")\n",
    "folders"
   ]
  },
  {
   "cell_type": "markdown",
   "metadata": {
    "id": "zLzdOnZ93eB_"
   },
   "source": [
    "### Downloading the pretrained VGG16 model with weights trained for ImageNet:\n",
    "\n",
    "More Info.: https://keras.io/api/applications/"
   ]
  },
  {
   "cell_type": "code",
   "execution_count": 22,
   "metadata": {
    "executionInfo": {
     "elapsed": 1283,
     "status": "ok",
     "timestamp": 1610943212545,
     "user": {
      "displayName": "Ujwal Sah",
      "photoUrl": "https://lh3.googleusercontent.com/a-/AOh14GijuWFTd6FGdQTmHhPXs51pLdmuVqKYF1BIWExLDw=s64",
      "userId": "12511996127236108172"
     },
     "user_tz": -345
    },
    "id": "mto-RoNzyzpg"
   },
   "outputs": [],
   "source": [
    "#resize all the images to this\n",
    "image_size = [224, 224]"
   ]
  },
  {
   "cell_type": "code",
   "execution_count": 23,
   "metadata": {
    "executionInfo": {
     "elapsed": 1189,
     "status": "ok",
     "timestamp": 1610943213009,
     "user": {
      "displayName": "Ujwal Sah",
      "photoUrl": "https://lh3.googleusercontent.com/a-/AOh14GijuWFTd6FGdQTmHhPXs51pLdmuVqKYF1BIWExLDw=s64",
      "userId": "12511996127236108172"
     },
     "user_tz": -345
    },
    "id": "XfAVD86syzpj"
   },
   "outputs": [],
   "source": [
    "# we will not include last layer include_top=False\n",
    "vgg = VGG16(input_shape=image_size+[3], weights=\"imagenet\", include_top=False)"
   ]
  },
  {
   "cell_type": "code",
   "execution_count": 24,
   "metadata": {
    "executionInfo": {
     "elapsed": 1285,
     "status": "ok",
     "timestamp": 1610943213481,
     "user": {
      "displayName": "Ujwal Sah",
      "photoUrl": "https://lh3.googleusercontent.com/a-/AOh14GijuWFTd6FGdQTmHhPXs51pLdmuVqKYF1BIWExLDw=s64",
      "userId": "12511996127236108172"
     },
     "user_tz": -345
    },
    "id": "g8FZgqoE3lYs"
   },
   "outputs": [],
   "source": [
    "# we will not include last layer include_top=False\n",
    "# example with DenseNet201\n",
    "# densenet = DenseNet201(include_top=False, weights='imagenet', input_shape=IMAGE_SIZE + [3], classes=1000)"
   ]
  },
  {
   "cell_type": "code",
   "execution_count": 25,
   "metadata": {
    "executionInfo": {
     "elapsed": 1437,
     "status": "ok",
     "timestamp": 1610943214228,
     "user": {
      "displayName": "Ujwal Sah",
      "photoUrl": "https://lh3.googleusercontent.com/a-/AOh14GijuWFTd6FGdQTmHhPXs51pLdmuVqKYF1BIWExLDw=s64",
      "userId": "12511996127236108172"
     },
     "user_tz": -345
    },
    "id": "S06sE8h4yzpk"
   },
   "outputs": [],
   "source": [
    "#don't train existing weights\n",
    "for layer in vgg.layers:\n",
    "    layer.trainable=False"
   ]
  },
  {
   "cell_type": "markdown",
   "metadata": {
    "id": "d6v6Xn3L4FEK"
   },
   "source": [
    "### Model Construction"
   ]
  },
  {
   "cell_type": "code",
   "execution_count": 26,
   "metadata": {
    "executionInfo": {
     "elapsed": 933,
     "status": "ok",
     "timestamp": 1610943214790,
     "user": {
      "displayName": "Ujwal Sah",
      "photoUrl": "https://lh3.googleusercontent.com/a-/AOh14GijuWFTd6FGdQTmHhPXs51pLdmuVqKYF1BIWExLDw=s64",
      "userId": "12511996127236108172"
     },
     "user_tz": -345
    },
    "id": "Q_RifY5Nyzpl"
   },
   "outputs": [],
   "source": [
    "#our layers\n",
    "x = Flatten()(vgg.output)\n",
    "# we can add more layers\n",
    "# x = Dense(1000, activation=\"relu\")(x)"
   ]
  },
  {
   "cell_type": "code",
   "execution_count": 27,
   "metadata": {
    "executionInfo": {
     "elapsed": 1755,
     "status": "ok",
     "timestamp": 1610943216382,
     "user": {
      "displayName": "Ujwal Sah",
      "photoUrl": "https://lh3.googleusercontent.com/a-/AOh14GijuWFTd6FGdQTmHhPXs51pLdmuVqKYF1BIWExLDw=s64",
      "userId": "12511996127236108172"
     },
     "user_tz": -345
    },
    "id": "zx9YhgApyzpl"
   },
   "outputs": [],
   "source": [
    "prediction = Dense(len(folders), activation=\"softmax\")(x)"
   ]
  },
  {
   "cell_type": "code",
   "execution_count": 28,
   "metadata": {
    "executionInfo": {
     "elapsed": 1268,
     "status": "ok",
     "timestamp": 1610943216385,
     "user": {
      "displayName": "Ujwal Sah",
      "photoUrl": "https://lh3.googleusercontent.com/a-/AOh14GijuWFTd6FGdQTmHhPXs51pLdmuVqKYF1BIWExLDw=s64",
      "userId": "12511996127236108172"
     },
     "user_tz": -345
    },
    "id": "_knV0pZZyzpl"
   },
   "outputs": [],
   "source": [
    "#create a model object\n",
    "model = Model(inputs=vgg.input, outputs=prediction)"
   ]
  },
  {
   "cell_type": "code",
   "execution_count": 29,
   "metadata": {
    "colab": {
     "base_uri": "https://localhost:8080/"
    },
    "executionInfo": {
     "elapsed": 1332,
     "status": "ok",
     "timestamp": 1610943216956,
     "user": {
      "displayName": "Ujwal Sah",
      "photoUrl": "https://lh3.googleusercontent.com/a-/AOh14GijuWFTd6FGdQTmHhPXs51pLdmuVqKYF1BIWExLDw=s64",
      "userId": "12511996127236108172"
     },
     "user_tz": -345
    },
    "id": "i0r17KFcyzpl",
    "outputId": "1eb2c33b-d51d-4d38-a371-37279a2f71ea",
    "scrolled": true
   },
   "outputs": [
    {
     "name": "stdout",
     "output_type": "stream",
     "text": [
      "Model: \"model_1\"\n",
      "_________________________________________________________________\n",
      "Layer (type)                 Output Shape              Param #   \n",
      "=================================================================\n",
      "input_2 (InputLayer)         [(None, 224, 224, 3)]     0         \n",
      "_________________________________________________________________\n",
      "block1_conv1 (Conv2D)        (None, 224, 224, 64)      1792      \n",
      "_________________________________________________________________\n",
      "block1_conv2 (Conv2D)        (None, 224, 224, 64)      36928     \n",
      "_________________________________________________________________\n",
      "block1_pool (MaxPooling2D)   (None, 112, 112, 64)      0         \n",
      "_________________________________________________________________\n",
      "block2_conv1 (Conv2D)        (None, 112, 112, 128)     73856     \n",
      "_________________________________________________________________\n",
      "block2_conv2 (Conv2D)        (None, 112, 112, 128)     147584    \n",
      "_________________________________________________________________\n",
      "block2_pool (MaxPooling2D)   (None, 56, 56, 128)       0         \n",
      "_________________________________________________________________\n",
      "block3_conv1 (Conv2D)        (None, 56, 56, 256)       295168    \n",
      "_________________________________________________________________\n",
      "block3_conv2 (Conv2D)        (None, 56, 56, 256)       590080    \n",
      "_________________________________________________________________\n",
      "block3_conv3 (Conv2D)        (None, 56, 56, 256)       590080    \n",
      "_________________________________________________________________\n",
      "block3_pool (MaxPooling2D)   (None, 28, 28, 256)       0         \n",
      "_________________________________________________________________\n",
      "block4_conv1 (Conv2D)        (None, 28, 28, 512)       1180160   \n",
      "_________________________________________________________________\n",
      "block4_conv2 (Conv2D)        (None, 28, 28, 512)       2359808   \n",
      "_________________________________________________________________\n",
      "block4_conv3 (Conv2D)        (None, 28, 28, 512)       2359808   \n",
      "_________________________________________________________________\n",
      "block4_pool (MaxPooling2D)   (None, 14, 14, 512)       0         \n",
      "_________________________________________________________________\n",
      "block5_conv1 (Conv2D)        (None, 14, 14, 512)       2359808   \n",
      "_________________________________________________________________\n",
      "block5_conv2 (Conv2D)        (None, 14, 14, 512)       2359808   \n",
      "_________________________________________________________________\n",
      "block5_conv3 (Conv2D)        (None, 14, 14, 512)       2359808   \n",
      "_________________________________________________________________\n",
      "block5_pool (MaxPooling2D)   (None, 7, 7, 512)         0         \n",
      "_________________________________________________________________\n",
      "flatten_1 (Flatten)          (None, 25088)             0         \n",
      "_________________________________________________________________\n",
      "dense_1 (Dense)              (None, 2)                 50178     \n",
      "=================================================================\n",
      "Total params: 14,764,866\n",
      "Trainable params: 50,178\n",
      "Non-trainable params: 14,714,688\n",
      "_________________________________________________________________\n"
     ]
    }
   ],
   "source": [
    "#view the structure of the model\n",
    "model.summary()"
   ]
  },
  {
   "cell_type": "code",
   "execution_count": 30,
   "metadata": {
    "executionInfo": {
     "elapsed": 1142,
     "status": "ok",
     "timestamp": 1610943219838,
     "user": {
      "displayName": "Ujwal Sah",
      "photoUrl": "https://lh3.googleusercontent.com/a-/AOh14GijuWFTd6FGdQTmHhPXs51pLdmuVqKYF1BIWExLDw=s64",
      "userId": "12511996127236108172"
     },
     "user_tz": -345
    },
    "id": "8mHeRMnvyzpm"
   },
   "outputs": [],
   "source": [
    "model.compile(loss=\"categorical_crossentropy\", optimizer=\"adam\", metrics=[\"accuracy\"])"
   ]
  },
  {
   "cell_type": "code",
   "execution_count": 31,
   "metadata": {
    "colab": {
     "base_uri": "https://localhost:8080/"
    },
    "executionInfo": {
     "elapsed": 1666,
     "status": "ok",
     "timestamp": 1610943220905,
     "user": {
      "displayName": "Ujwal Sah",
      "photoUrl": "https://lh3.googleusercontent.com/a-/AOh14GijuWFTd6FGdQTmHhPXs51pLdmuVqKYF1BIWExLDw=s64",
      "userId": "12511996127236108172"
     },
     "user_tz": -345
    },
    "id": "OKSC8H9Iyzpm",
    "outputId": "0f96c20f-4f1d-4439-c1a1-e7dbe139c0bc"
   },
   "outputs": [
    {
     "name": "stdout",
     "output_type": "stream",
     "text": [
      "Found 5216 images belonging to 2 classes.\n",
      "Found 16 images belonging to 2 classes.\n",
      "Found 624 images belonging to 2 classes.\n"
     ]
    }
   ],
   "source": [
    "#image_data_augmentation\n",
    "train_datagen = ImageDataGenerator(rescale=1/255, shear_range=0.2,\n",
    "                            zoom_range=0.2, horizontal_flip=True)\n",
    "\n",
    "val_datagen = ImageDataGenerator(rescale=1/255)\n",
    "\n",
    "test_datagen = ImageDataGenerator(rescale=1/255)\n",
    "\n",
    "training_set = train_datagen.flow_from_directory(train_path, batch_size=16,\n",
    "                                                 target_size=(224, 224), class_mode=\"categorical\")\n",
    "\n",
    "validation_set = val_datagen.flow_from_directory(valid_path, batch_size=16,\n",
    "                                                 target_size=(224, 224), class_mode=\"categorical\")\n",
    "\n",
    "test_set = test_datagen.flow_from_directory(test_path, batch_size=16,\n",
    "                                                 target_size=(224, 224), class_mode=\"categorical\")"
   ]
  },
  {
   "cell_type": "code",
   "execution_count": 32,
   "metadata": {
    "colab": {
     "base_uri": "https://localhost:8080/"
    },
    "executionInfo": {
     "elapsed": 1843131,
     "status": "ok",
     "timestamp": 1610945063190,
     "user": {
      "displayName": "Ujwal Sah",
      "photoUrl": "https://lh3.googleusercontent.com/a-/AOh14GijuWFTd6FGdQTmHhPXs51pLdmuVqKYF1BIWExLDw=s64",
      "userId": "12511996127236108172"
     },
     "user_tz": -345
    },
    "id": "_dM5sl3lyzpm",
    "outputId": "d4204281-f0dc-4917-fa73-80ed9646b2d1"
   },
   "outputs": [
    {
     "name": "stdout",
     "output_type": "stream",
     "text": [
      "Epoch 1/5\n",
      "326/326 [==============================] - 1366s 4s/step - loss: 0.2715 - accuracy: 0.8982 - val_loss: 1.6980 - val_accuracy: 0.6875\n",
      "Epoch 2/5\n",
      "326/326 [==============================] - 118s 362ms/step - loss: 0.1615 - accuracy: 0.9469 - val_loss: 0.4960 - val_accuracy: 0.7500\n",
      "Epoch 3/5\n",
      "326/326 [==============================] - 117s 359ms/step - loss: 0.1143 - accuracy: 0.9608 - val_loss: 0.1822 - val_accuracy: 0.9375\n",
      "Epoch 4/5\n",
      "326/326 [==============================] - 117s 359ms/step - loss: 0.1221 - accuracy: 0.9572 - val_loss: 0.2622 - val_accuracy: 0.9375\n",
      "Epoch 5/5\n",
      "326/326 [==============================] - 118s 362ms/step - loss: 0.0822 - accuracy: 0.9705 - val_loss: 0.1376 - val_accuracy: 0.9375\n"
     ]
    }
   ],
   "source": [
    "# fit the model\n",
    "r = model.fit(training_set, validation_data=validation_set, epochs=5,\n",
    "                        steps_per_epoch=len(training_set), validation_steps=len(validation_set))"
   ]
  },
  {
   "cell_type": "code",
   "execution_count": 33,
   "metadata": {
    "colab": {
     "base_uri": "https://localhost:8080/",
     "height": 531
    },
    "executionInfo": {
     "elapsed": 1184,
     "status": "ok",
     "timestamp": 1610945078931,
     "user": {
      "displayName": "Ujwal Sah",
      "photoUrl": "https://lh3.googleusercontent.com/a-/AOh14GijuWFTd6FGdQTmHhPXs51pLdmuVqKYF1BIWExLDw=s64",
      "userId": "12511996127236108172"
     },
     "user_tz": -345
    },
    "id": "OIQYh6dByzpn",
    "outputId": "74688333-42a6-4120-b3b4-a9537b0727d7"
   },
   "outputs": [
    {
     "data": {
      "image/png": "[encoded data removed]",
      "text/plain": [
       "<Figure size 432x288 with 1 Axes>"
      ]
     },
     "metadata": {
      "needs_background": "light",
      "tags": []
     },
     "output_type": "display_data"
    },
    {
     "data": {
      "image/png": "[encoded data removed]",
      "text/plain": [
       "<Figure size 432x288 with 1 Axes>"
      ]
     },
     "metadata": {
      "needs_background": "light",
      "tags": []
     },
     "output_type": "display_data"
    },
    {
     "data": {
      "text/plain": [
       "<Figure size 432x288 with 0 Axes>"
      ]
     },
     "metadata": {
      "tags": []
     },
     "output_type": "display_data"
    }
   ],
   "source": [
    "# plot the loss\n",
    "plt.plot(r.history['loss'], label='train loss')\n",
    "plt.plot(r.history['val_loss'], label='val loss')\n",
    "plt.legend()\n",
    "plt.show()\n",
    "plt.savefig('LossVal_loss')\n",
    "\n",
    "# plot the accuracy\n",
    "plt.plot(r.history['accuracy'], label='train acc')\n",
    "plt.plot(r.history['val_accuracy'], label='val acc')\n",
    "plt.legend()\n",
    "plt.show()\n",
    "plt.savefig('AccVal_acc')"
   ]
  },
  {
   "cell_type": "code",
   "execution_count": 35,
   "metadata": {
    "colab": {
     "base_uri": "https://localhost:8080/"
    },
    "executionInfo": {
     "elapsed": 47574,
     "status": "ok",
     "timestamp": 1610945272351,
     "user": {
      "displayName": "Ujwal Sah",
      "photoUrl": "https://lh3.googleusercontent.com/a-/AOh14GijuWFTd6FGdQTmHhPXs51pLdmuVqKYF1BIWExLDw=s64",
      "userId": "12511996127236108172"
     },
     "user_tz": -345
    },
    "id": "Hpj_tQgfyzpn",
    "outputId": "8f03ea10-d132-43ae-e861-d751a54cdd54"
   },
   "outputs": [
    {
     "data": {
      "text/plain": [
       "array([[9.9185246e-01, 8.1475591e-03],\n",
       "       [9.9941063e-01, 5.8935280e-04],\n",
       "       [9.9999988e-01, 1.5303337e-07],\n",
       "       ...,\n",
       "       [9.9849570e-01, 1.5042931e-03],\n",
       "       [9.9998426e-01, 1.5748223e-05],\n",
       "       [9.9825758e-01, 1.7424488e-03]], dtype=float32)"
      ]
     },
     "execution_count": 35,
     "metadata": {
      "tags": []
     },
     "output_type": "execute_result"
    }
   ],
   "source": [
    "y_pred = model.predict(test_set)\n",
    "y_pred"
   ]
  },
  {
   "cell_type": "code",
   "execution_count": 36,
   "metadata": {
    "colab": {
     "base_uri": "https://localhost:8080/"
    },
    "executionInfo": {
     "elapsed": 1070,
     "status": "ok",
     "timestamp": 1610945366241,
     "user": {
      "displayName": "Ujwal Sah",
      "photoUrl": "https://lh3.googleusercontent.com/a-/AOh14GijuWFTd6FGdQTmHhPXs51pLdmuVqKYF1BIWExLDw=s64",
      "userId": "12511996127236108172"
     },
     "user_tz": -345
    },
    "id": "Q6liJXkmyzpn",
    "outputId": "d821d988-437c-4fa1-91d7-6eb4abe058b4"
   },
   "outputs": [
    {
     "data": {
      "text/plain": [
       "array([0, 0, 0, 0, 0, 0, 0, 1, 1, 1, 0, 1, 0, 1, 1, 0, 0, 1, 0, 1, 1, 0,\n",
       "       0, 0, 0, 0, 0, 0, 1, 1, 0, 1, 0, 0, 1, 0, 0, 0, 1, 1, 0, 1, 0, 1,\n",
       "       1, 0, 0, 0, 0, 1, 1, 0, 0, 0, 1, 1, 1, 1, 1, 0, 0, 0, 1, 0, 1, 0,\n",
       "       1, 0, 1, 0, 1, 0, 0, 0, 1, 1, 0, 0, 0, 0, 0, 0, 0, 1, 0, 0, 0, 1,\n",
       "       1, 1, 0, 1, 0, 0, 0, 1, 1, 1, 1, 1, 1, 1, 0, 1, 0, 0, 0, 0, 1, 0,\n",
       "       1, 1, 0, 0, 1, 1, 1, 0, 1, 1, 1, 0, 0, 1, 0, 1, 0, 0, 0, 0, 0, 0,\n",
       "       1, 0, 0, 1, 0, 1, 0, 1, 0, 1, 1, 0, 0, 1, 0, 1, 0, 0, 0, 0, 0, 1,\n",
       "       0, 1, 0, 0, 0, 0, 0, 0, 0, 0, 1, 0, 0, 0, 1, 1, 0, 1, 0, 1, 0, 1,\n",
       "       0, 0, 0, 0, 0, 1, 0, 0, 0, 0, 1, 0, 0, 0, 1, 1, 0, 0, 0, 1, 0, 1,\n",
       "       1, 0, 0, 0, 0, 1, 0, 0, 0, 1, 0, 0, 1, 0, 0, 0, 1, 1, 0, 1, 1, 1,\n",
       "       1, 0, 1, 0, 0, 0, 0, 0, 0, 0, 0, 1, 1, 0, 0, 1, 1, 0, 0, 0, 1, 0,\n",
       "       0, 0, 1, 1, 0, 0, 0, 0, 0, 0, 0, 1, 0, 0, 0, 1, 1, 1, 0, 0, 0, 0,\n",
       "       0, 0, 0, 0, 0, 0, 1, 1, 0, 0, 1, 0, 1, 0, 0, 1, 1, 0, 0, 0, 1, 0,\n",
       "       0, 1, 1, 0, 1, 0, 0, 1, 1, 0, 0, 0, 1, 0, 0, 0, 0, 1, 1, 1, 0, 0,\n",
       "       1, 0, 0, 0, 1, 0, 0, 1, 0, 0, 0, 1, 1, 0, 0, 1, 0, 0, 1, 0, 0, 0,\n",
       "       0, 1, 1, 0, 0, 0, 0, 1, 0, 1, 0, 1, 1, 0, 0, 0, 1, 0, 0, 0, 0, 1,\n",
       "       0, 1, 0, 0, 1, 0, 0, 0, 0, 0, 0, 0, 0, 0, 0, 1, 0, 0, 0, 0, 0, 0,\n",
       "       0, 0, 0, 0, 0, 0, 0, 1, 1, 0, 0, 0, 1, 0, 0, 1, 0, 0, 1, 1, 0, 0,\n",
       "       0, 1, 0, 1, 0, 0, 0, 0, 0, 1, 0, 1, 0, 1, 0, 0, 0, 1, 0, 0, 1, 1,\n",
       "       0, 1, 0, 0, 1, 0, 0, 0, 0, 1, 1, 0, 1, 0, 0, 0, 0, 0, 1, 1, 0, 0,\n",
       "       0, 0, 0, 0, 1, 0, 1, 0, 0, 0, 0, 0, 1, 1, 0, 0, 0, 1, 1, 1, 0, 0,\n",
       "       1, 1, 0, 1, 1, 1, 0, 1, 1, 0, 0, 0, 0, 1, 0, 0, 0, 0, 1, 0, 1, 0,\n",
       "       1, 0, 1, 0, 0, 0, 0, 0, 0, 0, 1, 1, 1, 1, 0, 0, 1, 0, 1, 0, 0, 0,\n",
       "       0, 0, 0, 0, 1, 0, 0, 0, 0, 1, 1, 0, 0, 0, 0, 1, 0, 0, 1, 0, 0, 0,\n",
       "       1, 0, 0, 0, 0, 0, 1, 1, 1, 0, 1, 0, 0, 0, 0, 0, 0, 1, 0, 0, 1, 0,\n",
       "       0, 1, 0, 1, 1, 1, 1, 0, 0, 0, 0, 0, 1, 0, 0, 0, 0, 0, 0, 1, 0, 1,\n",
       "       0, 1, 0, 0, 0, 0, 0, 0, 1, 0, 0, 0, 1, 0, 1, 1, 0, 0, 0, 1, 0, 0,\n",
       "       0, 1, 1, 0, 1, 0, 0, 0, 1, 0, 1, 0, 0, 0, 1, 0, 0, 0, 0, 0, 0, 0,\n",
       "       0, 0, 1, 0, 0, 0, 0, 0])"
      ]
     },
     "execution_count": 36,
     "metadata": {
      "tags": []
     },
     "output_type": "execute_result"
    }
   ],
   "source": [
    "y_pred = np.argmax(y_pred, axis=1)\n",
    "y_pred"
   ]
  },
  {
   "cell_type": "code",
   "execution_count": 39,
   "metadata": {
    "executionInfo": {
     "elapsed": 1327,
     "status": "ok",
     "timestamp": 1610945687433,
     "user": {
      "displayName": "Ujwal Sah",
      "photoUrl": "https://lh3.googleusercontent.com/a-/AOh14GijuWFTd6FGdQTmHhPXs51pLdmuVqKYF1BIWExLDw=s64",
      "userId": "12511996127236108172"
     },
     "user_tz": -345
    },
    "id": "Xw_Fhh6xyzpo"
   },
   "outputs": [],
   "source": [
    "#save the model as a h5 file\n",
    "model.save(\"/content/drive/MyDrive/Colab Notebooks/CNN/covid19_x_ray/covid19_prognosis.h5\")"
   ]
  },
  {
   "cell_type": "code",
   "execution_count": 42,
   "metadata": {
    "executionInfo": {
     "elapsed": 3257,
     "status": "ok",
     "timestamp": 1610945761765,
     "user": {
      "displayName": "Ujwal Sah",
      "photoUrl": "https://lh3.googleusercontent.com/a-/AOh14GijuWFTd6FGdQTmHhPXs51pLdmuVqKYF1BIWExLDw=s64",
      "userId": "12511996127236108172"
     },
     "user_tz": -345
    },
    "id": "nHNrI7zQyzpo"
   },
   "outputs": [],
   "source": [
    "model=load_model(\"/content/drive/MyDrive/Colab Notebooks/CNN/covid19_x_ray/covid19_prognosis.h5\")"
   ]
  },
  {
   "cell_type": "code",
   "execution_count": 68,
   "metadata": {
    "colab": {
     "base_uri": "https://localhost:8080/",
     "height": 241
    },
    "executionInfo": {
     "elapsed": 1345,
     "status": "ok",
     "timestamp": 1610947425997,
     "user": {
      "displayName": "Ujwal Sah",
      "photoUrl": "https://lh3.googleusercontent.com/a-/AOh14GijuWFTd6FGdQTmHhPXs51pLdmuVqKYF1BIWExLDw=s64",
      "userId": "12511996127236108172"
     },
     "user_tz": -345
    },
    "id": "32fyfiymekEk",
    "outputId": "5e5c82a5-0ba5-4ff6-c6fe-4fa3e64f9202"
   },
   "outputs": [
    {
     "data": {
      "image/png": "[encoded data removed]",
      "text/plain": [
       "<PIL.Image.Image image mode=RGB size=224x224 at 0x7F3B6A1A44A8>"
      ]
     },
     "execution_count": 68,
     "metadata": {
      "tags": []
     },
     "output_type": "execute_result"
    }
   ],
   "source": [
    "img=load_img('/content/drive/MyDrive/Colab Notebooks/CNN/covid19_x_ray/Datasets/Test/COVID/person100_bacteria_477.jpeg',target_size=(224,224))\n",
    "img"
   ]
  },
  {
   "cell_type": "code",
   "execution_count": 69,
   "metadata": {
    "colab": {
     "base_uri": "https://localhost:8080/"
    },
    "executionInfo": {
     "elapsed": 1064,
     "status": "ok",
     "timestamp": 1610947428147,
     "user": {
      "displayName": "Ujwal Sah",
      "photoUrl": "https://lh3.googleusercontent.com/a-/AOh14GijuWFTd6FGdQTmHhPXs51pLdmuVqKYF1BIWExLDw=s64",
      "userId": "12511996127236108172"
     },
     "user_tz": -345
    },
    "id": "dKU-Zw5s3KTc",
    "outputId": "32e4d24d-5522-4614-bb62-0bf63cf22986"
   },
   "outputs": [
    {
     "data": {
      "text/plain": [
       "(224, 224, 3)"
      ]
     },
     "execution_count": 69,
     "metadata": {
      "tags": []
     },
     "output_type": "execute_result"
    }
   ],
   "source": [
    "x=img_to_array(img)\n",
    "x.shape"
   ]
  },
  {
   "cell_type": "code",
   "execution_count": 70,
   "metadata": {
    "executionInfo": {
     "elapsed": 990,
     "status": "ok",
     "timestamp": 1610947430171,
     "user": {
      "displayName": "Ujwal Sah",
      "photoUrl": "https://lh3.googleusercontent.com/a-/AOh14GijuWFTd6FGdQTmHhPXs51pLdmuVqKYF1BIWExLDw=s64",
      "userId": "12511996127236108172"
     },
     "user_tz": -345
    },
    "id": "BUUOem693gTP"
   },
   "outputs": [],
   "source": [
    "x=x/255"
   ]
  },
  {
   "cell_type": "code",
   "execution_count": 71,
   "metadata": {
    "colab": {
     "base_uri": "https://localhost:8080/"
    },
    "executionInfo": {
     "elapsed": 1154,
     "status": "ok",
     "timestamp": 1610947435313,
     "user": {
      "displayName": "Ujwal Sah",
      "photoUrl": "https://lh3.googleusercontent.com/a-/AOh14GijuWFTd6FGdQTmHhPXs51pLdmuVqKYF1BIWExLDw=s64",
      "userId": "12511996127236108172"
     },
     "user_tz": -345
    },
    "id": "97r1WeHF3t6U",
    "outputId": "6179ef64-a985-4e87-8aba-1d0742aca5e5"
   },
   "outputs": [
    {
     "data": {
      "text/plain": [
       "(1, 224, 224, 3)"
      ]
     },
     "execution_count": 71,
     "metadata": {
      "tags": []
     },
     "output_type": "execute_result"
    }
   ],
   "source": [
    "x=np.expand_dims(x,axis=0)\n",
    "x.shape"
   ]
  },
  {
   "cell_type": "code",
   "execution_count": 75,
   "metadata": {
    "colab": {
     "base_uri": "https://localhost:8080/"
    },
    "executionInfo": {
     "elapsed": 1008,
     "status": "ok",
     "timestamp": 1610947457560,
     "user": {
      "displayName": "Ujwal Sah",
      "photoUrl": "https://lh3.googleusercontent.com/a-/AOh14GijuWFTd6FGdQTmHhPXs51pLdmuVqKYF1BIWExLDw=s64",
      "userId": "12511996127236108172"
     },
     "user_tz": -345
    },
    "id": "qOEXYBu130R8",
    "outputId": "a3397792-ea26-4fa3-c63f-b405f4827711"
   },
   "outputs": [
    {
     "data": {
      "text/plain": [
       "(1, 224, 224, 3)"
      ]
     },
     "execution_count": 75,
     "metadata": {
      "tags": []
     },
     "output_type": "execute_result"
    }
   ],
   "source": [
    "img_data=preprocess_input(x)\n",
    "img_data.shape"
   ]
  },
  {
   "cell_type": "code",
   "execution_count": 76,
   "metadata": {
    "colab": {
     "base_uri": "https://localhost:8080/"
    },
    "executionInfo": {
     "elapsed": 1111,
     "status": "ok",
     "timestamp": 1610947459373,
     "user": {
      "displayName": "Ujwal Sah",
      "photoUrl": "https://lh3.googleusercontent.com/a-/AOh14GijuWFTd6FGdQTmHhPXs51pLdmuVqKYF1BIWExLDw=s64",
      "userId": "12511996127236108172"
     },
     "user_tz": -345
    },
    "id": "gINGTI9z4EED",
    "outputId": "fb1fce7b-b50a-4313-da49-b97db8fc086c"
   },
   "outputs": [
    {
     "data": {
      "text/plain": [
       "array([[9.9999821e-01, 1.7789919e-06]], dtype=float32)"
      ]
     },
     "execution_count": 76,
     "metadata": {
      "tags": []
     },
     "output_type": "execute_result"
    }
   ],
   "source": [
    "pred = model.predict(img_data)\n",
    "pred"
   ]
  },
  {
   "cell_type": "code",
   "execution_count": 77,
   "metadata": {
    "colab": {
     "base_uri": "https://localhost:8080/"
    },
    "executionInfo": {
     "elapsed": 1374,
     "status": "ok",
     "timestamp": 1610947462307,
     "user": {
      "displayName": "Ujwal Sah",
      "photoUrl": "https://lh3.googleusercontent.com/a-/AOh14GijuWFTd6FGdQTmHhPXs51pLdmuVqKYF1BIWExLDw=s64",
      "userId": "12511996127236108172"
     },
     "user_tz": -345
    },
    "id": "jpwXGLkD4IOf",
    "outputId": "d79e83dc-38a6-4bff-88db-1d30854fb361"
   },
   "outputs": [
    {
     "name": "stdout",
     "output_type": "stream",
     "text": [
      "0\n"
     ]
    }
   ],
   "source": [
    "pred_binary=np.argmax(pred, axis=1)\n",
    "print(int(pred_binary))"
   ]
  },
  {
   "cell_type": "code",
   "execution_count": 78,
   "metadata": {
    "executionInfo": {
     "elapsed": 1076,
     "status": "ok",
     "timestamp": 1610947564558,
     "user": {
      "displayName": "Ujwal Sah",
      "photoUrl": "https://lh3.googleusercontent.com/a-/AOh14GijuWFTd6FGdQTmHhPXs51pLdmuVqKYF1BIWExLDw=s64",
      "userId": "12511996127236108172"
     },
     "user_tz": -345
    },
    "id": "2KjBdg4y4Z2T"
   },
   "outputs": [],
   "source": [
    "def predict_covid(filepath):\n",
    "    img=load_img(filepath, target_size=(224,224))\n",
    "    x=img_to_array(img)\n",
    "    x=x/255\n",
    "    x=np.expand_dims(x,axis=0)\n",
    "    img_data=preprocess_input(x)\n",
    "    pred=model.predict(img_data)\n",
    "    pred_binary=int(np.argmax(pred, axis=1))\n",
    "    if pred_binary == 0:\n",
    "    result = \"COVID19\"\n",
    "    else:\n",
    "    result = \"NORMAL\"\n",
    "    return result"
   ]
  },
  {
   "cell_type": "code",
   "execution_count": 79,
   "metadata": {
    "colab": {
     "base_uri": "https://localhost:8080/",
     "height": 35
    },
    "executionInfo": {
     "elapsed": 699,
     "status": "ok",
     "timestamp": 1610947566323,
     "user": {
      "displayName": "Ujwal Sah",
      "photoUrl": "https://lh3.googleusercontent.com/a-/AOh14GijuWFTd6FGdQTmHhPXs51pLdmuVqKYF1BIWExLDw=s64",
      "userId": "12511996127236108172"
     },
     "user_tz": -345
    },
    "id": "HXaONR-q5TH4",
    "outputId": "1a616f5e-c7a7-49c6-b1ef-fe1b2a13ebfb"
   },
   "outputs": [
    {
     "data": {
      "application/vnd.google.colaboratory.intrinsic+json": {
       "type": "string"
      },
      "text/plain": [
       "'COVID'"
      ]
     },
     "execution_count": 79,
     "metadata": {
      "tags": []
     },
     "output_type": "execute_result"
    }
   ],
   "source": [
    "filepath = \"/content/drive/MyDrive/Colab Notebooks/CNN/covid19_x_ray/Datasets/Test/COVID/person100_bacteria_477.jpeg\"\n",
    "prediction = predict_covid(filepath)\n",
    "prediction"
   ]
  },
  {
   "cell_type": "code",
   "execution_count": null,
   "metadata": {
    "id": "2sWHDKB95lv0"
   },
   "outputs": [],
   "source": []
  }
 ],
 "metadata": {
  "accelerator": "GPU",
  "colab": {
   "collapsed_sections": [],
   "name": "covid19_prognosis.ipynb",
   "provenance": []
  },
  "kernelspec": {
   "display_name": "Python 3",
   "language": "python",
   "name": "python3"
  },
  "language_info": {
   "codemirror_mode": {
    "name": "ipython",
    "version": 3
   },
   "file_extension": ".py",
   "mimetype": "text/x-python",
   "name": "python",
   "nbconvert_exporter": "python",
   "pygments_lexer": "ipython3",
   "version": "3.8.3"
  }
 },
 "nbformat": 4,
 "nbformat_minor": 1
}
