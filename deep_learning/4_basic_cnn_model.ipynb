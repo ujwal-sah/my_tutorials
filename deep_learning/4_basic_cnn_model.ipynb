{
 "cells": [
  {
   "cell_type": "markdown",
   "metadata": {
    "id": "iQ8wmDN3S4OB"
   },
   "source": [
    "## A Typical Tensorflow-Keras based CNN model"
   ]
  },
  {
   "cell_type": "code",
   "execution_count": 1,
   "metadata": {
    "executionInfo": {
     "elapsed": 2585,
     "status": "ok",
     "timestamp": 1612077914419,
     "user": {
      "displayName": "Ujwal Sah",
      "photoUrl": "https://lh3.googleusercontent.com/a-/AOh14GijuWFTd6FGdQTmHhPXs51pLdmuVqKYF1BIWExLDw=s64",
      "userId": "12511996127236108172"
     },
     "user_tz": -345
    },
    "id": "FS9mqK_IS4OT"
   },
   "outputs": [],
   "source": [
    "# Importing library needed for building the CNN model\n",
    "from tensorflow.keras.models import Sequential, load_model\n",
    "from tensorflow.keras.layers import Dense, Conv2D, MaxPool2D, Flatten\n",
    "from tensorflow.keras.preprocessing.image import ImageDataGenerator, load_img, img_to_array"
   ]
  },
  {
   "cell_type": "code",
   "execution_count": 2,
   "metadata": {
    "executionInfo": {
     "elapsed": 2183,
     "status": "ok",
     "timestamp": 1612077914421,
     "user": {
      "displayName": "Ujwal Sah",
      "photoUrl": "https://lh3.googleusercontent.com/a-/AOh14GijuWFTd6FGdQTmHhPXs51pLdmuVqKYF1BIWExLDw=s64",
      "userId": "12511996127236108172"
     },
     "user_tz": -345
    },
    "id": "JkSdryz_S4OV"
   },
   "outputs": [],
   "source": [
    "# usual imports\n",
    "import numpy as np\n",
    "from glob import glob\n",
    "import matplotlib.pyplot as plt"
   ]
  },
  {
   "cell_type": "markdown",
   "metadata": {
    "id": "9sgK6nDLS4OW"
   },
   "source": [
    "### Data Handling"
   ]
  },
  {
   "cell_type": "code",
   "execution_count": 3,
   "metadata": {
    "executionInfo": {
     "elapsed": 816,
     "status": "ok",
     "timestamp": 1612077914977,
     "user": {
      "displayName": "Ujwal Sah",
      "photoUrl": "https://lh3.googleusercontent.com/a-/AOh14GijuWFTd6FGdQTmHhPXs51pLdmuVqKYF1BIWExLDw=s64",
      "userId": "12511996127236108172"
     },
     "user_tz": -345
    },
    "id": "HkobbDMLS4OW"
   },
   "outputs": [],
   "source": [
    "from tensorflow.keras.datasets import fashion_mnist"
   ]
  },
  {
   "cell_type": "code",
   "execution_count": 4,
   "metadata": {
    "colab": {
     "base_uri": "https://localhost:8080/"
    },
    "executionInfo": {
     "elapsed": 1647,
     "status": "ok",
     "timestamp": 1612077918617,
     "user": {
      "displayName": "Ujwal Sah",
      "photoUrl": "https://lh3.googleusercontent.com/a-/AOh14GijuWFTd6FGdQTmHhPXs51pLdmuVqKYF1BIWExLDw=s64",
      "userId": "12511996127236108172"
     },
     "user_tz": -345
    },
    "id": "DkR5B7uvS4OY",
    "outputId": "5087907d-88d8-4f04-aea4-3be5a3495c9f"
   },
   "outputs": [],
   "source": [
    "(train_images, train_labels), (test_images, test_labels) = fashion_mnist.load_data()"
   ]
  },
  {
   "cell_type": "code",
   "execution_count": 5,
   "metadata": {
    "executionInfo": {
     "elapsed": 1175,
     "status": "ok",
     "timestamp": 1612077922461,
     "user": {
      "displayName": "Ujwal Sah",
      "photoUrl": "https://lh3.googleusercontent.com/a-/AOh14GijuWFTd6FGdQTmHhPXs51pLdmuVqKYF1BIWExLDw=s64",
      "userId": "12511996127236108172"
     },
     "user_tz": -345
    },
    "id": "R6DK12dUS4OY"
   },
   "outputs": [],
   "source": [
    "train_images = train_images/255\n",
    "test_images = test_images/255 "
   ]
  },
  {
   "cell_type": "code",
   "execution_count": 6,
   "metadata": {
    "colab": {
     "base_uri": "https://localhost:8080/"
    },
    "executionInfo": {
     "elapsed": 818,
     "status": "ok",
     "timestamp": 1612077923057,
     "user": {
      "displayName": "Ujwal Sah",
      "photoUrl": "https://lh3.googleusercontent.com/a-/AOh14GijuWFTd6FGdQTmHhPXs51pLdmuVqKYF1BIWExLDw=s64",
      "userId": "12511996127236108172"
     },
     "user_tz": -345
    },
    "id": "HHFSVPXbS4OZ",
    "outputId": "3a08081b-2edd-43f5-8b75-973f24e4b373"
   },
   "outputs": [
    {
     "data": {
      "text/plain": [
       "(60000, 28, 28)"
      ]
     },
     "execution_count": 6,
     "metadata": {},
     "output_type": "execute_result"
    }
   ],
   "source": [
    "train_images.shape"
   ]
  },
  {
   "cell_type": "code",
   "execution_count": 7,
   "metadata": {
    "executionInfo": {
     "elapsed": 763,
     "status": "ok",
     "timestamp": 1612077923775,
     "user": {
      "displayName": "Ujwal Sah",
      "photoUrl": "https://lh3.googleusercontent.com/a-/AOh14GijuWFTd6FGdQTmHhPXs51pLdmuVqKYF1BIWExLDw=s64",
      "userId": "12511996127236108172"
     },
     "user_tz": -345
    },
    "id": "B43dA8XvS4Ob"
   },
   "outputs": [],
   "source": [
    "train_images = train_images.reshape(len(train_images),28,28,1)\n",
    "test_images = test_images.reshape(len(test_images),28,28,1)"
   ]
  },
  {
   "cell_type": "code",
   "execution_count": 8,
   "metadata": {
    "colab": {
     "base_uri": "https://localhost:8080/"
    },
    "executionInfo": {
     "elapsed": 803,
     "status": "ok",
     "timestamp": 1612077925837,
     "user": {
      "displayName": "Ujwal Sah",
      "photoUrl": "https://lh3.googleusercontent.com/a-/AOh14GijuWFTd6FGdQTmHhPXs51pLdmuVqKYF1BIWExLDw=s64",
      "userId": "12511996127236108172"
     },
     "user_tz": -345
    },
    "id": "XKzFBMdMS4Ob",
    "outputId": "ee38e676-cae5-4449-9f54-e914b21c003d"
   },
   "outputs": [
    {
     "data": {
      "text/plain": [
       "(60000, 28, 28, 1)"
      ]
     },
     "execution_count": 8,
     "metadata": {},
     "output_type": "execute_result"
    }
   ],
   "source": [
    "train_images.shape"
   ]
  },
  {
   "cell_type": "markdown",
   "metadata": {
    "id": "XA2gk-ATS4Oc"
   },
   "source": [
    "### Model Construction"
   ]
  },
  {
   "cell_type": "code",
   "execution_count": 9,
   "metadata": {
    "colab": {
     "base_uri": "https://localhost:8080/"
    },
    "executionInfo": {
     "elapsed": 6516,
     "status": "ok",
     "timestamp": 1612077932767,
     "user": {
      "displayName": "Ujwal Sah",
      "photoUrl": "https://lh3.googleusercontent.com/a-/AOh14GijuWFTd6FGdQTmHhPXs51pLdmuVqKYF1BIWExLDw=s64",
      "userId": "12511996127236108172"
     },
     "user_tz": -345
    },
    "id": "TUYJnbQKTFuk",
    "outputId": "39762cc0-66c0-41f2-ca06-84a564718ed0"
   },
   "outputs": [],
   "source": [
    "#pip install keras-tuner"
   ]
  },
  {
   "cell_type": "code",
   "execution_count": 10,
   "metadata": {
    "executionInfo": {
     "elapsed": 1601,
     "status": "ok",
     "timestamp": 1612077947269,
     "user": {
      "displayName": "Ujwal Sah",
      "photoUrl": "https://lh3.googleusercontent.com/a-/AOh14GijuWFTd6FGdQTmHhPXs51pLdmuVqKYF1BIWExLDw=s64",
      "userId": "12511996127236108172"
     },
     "user_tz": -345
    },
    "id": "ABM7aDjWS4Oc"
   },
   "outputs": [],
   "source": [
    "from kerastuner.tuners import RandomSearch\n",
    "from tensorflow.keras.optimizers import Adam"
   ]
  },
  {
   "cell_type": "code",
   "execution_count": 11,
   "metadata": {
    "executionInfo": {
     "elapsed": 1133,
     "status": "ok",
     "timestamp": 1612077950484,
     "user": {
      "displayName": "Ujwal Sah",
      "photoUrl": "https://lh3.googleusercontent.com/a-/AOh14GijuWFTd6FGdQTmHhPXs51pLdmuVqKYF1BIWExLDw=s64",
      "userId": "12511996127236108172"
     },
     "user_tz": -345
    },
    "id": "HaK7Pd1PS4Od"
   },
   "outputs": [],
   "source": [
    "#hp signifies hyperparameters we are going to tune\n",
    "def build_model(hp):\n",
    "    #i.define model\n",
    "    cnn = Sequential()\n",
    "    #first convolution layer\n",
    "    cnn.add(Conv2D(filters=hp.Int(\"conv_1_filter\", min_value=16, max_value=128, step=16),\n",
    "                   padding=\"same\", kernel_size=hp.Choice(\"conv_1_kernel\", values=[3,5]),\n",
    "                   activation='relu', strides=2, input_shape=[28, 28, 1]))\n",
    "    #maxpooling\n",
    "    cnn.add(MaxPool2D(pool_size=2, strides=2))\n",
    "    \n",
    "    #second convolution layer\n",
    "    cnn.add(Conv2D(filters=hp.Int(\"conv_2_filter\", min_value=16, max_value=128, step=16),\n",
    "                   padding='same', kernel_size=hp.Choice(\"conv_2_kernel\", values=[3,5]),\n",
    "                   activation='relu'))\n",
    "    #maxpooling\n",
    "    cnn.add(MaxPool2D(pool_size=2, strides=2))\n",
    "    \n",
    "    #flattening\n",
    "    cnn.add(Flatten())\n",
    "    \n",
    "    #fully connected dense layer\n",
    "    cnn.add(Dense(units=hp.Int(\"dense_1_units\", min_value=16, max_value=128, step=16),\n",
    "                  activation='relu'))\n",
    "    \n",
    "    #output Layer\n",
    "    cnn.add(Dense(units=10, activation='softmax'))\n",
    "    \n",
    "    #ii.compile the model\n",
    "    #we have to define the optimizer, loss function and evaluating metric while compiling the model\n",
    "    #hp.Choice signifies the choice is from a list\n",
    "    cnn.compile(optimizer=Adam(hp.Choice(\"learning_rate\", [1e-2,1e-3,1e-4])),\n",
    "                  loss=\"sparse_categorical_crossentropy\", metrics=[\"accuracy\"])\n",
    "    return cnn"
   ]
  },
  {
   "cell_type": "code",
   "execution_count": 12,
   "metadata": {
    "executionInfo": {
     "elapsed": 7146,
     "status": "ok",
     "timestamp": 1612077963006,
     "user": {
      "displayName": "Ujwal Sah",
      "photoUrl": "https://lh3.googleusercontent.com/a-/AOh14GijuWFTd6FGdQTmHhPXs51pLdmuVqKYF1BIWExLDw=s64",
      "userId": "12511996127236108172"
     },
     "user_tz": -345
    },
    "id": "9TEwWTK4S4Od"
   },
   "outputs": [],
   "source": [
    "tuner = RandomSearch(build_model, objective='val_accuracy',\n",
    "                    max_trials=10, directory=\"project2\",\n",
    "                    project_name=\"fashion_mnist\")"
   ]
  },
  {
   "cell_type": "code",
   "execution_count": 13,
   "metadata": {
    "colab": {
     "base_uri": "https://localhost:8080/"
    },
    "executionInfo": {
     "elapsed": 1170,
     "status": "ok",
     "timestamp": 1612077965821,
     "user": {
      "displayName": "Ujwal Sah",
      "photoUrl": "https://lh3.googleusercontent.com/a-/AOh14GijuWFTd6FGdQTmHhPXs51pLdmuVqKYF1BIWExLDw=s64",
      "userId": "12511996127236108172"
     },
     "user_tz": -345
    },
    "id": "4HvmE1WlS4Oe",
    "outputId": "20423740-9050-46ee-eb69-4b71076ec000"
   },
   "outputs": [
    {
     "name": "stdout",
     "output_type": "stream",
     "text": [
      "Search space summary\n",
      "Default search space size: 6\n",
      "conv_1_filter (Int)\n",
      "{'default': None, 'conditions': [], 'min_value': 16, 'max_value': 128, 'step': 16, 'sampling': None}\n",
      "conv_1_kernel (Choice)\n",
      "{'default': 3, 'conditions': [], 'values': [3, 5], 'ordered': True}\n",
      "conv_2_filter (Int)\n",
      "{'default': None, 'conditions': [], 'min_value': 16, 'max_value': 128, 'step': 16, 'sampling': None}\n",
      "conv_2_kernel (Choice)\n",
      "{'default': 3, 'conditions': [], 'values': [3, 5], 'ordered': True}\n",
      "dense_1_units (Int)\n",
      "{'default': None, 'conditions': [], 'min_value': 16, 'max_value': 128, 'step': 16, 'sampling': None}\n",
      "learning_rate (Choice)\n",
      "{'default': 0.01, 'conditions': [], 'values': [0.01, 0.001, 0.0001], 'ordered': True}\n"
     ]
    }
   ],
   "source": [
    "tuner.search_space_summary()"
   ]
  },
  {
   "cell_type": "code",
   "execution_count": 14,
   "metadata": {
    "colab": {
     "base_uri": "https://localhost:8080/"
    },
    "executionInfo": {
     "elapsed": 108532,
     "status": "ok",
     "timestamp": 1612078077617,
     "user": {
      "displayName": "Ujwal Sah",
      "photoUrl": "https://lh3.googleusercontent.com/a-/AOh14GijuWFTd6FGdQTmHhPXs51pLdmuVqKYF1BIWExLDw=s64",
      "userId": "12511996127236108172"
     },
     "user_tz": -345
    },
    "id": "kPzED0NVS4Oe",
    "outputId": "647920d5-6f67-49ea-b932-595d694672d2"
   },
   "outputs": [
    {
     "name": "stdout",
     "output_type": "stream",
     "text": [
      "Trial 10 Complete [00h 00m 11s]\n",
      "val_accuracy: 0.8911111354827881\n",
      "\n",
      "Best val_accuracy So Far: 0.8928889036178589\n",
      "Total elapsed time: 00h 01m 47s\n",
      "INFO:tensorflow:Oracle triggered exit\n"
     ]
    }
   ],
   "source": [
    "tuner.search(train_images, train_labels, epochs=2, validation_split=0.15)"
   ]
  },
  {
   "cell_type": "code",
   "execution_count": 15,
   "metadata": {
    "colab": {
     "base_uri": "https://localhost:8080/"
    },
    "executionInfo": {
     "elapsed": 1103,
     "status": "ok",
     "timestamp": 1612078084948,
     "user": {
      "displayName": "Ujwal Sah",
      "photoUrl": "https://lh3.googleusercontent.com/a-/AOh14GijuWFTd6FGdQTmHhPXs51pLdmuVqKYF1BIWExLDw=s64",
      "userId": "12511996127236108172"
     },
     "user_tz": -345
    },
    "id": "WX8tN9fYS4Of",
    "outputId": "91f0775b-a1b1-4788-a9c4-a8af2b1302d2"
   },
   "outputs": [
    {
     "name": "stdout",
     "output_type": "stream",
     "text": [
      "Results summary\n",
      "Results in project2/fashion_mnist\n",
      "Showing 10 best trials\n",
      "Objective(name='val_accuracy', direction='max')\n",
      "Trial summary\n",
      "Hyperparameters:\n",
      "conv_1_filter: 112\n",
      "conv_1_kernel: 3\n",
      "conv_2_filter: 112\n",
      "conv_2_kernel: 3\n",
      "dense_1_units: 112\n",
      "learning_rate: 0.001\n",
      "Score: 0.8928889036178589\n",
      "Trial summary\n",
      "Hyperparameters:\n",
      "conv_1_filter: 80\n",
      "conv_1_kernel: 5\n",
      "conv_2_filter: 112\n",
      "conv_2_kernel: 5\n",
      "dense_1_units: 112\n",
      "learning_rate: 0.001\n",
      "Score: 0.8911111354827881\n",
      "Trial summary\n",
      "Hyperparameters:\n",
      "conv_1_filter: 64\n",
      "conv_1_kernel: 3\n",
      "conv_2_filter: 96\n",
      "conv_2_kernel: 3\n",
      "dense_1_units: 128\n",
      "learning_rate: 0.001\n",
      "Score: 0.8834444284439087\n",
      "Trial summary\n",
      "Hyperparameters:\n",
      "conv_1_filter: 48\n",
      "conv_1_kernel: 3\n",
      "conv_2_filter: 48\n",
      "conv_2_kernel: 5\n",
      "dense_1_units: 48\n",
      "learning_rate: 0.01\n",
      "Score: 0.8741111159324646\n",
      "Trial summary\n",
      "Hyperparameters:\n",
      "conv_1_filter: 96\n",
      "conv_1_kernel: 3\n",
      "conv_2_filter: 80\n",
      "conv_2_kernel: 3\n",
      "dense_1_units: 112\n",
      "learning_rate: 0.01\n",
      "Score: 0.862333357334137\n",
      "Trial summary\n",
      "Hyperparameters:\n",
      "conv_1_filter: 96\n",
      "conv_1_kernel: 5\n",
      "conv_2_filter: 48\n",
      "conv_2_kernel: 3\n",
      "dense_1_units: 16\n",
      "learning_rate: 0.01\n",
      "Score: 0.8616666793823242\n",
      "Trial summary\n",
      "Hyperparameters:\n",
      "conv_1_filter: 96\n",
      "conv_1_kernel: 5\n",
      "conv_2_filter: 16\n",
      "conv_2_kernel: 3\n",
      "dense_1_units: 80\n",
      "learning_rate: 0.01\n",
      "Score: 0.8539999723434448\n",
      "Trial summary\n",
      "Hyperparameters:\n",
      "conv_1_filter: 80\n",
      "conv_1_kernel: 5\n",
      "conv_2_filter: 16\n",
      "conv_2_kernel: 3\n",
      "dense_1_units: 64\n",
      "learning_rate: 0.01\n",
      "Score: 0.8352222442626953\n",
      "Trial summary\n",
      "Hyperparameters:\n",
      "conv_1_filter: 96\n",
      "conv_1_kernel: 5\n",
      "conv_2_filter: 64\n",
      "conv_2_kernel: 3\n",
      "dense_1_units: 128\n",
      "learning_rate: 0.0001\n",
      "Score: 0.8327777981758118\n",
      "Trial summary\n",
      "Hyperparameters:\n",
      "conv_1_filter: 16\n",
      "conv_1_kernel: 3\n",
      "conv_2_filter: 64\n",
      "conv_2_kernel: 5\n",
      "dense_1_units: 80\n",
      "learning_rate: 0.0001\n",
      "Score: 0.8212222456932068\n"
     ]
    }
   ],
   "source": [
    "tuner.results_summary()"
   ]
  },
  {
   "cell_type": "code",
   "execution_count": 19,
   "metadata": {
    "executionInfo": {
     "elapsed": 1236,
     "status": "ok",
     "timestamp": 1612078625872,
     "user": {
      "displayName": "Ujwal Sah",
      "photoUrl": "https://lh3.googleusercontent.com/a-/AOh14GijuWFTd6FGdQTmHhPXs51pLdmuVqKYF1BIWExLDw=s64",
      "userId": "12511996127236108172"
     },
     "user_tz": -345
    },
    "id": "kB8zqhvuXZTu"
   },
   "outputs": [],
   "source": [
    "model = tuner.get_best_models(num_models=1)[0]"
   ]
  },
  {
   "cell_type": "code",
   "execution_count": 20,
   "metadata": {
    "colab": {
     "base_uri": "https://localhost:8080/"
    },
    "executionInfo": {
     "elapsed": 1168,
     "status": "ok",
     "timestamp": 1612078633456,
     "user": {
      "displayName": "Ujwal Sah",
      "photoUrl": "https://lh3.googleusercontent.com/a-/AOh14GijuWFTd6FGdQTmHhPXs51pLdmuVqKYF1BIWExLDw=s64",
      "userId": "12511996127236108172"
     },
     "user_tz": -345
    },
    "id": "8nNuvs5NWtxm",
    "outputId": "7ae11cf2-832e-461b-a660-e6234ce479ee"
   },
   "outputs": [
    {
     "name": "stdout",
     "output_type": "stream",
     "text": [
      "Model: \"sequential\"\n",
      "_________________________________________________________________\n",
      "Layer (type)                 Output Shape              Param #   \n",
      "=================================================================\n",
      "conv2d (Conv2D)              (None, 14, 14, 112)       1120      \n",
      "_________________________________________________________________\n",
      "max_pooling2d (MaxPooling2D) (None, 7, 7, 112)         0         \n",
      "_________________________________________________________________\n",
      "conv2d_1 (Conv2D)            (None, 7, 7, 112)         113008    \n",
      "_________________________________________________________________\n",
      "max_pooling2d_1 (MaxPooling2 (None, 3, 3, 112)         0         \n",
      "_________________________________________________________________\n",
      "flatten (Flatten)            (None, 1008)              0         \n",
      "_________________________________________________________________\n",
      "dense (Dense)                (None, 112)               113008    \n",
      "_________________________________________________________________\n",
      "dense_1 (Dense)              (None, 10)                1130      \n",
      "=================================================================\n",
      "Total params: 228,266\n",
      "Trainable params: 228,266\n",
      "Non-trainable params: 0\n",
      "_________________________________________________________________\n"
     ]
    }
   ],
   "source": [
    "model.summary()"
   ]
  },
  {
   "cell_type": "code",
   "execution_count": 21,
   "metadata": {
    "colab": {
     "base_uri": "https://localhost:8080/"
    },
    "executionInfo": {
     "elapsed": 41408,
     "status": "ok",
     "timestamp": 1612078884955,
     "user": {
      "displayName": "Ujwal Sah",
      "photoUrl": "https://lh3.googleusercontent.com/a-/AOh14GijuWFTd6FGdQTmHhPXs51pLdmuVqKYF1BIWExLDw=s64",
      "userId": "12511996127236108172"
     },
     "user_tz": -345
    },
    "id": "BEOnr87UW52Q",
    "outputId": "4b94c326-8c71-42a8-fbe1-cfc620352bac"
   },
   "outputs": [
    {
     "name": "stdout",
     "output_type": "stream",
     "text": [
      "Epoch 1/10\n",
      "1500/1500 [==============================] - 4s 3ms/step - loss: 0.2654 - accuracy: 0.9016 - val_loss: 0.2631 - val_accuracy: 0.9049\n",
      "Epoch 2/10\n",
      "1500/1500 [==============================] - 4s 3ms/step - loss: 0.2336 - accuracy: 0.9124 - val_loss: 0.2701 - val_accuracy: 0.9023\n",
      "Epoch 3/10\n",
      "1500/1500 [==============================] - 4s 3ms/step - loss: 0.2053 - accuracy: 0.9255 - val_loss: 0.2613 - val_accuracy: 0.9076\n",
      "Epoch 4/10\n",
      "1500/1500 [==============================] - 4s 3ms/step - loss: 0.1793 - accuracy: 0.9325 - val_loss: 0.2788 - val_accuracy: 0.9043\n",
      "Epoch 5/10\n",
      "1500/1500 [==============================] - 4s 3ms/step - loss: 0.1574 - accuracy: 0.9417 - val_loss: 0.2962 - val_accuracy: 0.8941\n",
      "Epoch 6/10\n",
      "1500/1500 [==============================] - 4s 3ms/step - loss: 0.1435 - accuracy: 0.9465 - val_loss: 0.2800 - val_accuracy: 0.9052\n",
      "Epoch 7/10\n",
      "1500/1500 [==============================] - 4s 3ms/step - loss: 0.1203 - accuracy: 0.9549 - val_loss: 0.2761 - val_accuracy: 0.9091\n",
      "Epoch 8/10\n",
      "1500/1500 [==============================] - 4s 3ms/step - loss: 0.1082 - accuracy: 0.9601 - val_loss: 0.2955 - val_accuracy: 0.9114\n",
      "Epoch 9/10\n",
      "1500/1500 [==============================] - 4s 3ms/step - loss: 0.0922 - accuracy: 0.9655 - val_loss: 0.2949 - val_accuracy: 0.9134\n",
      "Epoch 10/10\n",
      "1500/1500 [==============================] - 4s 3ms/step - loss: 0.0782 - accuracy: 0.9721 - val_loss: 0.3125 - val_accuracy: 0.9077\n"
     ]
    }
   ],
   "source": [
    "#fit\n",
    "model_history = model.fit(train_images, train_labels, validation_split=0.2, epochs=10)"
   ]
  },
  {
   "cell_type": "code",
   "execution_count": 23,
   "metadata": {
    "colab": {
     "base_uri": "https://localhost:8080/",
     "height": 513
    },
    "executionInfo": {
     "elapsed": 1420,
     "status": "ok",
     "timestamp": 1612078931724,
     "user": {
      "displayName": "Ujwal Sah",
      "photoUrl": "https://lh3.googleusercontent.com/a-/AOh14GijuWFTd6FGdQTmHhPXs51pLdmuVqKYF1BIWExLDw=s64",
      "userId": "12511996127236108172"
     },
     "user_tz": -345
    },
    "id": "H4M8bpNkS4Of",
    "outputId": "129c1eae-7dd5-4302-88f8-dfb9c1aa2198"
   },
   "outputs": [
    {
     "data": {
      "image/png": "[encoded data removed]",
      "text/plain": [
       "<Figure size 432x288 with 1 Axes>"
      ]
     },
     "metadata": {
      "needs_background": "light",
      "tags": []
     },
     "output_type": "display_data"
    },
    {
     "data": {
      "image/png": "[encoded data removed]",
      "text/plain": [
       "<Figure size 432x288 with 1 Axes>"
      ]
     },
     "metadata": {
      "needs_background": "light",
      "tags": []
     },
     "output_type": "display_data"
    }
   ],
   "source": [
    "# plot the loss\n",
    "plt.plot(model_history.history['loss'], label='train loss')\n",
    "plt.plot(model_history.history['val_loss'], label='val loss')\n",
    "plt.legend()\n",
    "plt.show()\n",
    "\n",
    "# plot the accuracy\n",
    "plt.plot(model_history.history['accuracy'], label='train acc')\n",
    "plt.plot(model_history.history['val_accuracy'], label='val acc')\n",
    "plt.legend()\n",
    "plt.show()"
   ]
  },
  {
   "cell_type": "code",
   "execution_count": 24,
   "metadata": {
    "colab": {
     "base_uri": "https://localhost:8080/"
    },
    "executionInfo": {
     "elapsed": 1537,
     "status": "ok",
     "timestamp": 1612079055246,
     "user": {
      "displayName": "Ujwal Sah",
      "photoUrl": "https://lh3.googleusercontent.com/a-/AOh14GijuWFTd6FGdQTmHhPXs51pLdmuVqKYF1BIWExLDw=s64",
      "userId": "12511996127236108172"
     },
     "user_tz": -345
    },
    "id": "1Zbe8Bj-S4Og",
    "outputId": "4b581d72-2e41-42ed-e6ab-1d69c63714ae"
   },
   "outputs": [
    {
     "data": {
      "text/plain": [
       "array([[2.81720437e-12, 1.12298944e-13, 3.73155777e-11, ...,\n",
       "        5.55902666e-08, 1.24860539e-10, 9.99999762e-01],\n",
       "       [3.08130438e-06, 3.09165427e-13, 9.99991775e-01, ...,\n",
       "        1.77370217e-13, 3.41301900e-12, 7.17921382e-13],\n",
       "       [3.60968685e-11, 1.00000000e+00, 1.63446734e-09, ...,\n",
       "        4.28058476e-16, 2.97342514e-14, 4.11082295e-16],\n",
       "       ...,\n",
       "       [1.29565592e-09, 5.31573507e-19, 5.81384463e-12, ...,\n",
       "        2.32218768e-16, 1.00000000e+00, 1.14676816e-15],\n",
       "       [1.18289753e-11, 1.00000000e+00, 1.55226916e-12, ...,\n",
       "        1.52002189e-10, 7.30302763e-11, 5.13010537e-11],\n",
       "       [5.77900956e-11, 1.76915589e-16, 1.84778663e-08, ...,\n",
       "        1.48948018e-07, 5.58084601e-09, 1.18455123e-09]], dtype=float32)"
      ]
     },
     "execution_count": 24,
     "metadata": {
      "tags": []
     },
     "output_type": "execute_result"
    }
   ],
   "source": [
    "y_pred = model.predict(test_images)\n",
    "y_pred"
   ]
  },
  {
   "cell_type": "code",
   "execution_count": 25,
   "metadata": {
    "colab": {
     "base_uri": "https://localhost:8080/"
    },
    "executionInfo": {
     "elapsed": 1150,
     "status": "ok",
     "timestamp": 1612079094481,
     "user": {
      "displayName": "Ujwal Sah",
      "photoUrl": "https://lh3.googleusercontent.com/a-/AOh14GijuWFTd6FGdQTmHhPXs51pLdmuVqKYF1BIWExLDw=s64",
      "userId": "12511996127236108172"
     },
     "user_tz": -345
    },
    "id": "5gM-FxIKZr3o",
    "outputId": "171edf2d-d85e-4de5-eee2-893dea83b50c"
   },
   "outputs": [
    {
     "data": {
      "text/plain": [
       "array([2.81720437e-12, 1.12298944e-13, 3.73155777e-11, 5.46326188e-14,\n",
       "       6.02712324e-12, 2.11276642e-07, 7.85820020e-11, 5.55902666e-08,\n",
       "       1.24860539e-10, 9.99999762e-01], dtype=float32)"
      ]
     },
     "execution_count": 25,
     "metadata": {
      "tags": []
     },
     "output_type": "execute_result"
    }
   ],
   "source": [
    "y_pred[0]"
   ]
  },
  {
   "cell_type": "code",
   "execution_count": 26,
   "metadata": {
    "colab": {
     "base_uri": "https://localhost:8080/"
    },
    "executionInfo": {
     "elapsed": 1189,
     "status": "ok",
     "timestamp": 1612079168093,
     "user": {
      "displayName": "Ujwal Sah",
      "photoUrl": "https://lh3.googleusercontent.com/a-/AOh14GijuWFTd6FGdQTmHhPXs51pLdmuVqKYF1BIWExLDw=s64",
      "userId": "12511996127236108172"
     },
     "user_tz": -345
    },
    "id": "ZfseTBPEZ53j",
    "outputId": "837f6795-f36e-47d6-dd8b-82e44a6026bf"
   },
   "outputs": [
    {
     "data": {
      "text/plain": [
       "array([9, 2, 1, ..., 8, 1, 5])"
      ]
     },
     "execution_count": 26,
     "metadata": {
      "tags": []
     },
     "output_type": "execute_result"
    }
   ],
   "source": [
    "y_pred_int = np.argmax(y_pred, axis=1)\n",
    "y_pred_int"
   ]
  },
  {
   "cell_type": "code",
   "execution_count": 27,
   "metadata": {
    "colab": {
     "base_uri": "https://localhost:8080/"
    },
    "executionInfo": {
     "elapsed": 1165,
     "status": "ok",
     "timestamp": 1612079188947,
     "user": {
      "displayName": "Ujwal Sah",
      "photoUrl": "https://lh3.googleusercontent.com/a-/AOh14GijuWFTd6FGdQTmHhPXs51pLdmuVqKYF1BIWExLDw=s64",
      "userId": "12511996127236108172"
     },
     "user_tz": -345
    },
    "id": "0A7sDWUsaB28",
    "outputId": "997f2a9d-25b9-4bed-fbf9-9e9e6eca7f29"
   },
   "outputs": [
    {
     "data": {
      "text/plain": [
       "array([9, 2, 1, 1, 6, 1, 4, 4, 5, 7])"
      ]
     },
     "execution_count": 27,
     "metadata": {
      "tags": []
     },
     "output_type": "execute_result"
    }
   ],
   "source": [
    "y_pred_int[0:10]"
   ]
  },
  {
   "cell_type": "code",
   "execution_count": 28,
   "metadata": {
    "executionInfo": {
     "elapsed": 1115,
     "status": "ok",
     "timestamp": 1612079215026,
     "user": {
      "displayName": "Ujwal Sah",
      "photoUrl": "https://lh3.googleusercontent.com/a-/AOh14GijuWFTd6FGdQTmHhPXs51pLdmuVqKYF1BIWExLDw=s64",
      "userId": "12511996127236108172"
     },
     "user_tz": -345
    },
    "id": "QMYDr2O5S4Og"
   },
   "outputs": [],
   "source": [
    "#save the model as a h5 file\n",
    "model.save(\"fashion_mnist.h5\")"
   ]
  },
  {
   "cell_type": "code",
   "execution_count": 11,
   "metadata": {
    "colab": {
     "base_uri": "https://localhost:8080/"
    },
    "executionInfo": {
     "elapsed": 1187,
     "status": "ok",
     "timestamp": 1612079286431,
     "user": {
      "displayName": "Ujwal Sah",
      "photoUrl": "https://lh3.googleusercontent.com/a-/AOh14GijuWFTd6FGdQTmHhPXs51pLdmuVqKYF1BIWExLDw=s64",
      "userId": "12511996127236108172"
     },
     "user_tz": -345
    },
    "id": "jYNVfhIdS4Og",
    "outputId": "b20c0472-8200-4798-dc87-43f307164097"
   },
   "outputs": [
    {
     "name": "stdout",
     "output_type": "stream",
     "text": [
      "WARNING:tensorflow:Error in loading the saved optimizer state. As a result, your model is starting with a freshly initialized optimizer.\n"
     ]
    }
   ],
   "source": [
    "model=load_model('fashion_mnist.h5')"
   ]
  },
  {
   "cell_type": "code",
   "execution_count": 12,
   "metadata": {},
   "outputs": [
    {
     "data": {
      "text/plain": [
       "array([[2.8171721e-12, 1.1229723e-13, 3.7315220e-11, ..., 5.5590057e-08,\n",
       "        1.2486077e-10, 9.9999976e-01],\n",
       "       [3.0813017e-06, 3.0916366e-13, 9.9999177e-01, ..., 1.7736650e-13,\n",
       "        3.4130060e-12, 7.1791179e-13],\n",
       "       [3.6096865e-11, 1.0000000e+00, 1.6344736e-09, ..., 4.2804704e-16,\n",
       "        2.9734024e-14, 4.1107605e-16],\n",
       "       ...,\n",
       "       [1.2956832e-09, 5.3155526e-19, 5.8139001e-12, ..., 2.3221967e-16,\n",
       "        1.0000000e+00, 1.1467680e-15],\n",
       "       [1.1828795e-11, 1.0000000e+00, 1.5522514e-12, ..., 1.5199929e-10,\n",
       "        7.3030415e-11, 5.1299978e-11],\n",
       "       [5.7790103e-11, 1.7691154e-16, 1.8477444e-08, ..., 1.4894788e-07,\n",
       "        5.5807612e-09, 1.1845377e-09]], dtype=float32)"
      ]
     },
     "execution_count": 12,
     "metadata": {},
     "output_type": "execute_result"
    }
   ],
   "source": [
    "y_pred = model.predict(test_images)\n",
    "y_pred"
   ]
  },
  {
   "cell_type": "code",
   "execution_count": 13,
   "metadata": {},
   "outputs": [
    {
     "data": {
      "text/plain": [
       "array([9, 2, 1, ..., 8, 1, 5], dtype=int64)"
      ]
     },
     "execution_count": 13,
     "metadata": {},
     "output_type": "execute_result"
    }
   ],
   "source": [
    "y_pred_int = np.argmax(y_pred, axis=1)\n",
    "y_pred_int"
   ]
  },
  {
   "cell_type": "code",
   "execution_count": 15,
   "metadata": {
    "id": "4yuBjwfPS4Oh"
   },
   "outputs": [
    {
     "data": {
      "text/plain": [
       "array([[823,   2,  25,  14,   2,   3, 127,   0,   4,   0],\n",
       "       [  2, 974,   0,  14,   8,   0,   0,   0,   2,   0],\n",
       "       [  9,   1, 893,   6,  55,   0,  36,   0,   0,   0],\n",
       "       [ 22,   1,  10, 908,  29,   0,  29,   0,   1,   0],\n",
       "       [  0,   0,  64,  19, 881,   0,  34,   0,   2,   0],\n",
       "       [  1,   0,   0,   0,   0, 989,   0,   2,   0,   8],\n",
       "       [103,   1,  88,  24,  92,   0, 687,   0,   5,   0],\n",
       "       [  0,   0,   0,   0,   0,  42,   0, 928,   0,  30],\n",
       "       [  6,   1,   2,   4,   2,   4,   1,   2, 976,   2],\n",
       "       [  0,   0,   1,   0,   0,   7,   0,  19,   0, 973]], dtype=int64)"
      ]
     },
     "execution_count": 15,
     "metadata": {},
     "output_type": "execute_result"
    }
   ],
   "source": [
    "from sklearn.metrics import confusion_matrix, accuracy_score\n",
    "confusion_matrix(test_labels, y_pred_int)"
   ]
  },
  {
   "cell_type": "code",
   "execution_count": 16,
   "metadata": {},
   "outputs": [
    {
     "data": {
      "text/plain": [
       "0.9032"
      ]
     },
     "execution_count": 16,
     "metadata": {},
     "output_type": "execute_result"
    }
   ],
   "source": [
    "accuracy_score(test_labels, y_pred_int)"
   ]
  },
  {
   "cell_type": "code",
   "execution_count": null,
   "metadata": {},
   "outputs": [],
   "source": []
  }
 ],
 "metadata": {
  "accelerator": "GPU",
  "colab": {
   "collapsed_sections": [],
   "name": "4_basic_cnn_model.ipynb",
   "provenance": []
  },
  "kernelspec": {
   "display_name": "Python 3",
   "language": "python",
   "name": "python3"
  },
  "language_info": {
   "codemirror_mode": {
    "name": "ipython",
    "version": 3
   },
   "file_extension": ".py",
   "mimetype": "text/x-python",
   "name": "python",
   "nbconvert_exporter": "python",
   "pygments_lexer": "ipython3",
   "version": "3.8.3"
  }
 },
 "nbformat": 4,
 "nbformat_minor": 1
}
