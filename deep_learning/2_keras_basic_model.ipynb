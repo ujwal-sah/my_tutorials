{
 "cells": [
  {
   "cell_type": "code",
   "execution_count": 1,
   "metadata": {},
   "outputs": [],
   "source": [
    "import numpy as np\n",
    "import matplotlib.pyplot as plt\n",
    "import pandas as pd"
   ]
  },
  {
   "cell_type": "code",
   "execution_count": 2,
   "metadata": {},
   "outputs": [
    {
     "data": {
      "text/html": [
       "<div>\n",
       "<style scoped>\n",
       "    .dataframe tbody tr th:only-of-type {\n",
       "        vertical-align: middle;\n",
       "    }\n",
       "\n",
       "    .dataframe tbody tr th {\n",
       "        vertical-align: top;\n",
       "    }\n",
       "\n",
       "    .dataframe thead th {\n",
       "        text-align: right;\n",
       "    }\n",
       "</style>\n",
       "<table border=\"1\" class=\"dataframe\">\n",
       "  <thead>\n",
       "    <tr style=\"text-align: right;\">\n",
       "      <th></th>\n",
       "      <th>RowNumber</th>\n",
       "      <th>CustomerId</th>\n",
       "      <th>Surname</th>\n",
       "      <th>CreditScore</th>\n",
       "      <th>Geography</th>\n",
       "      <th>Gender</th>\n",
       "      <th>Age</th>\n",
       "      <th>Tenure</th>\n",
       "      <th>Balance</th>\n",
       "      <th>NumOfProducts</th>\n",
       "      <th>HasCrCard</th>\n",
       "      <th>IsActiveMember</th>\n",
       "      <th>EstimatedSalary</th>\n",
       "      <th>Exited</th>\n",
       "    </tr>\n",
       "  </thead>\n",
       "  <tbody>\n",
       "    <tr>\n",
       "      <th>0</th>\n",
       "      <td>1</td>\n",
       "      <td>15634602</td>\n",
       "      <td>Hargrave</td>\n",
       "      <td>619</td>\n",
       "      <td>France</td>\n",
       "      <td>Female</td>\n",
       "      <td>42</td>\n",
       "      <td>2</td>\n",
       "      <td>0.00</td>\n",
       "      <td>1</td>\n",
       "      <td>1</td>\n",
       "      <td>1</td>\n",
       "      <td>101348.88</td>\n",
       "      <td>1</td>\n",
       "    </tr>\n",
       "    <tr>\n",
       "      <th>1</th>\n",
       "      <td>2</td>\n",
       "      <td>15647311</td>\n",
       "      <td>Hill</td>\n",
       "      <td>608</td>\n",
       "      <td>Spain</td>\n",
       "      <td>Female</td>\n",
       "      <td>41</td>\n",
       "      <td>1</td>\n",
       "      <td>83807.86</td>\n",
       "      <td>1</td>\n",
       "      <td>0</td>\n",
       "      <td>1</td>\n",
       "      <td>112542.58</td>\n",
       "      <td>0</td>\n",
       "    </tr>\n",
       "    <tr>\n",
       "      <th>2</th>\n",
       "      <td>3</td>\n",
       "      <td>15619304</td>\n",
       "      <td>Onio</td>\n",
       "      <td>502</td>\n",
       "      <td>France</td>\n",
       "      <td>Female</td>\n",
       "      <td>42</td>\n",
       "      <td>8</td>\n",
       "      <td>159660.80</td>\n",
       "      <td>3</td>\n",
       "      <td>1</td>\n",
       "      <td>0</td>\n",
       "      <td>113931.57</td>\n",
       "      <td>1</td>\n",
       "    </tr>\n",
       "    <tr>\n",
       "      <th>3</th>\n",
       "      <td>4</td>\n",
       "      <td>15701354</td>\n",
       "      <td>Boni</td>\n",
       "      <td>699</td>\n",
       "      <td>France</td>\n",
       "      <td>Female</td>\n",
       "      <td>39</td>\n",
       "      <td>1</td>\n",
       "      <td>0.00</td>\n",
       "      <td>2</td>\n",
       "      <td>0</td>\n",
       "      <td>0</td>\n",
       "      <td>93826.63</td>\n",
       "      <td>0</td>\n",
       "    </tr>\n",
       "    <tr>\n",
       "      <th>4</th>\n",
       "      <td>5</td>\n",
       "      <td>15737888</td>\n",
       "      <td>Mitchell</td>\n",
       "      <td>850</td>\n",
       "      <td>Spain</td>\n",
       "      <td>Female</td>\n",
       "      <td>43</td>\n",
       "      <td>2</td>\n",
       "      <td>125510.82</td>\n",
       "      <td>1</td>\n",
       "      <td>1</td>\n",
       "      <td>1</td>\n",
       "      <td>79084.10</td>\n",
       "      <td>0</td>\n",
       "    </tr>\n",
       "  </tbody>\n",
       "</table>\n",
       "</div>"
      ],
      "text/plain": [
       "   RowNumber  CustomerId   Surname  CreditScore Geography  Gender  Age  \\\n",
       "0          1    15634602  Hargrave          619    France  Female   42   \n",
       "1          2    15647311      Hill          608     Spain  Female   41   \n",
       "2          3    15619304      Onio          502    France  Female   42   \n",
       "3          4    15701354      Boni          699    France  Female   39   \n",
       "4          5    15737888  Mitchell          850     Spain  Female   43   \n",
       "\n",
       "   Tenure    Balance  NumOfProducts  HasCrCard  IsActiveMember  \\\n",
       "0       2       0.00              1          1               1   \n",
       "1       1   83807.86              1          0               1   \n",
       "2       8  159660.80              3          1               0   \n",
       "3       1       0.00              2          0               0   \n",
       "4       2  125510.82              1          1               1   \n",
       "\n",
       "   EstimatedSalary  Exited  \n",
       "0        101348.88       1  \n",
       "1        112542.58       0  \n",
       "2        113931.57       1  \n",
       "3         93826.63       0  \n",
       "4         79084.10       0  "
      ]
     },
     "execution_count": 2,
     "metadata": {},
     "output_type": "execute_result"
    }
   ],
   "source": [
    "dataset = pd.read_csv(\"https://raw.githubusercontent.com/krishnaik06/Complete-Deep-Learning/master/ANN/Churn_Modelling.csv\")\n",
    "dataset.head()"
   ]
  },
  {
   "cell_type": "code",
   "execution_count": 3,
   "metadata": {},
   "outputs": [],
   "source": [
    "X = dataset.iloc[:, 3:-1]\n",
    "y = dataset.iloc[:, -1]"
   ]
  },
  {
   "cell_type": "code",
   "execution_count": 4,
   "metadata": {},
   "outputs": [
    {
     "data": {
      "text/html": [
       "<div>\n",
       "<style scoped>\n",
       "    .dataframe tbody tr th:only-of-type {\n",
       "        vertical-align: middle;\n",
       "    }\n",
       "\n",
       "    .dataframe tbody tr th {\n",
       "        vertical-align: top;\n",
       "    }\n",
       "\n",
       "    .dataframe thead th {\n",
       "        text-align: right;\n",
       "    }\n",
       "</style>\n",
       "<table border=\"1\" class=\"dataframe\">\n",
       "  <thead>\n",
       "    <tr style=\"text-align: right;\">\n",
       "      <th></th>\n",
       "      <th>CreditScore</th>\n",
       "      <th>Age</th>\n",
       "      <th>Tenure</th>\n",
       "      <th>Balance</th>\n",
       "      <th>NumOfProducts</th>\n",
       "      <th>HasCrCard</th>\n",
       "      <th>IsActiveMember</th>\n",
       "      <th>EstimatedSalary</th>\n",
       "      <th>Geography_Germany</th>\n",
       "      <th>Geography_Spain</th>\n",
       "      <th>Gender_Male</th>\n",
       "    </tr>\n",
       "  </thead>\n",
       "  <tbody>\n",
       "    <tr>\n",
       "      <th>0</th>\n",
       "      <td>619</td>\n",
       "      <td>42</td>\n",
       "      <td>2</td>\n",
       "      <td>0.00</td>\n",
       "      <td>1</td>\n",
       "      <td>1</td>\n",
       "      <td>1</td>\n",
       "      <td>101348.88</td>\n",
       "      <td>0</td>\n",
       "      <td>0</td>\n",
       "      <td>0</td>\n",
       "    </tr>\n",
       "    <tr>\n",
       "      <th>1</th>\n",
       "      <td>608</td>\n",
       "      <td>41</td>\n",
       "      <td>1</td>\n",
       "      <td>83807.86</td>\n",
       "      <td>1</td>\n",
       "      <td>0</td>\n",
       "      <td>1</td>\n",
       "      <td>112542.58</td>\n",
       "      <td>0</td>\n",
       "      <td>1</td>\n",
       "      <td>0</td>\n",
       "    </tr>\n",
       "    <tr>\n",
       "      <th>2</th>\n",
       "      <td>502</td>\n",
       "      <td>42</td>\n",
       "      <td>8</td>\n",
       "      <td>159660.80</td>\n",
       "      <td>3</td>\n",
       "      <td>1</td>\n",
       "      <td>0</td>\n",
       "      <td>113931.57</td>\n",
       "      <td>0</td>\n",
       "      <td>0</td>\n",
       "      <td>0</td>\n",
       "    </tr>\n",
       "    <tr>\n",
       "      <th>3</th>\n",
       "      <td>699</td>\n",
       "      <td>39</td>\n",
       "      <td>1</td>\n",
       "      <td>0.00</td>\n",
       "      <td>2</td>\n",
       "      <td>0</td>\n",
       "      <td>0</td>\n",
       "      <td>93826.63</td>\n",
       "      <td>0</td>\n",
       "      <td>0</td>\n",
       "      <td>0</td>\n",
       "    </tr>\n",
       "    <tr>\n",
       "      <th>4</th>\n",
       "      <td>850</td>\n",
       "      <td>43</td>\n",
       "      <td>2</td>\n",
       "      <td>125510.82</td>\n",
       "      <td>1</td>\n",
       "      <td>1</td>\n",
       "      <td>1</td>\n",
       "      <td>79084.10</td>\n",
       "      <td>0</td>\n",
       "      <td>1</td>\n",
       "      <td>0</td>\n",
       "    </tr>\n",
       "  </tbody>\n",
       "</table>\n",
       "</div>"
      ],
      "text/plain": [
       "   CreditScore  Age  Tenure    Balance  NumOfProducts  HasCrCard  \\\n",
       "0          619   42       2       0.00              1          1   \n",
       "1          608   41       1   83807.86              1          0   \n",
       "2          502   42       8  159660.80              3          1   \n",
       "3          699   39       1       0.00              2          0   \n",
       "4          850   43       2  125510.82              1          1   \n",
       "\n",
       "   IsActiveMember  EstimatedSalary  Geography_Germany  Geography_Spain  \\\n",
       "0               1        101348.88                  0                0   \n",
       "1               1        112542.58                  0                1   \n",
       "2               0        113931.57                  0                0   \n",
       "3               0         93826.63                  0                0   \n",
       "4               1         79084.10                  0                1   \n",
       "\n",
       "   Gender_Male  \n",
       "0            0  \n",
       "1            0  \n",
       "2            0  \n",
       "3            0  \n",
       "4            0  "
      ]
     },
     "execution_count": 4,
     "metadata": {},
     "output_type": "execute_result"
    }
   ],
   "source": [
    "X = pd.get_dummies(X, columns=[\"Geography\", \"Gender\"], drop_first=True)\n",
    "X.head()"
   ]
  },
  {
   "cell_type": "code",
   "execution_count": 5,
   "metadata": {},
   "outputs": [],
   "source": [
    "from sklearn.model_selection import train_test_split"
   ]
  },
  {
   "cell_type": "code",
   "execution_count": 6,
   "metadata": {},
   "outputs": [],
   "source": [
    "X_train, X_test, y_train, y_test = train_test_split(X, y, test_size=0.2, random_state=0)"
   ]
  },
  {
   "cell_type": "code",
   "execution_count": 7,
   "metadata": {},
   "outputs": [],
   "source": [
    "from sklearn.preprocessing import StandardScaler\n",
    "sc = StandardScaler()"
   ]
  },
  {
   "cell_type": "code",
   "execution_count": 8,
   "metadata": {},
   "outputs": [],
   "source": [
    "X_train = sc.fit_transform(X_train)\n",
    "X_test = sc.fit_transform(X_test)"
   ]
  },
  {
   "cell_type": "code",
   "execution_count": 9,
   "metadata": {},
   "outputs": [],
   "source": [
    "import keras\n",
    "from keras.models import Sequential\n",
    "from keras.layers import Dense, LeakyReLU, PReLU, ELU, Dropout"
   ]
  },
  {
   "cell_type": "code",
   "execution_count": 10,
   "metadata": {},
   "outputs": [],
   "source": [
    "classifier = Sequential()"
   ]
  },
  {
   "cell_type": "code",
   "execution_count": 11,
   "metadata": {},
   "outputs": [],
   "source": [
    "classifier.add(Dense(units=6, kernel_initializer=\"he_uniform\", activation=\"relu\", input_dim=11))"
   ]
  },
  {
   "cell_type": "code",
   "execution_count": 42,
   "metadata": {},
   "outputs": [],
   "source": [
    "classifier.add(Dense(units=6, kernel_initializer=\"he_uniform\", activation=\"relu\"))"
   ]
  },
  {
   "cell_type": "code",
   "execution_count": 43,
   "metadata": {},
   "outputs": [],
   "source": [
    "classifier.add(Dense(units=1, kernel_initializer=\"glorot_uniform\", activation=\"sigmoid\"))"
   ]
  },
  {
   "cell_type": "code",
   "execution_count": 46,
   "metadata": {},
   "outputs": [],
   "source": [
    "classifier.compile(optimizer=\"adam\", loss=\"binary_crossentropy\", metrics=[\"accuracy\"])"
   ]
  },
  {
   "cell_type": "code",
   "execution_count": 48,
   "metadata": {},
   "outputs": [
    {
     "name": "stdout",
     "output_type": "stream",
     "text": [
      "Epoch 1/100\n",
      "536/536 [==============================] - 1s 2ms/step - loss: 0.4975 - accuracy: 0.7946 - val_loss: 0.4609 - val_accuracy: 0.8001\n",
      "Epoch 2/100\n",
      "536/536 [==============================] - 1s 1ms/step - loss: 0.4474 - accuracy: 0.8044 - val_loss: 0.4394 - val_accuracy: 0.8031\n",
      "Epoch 3/100\n",
      "536/536 [==============================] - 1s 1ms/step - loss: 0.4297 - accuracy: 0.8095 - val_loss: 0.4319 - val_accuracy: 0.8023\n",
      "Epoch 4/100\n",
      "536/536 [==============================] - 1s 1ms/step - loss: 0.4229 - accuracy: 0.8104 - val_loss: 0.4281 - val_accuracy: 0.8027\n",
      "Epoch 5/100\n",
      "536/536 [==============================] - 1s 1ms/step - loss: 0.4177 - accuracy: 0.8145 - val_loss: 0.4237 - val_accuracy: 0.8061\n",
      "Epoch 6/100\n",
      "536/536 [==============================] - 1s 961us/step - loss: 0.4132 - accuracy: 0.8158 - val_loss: 0.4205 - val_accuracy: 0.8088\n",
      "Epoch 7/100\n",
      "536/536 [==============================] - 1s 942us/step - loss: 0.4096 - accuracy: 0.8160 - val_loss: 0.4170 - val_accuracy: 0.8111\n",
      "Epoch 8/100\n",
      "536/536 [==============================] - 1s 1ms/step - loss: 0.4057 - accuracy: 0.8164 - val_loss: 0.4132 - val_accuracy: 0.8114\n",
      "Epoch 9/100\n",
      "536/536 [==============================] - 1s 1ms/step - loss: 0.4015 - accuracy: 0.8199 - val_loss: 0.4113 - val_accuracy: 0.8122\n",
      "Epoch 10/100\n",
      "536/536 [==============================] - 1s 1ms/step - loss: 0.3973 - accuracy: 0.8235 - val_loss: 0.4075 - val_accuracy: 0.8190\n",
      "Epoch 11/100\n",
      "536/536 [==============================] - 1s 939us/step - loss: 0.3940 - accuracy: 0.8238 - val_loss: 0.4025 - val_accuracy: 0.8190\n",
      "Epoch 12/100\n",
      "536/536 [==============================] - 1s 947us/step - loss: 0.3899 - accuracy: 0.8253 - val_loss: 0.4003 - val_accuracy: 0.8179\n",
      "Epoch 13/100\n",
      "536/536 [==============================] - 1s 939us/step - loss: 0.3858 - accuracy: 0.8278 - val_loss: 0.3958 - val_accuracy: 0.8217\n",
      "Epoch 14/100\n",
      "536/536 [==============================] - 1s 949us/step - loss: 0.3817 - accuracy: 0.8388 - val_loss: 0.3922 - val_accuracy: 0.8281\n",
      "Epoch 15/100\n",
      "536/536 [==============================] - 1s 938us/step - loss: 0.3772 - accuracy: 0.8391 - val_loss: 0.3889 - val_accuracy: 0.8270\n",
      "Epoch 16/100\n",
      "536/536 [==============================] - 1s 977us/step - loss: 0.3726 - accuracy: 0.8444 - val_loss: 0.3844 - val_accuracy: 0.8319\n",
      "Epoch 17/100\n",
      "536/536 [==============================] - 1s 952us/step - loss: 0.3677 - accuracy: 0.8485 - val_loss: 0.3802 - val_accuracy: 0.8364\n",
      "Epoch 18/100\n",
      "536/536 [==============================] - 1s 937us/step - loss: 0.3629 - accuracy: 0.8500 - val_loss: 0.3770 - val_accuracy: 0.8402\n",
      "Epoch 19/100\n",
      "536/536 [==============================] - 1s 1ms/step - loss: 0.3584 - accuracy: 0.8530 - val_loss: 0.3754 - val_accuracy: 0.8425\n",
      "Epoch 20/100\n",
      "536/536 [==============================] - 1s 1ms/step - loss: 0.3541 - accuracy: 0.8546 - val_loss: 0.3720 - val_accuracy: 0.8410\n",
      "Epoch 21/100\n",
      "536/536 [==============================] - 1s 939us/step - loss: 0.3514 - accuracy: 0.8563 - val_loss: 0.3708 - val_accuracy: 0.8436\n",
      "Epoch 22/100\n",
      "536/536 [==============================] - 1s 944us/step - loss: 0.3482 - accuracy: 0.8556 - val_loss: 0.3688 - val_accuracy: 0.8455\n",
      "Epoch 23/100\n",
      "536/536 [==============================] - 1s 937us/step - loss: 0.3462 - accuracy: 0.8572 - val_loss: 0.3693 - val_accuracy: 0.8444\n",
      "Epoch 24/100\n",
      "536/536 [==============================] - 1s 966us/step - loss: 0.3445 - accuracy: 0.8576 - val_loss: 0.3681 - val_accuracy: 0.8466\n",
      "Epoch 25/100\n",
      "536/536 [==============================] - 1s 981us/step - loss: 0.3437 - accuracy: 0.8571 - val_loss: 0.3672 - val_accuracy: 0.8444\n",
      "Epoch 26/100\n",
      "536/536 [==============================] - 1s 1ms/step - loss: 0.3416 - accuracy: 0.8578 - val_loss: 0.3674 - val_accuracy: 0.8436\n",
      "Epoch 27/100\n",
      "536/536 [==============================] - 1s 1ms/step - loss: 0.3410 - accuracy: 0.8586 - val_loss: 0.3657 - val_accuracy: 0.8451\n",
      "Epoch 28/100\n",
      "536/536 [==============================] - 1s 1ms/step - loss: 0.3400 - accuracy: 0.8580 - val_loss: 0.3654 - val_accuracy: 0.8448\n",
      "Epoch 29/100\n",
      "536/536 [==============================] - 1s 1ms/step - loss: 0.3397 - accuracy: 0.8574 - val_loss: 0.3648 - val_accuracy: 0.8451\n",
      "Epoch 30/100\n",
      "536/536 [==============================] - 1s 1ms/step - loss: 0.3387 - accuracy: 0.8565 - val_loss: 0.3655 - val_accuracy: 0.8470\n",
      "Epoch 31/100\n",
      "536/536 [==============================] - 1s 1ms/step - loss: 0.3382 - accuracy: 0.8567 - val_loss: 0.3642 - val_accuracy: 0.8459\n",
      "Epoch 32/100\n",
      "536/536 [==============================] - 1s 973us/step - loss: 0.3374 - accuracy: 0.8580 - val_loss: 0.3645 - val_accuracy: 0.8466\n",
      "Epoch 33/100\n",
      "536/536 [==============================] - 1s 1ms/step - loss: 0.3372 - accuracy: 0.8576 - val_loss: 0.3638 - val_accuracy: 0.8470\n",
      "Epoch 34/100\n",
      "536/536 [==============================] - 1s 1ms/step - loss: 0.3369 - accuracy: 0.8602 - val_loss: 0.3628 - val_accuracy: 0.8482\n",
      "Epoch 35/100\n",
      "536/536 [==============================] - 1s 1ms/step - loss: 0.3360 - accuracy: 0.8599 - val_loss: 0.3667 - val_accuracy: 0.8463\n",
      "Epoch 36/100\n",
      "536/536 [==============================] - 1s 1ms/step - loss: 0.3360 - accuracy: 0.8584 - val_loss: 0.3627 - val_accuracy: 0.8516\n",
      "Epoch 37/100\n",
      "536/536 [==============================] - 1s 975us/step - loss: 0.3358 - accuracy: 0.8600 - val_loss: 0.3631 - val_accuracy: 0.8489\n",
      "Epoch 38/100\n",
      "536/536 [==============================] - 1s 992us/step - loss: 0.3348 - accuracy: 0.8602 - val_loss: 0.3633 - val_accuracy: 0.8497\n",
      "Epoch 39/100\n",
      "536/536 [==============================] - 1s 971us/step - loss: 0.3348 - accuracy: 0.8595 - val_loss: 0.3623 - val_accuracy: 0.8482\n",
      "Epoch 40/100\n",
      "536/536 [==============================] - 1s 971us/step - loss: 0.3340 - accuracy: 0.8600 - val_loss: 0.3617 - val_accuracy: 0.8501\n",
      "Epoch 41/100\n",
      "536/536 [==============================] - 1s 1ms/step - loss: 0.3335 - accuracy: 0.8608 - val_loss: 0.3626 - val_accuracy: 0.8482\n",
      "Epoch 42/100\n",
      "536/536 [==============================] - 1s 973us/step - loss: 0.3329 - accuracy: 0.8595 - val_loss: 0.3629 - val_accuracy: 0.8493\n",
      "Epoch 43/100\n",
      "536/536 [==============================] - 1s 960us/step - loss: 0.3326 - accuracy: 0.8623 - val_loss: 0.3607 - val_accuracy: 0.8527\n",
      "Epoch 44/100\n",
      "536/536 [==============================] - 1s 1ms/step - loss: 0.3320 - accuracy: 0.8625 - val_loss: 0.3647 - val_accuracy: 0.8478\n",
      "Epoch 45/100\n",
      "536/536 [==============================] - 1s 966us/step - loss: 0.3326 - accuracy: 0.8628 - val_loss: 0.3601 - val_accuracy: 0.8527\n",
      "Epoch 46/100\n",
      "536/536 [==============================] - 1s 1ms/step - loss: 0.3316 - accuracy: 0.8627 - val_loss: 0.3610 - val_accuracy: 0.8516\n",
      "Epoch 47/100\n",
      "536/536 [==============================] - 1s 1ms/step - loss: 0.3310 - accuracy: 0.8623 - val_loss: 0.3593 - val_accuracy: 0.8531\n",
      "Epoch 48/100\n",
      "536/536 [==============================] - 1s 1ms/step - loss: 0.3305 - accuracy: 0.8658 - val_loss: 0.3600 - val_accuracy: 0.8538\n",
      "Epoch 49/100\n",
      "536/536 [==============================] - 1s 1ms/step - loss: 0.3310 - accuracy: 0.8638 - val_loss: 0.3605 - val_accuracy: 0.8504\n",
      "Epoch 50/100\n",
      "536/536 [==============================] - 1s 991us/step - loss: 0.3301 - accuracy: 0.8643 - val_loss: 0.3598 - val_accuracy: 0.8527\n",
      "Epoch 51/100\n",
      "536/536 [==============================] - 1s 1ms/step - loss: 0.3307 - accuracy: 0.8623 - val_loss: 0.3577 - val_accuracy: 0.8516\n",
      "Epoch 52/100\n",
      "536/536 [==============================] - 1s 1ms/step - loss: 0.3301 - accuracy: 0.8653 - val_loss: 0.3591 - val_accuracy: 0.8554\n",
      "Epoch 53/100\n",
      "536/536 [==============================] - 1s 1ms/step - loss: 0.3301 - accuracy: 0.8649 - val_loss: 0.3592 - val_accuracy: 0.8519\n",
      "Epoch 54/100\n",
      "536/536 [==============================] - 1s 977us/step - loss: 0.3295 - accuracy: 0.8628 - val_loss: 0.3583 - val_accuracy: 0.8523\n",
      "Epoch 55/100\n",
      "536/536 [==============================] - 1s 981us/step - loss: 0.3297 - accuracy: 0.8642 - val_loss: 0.3579 - val_accuracy: 0.8550\n",
      "Epoch 56/100\n",
      "536/536 [==============================] - 1s 1ms/step - loss: 0.3293 - accuracy: 0.8642 - val_loss: 0.3584 - val_accuracy: 0.8531\n",
      "Epoch 57/100\n",
      "536/536 [==============================] - 0s 916us/step - loss: 0.3287 - accuracy: 0.8653 - val_loss: 0.3608 - val_accuracy: 0.8516\n",
      "Epoch 58/100\n",
      "536/536 [==============================] - 0s 883us/step - loss: 0.3285 - accuracy: 0.8658 - val_loss: 0.3573 - val_accuracy: 0.8569\n",
      "Epoch 59/100\n",
      "536/536 [==============================] - 0s 901us/step - loss: 0.3289 - accuracy: 0.8634 - val_loss: 0.3587 - val_accuracy: 0.8546\n",
      "Epoch 60/100\n",
      "536/536 [==============================] - 0s 904us/step - loss: 0.3283 - accuracy: 0.8655 - val_loss: 0.3570 - val_accuracy: 0.8565\n",
      "Epoch 61/100\n",
      "536/536 [==============================] - 0s 932us/step - loss: 0.3285 - accuracy: 0.8643 - val_loss: 0.3566 - val_accuracy: 0.8546\n",
      "Epoch 62/100\n",
      "536/536 [==============================] - 1s 941us/step - loss: 0.3284 - accuracy: 0.8642 - val_loss: 0.3569 - val_accuracy: 0.8576\n",
      "Epoch 63/100\n",
      "536/536 [==============================] - 1s 936us/step - loss: 0.3282 - accuracy: 0.8640 - val_loss: 0.3586 - val_accuracy: 0.8523\n",
      "Epoch 64/100\n",
      "536/536 [==============================] - 1s 1ms/step - loss: 0.3287 - accuracy: 0.8636 - val_loss: 0.3570 - val_accuracy: 0.8565\n",
      "Epoch 65/100\n",
      "536/536 [==============================] - 1s 1ms/step - loss: 0.3276 - accuracy: 0.8649 - val_loss: 0.3562 - val_accuracy: 0.8573\n",
      "Epoch 66/100\n",
      "536/536 [==============================] - 1s 986us/step - loss: 0.3275 - accuracy: 0.8656 - val_loss: 0.3564 - val_accuracy: 0.8569\n",
      "Epoch 67/100\n",
      "536/536 [==============================] - 1s 1ms/step - loss: 0.3276 - accuracy: 0.8656 - val_loss: 0.3568 - val_accuracy: 0.8573\n",
      "Epoch 68/100\n",
      "536/536 [==============================] - 1s 1ms/step - loss: 0.3271 - accuracy: 0.8656 - val_loss: 0.3566 - val_accuracy: 0.8561\n",
      "Epoch 69/100\n",
      "536/536 [==============================] - 1s 983us/step - loss: 0.3267 - accuracy: 0.8670 - val_loss: 0.3593 - val_accuracy: 0.8561\n",
      "Epoch 70/100\n",
      "536/536 [==============================] - 1s 1ms/step - loss: 0.3264 - accuracy: 0.8655 - val_loss: 0.3576 - val_accuracy: 0.8538\n",
      "Epoch 71/100\n",
      "536/536 [==============================] - 1s 977us/step - loss: 0.3271 - accuracy: 0.8642 - val_loss: 0.3559 - val_accuracy: 0.8584\n",
      "Epoch 72/100\n",
      "536/536 [==============================] - 1s 971us/step - loss: 0.3261 - accuracy: 0.8664 - val_loss: 0.3563 - val_accuracy: 0.8576\n",
      "Epoch 73/100\n",
      "536/536 [==============================] - 1s 968us/step - loss: 0.3266 - accuracy: 0.8666 - val_loss: 0.3557 - val_accuracy: 0.8569\n",
      "Epoch 74/100\n",
      "536/536 [==============================] - 1s 1ms/step - loss: 0.3264 - accuracy: 0.8664 - val_loss: 0.3557 - val_accuracy: 0.8591\n",
      "Epoch 75/100\n",
      "536/536 [==============================] - 1s 977us/step - loss: 0.3264 - accuracy: 0.8655 - val_loss: 0.3562 - val_accuracy: 0.8580\n",
      "Epoch 76/100\n",
      "536/536 [==============================] - 1s 1ms/step - loss: 0.3258 - accuracy: 0.8649 - val_loss: 0.3555 - val_accuracy: 0.8588\n",
      "Epoch 77/100\n",
      "536/536 [==============================] - 1s 1ms/step - loss: 0.3260 - accuracy: 0.8668 - val_loss: 0.3559 - val_accuracy: 0.8569\n",
      "Epoch 78/100\n",
      "536/536 [==============================] - 1s 1ms/step - loss: 0.3256 - accuracy: 0.8671 - val_loss: 0.3588 - val_accuracy: 0.8546\n",
      "Epoch 79/100\n",
      "536/536 [==============================] - 1s 1ms/step - loss: 0.3261 - accuracy: 0.8668 - val_loss: 0.3579 - val_accuracy: 0.8584\n",
      "Epoch 80/100\n",
      "536/536 [==============================] - 1s 1ms/step - loss: 0.3261 - accuracy: 0.8675 - val_loss: 0.3559 - val_accuracy: 0.8550\n",
      "Epoch 81/100\n",
      "536/536 [==============================] - 1s 1ms/step - loss: 0.3260 - accuracy: 0.8683 - val_loss: 0.3567 - val_accuracy: 0.8576\n",
      "Epoch 82/100\n",
      "536/536 [==============================] - 1s 1ms/step - loss: 0.3258 - accuracy: 0.8673 - val_loss: 0.3555 - val_accuracy: 0.8588\n",
      "Epoch 83/100\n",
      "536/536 [==============================] - 1s 1ms/step - loss: 0.3258 - accuracy: 0.8662 - val_loss: 0.3567 - val_accuracy: 0.8584\n",
      "Epoch 84/100\n",
      "536/536 [==============================] - 1s 1ms/step - loss: 0.3258 - accuracy: 0.8694 - val_loss: 0.3566 - val_accuracy: 0.8588\n",
      "Epoch 85/100\n",
      "536/536 [==============================] - 1s 1ms/step - loss: 0.3257 - accuracy: 0.8668 - val_loss: 0.3557 - val_accuracy: 0.8591\n",
      "Epoch 86/100\n",
      "536/536 [==============================] - 1s 1ms/step - loss: 0.3254 - accuracy: 0.8692 - val_loss: 0.3547 - val_accuracy: 0.8588\n",
      "Epoch 87/100\n",
      "536/536 [==============================] - 1s 1ms/step - loss: 0.3251 - accuracy: 0.8683 - val_loss: 0.3559 - val_accuracy: 0.8580\n",
      "Epoch 88/100\n",
      "536/536 [==============================] - 1s 1ms/step - loss: 0.3252 - accuracy: 0.8662 - val_loss: 0.3562 - val_accuracy: 0.8565\n",
      "Epoch 89/100\n",
      "536/536 [==============================] - 1s 1ms/step - loss: 0.3255 - accuracy: 0.8671 - val_loss: 0.3558 - val_accuracy: 0.8573\n",
      "Epoch 90/100\n",
      "536/536 [==============================] - 1s 1ms/step - loss: 0.3251 - accuracy: 0.8679 - val_loss: 0.3549 - val_accuracy: 0.8591\n",
      "Epoch 91/100\n",
      "536/536 [==============================] - 1s 1ms/step - loss: 0.3252 - accuracy: 0.8671 - val_loss: 0.3549 - val_accuracy: 0.8554\n",
      "Epoch 92/100\n",
      "536/536 [==============================] - 1s 1ms/step - loss: 0.3248 - accuracy: 0.8681 - val_loss: 0.3568 - val_accuracy: 0.8557\n",
      "Epoch 93/100\n",
      "536/536 [==============================] - 1s 1ms/step - loss: 0.3247 - accuracy: 0.8698 - val_loss: 0.3586 - val_accuracy: 0.8573\n",
      "Epoch 94/100\n",
      "536/536 [==============================] - 1s 1ms/step - loss: 0.3252 - accuracy: 0.8692 - val_loss: 0.3561 - val_accuracy: 0.8588\n",
      "Epoch 95/100\n",
      "536/536 [==============================] - 1s 1ms/step - loss: 0.3251 - accuracy: 0.8696 - val_loss: 0.3557 - val_accuracy: 0.8607\n",
      "Epoch 96/100\n",
      "536/536 [==============================] - 1s 1ms/step - loss: 0.3248 - accuracy: 0.8692 - val_loss: 0.3558 - val_accuracy: 0.8576\n",
      "Epoch 97/100\n",
      "536/536 [==============================] - 1s 1ms/step - loss: 0.3247 - accuracy: 0.8690 - val_loss: 0.3551 - val_accuracy: 0.8584\n",
      "Epoch 98/100\n",
      "536/536 [==============================] - 1s 1ms/step - loss: 0.3248 - accuracy: 0.8677 - val_loss: 0.3552 - val_accuracy: 0.8584\n",
      "Epoch 99/100\n",
      "536/536 [==============================] - 1s 1ms/step - loss: 0.3250 - accuracy: 0.8688 - val_loss: 0.3558 - val_accuracy: 0.8588\n",
      "Epoch 100/100\n",
      "536/536 [==============================] - 1s 1ms/step - loss: 0.3248 - accuracy: 0.8699 - val_loss: 0.3561 - val_accuracy: 0.8584\n"
     ]
    }
   ],
   "source": [
    "model_history = classifier.fit(x=X_train, y=y_train, validation_split=0.33, batch_size=10, epochs=100)"
   ]
  },
  {
   "cell_type": "code",
   "execution_count": 53,
   "metadata": {},
   "outputs": [
    {
     "name": "stdout",
     "output_type": "stream",
     "text": [
      "dict_keys(['loss', 'accuracy', 'val_loss', 'val_accuracy'])\n"
     ]
    }
   ],
   "source": [
    "print(model_history.history.keys())"
   ]
  },
  {
   "cell_type": "code",
   "execution_count": 55,
   "metadata": {},
   "outputs": [
    {
     "data": {
      "text/plain": [
       "[<matplotlib.lines.Line2D at 0x27f063260d0>]"
      ]
     },
     "execution_count": 55,
     "metadata": {},
     "output_type": "execute_result"
    },
    {
     "data": {
      "image/png": "[encoded data removed]",
      "text/plain": [
       "<Figure size 432x288 with 1 Axes>"
      ]
     },
     "metadata": {
      "needs_background": "light"
     },
     "output_type": "display_data"
    }
   ],
   "source": [
    "plt.plot(model_history.history[\"accuracy\"])"
   ]
  },
  {
   "cell_type": "code",
   "execution_count": 56,
   "metadata": {},
   "outputs": [
    {
     "data": {
      "text/plain": [
       "[<matplotlib.lines.Line2D at 0x27f06376250>]"
      ]
     },
     "execution_count": 56,
     "metadata": {},
     "output_type": "execute_result"
    },
    {
     "data": {
      "image/png": "[encoded data removed]",
      "text/plain": [
       "<Figure size 432x288 with 1 Axes>"
      ]
     },
     "metadata": {
      "needs_background": "light"
     },
     "output_type": "display_data"
    }
   ],
   "source": [
    "plt.plot(model_history.history[\"val_accuracy\"])"
   ]
  },
  {
   "cell_type": "code",
   "execution_count": 49,
   "metadata": {},
   "outputs": [],
   "source": [
    "y_pred = classifier.predict(X_test)\n",
    "y_pred = y_pred>0.5"
   ]
  },
  {
   "cell_type": "code",
   "execution_count": 51,
   "metadata": {},
   "outputs": [
    {
     "data": {
      "text/plain": [
       "array([[1504,   91],\n",
       "       [ 188,  217]], dtype=int64)"
      ]
     },
     "execution_count": 51,
     "metadata": {},
     "output_type": "execute_result"
    }
   ],
   "source": [
    "from sklearn.metrics import confusion_matrix, accuracy_score\n",
    "confusion_matrix(y_test, y_pred)"
   ]
  },
  {
   "cell_type": "code",
   "execution_count": 52,
   "metadata": {},
   "outputs": [
    {
     "data": {
      "text/plain": [
       "0.8605"
      ]
     },
     "execution_count": 52,
     "metadata": {},
     "output_type": "execute_result"
    }
   ],
   "source": [
    "accuracy_score(y_pred, y_test)"
   ]
  },
  {
   "cell_type": "code",
   "execution_count": null,
   "metadata": {},
   "outputs": [],
   "source": []
  }
 ],
 "metadata": {
  "kernelspec": {
   "display_name": "Python 3",
   "language": "python",
   "name": "python3"
  },
  "language_info": {
   "codemirror_mode": {
    "name": "ipython",
    "version": 3
   },
   "file_extension": ".py",
   "mimetype": "text/x-python",
   "name": "python",
   "nbconvert_exporter": "python",
   "pygments_lexer": "ipython3",
   "version": "3.8.3"
  }
 },
 "nbformat": 4,
 "nbformat_minor": 4
}
