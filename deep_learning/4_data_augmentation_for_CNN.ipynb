{
 "cells": [
  {
   "cell_type": "code",
   "execution_count": 5,
   "metadata": {},
   "outputs": [],
   "source": [
    "from keras.preprocessing.image import ImageDataGenerator, array_to_img, img_to_array, load_img\n",
    "\n",
    "datagen = ImageDataGenerator(rotation_range=40, width_shift_range=0.2, height_shift_range=0.2, shear_range=0.2,\n",
    "                            zoom_range=0.2, horizontal_flip=True, fill_mode=\"nearest\")\n",
    "\n",
    "img = load_img(\"cat.jpg\")\n",
    "x = img_to_array(img) #this is numpy array with shape (3, 150, 150)\n",
    "x = x.reshape((1,) + x.shape) #this is numpy array with shape (1, 3, 150, 150)\n",
    "\n",
    "#the .flow() command below generates batches of randomly transformed images\n",
    "#and saves the results to the \"preview/\" directory\n",
    "i = 0\n",
    "for batch in datagen.flow(x, batch_size=1, save_to_dir=\"preview\",\n",
    "                         save_prefix=\"cat\", save_format=\"jpeg\"):\n",
    "    i+=1\n",
    "    if i>20:\n",
    "        break\n"
   ]
  },
  {
   "cell_type": "code",
   "execution_count": null,
   "metadata": {},
   "outputs": [],
   "source": []
  }
 ],
 "metadata": {
  "kernelspec": {
   "display_name": "Python 3",
   "language": "python",
   "name": "python3"
  },
  "language_info": {
   "codemirror_mode": {
    "name": "ipython",
    "version": 3
   },
   "file_extension": ".py",
   "mimetype": "text/x-python",
   "name": "python",
   "nbconvert_exporter": "python",
   "pygments_lexer": "ipython3",
   "version": "3.8.3"
  }
 },
 "nbformat": 4,
 "nbformat_minor": 4
}
