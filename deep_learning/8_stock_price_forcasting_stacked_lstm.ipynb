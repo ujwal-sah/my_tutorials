{
 "cells": [
  {
   "cell_type": "code",
   "execution_count": null,
   "metadata": {},
   "outputs": [],
   "source": [
    "# Data Collection\n",
    "import pandas_datareader as pdr"
   ]
  },
  {
   "cell_type": "code",
   "execution_count": null,
   "metadata": {},
   "outputs": [],
   "source": [
    "api_key = \"get your key from Tiingo Documentation\""
   ]
  },
  {
   "cell_type": "code",
   "execution_count": null,
   "metadata": {},
   "outputs": [],
   "source": [
    "df = pdr.get_data_tiingo('AAPL', api_key=api_key)\n",
    "df.head()"
   ]
  },
  {
   "cell_type": "code",
   "execution_count": null,
   "metadata": {},
   "outputs": [],
   "source": [
    "df.to_csv('data/AAPL.csv')"
   ]
  },
  {
   "cell_type": "code",
   "execution_count": 1,
   "metadata": {},
   "outputs": [],
   "source": [
    "import pandas as pd\n",
    "import numpy as np"
   ]
  },
  {
   "cell_type": "code",
   "execution_count": 2,
   "metadata": {},
   "outputs": [
    {
     "data": {
      "text/html": [
       "<div>\n",
       "<style scoped>\n",
       "    .dataframe tbody tr th:only-of-type {\n",
       "        vertical-align: middle;\n",
       "    }\n",
       "\n",
       "    .dataframe tbody tr th {\n",
       "        vertical-align: top;\n",
       "    }\n",
       "\n",
       "    .dataframe thead th {\n",
       "        text-align: right;\n",
       "    }\n",
       "</style>\n",
       "<table border=\"1\" class=\"dataframe\">\n",
       "  <thead>\n",
       "    <tr style=\"text-align: right;\">\n",
       "      <th></th>\n",
       "      <th>symbol</th>\n",
       "      <th>date</th>\n",
       "      <th>close</th>\n",
       "      <th>high</th>\n",
       "      <th>low</th>\n",
       "      <th>open</th>\n",
       "      <th>volume</th>\n",
       "      <th>adjClose</th>\n",
       "      <th>adjHigh</th>\n",
       "      <th>adjLow</th>\n",
       "      <th>adjOpen</th>\n",
       "      <th>adjVolume</th>\n",
       "      <th>divCash</th>\n",
       "      <th>splitFactor</th>\n",
       "    </tr>\n",
       "  </thead>\n",
       "  <tbody>\n",
       "    <tr>\n",
       "      <th>0</th>\n",
       "      <td>AAPL</td>\n",
       "      <td>2016-05-05 00:00:00+00:00</td>\n",
       "      <td>93.24</td>\n",
       "      <td>94.07</td>\n",
       "      <td>92.68</td>\n",
       "      <td>94.00</td>\n",
       "      <td>35890500</td>\n",
       "      <td>21.809581</td>\n",
       "      <td>22.003724</td>\n",
       "      <td>21.678592</td>\n",
       "      <td>21.987351</td>\n",
       "      <td>143562000</td>\n",
       "      <td>0.57</td>\n",
       "      <td>1.0</td>\n",
       "    </tr>\n",
       "    <tr>\n",
       "      <th>1</th>\n",
       "      <td>AAPL</td>\n",
       "      <td>2016-05-06 00:00:00+00:00</td>\n",
       "      <td>92.72</td>\n",
       "      <td>93.45</td>\n",
       "      <td>91.85</td>\n",
       "      <td>93.37</td>\n",
       "      <td>43699886</td>\n",
       "      <td>21.687949</td>\n",
       "      <td>21.858701</td>\n",
       "      <td>21.484449</td>\n",
       "      <td>21.839989</td>\n",
       "      <td>174799544</td>\n",
       "      <td>0.00</td>\n",
       "      <td>1.0</td>\n",
       "    </tr>\n",
       "    <tr>\n",
       "      <th>2</th>\n",
       "      <td>AAPL</td>\n",
       "      <td>2016-05-09 00:00:00+00:00</td>\n",
       "      <td>92.79</td>\n",
       "      <td>93.77</td>\n",
       "      <td>92.59</td>\n",
       "      <td>93.00</td>\n",
       "      <td>32936436</td>\n",
       "      <td>21.704322</td>\n",
       "      <td>21.933552</td>\n",
       "      <td>21.657541</td>\n",
       "      <td>21.753443</td>\n",
       "      <td>131745744</td>\n",
       "      <td>0.00</td>\n",
       "      <td>1.0</td>\n",
       "    </tr>\n",
       "    <tr>\n",
       "      <th>3</th>\n",
       "      <td>AAPL</td>\n",
       "      <td>2016-05-10 00:00:00+00:00</td>\n",
       "      <td>93.42</td>\n",
       "      <td>93.57</td>\n",
       "      <td>92.11</td>\n",
       "      <td>93.33</td>\n",
       "      <td>33686836</td>\n",
       "      <td>21.851684</td>\n",
       "      <td>21.886770</td>\n",
       "      <td>21.545265</td>\n",
       "      <td>21.830632</td>\n",
       "      <td>134747344</td>\n",
       "      <td>0.00</td>\n",
       "      <td>1.0</td>\n",
       "    </tr>\n",
       "    <tr>\n",
       "      <th>4</th>\n",
       "      <td>AAPL</td>\n",
       "      <td>2016-05-11 00:00:00+00:00</td>\n",
       "      <td>92.51</td>\n",
       "      <td>93.57</td>\n",
       "      <td>92.46</td>\n",
       "      <td>93.48</td>\n",
       "      <td>28719109</td>\n",
       "      <td>21.638828</td>\n",
       "      <td>21.886770</td>\n",
       "      <td>21.627132</td>\n",
       "      <td>21.865719</td>\n",
       "      <td>114876436</td>\n",
       "      <td>0.00</td>\n",
       "      <td>1.0</td>\n",
       "    </tr>\n",
       "  </tbody>\n",
       "</table>\n",
       "</div>"
      ],
      "text/plain": [
       "  symbol                       date  close   high    low   open    volume  \\\n",
       "0   AAPL  2016-05-05 00:00:00+00:00  93.24  94.07  92.68  94.00  35890500   \n",
       "1   AAPL  2016-05-06 00:00:00+00:00  92.72  93.45  91.85  93.37  43699886   \n",
       "2   AAPL  2016-05-09 00:00:00+00:00  92.79  93.77  92.59  93.00  32936436   \n",
       "3   AAPL  2016-05-10 00:00:00+00:00  93.42  93.57  92.11  93.33  33686836   \n",
       "4   AAPL  2016-05-11 00:00:00+00:00  92.51  93.57  92.46  93.48  28719109   \n",
       "\n",
       "    adjClose    adjHigh     adjLow    adjOpen  adjVolume  divCash  splitFactor  \n",
       "0  21.809581  22.003724  21.678592  21.987351  143562000     0.57          1.0  \n",
       "1  21.687949  21.858701  21.484449  21.839989  174799544     0.00          1.0  \n",
       "2  21.704322  21.933552  21.657541  21.753443  131745744     0.00          1.0  \n",
       "3  21.851684  21.886770  21.545265  21.830632  134747344     0.00          1.0  \n",
       "4  21.638828  21.886770  21.627132  21.865719  114876436     0.00          1.0  "
      ]
     },
     "execution_count": 2,
     "metadata": {},
     "output_type": "execute_result"
    }
   ],
   "source": [
    "df = pd.read_csv('data/AAPL.csv')\n",
    "df.head()"
   ]
  },
  {
   "cell_type": "code",
   "execution_count": 3,
   "metadata": {},
   "outputs": [
    {
     "data": {
      "text/html": [
       "<div>\n",
       "<style scoped>\n",
       "    .dataframe tbody tr th:only-of-type {\n",
       "        vertical-align: middle;\n",
       "    }\n",
       "\n",
       "    .dataframe tbody tr th {\n",
       "        vertical-align: top;\n",
       "    }\n",
       "\n",
       "    .dataframe thead th {\n",
       "        text-align: right;\n",
       "    }\n",
       "</style>\n",
       "<table border=\"1\" class=\"dataframe\">\n",
       "  <thead>\n",
       "    <tr style=\"text-align: right;\">\n",
       "      <th></th>\n",
       "      <th>symbol</th>\n",
       "      <th>date</th>\n",
       "      <th>close</th>\n",
       "      <th>high</th>\n",
       "      <th>low</th>\n",
       "      <th>open</th>\n",
       "      <th>volume</th>\n",
       "      <th>adjClose</th>\n",
       "      <th>adjHigh</th>\n",
       "      <th>adjLow</th>\n",
       "      <th>adjOpen</th>\n",
       "      <th>adjVolume</th>\n",
       "      <th>divCash</th>\n",
       "      <th>splitFactor</th>\n",
       "    </tr>\n",
       "  </thead>\n",
       "  <tbody>\n",
       "    <tr>\n",
       "      <th>1252</th>\n",
       "      <td>AAPL</td>\n",
       "      <td>2021-04-27 00:00:00+00:00</td>\n",
       "      <td>134.39</td>\n",
       "      <td>135.41</td>\n",
       "      <td>134.110</td>\n",
       "      <td>135.01</td>\n",
       "      <td>66015804</td>\n",
       "      <td>134.39</td>\n",
       "      <td>135.41</td>\n",
       "      <td>134.110</td>\n",
       "      <td>135.01</td>\n",
       "      <td>66015804</td>\n",
       "      <td>0.0</td>\n",
       "      <td>1.0</td>\n",
       "    </tr>\n",
       "    <tr>\n",
       "      <th>1253</th>\n",
       "      <td>AAPL</td>\n",
       "      <td>2021-04-28 00:00:00+00:00</td>\n",
       "      <td>133.58</td>\n",
       "      <td>135.02</td>\n",
       "      <td>133.080</td>\n",
       "      <td>134.31</td>\n",
       "      <td>107760097</td>\n",
       "      <td>133.58</td>\n",
       "      <td>135.02</td>\n",
       "      <td>133.080</td>\n",
       "      <td>134.31</td>\n",
       "      <td>107760097</td>\n",
       "      <td>0.0</td>\n",
       "      <td>1.0</td>\n",
       "    </tr>\n",
       "    <tr>\n",
       "      <th>1254</th>\n",
       "      <td>AAPL</td>\n",
       "      <td>2021-04-29 00:00:00+00:00</td>\n",
       "      <td>133.48</td>\n",
       "      <td>137.07</td>\n",
       "      <td>132.450</td>\n",
       "      <td>136.47</td>\n",
       "      <td>151100953</td>\n",
       "      <td>133.48</td>\n",
       "      <td>137.07</td>\n",
       "      <td>132.450</td>\n",
       "      <td>136.47</td>\n",
       "      <td>151100953</td>\n",
       "      <td>0.0</td>\n",
       "      <td>1.0</td>\n",
       "    </tr>\n",
       "    <tr>\n",
       "      <th>1255</th>\n",
       "      <td>AAPL</td>\n",
       "      <td>2021-04-30 00:00:00+00:00</td>\n",
       "      <td>131.46</td>\n",
       "      <td>133.56</td>\n",
       "      <td>131.065</td>\n",
       "      <td>131.78</td>\n",
       "      <td>109839466</td>\n",
       "      <td>131.46</td>\n",
       "      <td>133.56</td>\n",
       "      <td>131.065</td>\n",
       "      <td>131.78</td>\n",
       "      <td>109839466</td>\n",
       "      <td>0.0</td>\n",
       "      <td>1.0</td>\n",
       "    </tr>\n",
       "    <tr>\n",
       "      <th>1256</th>\n",
       "      <td>AAPL</td>\n",
       "      <td>2021-05-03 00:00:00+00:00</td>\n",
       "      <td>132.54</td>\n",
       "      <td>134.07</td>\n",
       "      <td>131.830</td>\n",
       "      <td>132.04</td>\n",
       "      <td>75135100</td>\n",
       "      <td>132.54</td>\n",
       "      <td>134.07</td>\n",
       "      <td>131.830</td>\n",
       "      <td>132.04</td>\n",
       "      <td>75135100</td>\n",
       "      <td>0.0</td>\n",
       "      <td>1.0</td>\n",
       "    </tr>\n",
       "  </tbody>\n",
       "</table>\n",
       "</div>"
      ],
      "text/plain": [
       "     symbol                       date   close    high      low    open  \\\n",
       "1252   AAPL  2021-04-27 00:00:00+00:00  134.39  135.41  134.110  135.01   \n",
       "1253   AAPL  2021-04-28 00:00:00+00:00  133.58  135.02  133.080  134.31   \n",
       "1254   AAPL  2021-04-29 00:00:00+00:00  133.48  137.07  132.450  136.47   \n",
       "1255   AAPL  2021-04-30 00:00:00+00:00  131.46  133.56  131.065  131.78   \n",
       "1256   AAPL  2021-05-03 00:00:00+00:00  132.54  134.07  131.830  132.04   \n",
       "\n",
       "         volume  adjClose  adjHigh   adjLow  adjOpen  adjVolume  divCash  \\\n",
       "1252   66015804    134.39   135.41  134.110   135.01   66015804      0.0   \n",
       "1253  107760097    133.58   135.02  133.080   134.31  107760097      0.0   \n",
       "1254  151100953    133.48   137.07  132.450   136.47  151100953      0.0   \n",
       "1255  109839466    131.46   133.56  131.065   131.78  109839466      0.0   \n",
       "1256   75135100    132.54   134.07  131.830   132.04   75135100      0.0   \n",
       "\n",
       "      splitFactor  \n",
       "1252          1.0  \n",
       "1253          1.0  \n",
       "1254          1.0  \n",
       "1255          1.0  \n",
       "1256          1.0  "
      ]
     },
     "execution_count": 3,
     "metadata": {},
     "output_type": "execute_result"
    }
   ],
   "source": [
    "df.tail()"
   ]
  },
  {
   "cell_type": "code",
   "execution_count": 4,
   "metadata": {},
   "outputs": [
    {
     "data": {
      "text/plain": [
       "(1257, 14)"
      ]
     },
     "execution_count": 4,
     "metadata": {},
     "output_type": "execute_result"
    }
   ],
   "source": [
    "df.shape"
   ]
  },
  {
   "cell_type": "code",
   "execution_count": 5,
   "metadata": {},
   "outputs": [
    {
     "data": {
      "text/plain": [
       "symbol         0\n",
       "date           0\n",
       "close          0\n",
       "high           0\n",
       "low            0\n",
       "open           0\n",
       "volume         0\n",
       "adjClose       0\n",
       "adjHigh        0\n",
       "adjLow         0\n",
       "adjOpen        0\n",
       "adjVolume      0\n",
       "divCash        0\n",
       "splitFactor    0\n",
       "dtype: int64"
      ]
     },
     "execution_count": 5,
     "metadata": {},
     "output_type": "execute_result"
    }
   ],
   "source": [
    "df.isna().sum(axis=0)"
   ]
  },
  {
   "cell_type": "code",
   "execution_count": 6,
   "metadata": {},
   "outputs": [],
   "source": [
    "closing_price = df.close.copy()"
   ]
  },
  {
   "cell_type": "code",
   "execution_count": 7,
   "metadata": {},
   "outputs": [
    {
     "data": {
      "text/plain": [
       "0    93.24\n",
       "1    92.72\n",
       "2    92.79\n",
       "3    93.42\n",
       "4    92.51\n",
       "Name: close, dtype: float64"
      ]
     },
     "execution_count": 7,
     "metadata": {},
     "output_type": "execute_result"
    }
   ],
   "source": [
    "closing_price.head()"
   ]
  },
  {
   "cell_type": "code",
   "execution_count": 8,
   "metadata": {},
   "outputs": [
    {
     "data": {
      "text/plain": [
       "[<matplotlib.lines.Line2D at 0x28000135520>]"
      ]
     },
     "execution_count": 8,
     "metadata": {},
     "output_type": "execute_result"
    },
    {
     "data": {
      "image/png": "[encoded data removed]",
      "text/plain": [
       "<Figure size 432x288 with 1 Axes>"
      ]
     },
     "metadata": {
      "needs_background": "light"
     },
     "output_type": "display_data"
    }
   ],
   "source": [
    "import matplotlib.pyplot as plt\n",
    "plt.plot(closing_price)"
   ]
  },
  {
   "cell_type": "code",
   "execution_count": 9,
   "metadata": {},
   "outputs": [],
   "source": [
    "# LSTM are sensitive to the scale of the data. so we apply MinMax scaler\n",
    "from sklearn.preprocessing import MinMaxScaler"
   ]
  },
  {
   "cell_type": "code",
   "execution_count": 10,
   "metadata": {},
   "outputs": [],
   "source": [
    "#instantiate\n",
    "minmax_scaler = MinMaxScaler()"
   ]
  },
  {
   "cell_type": "code",
   "execution_count": 11,
   "metadata": {},
   "outputs": [],
   "source": [
    "closing_price_s = minmax_scaler.fit_transform(np.array(closing_price).reshape(-1, 1))"
   ]
  },
  {
   "cell_type": "code",
   "execution_count": 12,
   "metadata": {},
   "outputs": [
    {
     "data": {
      "text/plain": [
       "(array([1.]), array([0.]))"
      ]
     },
     "execution_count": 12,
     "metadata": {},
     "output_type": "execute_result"
    }
   ],
   "source": [
    "max(closing_price_s), min(closing_price_s)"
   ]
  },
  {
   "cell_type": "code",
   "execution_count": 13,
   "metadata": {},
   "outputs": [],
   "source": [
    "# splitting dataset into train and test split\n",
    "training_size = int(len(closing_price_s) * 0.65)\n",
    "test_size = len(closing_price_s) - training_size\n",
    "train_data, test_data = closing_price_s[0:training_size, :], closing_price_s[training_size:, :]"
   ]
  },
  {
   "cell_type": "code",
   "execution_count": 14,
   "metadata": {},
   "outputs": [
    {
     "data": {
      "text/plain": [
       "(817, 440)"
      ]
     },
     "execution_count": 14,
     "metadata": {},
     "output_type": "execute_result"
    }
   ],
   "source": [
    "training_size, test_size"
   ]
  },
  {
   "cell_type": "code",
   "execution_count": 25,
   "metadata": {},
   "outputs": [],
   "source": [
    "# convert an array of values into a dataset matrix\n",
    "def create_dataset(dataset, time_step):\n",
    "    dataX, dataY = [], []\n",
    "    for i in range(len(dataset)-time_step-1):\n",
    "        a = dataset[i:(i+time_step), 0]\n",
    "        dataX.append(a)\n",
    "        dataY.append(dataset[i+time_step, 0])\n",
    "    return np.array(dataX), np.array(dataY)"
   ]
  },
  {
   "cell_type": "code",
   "execution_count": 30,
   "metadata": {},
   "outputs": [],
   "source": [
    "# creating dependent and independent features for train and test data\n",
    "time_step = 100\n",
    "X_train, y_train = create_dataset(train_data, time_step)\n",
    "X_test, y_test = create_dataset(test_data, time_step)"
   ]
  },
  {
   "cell_type": "code",
   "execution_count": 31,
   "metadata": {},
   "outputs": [
    {
     "data": {
      "text/plain": [
       "((716, 100), (716,))"
      ]
     },
     "execution_count": 31,
     "metadata": {},
     "output_type": "execute_result"
    }
   ],
   "source": [
    "X_train.shape, y_train.shape"
   ]
  },
  {
   "cell_type": "code",
   "execution_count": 32,
   "metadata": {},
   "outputs": [
    {
     "data": {
      "text/plain": [
       "((339, 100), (339,))"
      ]
     },
     "execution_count": 32,
     "metadata": {},
     "output_type": "execute_result"
    }
   ],
   "source": [
    "X_test.shape, y_test.shape"
   ]
  },
  {
   "cell_type": "code",
   "execution_count": 33,
   "metadata": {},
   "outputs": [],
   "source": [
    "# reshape input to be [samples, time steps, features] which is required for LSTM\n",
    "X_train = X_train.reshape(X_train.shape[0], X_train.shape[1] , 1)\n",
    "X_test = X_test.reshape(X_test.shape[0], X_test.shape[1] , 1)"
   ]
  },
  {
   "cell_type": "code",
   "execution_count": 34,
   "metadata": {},
   "outputs": [
    {
     "data": {
      "text/plain": [
       "((716, 100, 1), (339, 100, 1))"
      ]
     },
     "execution_count": 34,
     "metadata": {},
     "output_type": "execute_result"
    }
   ],
   "source": [
    "X_train.shape, X_test.shape"
   ]
  },
  {
   "cell_type": "markdown",
   "metadata": {},
   "source": [
    "### Creating the model"
   ]
  },
  {
   "cell_type": "code",
   "execution_count": 35,
   "metadata": {},
   "outputs": [],
   "source": [
    "#tensorflow imports\n",
    "from tensorflow.keras.models import Sequential\n",
    "from tensorflow.keras.layers import Dense, LSTM"
   ]
  },
  {
   "cell_type": "code",
   "execution_count": 36,
   "metadata": {},
   "outputs": [],
   "source": [
    "#instansiate in deep learning includes two steps\n",
    "#define the model model\n",
    "model = Sequential()\n",
    "model.add(LSTM(50, return_sequences=True, input_shape=(time_step, 1)))\n",
    "model.add(LSTM(50, return_sequences=True))\n",
    "model.add(LSTM(50))\n",
    "model.add(Dense(1))\n",
    "#compile the model\n",
    "model.compile(optimizer='adam', loss='mean_squared_error')"
   ]
  },
  {
   "cell_type": "code",
   "execution_count": 37,
   "metadata": {},
   "outputs": [
    {
     "name": "stdout",
     "output_type": "stream",
     "text": [
      "Model: \"sequential\"\n",
      "_________________________________________________________________\n",
      "Layer (type)                 Output Shape              Param #   \n",
      "=================================================================\n",
      "lstm (LSTM)                  (None, 100, 50)           10400     \n",
      "_________________________________________________________________\n",
      "lstm_1 (LSTM)                (None, 100, 50)           20200     \n",
      "_________________________________________________________________\n",
      "lstm_2 (LSTM)                (None, 50)                20200     \n",
      "_________________________________________________________________\n",
      "dense (Dense)                (None, 1)                 51        \n",
      "=================================================================\n",
      "Total params: 50,851\n",
      "Trainable params: 50,851\n",
      "Non-trainable params: 0\n",
      "_________________________________________________________________\n"
     ]
    }
   ],
   "source": [
    "model.summary()"
   ]
  },
  {
   "cell_type": "code",
   "execution_count": 38,
   "metadata": {},
   "outputs": [
    {
     "name": "stdout",
     "output_type": "stream",
     "text": [
      "Epoch 1/100\n",
      "12/12 [==============================] - 9s 312ms/step - loss: 0.0226 - val_loss: 0.0529\n",
      "Epoch 2/100\n",
      "12/12 [==============================] - 2s 145ms/step - loss: 0.0035 - val_loss: 0.0296\n",
      "Epoch 3/100\n",
      "12/12 [==============================] - 2s 138ms/step - loss: 0.0017 - val_loss: 0.0271\n",
      "Epoch 4/100\n",
      "12/12 [==============================] - 2s 152ms/step - loss: 7.6143e-04 - val_loss: 0.0200\n",
      "Epoch 5/100\n",
      "12/12 [==============================] - 2s 134ms/step - loss: 4.2964e-04 - val_loss: 0.0204\n",
      "Epoch 6/100\n",
      "12/12 [==============================] - 2s 142ms/step - loss: 4.0836e-04 - val_loss: 0.0189\n",
      "Epoch 7/100\n",
      "12/12 [==============================] - 2s 129ms/step - loss: 3.7746e-04 - val_loss: 0.0185\n",
      "Epoch 8/100\n",
      "12/12 [==============================] - 2s 141ms/step - loss: 4.0056e-04 - val_loss: 0.0184\n",
      "Epoch 9/100\n",
      "12/12 [==============================] - 1s 125ms/step - loss: 3.2365e-04 - val_loss: 0.0179\n",
      "Epoch 10/100\n",
      "12/12 [==============================] - 2s 134ms/step - loss: 3.5384e-04 - val_loss: 0.0172\n",
      "Epoch 11/100\n",
      "12/12 [==============================] - 2s 130ms/step - loss: 3.7192e-04 - val_loss: 0.0167\n",
      "Epoch 12/100\n",
      "12/12 [==============================] - 2s 128ms/step - loss: 3.6004e-04 - val_loss: 0.0163\n",
      "Epoch 13/100\n",
      "12/12 [==============================] - 1s 126ms/step - loss: 3.2860e-04 - val_loss: 0.0160\n",
      "Epoch 14/100\n",
      "12/12 [==============================] - 2s 146ms/step - loss: 3.1534e-04 - val_loss: 0.0154\n",
      "Epoch 15/100\n",
      "12/12 [==============================] - 2s 149ms/step - loss: 2.8665e-04 - val_loss: 0.0152\n",
      "Epoch 16/100\n",
      "12/12 [==============================] - 2s 133ms/step - loss: 2.8839e-04 - val_loss: 0.0147\n",
      "Epoch 17/100\n",
      "12/12 [==============================] - 2s 138ms/step - loss: 2.7632e-04 - val_loss: 0.0142\n",
      "Epoch 18/100\n",
      "12/12 [==============================] - 2s 135ms/step - loss: 2.4219e-04 - val_loss: 0.0139\n",
      "Epoch 19/100\n",
      "12/12 [==============================] - 2s 135ms/step - loss: 2.5754e-04 - val_loss: 0.0135\n",
      "Epoch 20/100\n",
      "12/12 [==============================] - 2s 135ms/step - loss: 2.6946e-04 - val_loss: 0.0132\n",
      "Epoch 21/100\n",
      "12/12 [==============================] - 2s 133ms/step - loss: 2.3393e-04 - val_loss: 0.0130\n",
      "Epoch 22/100\n",
      "12/12 [==============================] - 2s 137ms/step - loss: 2.3819e-04 - val_loss: 0.0129\n",
      "Epoch 23/100\n",
      "12/12 [==============================] - 2s 135ms/step - loss: 2.1343e-04 - val_loss: 0.0132\n",
      "Epoch 24/100\n",
      "12/12 [==============================] - 2s 132ms/step - loss: 2.3279e-04 - val_loss: 0.0126\n",
      "Epoch 25/100\n",
      "12/12 [==============================] - 2s 132ms/step - loss: 2.2362e-04 - val_loss: 0.0126\n",
      "Epoch 26/100\n",
      "12/12 [==============================] - 2s 141ms/step - loss: 2.4045e-04 - val_loss: 0.0128\n",
      "Epoch 27/100\n",
      "12/12 [==============================] - 2s 132ms/step - loss: 2.1270e-04 - val_loss: 0.0126\n",
      "Epoch 28/100\n",
      "12/12 [==============================] - 2s 138ms/step - loss: 2.0142e-04 - val_loss: 0.0132\n",
      "Epoch 29/100\n",
      "12/12 [==============================] - 2s 137ms/step - loss: 2.6241e-04 - val_loss: 0.0124\n",
      "Epoch 30/100\n",
      "12/12 [==============================] - 2s 136ms/step - loss: 1.9501e-04 - val_loss: 0.0132\n",
      "Epoch 31/100\n",
      "12/12 [==============================] - 2s 135ms/step - loss: 2.4049e-04 - val_loss: 0.0121\n",
      "Epoch 32/100\n",
      "12/12 [==============================] - 2s 134ms/step - loss: 2.0726e-04 - val_loss: 0.0126\n",
      "Epoch 33/100\n",
      "12/12 [==============================] - 2s 135ms/step - loss: 1.9663e-04 - val_loss: 0.0128\n",
      "Epoch 34/100\n",
      "12/12 [==============================] - 2s 143ms/step - loss: 2.0264e-04 - val_loss: 0.0122\n",
      "Epoch 35/100\n",
      "12/12 [==============================] - 2s 138ms/step - loss: 1.9349e-04 - val_loss: 0.0119\n",
      "Epoch 36/100\n",
      "12/12 [==============================] - 2s 138ms/step - loss: 2.0262e-04 - val_loss: 0.0133\n",
      "Epoch 37/100\n",
      "12/12 [==============================] - 2s 152ms/step - loss: 2.3365e-04 - val_loss: 0.0113\n",
      "Epoch 38/100\n",
      "12/12 [==============================] - 2s 170ms/step - loss: 2.0631e-04 - val_loss: 0.0126\n",
      "Epoch 39/100\n",
      "12/12 [==============================] - 2s 187ms/step - loss: 2.0807e-04 - val_loss: 0.0120\n",
      "Epoch 40/100\n",
      "12/12 [==============================] - 2s 140ms/step - loss: 1.8236e-04 - val_loss: 0.0114\n",
      "Epoch 41/100\n",
      "12/12 [==============================] - 2s 134ms/step - loss: 1.9479e-04 - val_loss: 0.0114\n",
      "Epoch 42/100\n",
      "12/12 [==============================] - 2s 134ms/step - loss: 1.6581e-04 - val_loss: 0.0111\n",
      "Epoch 43/100\n",
      "12/12 [==============================] - 2s 134ms/step - loss: 1.7934e-04 - val_loss: 0.0113\n",
      "Epoch 44/100\n",
      "12/12 [==============================] - 2s 135ms/step - loss: 1.8458e-04 - val_loss: 0.0112\n",
      "Epoch 45/100\n",
      "12/12 [==============================] - 2s 134ms/step - loss: 1.7157e-04 - val_loss: 0.0106\n",
      "Epoch 46/100\n",
      "12/12 [==============================] - 2s 139ms/step - loss: 1.7901e-04 - val_loss: 0.0113\n",
      "Epoch 47/100\n",
      "12/12 [==============================] - 2s 141ms/step - loss: 1.6382e-04 - val_loss: 0.0107\n",
      "Epoch 48/100\n",
      "12/12 [==============================] - 2s 146ms/step - loss: 1.6350e-04 - val_loss: 0.0114\n",
      "Epoch 49/100\n",
      "12/12 [==============================] - 2s 140ms/step - loss: 1.7796e-04 - val_loss: 0.0101\n",
      "Epoch 50/100\n",
      "12/12 [==============================] - 2s 140ms/step - loss: 2.3045e-04 - val_loss: 0.0111\n",
      "Epoch 51/100\n",
      "12/12 [==============================] - 2s 139ms/step - loss: 1.6890e-04 - val_loss: 0.0109\n",
      "Epoch 52/100\n",
      "12/12 [==============================] - 2s 138ms/step - loss: 1.6837e-04 - val_loss: 0.0101\n",
      "Epoch 53/100\n",
      "12/12 [==============================] - 2s 141ms/step - loss: 2.0149e-04 - val_loss: 0.0120\n",
      "Epoch 54/100\n",
      "12/12 [==============================] - 2s 137ms/step - loss: 1.9423e-04 - val_loss: 0.0099\n",
      "Epoch 55/100\n",
      "12/12 [==============================] - 2s 146ms/step - loss: 1.7791e-04 - val_loss: 0.0104\n",
      "Epoch 56/100\n",
      "12/12 [==============================] - 2s 147ms/step - loss: 1.6227e-04 - val_loss: 0.0103\n",
      "Epoch 57/100\n",
      "12/12 [==============================] - 2s 137ms/step - loss: 1.6059e-04 - val_loss: 0.0105\n",
      "Epoch 58/100\n",
      "12/12 [==============================] - 2s 138ms/step - loss: 1.5418e-04 - val_loss: 0.0098\n",
      "Epoch 59/100\n",
      "12/12 [==============================] - 2s 138ms/step - loss: 1.6312e-04 - val_loss: 0.0103\n",
      "Epoch 60/100\n",
      "12/12 [==============================] - 2s 136ms/step - loss: 1.4850e-04 - val_loss: 0.0102\n",
      "Epoch 61/100\n",
      "12/12 [==============================] - 2s 137ms/step - loss: 1.6360e-04 - val_loss: 0.0093\n",
      "Epoch 62/100\n",
      "12/12 [==============================] - 2s 141ms/step - loss: 1.5277e-04 - val_loss: 0.0097\n",
      "Epoch 63/100\n",
      "12/12 [==============================] - 2s 135ms/step - loss: 1.4218e-04 - val_loss: 0.0091\n",
      "Epoch 64/100\n",
      "12/12 [==============================] - 2s 138ms/step - loss: 1.4082e-04 - val_loss: 0.0095\n",
      "Epoch 65/100\n",
      "12/12 [==============================] - 2s 137ms/step - loss: 1.4922e-04 - val_loss: 0.0090\n",
      "Epoch 66/100\n",
      "12/12 [==============================] - 2s 141ms/step - loss: 1.3903e-04 - val_loss: 0.0096\n",
      "Epoch 67/100\n",
      "12/12 [==============================] - 2s 137ms/step - loss: 1.3702e-04 - val_loss: 0.0089\n",
      "Epoch 68/100\n",
      "12/12 [==============================] - 2s 138ms/step - loss: 1.4344e-04 - val_loss: 0.0092\n",
      "Epoch 69/100\n",
      "12/12 [==============================] - 2s 134ms/step - loss: 1.3666e-04 - val_loss: 0.0091\n",
      "Epoch 70/100\n",
      "12/12 [==============================] - 2s 132ms/step - loss: 1.2836e-04 - val_loss: 0.0089\n",
      "Epoch 71/100\n",
      "12/12 [==============================] - 2s 134ms/step - loss: 1.2900e-04 - val_loss: 0.0089\n",
      "Epoch 72/100\n",
      "12/12 [==============================] - 2s 143ms/step - loss: 1.5377e-04 - val_loss: 0.0090\n",
      "Epoch 73/100\n",
      "12/12 [==============================] - 2s 140ms/step - loss: 1.3171e-04 - val_loss: 0.0086\n",
      "Epoch 74/100\n",
      "12/12 [==============================] - 2s 141ms/step - loss: 1.5210e-04 - val_loss: 0.0090\n",
      "Epoch 75/100\n",
      "12/12 [==============================] - 2s 141ms/step - loss: 1.2517e-04 - val_loss: 0.0086\n",
      "Epoch 76/100\n",
      "12/12 [==============================] - 2s 141ms/step - loss: 1.2732e-04 - val_loss: 0.0085\n",
      "Epoch 77/100\n",
      "12/12 [==============================] - 2s 142ms/step - loss: 1.3690e-04 - val_loss: 0.0089\n",
      "Epoch 78/100\n"
     ]
    },
    {
     "name": "stdout",
     "output_type": "stream",
     "text": [
      "12/12 [==============================] - 2s 141ms/step - loss: 1.6176e-04 - val_loss: 0.0088\n",
      "Epoch 79/100\n",
      "12/12 [==============================] - 2s 146ms/step - loss: 1.2717e-04 - val_loss: 0.0085\n",
      "Epoch 80/100\n",
      "12/12 [==============================] - 2s 146ms/step - loss: 1.2568e-04 - val_loss: 0.0083\n",
      "Epoch 81/100\n",
      "12/12 [==============================] - 2s 141ms/step - loss: 1.2991e-04 - val_loss: 0.0086\n",
      "Epoch 82/100\n",
      "12/12 [==============================] - 2s 141ms/step - loss: 1.3914e-04 - val_loss: 0.0083\n",
      "Epoch 83/100\n",
      "12/12 [==============================] - 2s 141ms/step - loss: 1.2357e-04 - val_loss: 0.0080\n",
      "Epoch 84/100\n",
      "12/12 [==============================] - 2s 147ms/step - loss: 1.2632e-04 - val_loss: 0.0080\n",
      "Epoch 85/100\n",
      "12/12 [==============================] - 2s 151ms/step - loss: 1.3796e-04 - val_loss: 0.0083\n",
      "Epoch 86/100\n",
      "12/12 [==============================] - 2s 152ms/step - loss: 1.3138e-04 - val_loss: 0.0078\n",
      "Epoch 87/100\n",
      "12/12 [==============================] - 2s 142ms/step - loss: 1.2901e-04 - val_loss: 0.0078\n",
      "Epoch 88/100\n",
      "12/12 [==============================] - 2s 142ms/step - loss: 1.2100e-04 - val_loss: 0.0079\n",
      "Epoch 89/100\n",
      "12/12 [==============================] - 2s 140ms/step - loss: 1.2147e-04 - val_loss: 0.0076\n",
      "Epoch 90/100\n",
      "12/12 [==============================] - 2s 137ms/step - loss: 1.2253e-04 - val_loss: 0.0079\n",
      "Epoch 91/100\n",
      "12/12 [==============================] - 2s 141ms/step - loss: 1.2318e-04 - val_loss: 0.0075\n",
      "Epoch 92/100\n",
      "12/12 [==============================] - 2s 139ms/step - loss: 1.1638e-04 - val_loss: 0.0071\n",
      "Epoch 93/100\n",
      "12/12 [==============================] - 2s 138ms/step - loss: 1.2371e-04 - val_loss: 0.0072\n",
      "Epoch 94/100\n",
      "12/12 [==============================] - 2s 142ms/step - loss: 1.2120e-04 - val_loss: 0.0082\n",
      "Epoch 95/100\n",
      "12/12 [==============================] - 2s 140ms/step - loss: 1.3103e-04 - val_loss: 0.0071\n",
      "Epoch 96/100\n",
      "12/12 [==============================] - 2s 140ms/step - loss: 1.1436e-04 - val_loss: 0.0072\n",
      "Epoch 97/100\n",
      "12/12 [==============================] - 2s 141ms/step - loss: 1.1330e-04 - val_loss: 0.0073\n",
      "Epoch 98/100\n",
      "12/12 [==============================] - 2s 139ms/step - loss: 1.0115e-04 - val_loss: 0.0067\n",
      "Epoch 99/100\n",
      "12/12 [==============================] - 2s 140ms/step - loss: 1.1484e-04 - val_loss: 0.0070\n",
      "Epoch 100/100\n",
      "12/12 [==============================] - 2s 145ms/step - loss: 1.2202e-04 - val_loss: 0.0074\n"
     ]
    }
   ],
   "source": [
    "# fit the model\n",
    "r = model.fit(X_train,y_train,validation_data=(X_test,ytest),epochs=100,batch_size=64)"
   ]
  },
  {
   "cell_type": "code",
   "execution_count": 40,
   "metadata": {},
   "outputs": [
    {
     "data": {
      "image/png": "[encoded data removed]",
      "text/plain": [
       "<Figure size 432x288 with 1 Axes>"
      ]
     },
     "metadata": {
      "needs_background": "light"
     },
     "output_type": "display_data"
    },
    {
     "data": {
      "text/plain": [
       "<Figure size 432x288 with 0 Axes>"
      ]
     },
     "metadata": {},
     "output_type": "display_data"
    }
   ],
   "source": [
    "# plot the loss\n",
    "plt.plot(r.history['loss'], label='train loss')\n",
    "plt.plot(r.history['val_loss'], label='val loss')\n",
    "plt.legend()\n",
    "plt.show()\n",
    "plt.savefig('LossVal_loss')"
   ]
  },
  {
   "cell_type": "code",
   "execution_count": 47,
   "metadata": {},
   "outputs": [],
   "source": [
    "# prediction\n",
    "train_predict = model.predict(X_train)\n",
    "test_predict = model.predict(X_test)"
   ]
  },
  {
   "cell_type": "code",
   "execution_count": 48,
   "metadata": {},
   "outputs": [],
   "source": [
    "# Calculate RMSE performance metrics\n",
    "from sklearn.metrics import mean_squared_error"
   ]
  },
  {
   "cell_type": "code",
   "execution_count": 49,
   "metadata": {},
   "outputs": [
    {
     "data": {
      "text/plain": [
       "0.010806209925013218"
      ]
     },
     "execution_count": 49,
     "metadata": {},
     "output_type": "execute_result"
    }
   ],
   "source": [
    "np.sqrt(mean_squared_error(y_train,train_predict))"
   ]
  },
  {
   "cell_type": "code",
   "execution_count": 50,
   "metadata": {},
   "outputs": [
    {
     "data": {
      "text/plain": [
       "0.08630633056690251"
      ]
     },
     "execution_count": 50,
     "metadata": {},
     "output_type": "execute_result"
    }
   ],
   "source": [
    "np.sqrt(mean_squared_error(y_test,test_predict))"
   ]
  },
  {
   "cell_type": "code",
   "execution_count": 54,
   "metadata": {},
   "outputs": [],
   "source": [
    "# we had used minmax scaler and so we need to \n",
    "# transform the data back to original form\n",
    "train_predict = minmax_scaler.inverse_transform(train_predict)\n",
    "test_predict = minmax_scaler.inverse_transform(test_predict)"
   ]
  },
  {
   "cell_type": "code",
   "execution_count": 55,
   "metadata": {},
   "outputs": [
    {
     "data": {
      "image/png": "[encoded data removed]",
      "text/plain": [
       "<Figure size 432x288 with 1 Axes>"
      ]
     },
     "metadata": {
      "needs_background": "light"
     },
     "output_type": "display_data"
    }
   ],
   "source": [
    "# Plotting\n",
    "\n",
    "# plotting complete True data\n",
    "plt.plot(minmax_scaler.inverse_transform(closing_price_s))\n",
    "\n",
    "# shift train predictions for plotting\n",
    "train_predict_plot = np.empty_like(closing_price_s)\n",
    "train_predict_plot[:, :] = np.nan\n",
    "train_predict_plot[time_step:len(train_predict)+time_step, :] = train_predict\n",
    "plt.plot(train_predict_plot)\n",
    "\n",
    "# shift test predictions for plotting\n",
    "test_predict_plot = np.empty_like(closing_price_s)\n",
    "test_predict_plot[:, :] = np.nan\n",
    "test_predict_plot[len(train_predict)+(time_step*2)+1:len(closing_price_s)-1, :] = test_predict\n",
    "plt.plot(test_predict_plot)\n",
    "\n",
    "plt.show()"
   ]
  },
  {
   "cell_type": "markdown",
   "metadata": {},
   "source": [
    "### Predicting next 30 days:"
   ]
  },
  {
   "cell_type": "code",
   "execution_count": 83,
   "metadata": {},
   "outputs": [
    {
     "data": {
      "text/plain": [
       "440"
      ]
     },
     "execution_count": 83,
     "metadata": {},
     "output_type": "execute_result"
    }
   ],
   "source": [
    "len(test_data)"
   ]
  },
  {
   "cell_type": "code",
   "execution_count": 84,
   "metadata": {},
   "outputs": [
    {
     "data": {
      "text/plain": [
       "(100, 1)"
      ]
     },
     "execution_count": 84,
     "metadata": {},
     "output_type": "execute_result"
    }
   ],
   "source": [
    "tmp_input = test_data[340:]\n",
    "tmp_input.shape"
   ]
  },
  {
   "cell_type": "code",
   "execution_count": 85,
   "metadata": {},
   "outputs": [
    {
     "name": "stdout",
     "output_type": "stream",
     "text": [
      "[0.102637485, 0.1022592, 0.10203089, 0.10194958, 0.10198331, 0.102097325, 0.102263905, 0.10246357, 0.10268337, 0.102914415, 0.1031505, 0.103386864, 0.103619814, 0.10384659, 0.104065105, 0.10427413, 0.104473, 0.10466166, 0.10484057, 0.10501044, 0.10517232, 0.105327286, 0.10547655, 0.105621286, 0.105762556, 0.10590141, 0.10603868, 0.10617509, 0.106311224, 0.106447525]\n"
     ]
    }
   ],
   "source": [
    "#demonstrate prediction for next 30 days\n",
    "\n",
    "temp_input = list(tmp_input.reshape(-1))\n",
    "x_input = tmp_input\n",
    "lstm_output = []\n",
    "i = 0\n",
    "\n",
    "while(i<30):\n",
    "    if(len(temp_input)>100):\n",
    "        x_input = np.array(temp_input[1:])\n",
    "        x_input = x_input.reshape((1, time_step, 1))\n",
    "        y_hat = model.predict(x_input)\n",
    "        temp_input.append(y_hat[0][0])\n",
    "        temp_input=temp_input[1:]\n",
    "        lstm_output.append(y_hat[0][0])\n",
    "        i=i+1\n",
    "    else:\n",
    "        x_input = x_input.reshape((1, time_step, 1))\n",
    "        y_hat = model.predict(x_input, verbose=0)\n",
    "        temp_input.append(y_hat[0][0])\n",
    "        lstm_output.append(y_hat[0][0])\n",
    "        i = i + 1\n",
    "    \n",
    "print(lstm_output)"
   ]
  },
  {
   "cell_type": "code",
   "execution_count": 86,
   "metadata": {},
   "outputs": [
    {
     "data": {
      "text/plain": [
       "array([[0.10263748],\n",
       "       [0.1022592 ],\n",
       "       [0.10203089],\n",
       "       [0.10194958],\n",
       "       [0.10198331],\n",
       "       [0.10209733],\n",
       "       [0.10226391],\n",
       "       [0.10246357],\n",
       "       [0.10268337],\n",
       "       [0.10291442]], dtype=float32)"
      ]
     },
     "execution_count": 86,
     "metadata": {},
     "output_type": "execute_result"
    }
   ],
   "source": [
    "lstm_output = np.array(lstm_output).reshape(-1, 1)\n",
    "lstm_output[0:10]"
   ]
  },
  {
   "cell_type": "markdown",
   "metadata": {},
   "source": [
    "### Visualising the output"
   ]
  },
  {
   "cell_type": "code",
   "execution_count": 87,
   "metadata": {},
   "outputs": [],
   "source": [
    "known_days = np.arange(1,101)\n",
    "predicted_days = np.arange(101,131)"
   ]
  },
  {
   "cell_type": "code",
   "execution_count": 88,
   "metadata": {},
   "outputs": [
    {
     "data": {
      "text/plain": [
       "[<matplotlib.lines.Line2D at 0x28019f84fd0>]"
      ]
     },
     "execution_count": 88,
     "metadata": {},
     "output_type": "execute_result"
    },
    {
     "data": {
      "image/png": "[encoded data removed]",
      "text/plain": [
       "<Figure size 432x288 with 1 Axes>"
      ]
     },
     "metadata": {
      "needs_background": "light"
     },
     "output_type": "display_data"
    }
   ],
   "source": [
    "plt.plot(known_days, minmax_scaler.inverse_transform(tmp_input))\n",
    "plt.plot(predicted_days, minmax_scaler.inverse_transform(lstm_output))"
   ]
  }
 ],
 "metadata": {
  "kernelspec": {
   "display_name": "Python 3",
   "language": "python",
   "name": "python3"
  },
  "language_info": {
   "codemirror_mode": {
    "name": "ipython",
    "version": 3
   },
   "file_extension": ".py",
   "mimetype": "text/x-python",
   "name": "python",
   "nbconvert_exporter": "python",
   "pygments_lexer": "ipython3",
   "version": "3.8.5"
  }
 },
 "nbformat": 4,
 "nbformat_minor": 4
}
